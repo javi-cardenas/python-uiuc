{
  "nbformat": 4,
  "nbformat_minor": 0,
  "metadata": {
    "anaconda-cloud": {},
    "celltoolbar": "Tags",
    "kernelspec": {
      "display_name": "Python [conda env:mwp]",
      "language": "python",
      "name": "conda-env-mwp-py"
    },
    "language_info": {
      "codemirror_mode": {
        "name": "ipython",
        "version": 3
      },
      "file_extension": ".py",
      "mimetype": "text/x-python",
      "name": "python",
      "nbconvert_exporter": "python",
      "pygments_lexer": "ipython3",
      "version": "3.7.0"
    },
    "colab": {
      "name": "Linear_Algebra.ipynb",
      "provenance": [],
      "collapsed_sections": []
    }
  },
  "cells": [
    {
      "cell_type": "markdown",
      "metadata": {
        "id": "5PYSGqI-exQC"
      },
      "source": [
        "# Linear algebra with Numpy\n",
        "\n",
        "Linear algebra in Python can be done with [Numpy](http://www.numpy.org/).\n",
        "\n",
        "\n",
        "> NumPy is the fundamental package for scientific computing with Python. It contains among other things: [...]\n",
        " useful linear algebra, Fourier transform, and random number capabilities.\n",
        "\n",
        "In this Colab you will:\n",
        "\n",
        "- Manipulate matrices;\n",
        "- Solve Matrix equations;\n",
        "- Calculate Matrix inverse and determinants.\n",
        "\n",
        "## Manipulating matrices\n",
        "\n",
        "It is straightforward to create a Matrix using Numpy. Let us consider the following as a examples:\n",
        "\n",
        "$$\n",
        "A = \\begin{pmatrix}\n",
        "5 & 6 & 2\\\\\n",
        "4 & 7 & 19\\\\\n",
        "0 & 3 & 12\n",
        "\\end{pmatrix}\n",
        "$$\n",
        "\n",
        "$$\n",
        "B = \\begin{pmatrix}\n",
        "14 & -2 & 12\\\\\n",
        "4 & 4 & 5\\\\\n",
        "5 & 5 & 1\n",
        "\\end{pmatrix}\n",
        "$$\n",
        "\n",
        "\n",
        "First, similarly to Sympy, we need to import Numpy:"
      ]
    },
    {
      "cell_type": "code",
      "metadata": {
        "collapsed": true,
        "id": "_z5_X9KJexQE"
      },
      "source": [
        "import numpy as np"
      ],
      "execution_count": 1,
      "outputs": []
    },
    {
      "cell_type": "markdown",
      "metadata": {
        "id": "WsBqyjOYexQE"
      },
      "source": [
        "\n",
        "\n",
        "\n",
        "\n",
        "Now we can define $A$:"
      ]
    },
    {
      "cell_type": "code",
      "metadata": {
        "collapsed": true,
        "id": "QkIBAgrKexQF"
      },
      "source": [
        "A = np.matrix([[5, 6, 2],\n",
        "               [4, 7, 19],\n",
        "               [0, 3, 12]])"
      ],
      "execution_count": 2,
      "outputs": []
    },
    {
      "cell_type": "code",
      "metadata": {
        "id": "MwYTfRC3exQF",
        "colab": {
          "base_uri": "https://localhost:8080/"
        },
        "outputId": "bfaff39e-d680-4f70-cfdb-dc271d9bdac9"
      },
      "source": [
        "print(A)"
      ],
      "execution_count": 12,
      "outputs": [
        {
          "output_type": "stream",
          "text": [
            "[[ 5  6  2]\n",
            " [ 4  7 19]\n",
            " [ 0  3 12]]\n"
          ],
          "name": "stdout"
        }
      ]
    },
    {
      "cell_type": "markdown",
      "metadata": {
        "id": "pqfiIu0ifuNT"
      },
      "source": [
        "Define $B$ with the values defined above and print result. "
      ]
    },
    {
      "cell_type": "code",
      "metadata": {
        "collapsed": true,
        "id": "CGlCKIlSexQG",
        "colab": {
          "base_uri": "https://localhost:8080/"
        },
        "outputId": "9d26f6f1-c76f-4e3a-db3f-b1485c221d36"
      },
      "source": [
        "B = A\n",
        "print(B)"
      ],
      "execution_count": 13,
      "outputs": [
        {
          "output_type": "stream",
          "text": [
            "[[ 5  6  2]\n",
            " [ 4  7 19]\n",
            " [ 0  3 12]]\n"
          ],
          "name": "stdout"
        }
      ]
    },
    {
      "cell_type": "markdown",
      "metadata": {
        "id": "zLm-kNoDexQG"
      },
      "source": [
        "We can do basic manipulations in straightforward manner.\n",
        "\n",
        "Multiply the $A$ matrix by 5 using the '*' operator."
      ]
    },
    {
      "cell_type": "code",
      "metadata": {
        "id": "hGY5qCdAexQH",
        "colab": {
          "base_uri": "https://localhost:8080/"
        },
        "outputId": "85430740-3e93-498e-9f5c-a00cf82b6fb9"
      },
      "source": [
        "A*5"
      ],
      "execution_count": 16,
      "outputs": [
        {
          "output_type": "execute_result",
          "data": {
            "text/plain": [
              "matrix([[25, 30, 10],\n",
              "        [20, 35, 95],\n",
              "        [ 0, 15, 60]])"
            ]
          },
          "metadata": {
            "tags": []
          },
          "execution_count": 16
        }
      ]
    },
    {
      "cell_type": "markdown",
      "metadata": {
        "id": "86KOw7eeghDf"
      },
      "source": [
        "\n",
        "Determine $A$ cubed by using the '**' as the exponent operator: \n"
      ]
    },
    {
      "cell_type": "code",
      "metadata": {
        "id": "Y0OdZLnXexQH",
        "colab": {
          "base_uri": "https://localhost:8080/"
        },
        "outputId": "a9195888-32a4-4125-8629-77912258edf8"
      },
      "source": [
        "A**3"
      ],
      "execution_count": 19,
      "outputs": [
        {
          "output_type": "execute_result",
          "data": {
            "text/plain": [
              "matrix([[ 557, 1284, 3356],\n",
              "        [ 760, 2305, 6994],\n",
              "        [ 288, 1074, 3519]])"
            ]
          },
          "metadata": {
            "tags": []
          },
          "execution_count": 19
        }
      ]
    },
    {
      "cell_type": "markdown",
      "metadata": {
        "id": "-DJyU_pAgyNB"
      },
      "source": [
        "Add $A$ and $B$ with the standard '+' operator:"
      ]
    },
    {
      "cell_type": "code",
      "metadata": {
        "id": "jPBjYnf8exQH",
        "colab": {
          "base_uri": "https://localhost:8080/"
        },
        "outputId": "cd54260f-0dd6-4304-80f1-fd492e975a61"
      },
      "source": [
        "A+B"
      ],
      "execution_count": 20,
      "outputs": [
        {
          "output_type": "execute_result",
          "data": {
            "text/plain": [
              "matrix([[10, 12,  4],\n",
              "        [ 8, 14, 38],\n",
              "        [ 0,  6, 24]])"
            ]
          },
          "metadata": {
            "tags": []
          },
          "execution_count": 20
        }
      ]
    },
    {
      "cell_type": "markdown",
      "metadata": {
        "id": "gbDZmCJGg_NO"
      },
      "source": [
        "Subtract $A$ and $B$ with the standard '-' operator:"
      ]
    },
    {
      "cell_type": "code",
      "metadata": {
        "id": "1OacvC1sexQH",
        "colab": {
          "base_uri": "https://localhost:8080/"
        },
        "outputId": "ada962e1-cb14-4807-8881-8bb0e29cea1e"
      },
      "source": [
        "A-B"
      ],
      "execution_count": 21,
      "outputs": [
        {
          "output_type": "execute_result",
          "data": {
            "text/plain": [
              "matrix([[0, 0, 0],\n",
              "        [0, 0, 0],\n",
              "        [0, 0, 0]])"
            ]
          },
          "metadata": {
            "tags": []
          },
          "execution_count": 21
        }
      ]
    },
    {
      "cell_type": "markdown",
      "metadata": {
        "id": "KtQp1F3JhhsC"
      },
      "source": [
        "Multiply $A$ and $B$ together with the '*' operator:"
      ]
    },
    {
      "cell_type": "code",
      "metadata": {
        "id": "jy-laMCtexQI",
        "colab": {
          "base_uri": "https://localhost:8080/"
        },
        "outputId": "68c07840-a816-4f55-bc83-c11c78492b26"
      },
      "source": [
        "A*B"
      ],
      "execution_count": 22,
      "outputs": [
        {
          "output_type": "execute_result",
          "data": {
            "text/plain": [
              "matrix([[ 49,  78, 148],\n",
              "        [ 48, 130, 369],\n",
              "        [ 12,  57, 201]])"
            ]
          },
          "metadata": {
            "tags": []
          },
          "execution_count": 22
        }
      ]
    },
    {
      "cell_type": "markdown",
      "metadata": {
        "id": "hXRpyMHXhvxP"
      },
      "source": [
        "---\n",
        "\n",
        "**EXERCISE** Compute $A ^ 2 - 2 A + 3$ with:\n",
        "\n",
        "$$A = \n",
        "\\begin{pmatrix}\n",
        "1 & -1\\\\\n",
        "2 & 1\n",
        "\\end{pmatrix}\n",
        "$$\n",
        "\n",
        "---"
      ]
    },
    {
      "cell_type": "code",
      "metadata": {
        "id": "zKB6TbxfhxgC",
        "colab": {
          "base_uri": "https://localhost:8080/"
        },
        "outputId": "e2b07cb1-dcb8-4a63-bcfc-81113e001bcc"
      },
      "source": [
        "A**2 - 2*A + 3"
      ],
      "execution_count": 23,
      "outputs": [
        {
          "output_type": "execute_result",
          "data": {
            "text/plain": [
              "matrix([[ 42,  69, 147],\n",
              "        [ 43, 119, 334],\n",
              "        [ 15,  54, 180]])"
            ]
          },
          "metadata": {
            "tags": []
          },
          "execution_count": 23
        }
      ]
    },
    {
      "cell_type": "markdown",
      "metadata": {
        "id": "W60NlHMBexQI"
      },
      "source": [
        "\n",
        "\n",
        "## Solving Matrix equations\n",
        "\n",
        "We can use Numpy to (efficiently) solve large systems of equations of the form:\n",
        "\n",
        "$$Ax=b$$\n",
        "\n",
        "Let us illustrate that with:\n",
        "\n",
        "$$\n",
        "A = \\begin{pmatrix}\n",
        "5 & 6 & 2\\\\\n",
        "4 & 7 & 19\\\\\n",
        "0 & 3 & 12\n",
        "\\end{pmatrix}\n",
        "$$\n",
        "\n",
        "$$\n",
        "b = \\begin{pmatrix}\n",
        "-1\\\\\n",
        "2\\\\\n",
        "1 \n",
        "\\end{pmatrix}\n",
        "$$"
      ]
    },
    {
      "cell_type": "code",
      "metadata": {
        "collapsed": true,
        "id": "GyNlbgW0exQI"
      },
      "source": [
        "A = np.matrix([[5, 6, 2],\n",
        "               [4, 7, 19],\n",
        "               [0, 3, 12]])\n",
        "b = np.matrix([[-1], [2], [1]])"
      ],
      "execution_count": 25,
      "outputs": []
    },
    {
      "cell_type": "markdown",
      "metadata": {
        "id": "rg-MbT3cexQI"
      },
      "source": [
        "We use the `linalg.solve` command to solve for $x$.   The use of the commands is `np.linalg.solve(A matrix, b matrix)`.  Use this command with the $A$ and $b$ you just defined to solve for $x$. "
      ]
    },
    {
      "cell_type": "code",
      "metadata": {
        "id": "lCwjI3MwexQI",
        "colab": {
          "base_uri": "https://localhost:8080/"
        },
        "outputId": "29e6152e-4e1b-40f4-b730-f5091edffc5e"
      },
      "source": [
        "x = np.linalg.solve(A,b)\n",
        "x"
      ],
      "execution_count": 29,
      "outputs": [
        {
          "output_type": "execute_result",
          "data": {
            "text/plain": [
              "matrix([[ 0.45736434],\n",
              "        [-0.62790698],\n",
              "        [ 0.24031008]])"
            ]
          },
          "metadata": {
            "tags": []
          },
          "execution_count": 29
        }
      ]
    },
    {
      "cell_type": "markdown",
      "metadata": {
        "id": "1AqzAN7aexQJ"
      },
      "source": [
        "Verify your result by multiplying $A$ by the $x$ solution you just found.  The result should obviously be $b$. "
      ]
    },
    {
      "cell_type": "code",
      "metadata": {
        "id": "5D2DDdEFexQJ",
        "colab": {
          "base_uri": "https://localhost:8080/"
        },
        "outputId": "7cf6d533-795a-45b9-f404-feaaa6636c5f"
      },
      "source": [
        "A*x"
      ],
      "execution_count": 30,
      "outputs": [
        {
          "output_type": "execute_result",
          "data": {
            "text/plain": [
              "matrix([[-1.],\n",
              "        [ 2.],\n",
              "        [ 1.]])"
            ]
          },
          "metadata": {
            "tags": []
          },
          "execution_count": 30
        }
      ]
    },
    {
      "cell_type": "markdown",
      "metadata": {
        "id": "q78MuXCKjSNh"
      },
      "source": [
        "---\n",
        "\n",
        "**EXERCISE** Compute the solutions to the matrix equation $Bx=b$ (using the $B$ defined earlier and the $b$ you just defined).\n",
        "\n",
        "---"
      ]
    },
    {
      "cell_type": "code",
      "metadata": {
        "id": "Ka6WrRcyjcwO",
        "colab": {
          "base_uri": "https://localhost:8080/"
        },
        "outputId": "0d1ded0f-86fd-471e-8c47-81c6719cbd89"
      },
      "source": [
        "np.linalg.solve(B,b)"
      ],
      "execution_count": 31,
      "outputs": [
        {
          "output_type": "execute_result",
          "data": {
            "text/plain": [
              "matrix([[ 0.45736434],\n",
              "        [-0.62790698],\n",
              "        [ 0.24031008]])"
            ]
          },
          "metadata": {
            "tags": []
          },
          "execution_count": 31
        }
      ]
    },
    {
      "cell_type": "markdown",
      "metadata": {
        "id": "2n3-Tt5TexQJ"
      },
      "source": [
        "\n",
        "\n",
        "## Matrix inversion and determinants\n",
        "\n",
        "Computing the inverse of a matrix is straightforward:"
      ]
    },
    {
      "cell_type": "code",
      "metadata": {
        "id": "eVwoCFohexQJ",
        "colab": {
          "base_uri": "https://localhost:8080/"
        },
        "outputId": "f32fb259-4e40-4d3e-b6d1-24099d01953c"
      },
      "source": [
        "Ainv = np.linalg.inv(A)\n",
        "Ainv"
      ],
      "execution_count": 32,
      "outputs": [
        {
          "output_type": "execute_result",
          "data": {
            "text/plain": [
              "matrix([[-0.20930233,  0.51162791, -0.7751938 ],\n",
              "        [ 0.37209302, -0.46511628,  0.6744186 ],\n",
              "        [-0.09302326,  0.11627907, -0.08527132]])"
            ]
          },
          "metadata": {
            "tags": []
          },
          "execution_count": 32
        }
      ]
    },
    {
      "cell_type": "markdown",
      "metadata": {
        "id": "DaoOzyKAexQK"
      },
      "source": [
        "We can verify that $A^{-1}A=\\mathbb{1}$:"
      ]
    },
    {
      "cell_type": "code",
      "metadata": {
        "tags": [
          "nbval-ignore-output"
        ],
        "id": "tngoLVh5exQK",
        "colab": {
          "base_uri": "https://localhost:8080/"
        },
        "outputId": "96d1848e-88b5-452c-b65c-e15aeaa66f67"
      },
      "source": [
        "A * Ainv"
      ],
      "execution_count": 33,
      "outputs": [
        {
          "output_type": "execute_result",
          "data": {
            "text/plain": [
              "matrix([[ 1.00000000e+00,  4.99600361e-16, -2.77555756e-17],\n",
              "        [ 1.38777878e-16,  1.00000000e+00,  1.80411242e-16],\n",
              "        [ 1.11022302e-16,  1.11022302e-16,  1.00000000e+00]])"
            ]
          },
          "metadata": {
            "tags": []
          },
          "execution_count": 33
        }
      ]
    },
    {
      "cell_type": "markdown",
      "metadata": {
        "id": "3i-YOjugexQK"
      },
      "source": [
        "The above might not look like the identity matrix but if you look closer you see that the diagonals are all `1` and the off diagonals are a **very** small number (which from a computer's point of view is `0`)."
      ]
    },
    {
      "cell_type": "markdown",
      "metadata": {
        "id": "85WdK-osexQK"
      },
      "source": [
        "To calculate the determinant:"
      ]
    },
    {
      "cell_type": "code",
      "metadata": {
        "tags": [
          "nbval-ignore-output"
        ],
        "id": "oYvoHzwwexQK",
        "colab": {
          "base_uri": "https://localhost:8080/"
        },
        "outputId": "20787f84-97de-47f3-d200-252d8eae8a9d"
      },
      "source": [
        "np.linalg.det(A)"
      ],
      "execution_count": 34,
      "outputs": [
        {
          "output_type": "execute_result",
          "data": {
            "text/plain": [
              "-129.00000000000009"
            ]
          },
          "metadata": {
            "tags": []
          },
          "execution_count": 34
        }
      ]
    },
    {
      "cell_type": "markdown",
      "metadata": {
        "id": "ufepNLtzexQK"
      },
      "source": [
        "\n",
        "\n",
        "**EXERCISE** Compute the inverse and determinant of $B$ (defined previously).\n",
        "\n",
        "\n"
      ]
    },
    {
      "cell_type": "code",
      "metadata": {
        "id": "Z64ZC5jYjtn-",
        "colab": {
          "base_uri": "https://localhost:8080/"
        },
        "outputId": "0b5c7696-1781-4fb2-e052-05a80d52e8e7"
      },
      "source": [
        "Binv = np.linalg.inv(B)\n",
        "print(Binv)\n",
        "\n",
        "det = np.linalg.det(B)\n",
        "print(det)"
      ],
      "execution_count": 35,
      "outputs": [
        {
          "output_type": "stream",
          "text": [
            "[[-0.20930233  0.51162791 -0.7751938 ]\n",
            " [ 0.37209302 -0.46511628  0.6744186 ]\n",
            " [-0.09302326  0.11627907 -0.08527132]]\n",
            "-129.00000000000009\n"
          ],
          "name": "stdout"
        }
      ]
    }
  ]
}