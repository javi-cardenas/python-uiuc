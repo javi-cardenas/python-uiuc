{
  "nbformat": 4,
  "nbformat_minor": 0,
  "metadata": {
    "colab": {
      "name": "Copy of Intermediate Python - Exceptions",
      "private_outputs": true,
      "provenance": [],
      "collapsed_sections": [
        "copyright",
        "exercise-1-key-1",
        "exercise-2-key-1",
        "exercise-3-key-1"
      ],
      "toc_visible": true
    },
    "kernelspec": {
      "display_name": "Python 3",
      "name": "python3"
    }
  },
  "cells": [
    {
      "cell_type": "markdown",
      "metadata": {
        "id": "copyright"
      },
      "source": [
        "#### Copyright 2019 Google LLC."
      ]
    },
    {
      "cell_type": "code",
      "metadata": {
        "id": "h8rAl_sPizbx"
      },
      "source": [
        "# Licensed under the Apache License, Version 2.0 (the \"License\");\n",
        "# you may not use this file except in compliance with the License.\n",
        "# You may obtain a copy of the License at\n",
        "#\n",
        "# https://www.apache.org/licenses/LICENSE-2.0\n",
        "#\n",
        "# Unless required by applicable law or agreed to in writing, software\n",
        "# distributed under the License is distributed on an \"AS IS\" BASIS,\n",
        "# WITHOUT WARRANTIES OR CONDITIONS OF ANY KIND, either express or implied.\n",
        "# See the License for the specific language governing permissions and\n",
        "# limitations under the License."
      ],
      "execution_count": null,
      "outputs": []
    },
    {
      "cell_type": "markdown",
      "metadata": {
        "id": "zXUyqihI0cQ8"
      },
      "source": [
        "# Intermediate Python - Exceptions"
      ]
    },
    {
      "cell_type": "markdown",
      "metadata": {
        "id": "u_ff6_8Yi6yV"
      },
      "source": [
        "In this colab, we will move into a more advanced concept called exceptions. You'll learn how to handle pre-built exceptions and how to build your own exceptions."
      ]
    },
    {
      "cell_type": "markdown",
      "metadata": {
        "id": "kRCwiJVGO8SW"
      },
      "source": [
        "## Exceptions"
      ]
    },
    {
      "cell_type": "markdown",
      "metadata": {
        "id": "mjefp6Xi7JGY"
      },
      "source": [
        "Inevitably in any coding language, things will go wrong. Data might be of the wrong type, memory might run out, an object that you try to iterate on might be non-iterable, the list goes on and on.\n",
        "\n",
        "Exceptions are a way to handle these cases, and tell you where you went wrong. Below is an example of an exception when you try to divide by zero."
      ]
    },
    {
      "cell_type": "code",
      "metadata": {
        "id": "zNM0AH847Iu1"
      },
      "source": [
        "1 / 0"
      ],
      "execution_count": null,
      "outputs": []
    },
    {
      "cell_type": "markdown",
      "metadata": {
        "id": "AcPX9OEG7_Hc"
      },
      "source": [
        "Dividing by zero is undefined in mathematics. Whenever you try to divide by zero in Python, you will get the `ZeroDivisionError` exception.\n",
        "\n",
        "In practice, you'd likely never hard-code a zero as a denominator. However, you might have two computed variables that you want to calculate the ratio of."
      ]
    },
    {
      "cell_type": "code",
      "metadata": {
        "id": "3_ivi-549K3T"
      },
      "source": [
        "my_array = [2, 3, 4]\n",
        "your_array = []\n",
        "\n",
        "ratio = len(my_array) / len(your_array)"
      ],
      "execution_count": null,
      "outputs": []
    },
    {
      "cell_type": "markdown",
      "metadata": {
        "id": "Ax4rAeYt9jQi"
      },
      "source": [
        "There are a few ways to handle this scenario. One is defensive programming, where you check if the denominator is zero using an `if` statement. When you change the number of entries in `your_array`, you will see the output of the cell change."
      ]
    },
    {
      "cell_type": "code",
      "metadata": {
        "id": "nFw0-hIJ9ohH"
      },
      "source": [
        "my_array = [2, 3, 4]\n",
        "your_array = []\n",
        "\n",
        "ratio = 0\n",
        "if len(your_array) != 0:\n",
        "  ratio = len(my_array) / len(your_array)\n",
        "else:\n",
        "  print(\"Couldn't calculate ratio, denominator is zero\")"
      ],
      "execution_count": null,
      "outputs": []
    },
    {
      "cell_type": "markdown",
      "metadata": {
        "id": "kTYwCr7I956S"
      },
      "source": [
        "Another option is to allow an exception to be thrown, but then catch the exception. You can do this using the `try` keyword, which tries to complete any code within the block, unless an exception matching the `except` keyword is thrown."
      ]
    },
    {
      "cell_type": "code",
      "metadata": {
        "id": "IFXloMvr95kI"
      },
      "source": [
        "my_array = [2, 3, 4]\n",
        "your_array = []\n",
        "\n",
        "ratio = 0\n",
        "try:\n",
        "  ratio = len(my_array) / len(your_array)\n",
        "except ZeroDivisionError:\n",
        "  print(\"Couldn't calculate ratio, denominator is zero\")"
      ],
      "execution_count": null,
      "outputs": []
    },
    {
      "cell_type": "markdown",
      "metadata": {
        "id": "OzKm4yf9-Zt2"
      },
      "source": [
        "In the example above we caught the `ZeroDivisionError`. This code block could have been written to catch any exception by leaving out the error name."
      ]
    },
    {
      "cell_type": "code",
      "metadata": {
        "id": "PsPsjywS-qZC"
      },
      "source": [
        "my_array = [2, 3, 4]\n",
        "your_array = []\n",
        "\n",
        "ratio = 0\n",
        "try:\n",
        "  ratio = len(my_array) / len(your_array)\n",
        "except:\n",
        "  print(\"Couldn't calculate ratio, some error occurred\")"
      ],
      "execution_count": null,
      "outputs": []
    },
    {
      "cell_type": "markdown",
      "metadata": {
        "id": "jUyR0kkM-wy0"
      },
      "source": [
        "Catching every possible exception in the `except` block is easy, but can be problematic because you can hide bigger problems in your program. Typically it is best to catch and handle specific errors only.\n",
        "\n",
        "If an exception is thrown and not handled with an `except`, it terminates your program. In some cases, this is what you want to happen. For instance, if the program is out of memory, there isn't much you can do at the moment to handle the problem.\n",
        "\n",
        "There are varying opinions on whether it is better practice to prevent or handle exceptions. In the example above, is it best to check if a value is zero before dividing by it, or is it best to wrap division in a `try`/`except` block?\n",
        "\n",
        "In general, using exceptions for control flow is probably not a good idea. As the name suggests, exceptions should be used for \"exceptional\" cases - things that you don't expect.\n",
        "\n",
        "Let's look at some other common exceptions you'll see."
      ]
    },
    {
      "cell_type": "markdown",
      "metadata": {
        "id": "NDaQ6OMLBMqF"
      },
      "source": [
        "You'll get a `KeyError` if you try to access an element in a dictionary with square braces and the key doesn't exist."
      ]
    },
    {
      "cell_type": "code",
      "metadata": {
        "id": "Dky7cLlXBEwQ"
      },
      "source": [
        "my_dict = {\n",
        "  \"a\": 1234\n",
        "}\n",
        "\n",
        "my_dict[\"b\"]"
      ],
      "execution_count": null,
      "outputs": []
    },
    {
      "cell_type": "markdown",
      "metadata": {
        "id": "CH6fqWSYBdkL"
      },
      "source": [
        "You'll get an `IndexError` if you try to access an index in a string, list, or tuple and that index doesn't exist."
      ]
    },
    {
      "cell_type": "code",
      "metadata": {
        "id": "HVEG7IbCBY-4"
      },
      "source": [
        "my_array = [1, 2, 3, 4]\n",
        "my_array[56]"
      ],
      "execution_count": null,
      "outputs": []
    },
    {
      "cell_type": "markdown",
      "metadata": {
        "id": "ZstGPJOjCAVg"
      },
      "source": [
        "The comprehensive list of built-in exceptions can be found in the [official Python documentation](https://docs.python.org/3/library/exceptions.html). Built-in in exceptions are core exceptions provided by Python."
      ]
    },
    {
      "cell_type": "markdown",
      "metadata": {
        "id": "BDqieWwCCOER"
      },
      "source": [
        "#### Creating Your Own Exceptions\n",
        "\n",
        "To create your own error, you simply need to create a class that inherits from the built-in `Exception` class and then `raise` an instance of that class."
      ]
    },
    {
      "cell_type": "code",
      "metadata": {
        "id": "iFCWl9KfDCEL"
      },
      "source": [
        "class MyVeryOwnError(Exception):\n",
        "  pass\n",
        "\n",
        "raise MyVeryOwnError"
      ],
      "execution_count": null,
      "outputs": []
    },
    {
      "cell_type": "markdown",
      "metadata": {
        "id": "uNmC8ligDnAF"
      },
      "source": [
        "You can then use your error just like any system error. The custom exception is raised in `my_func` if the input is zero. When you change the value of the input to `my_func` in the `try` block, it changes whether the exception is thrown."
      ]
    },
    {
      "cell_type": "code",
      "metadata": {
        "id": "Y7RVjfO_DrQP"
      },
      "source": [
        "class MyVeryOwnError(Exception):\n",
        "  pass\n",
        "\n",
        "def my_func(x):\n",
        "  if x == 0:\n",
        "    raise MyVeryOwnError\n",
        "  else:\n",
        "    return x\n",
        "\n",
        "try:\n",
        "  print(my_func(0))\n",
        "except MyVeryOwnError:\n",
        "  print(\"Handling my custom exception\")"
      ],
      "execution_count": null,
      "outputs": []
    },
    {
      "cell_type": "markdown",
      "metadata": {
        "id": "GnavZP1tFWEZ"
      },
      "source": [
        "# Exercises"
      ]
    },
    {
      "cell_type": "markdown",
      "metadata": {
        "id": "l6FbU_oSPKwk"
      },
      "source": [
        "## Exercise 1"
      ]
    },
    {
      "cell_type": "markdown",
      "metadata": {
        "id": "0gBLFnUXFZBS"
      },
      "source": [
        "What are some reasons that you might want to create your own exception?\n"
      ]
    },
    {
      "cell_type": "markdown",
      "metadata": {
        "id": "J45CYZQE7l3Q"
      },
      "source": [
        "### Student Solution"
      ]
    },
    {
      "cell_type": "markdown",
      "metadata": {
        "id": "_IyHuI-dHWKM"
      },
      "source": [
        "Creating your own exceptions could be helpful for debugging, restricting what data can be inputed/used, etc."
      ]
    },
    {
      "cell_type": "markdown",
      "metadata": {
        "id": "5_x1oionanus"
      },
      "source": [
        "---"
      ]
    },
    {
      "cell_type": "markdown",
      "metadata": {
        "id": "exercise-1-solution-1"
      },
      "source": [
        "**Solution**"
      ]
    },
    {
      "cell_type": "markdown",
      "metadata": {
        "id": "pBF0zPgPIIus"
      },
      "source": [
        "To provide more readable and specific information when the code throws an error, which is helpful for debugging.\n",
        "\n",
        "This article has a nice explanation: https://dbader.org/blog/python-custom-exceptions"
      ]
    },
    {
      "cell_type": "markdown",
      "metadata": {
        "id": "S3qFdLwtPNig"
      },
      "source": [
        "## Exercise 2"
      ]
    },
    {
      "cell_type": "markdown",
      "metadata": {
        "id": "crpuwPeQFm3g"
      },
      "source": [
        "Handle the exception in the code block below using `try`/`except`. If the addition can't be done, print \"Unable to add\"."
      ]
    },
    {
      "cell_type": "markdown",
      "metadata": {
        "id": "yZgWoufL8ACG"
      },
      "source": [
        "### Student Solution"
      ]
    },
    {
      "cell_type": "code",
      "metadata": {
        "id": "eo18xFbzFuIT"
      },
      "source": [
        "left = 1\n",
        "right = \"2\"\n",
        "\n",
        "### YOUR CODE HERE ###\n",
        "\n",
        "try:\n",
        "  left + right\n",
        "except TypeError:\n",
        "  print(\"Unable to add\")"
      ],
      "execution_count": null,
      "outputs": []
    },
    {
      "cell_type": "markdown",
      "metadata": {
        "id": "gEKp-R2ga2o_"
      },
      "source": [
        "---"
      ]
    },
    {
      "cell_type": "markdown",
      "metadata": {
        "id": "rBXxC_IEPU5c"
      },
      "source": [
        "## Exercise 3"
      ]
    },
    {
      "cell_type": "markdown",
      "metadata": {
        "id": "A2ypEESJGsDu"
      },
      "source": [
        "Using `if`/`else` or some other flow control, prevent the exception in the code below from being thrown."
      ]
    },
    {
      "cell_type": "markdown",
      "metadata": {
        "id": "QaJNZW8H8JxL"
      },
      "source": [
        "### Student Solution"
      ]
    },
    {
      "cell_type": "code",
      "metadata": {
        "id": "Cb2DNg3kG5dh"
      },
      "source": [
        "array_one = [1, 2, 3]\n",
        "array_two = [4, 5]\n",
        "\n",
        "### YOUR CODE HERE ###\n",
        "\n",
        "if len(array_one) != len(array_two):\n",
        "  try:\n",
        "    for i in range(len(array_one)):\n",
        "      print(array_one[i] + array_two[i])\n",
        "  except IndexError:\n",
        "    pass\n",
        "\n",
        "else:\n",
        "  for i in range(len(array_one)):\n",
        "      print(array_one[i] + array_two[i])     "
      ],
      "execution_count": null,
      "outputs": []
    }
  ]
}