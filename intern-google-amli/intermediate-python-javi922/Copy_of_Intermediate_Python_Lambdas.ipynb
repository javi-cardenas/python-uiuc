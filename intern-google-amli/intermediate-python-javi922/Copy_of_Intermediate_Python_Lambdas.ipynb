{
  "nbformat": 4,
  "nbformat_minor": 0,
  "metadata": {
    "colab": {
      "name": "Copy of Intermediate Python - Lambdas",
      "private_outputs": true,
      "provenance": [],
      "collapsed_sections": [
        "copyright",
        "exercise-1-key-1",
        "exercise-2-key-1"
      ],
      "toc_visible": true
    },
    "kernelspec": {
      "display_name": "Python 3",
      "name": "python3"
    }
  },
  "cells": [
    {
      "cell_type": "markdown",
      "metadata": {
        "id": "copyright"
      },
      "source": [
        "#### Copyright 2019 Google LLC."
      ]
    },
    {
      "cell_type": "code",
      "metadata": {
        "id": "h8rAl_sPizbx"
      },
      "source": [
        "# Licensed under the Apache License, Version 2.0 (the \"License\");\n",
        "# you may not use this file except in compliance with the License.\n",
        "# You may obtain a copy of the License at\n",
        "#\n",
        "# https://www.apache.org/licenses/LICENSE-2.0\n",
        "#\n",
        "# Unless required by applicable law or agreed to in writing, software\n",
        "# distributed under the License is distributed on an \"AS IS\" BASIS,\n",
        "# WITHOUT WARRANTIES OR CONDITIONS OF ANY KIND, either express or implied.\n",
        "# See the License for the specific language governing permissions and\n",
        "# limitations under the License."
      ],
      "execution_count": null,
      "outputs": []
    },
    {
      "cell_type": "markdown",
      "metadata": {
        "id": "zXUyqihI0cQ8"
      },
      "source": [
        "# Intermediate Python - Lambdas\n"
      ]
    },
    {
      "cell_type": "markdown",
      "metadata": {
        "id": "RjuRZFi8tg1B"
      },
      "source": [
        "In this Colab, we will move on to the concept of lambda functions. You'll learn what a lambda function is and how to use them in your code."
      ]
    },
    {
      "cell_type": "markdown",
      "metadata": {
        "id": "6nGxfnkuPKLe"
      },
      "source": [
        "## Lambdas"
      ]
    },
    {
      "cell_type": "markdown",
      "metadata": {
        "id": "-LMsrj8C2HO5"
      },
      "source": [
        "You have previously seen how to create named functions and call them."
      ]
    },
    {
      "cell_type": "code",
      "metadata": {
        "id": "E3h97Pl_uSrG"
      },
      "source": [
        "def my_function():\n",
        "  print(\"Hello ML\")\n",
        "\n",
        "my_function()"
      ],
      "execution_count": null,
      "outputs": []
    },
    {
      "cell_type": "markdown",
      "metadata": {
        "id": "hXE07vNUJprt"
      },
      "source": [
        "What you might not know is that functions are first-class objects in Python, so you can treat them as objects. For example, you can assign functions to variables:"
      ]
    },
    {
      "cell_type": "code",
      "metadata": {
        "id": "q_JGeYZnttk3"
      },
      "source": [
        "def say_hello():\n",
        "  print(\"Hello\")\n",
        "\n",
        "greeting = say_hello\n",
        "\n",
        "greeting()"
      ],
      "execution_count": null,
      "outputs": []
    },
    {
      "cell_type": "markdown",
      "metadata": {
        "id": "_JXP6aVrt_Mm"
      },
      "source": [
        "And you can pass functions to other functions:"
      ]
    },
    {
      "cell_type": "code",
      "metadata": {
        "id": "rIzeqk3MuCVt"
      },
      "source": [
        "def say_hello():\n",
        "  print(\"Hello\")\n",
        "\n",
        "def call_another_function(f):\n",
        "  print(\"Calling function {}\".format(f))\n",
        "  #print(f\"Calling function {f}\") # same line as above\n",
        "  f()\n",
        "\n",
        "call_another_function(say_hello)"
      ],
      "execution_count": null,
      "outputs": []
    },
    {
      "cell_type": "markdown",
      "metadata": {
        "id": "cvHwKTFMv2bi"
      },
      "source": [
        "Often, functions can be defined in one line, so it would be nice to have a shorthand rather than having to use the `def` notation. This is exactly the use case for a **`lambda` function**.\n",
        "\n",
        "Lambda functions start with the `lambda` keyword. A colon signals the start of the function body.\n"
      ]
    },
    {
      "cell_type": "code",
      "metadata": {
        "id": "jPwC9c0nvn-4"
      },
      "source": [
        "my_lambda_func = lambda: print(\"This is a lambda function\")\n",
        "\n",
        "my_lambda_func()"
      ],
      "execution_count": null,
      "outputs": []
    },
    {
      "cell_type": "markdown",
      "metadata": {
        "id": "K1i-0iMtJpjr"
      },
      "source": [
        "\n",
        "\n",
        "Lambda functions can accept arguments. Just put the variable names between the `lambda` keyword and the colon:"
      ]
    },
    {
      "cell_type": "code",
      "metadata": {
        "id": "JdCV_sCmwaly"
      },
      "source": [
        "add_one = lambda x: x + 1\n",
        "print(add_one(2))\n",
        "\n",
        "add = lambda x, y: x + y\n",
        "print(add(1, 2))"
      ],
      "execution_count": null,
      "outputs": []
    },
    {
      "cell_type": "markdown",
      "metadata": {
        "id": "_m_0kCDawhPz"
      },
      "source": [
        "Sometimes lambda functions do not even need to be named. For example, when you are passing a function to another object (e.g. another function), you can pass a lambda function directly."
      ]
    },
    {
      "cell_type": "code",
      "metadata": {
        "id": "RlziAxW1wgmm"
      },
      "source": [
        "def call_another_function(f):\n",
        "  print(\"Calling function {}\".format(f))\n",
        "  f()\n",
        "\n",
        "call_another_function(lambda: print(\"This is a lambda function\"))"
      ],
      "execution_count": null,
      "outputs": []
    },
    {
      "cell_type": "markdown",
      "metadata": {
        "id": "2-_I1QCA262w"
      },
      "source": [
        "There are many places where it is Pythonic to use lambdas instead of named functions. Some examples are the [map](https://docs.python.org/3/library/functions.html#map), [filter](https://docs.python.org/3/library/functions.html#filter), and [sorted](https://docs.python.org/3/library/functions.html#sorted) built-in functions.\n",
        "\n",
        "One of the most standard use cases of a lambda function is to apply a function to every element of a list. You can do this using `map`. The code below adds one to every element in the list. (We end up needing the [list](https://docs.python.org/3/library/functions.html#func-list) function to make the return value of map become a list again.)"
      ]
    },
    {
      "cell_type": "code",
      "metadata": {
        "id": "2VAjjs68xgVy"
      },
      "source": [
        "my_list = [4, 7, 9, 12, 34, 67]\n",
        "\n",
        "def add_one(x):\n",
        "  return x + 1\n",
        "\n",
        "list(map(add_one, my_list))"
      ],
      "execution_count": null,
      "outputs": []
    },
    {
      "cell_type": "markdown",
      "metadata": {
        "id": "5_CrV5ejx0RR"
      },
      "source": [
        "With a lambda function, this can be done in one line."
      ]
    },
    {
      "cell_type": "code",
      "metadata": {
        "id": "YaO2BUbYx34z"
      },
      "source": [
        "my_list = [4, 7, 9, 12, 34, 67]\n",
        "\n",
        "list(map(lambda x: x + 1, my_list))"
      ],
      "execution_count": null,
      "outputs": []
    },
    {
      "cell_type": "markdown",
      "metadata": {
        "id": "2-zIBQSV4o0B"
      },
      "source": [
        "# Exercises"
      ]
    },
    {
      "cell_type": "markdown",
      "metadata": {
        "id": "Ic0MFmLJO8Wr"
      },
      "source": [
        "## Exercise 1"
      ]
    },
    {
      "cell_type": "markdown",
      "metadata": {
        "id": "pBJKL9gb4qfP"
      },
      "source": [
        "Use the [map](https://docs.python.org/3/library/functions.html#map) function and a lambda to change all of the following strings to uppercase."
      ]
    },
    {
      "cell_type": "markdown",
      "metadata": {
        "id": "cR13YD1JFfJC"
      },
      "source": [
        "### Student Solution"
      ]
    },
    {
      "cell_type": "code",
      "metadata": {
        "id": "wdgnJtP4427K"
      },
      "source": [
        "my_strings = [\"I\", \"love\", \"LaMbDa\", \"Functions\"]\n",
        "\n",
        "### YOUR CODE HERE ###\n",
        "\n",
        "list(map(lambda x: x.upper(), my_strings))\n"
      ],
      "execution_count": null,
      "outputs": []
    },
    {
      "cell_type": "markdown",
      "metadata": {
        "id": "izMn2pCCcxwc"
      },
      "source": [
        "---"
      ]
    },
    {
      "cell_type": "markdown",
      "metadata": {
        "id": "IsgFDn9UO_vx"
      },
      "source": [
        "## Exercise 2"
      ]
    },
    {
      "cell_type": "markdown",
      "metadata": {
        "id": "1YiifgS2-HN7"
      },
      "source": [
        "Use the [sorted](https://docs.python.org/3/library/functions.html#sorted) function and a lambda to sort the values in `my_list` by the \"sort_order\" value in each dictionary contained within the list."
      ]
    },
    {
      "cell_type": "markdown",
      "metadata": {
        "id": "zZw29QnNs6Gl"
      },
      "source": [
        "### Student Solution"
      ]
    },
    {
      "cell_type": "code",
      "metadata": {
        "id": "Egd1aN3e-hVL"
      },
      "source": [
        "my_list = [\n",
        "  {\"value\": 123, \"sort_order\": 1},\n",
        "  {\"value\": 543, \"sort_order\": 0},\n",
        "  {\"value\": 101, \"sort_order\": 4},\n",
        "  {\"value\": 654, \"sort_order\": 3},\n",
        "]\n",
        "\n",
        "### YOUR CODE HERE ###\n",
        "\n",
        "sorted(my_list, key=lambda x: x[\"sort_order\"])"
      ],
      "execution_count": null,
      "outputs": []
    },
    {
      "cell_type": "code",
      "metadata": {
        "id": "Rgd_dkZMFfAU"
      },
      "source": [
        "my_list = [\n",
        "  {\"value\": 123, \"sort_order\": 1},\n",
        "  {\"value\": 543, \"sort_order\": 0},\n",
        "  {\"value\": 101, \"sort_order\": 4},\n",
        "  {\"value\": 654, \"sort_order\": 3},\n",
        "]\n",
        "\n",
        "sorted(my_list, key=lambda x: x[\"sort_order\"])"
      ],
      "execution_count": null,
      "outputs": []
    },
    {
      "cell_type": "markdown",
      "metadata": {
        "id": "bSJdYHgBc6sU"
      },
      "source": [
        "---"
      ]
    }
  ]
}