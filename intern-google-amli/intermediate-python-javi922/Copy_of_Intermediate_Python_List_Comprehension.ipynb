{
  "nbformat": 4,
  "nbformat_minor": 0,
  "metadata": {
    "colab": {
      "name": "Copy of Intermediate Python - List Comprehension",
      "private_outputs": true,
      "provenance": [],
      "collapsed_sections": [
        "copyright",
        "exercise-1-key-1"
      ],
      "toc_visible": true
    },
    "kernelspec": {
      "display_name": "Python 3",
      "name": "python3"
    }
  },
  "cells": [
    {
      "cell_type": "markdown",
      "metadata": {
        "id": "copyright"
      },
      "source": [
        "#### Copyright 2019 Google LLC."
      ]
    },
    {
      "cell_type": "code",
      "metadata": {
        "id": "h8rAl_sPizbx"
      },
      "source": [
        "# Licensed under the Apache License, Version 2.0 (the \"License\");\n",
        "# you may not use this file except in compliance with the License.\n",
        "# You may obtain a copy of the License at\n",
        "#\n",
        "# https://www.apache.org/licenses/LICENSE-2.0\n",
        "#\n",
        "# Unless required by applicable law or agreed to in writing, software\n",
        "# distributed under the License is distributed on an \"AS IS\" BASIS,\n",
        "# WITHOUT WARRANTIES OR CONDITIONS OF ANY KIND, either express or implied.\n",
        "# See the License for the specific language governing permissions and\n",
        "# limitations under the License."
      ],
      "execution_count": null,
      "outputs": []
    },
    {
      "cell_type": "markdown",
      "metadata": {
        "id": "zXUyqihI0cQ8"
      },
      "source": [
        "# Intermediate Python - List Comprehension\n"
      ]
    },
    {
      "cell_type": "markdown",
      "metadata": {
        "id": "u_ff6_8Yi6yV"
      },
      "source": [
        "In this Colab, we will discuss list comprehension, an extremely useful and idiomatic way to process lists in Python."
      ]
    },
    {
      "cell_type": "markdown",
      "metadata": {
        "id": "1A-dJQ7ePP-W"
      },
      "source": [
        "## List Comprehension"
      ]
    },
    {
      "cell_type": "markdown",
      "metadata": {
        "id": "AUikpEkwAVN1"
      },
      "source": [
        "List comprehension is a compact way to create a list of data. Say you want to create a list containing ten random numbers. One way to do this is to just hard-code a ten-element list."
      ]
    },
    {
      "cell_type": "code",
      "metadata": {
        "id": "rqUnCfIfAuYU"
      },
      "source": [
        "import random\n",
        "\n",
        "[\n",
        "  random.randint(0, 100),\n",
        "  random.randint(0, 100),\n",
        "  random.randint(0, 100),\n",
        "  random.randint(0, 100),\n",
        "  random.randint(0, 100),\n",
        "  random.randint(0, 100),\n",
        "  random.randint(0, 100),\n",
        "  random.randint(0, 100),\n",
        "  random.randint(0, 100),\n",
        "  random.randint(0, 100),\n",
        "]"
      ],
      "execution_count": null,
      "outputs": []
    },
    {
      "cell_type": "markdown",
      "metadata": {
        "id": "-nyI060dEwn3"
      },
      "source": [
        "> *Note*: In the code above, we've introduced the **random** module. [`random`](https://docs.python.org/3/library/random.html) is a Python package that comes as part of the standard Python distribution. To use Python packages we rely on the **import** keyword.\n",
        "\n",
        "That's pretty intensive, and requires a bit of copy-paste work. We could clean it up with a `for` loop:"
      ]
    },
    {
      "cell_type": "code",
      "metadata": {
        "id": "dmp8RgFGFC6M"
      },
      "source": [
        "import random\n",
        "\n",
        "my_list = []\n",
        "for _ in range(10):\n",
        "  my_list.append(random.randint(0, 100))\n",
        "\n",
        "my_list"
      ],
      "execution_count": null,
      "outputs": []
    },
    {
      "cell_type": "markdown",
      "metadata": {
        "id": "mv4Lm8iNFl70"
      },
      "source": [
        "This looks much nicer. Less repetition is always a good thing.\n",
        "\n",
        "> *Note*: Did you notice the use of the underscore to consume the value returned from range? You can use this when you don't actually need the range value, and it saves Python from assigning it to memory.\n",
        "\n",
        "There is an even more idiomatic way of creating this list of numbers in Python. Here is an example of a list comprehension:"
      ]
    },
    {
      "cell_type": "code",
      "metadata": {
        "id": "1Wcy4FXxHnKd"
      },
      "source": [
        "import random\n",
        "\n",
        "my_list = [random.randint(0, 100) for _ in range(10)]\n",
        "my_list"
      ],
      "execution_count": null,
      "outputs": []
    },
    {
      "cell_type": "markdown",
      "metadata": {
        "id": "5-8p7fw3IXFD"
      },
      "source": [
        "Let's start by looking at the \"`for _ in range()`\" part. This looks like the `for` loop that we are familiar with. In this case, it is a loop over the range from zero through nine.\n",
        "\n",
        "The strange part is the `for` doesn't start the expression. We are used to seeing a `for` loop with a body of statements indented below it. In this case, the body of the for loop is to the left of the `for` keyword.\n",
        "\n",
        "This is the signature of list comprehension. The body of the loop comes first and the `for` range comes last."
      ]
    },
    {
      "cell_type": "markdown",
      "metadata": {
        "id": "KuKXY_avKnnC"
      },
      "source": [
        "`for` isn't the only option for list comprehensions. You can also add an `if` condition."
      ]
    },
    {
      "cell_type": "code",
      "metadata": {
        "id": "fH-jnyZ0Kzxn"
      },
      "source": [
        "[x for x in range(10) if x % 2 == 0]"
      ],
      "execution_count": null,
      "outputs": []
    },
    {
      "cell_type": "markdown",
      "metadata": {
        "id": "XeterQT63vLd"
      },
      "source": [
        "You can add multiple `if` statements by using boolean operators."
      ]
    },
    {
      "cell_type": "code",
      "metadata": {
        "id": "mP_6E32U30YR"
      },
      "source": [
        "print([x for x in range(10) if x % 2 == 0 and x % 3 == 0])\n",
        "print([x for x in range(10) if x % 2 == 0 or x % 3 == 0])"
      ],
      "execution_count": null,
      "outputs": []
    },
    {
      "cell_type": "markdown",
      "metadata": {
        "id": "tPvIQlVxO-Kb"
      },
      "source": [
        "You can even have multiple loops chained in a single list comprehension. The left-most loop is the outer loop and the subsequent loops are nested within. However, when cases become sufficiently complicated, we recommend using standard loop notation, to enhance code readability."
      ]
    },
    {
      "cell_type": "code",
      "metadata": {
        "id": "-sOogiH1MVFA"
      },
      "source": [
        "[(x, y) for x in range(5) for y in range(3)]"
      ],
      "execution_count": null,
      "outputs": []
    },
    {
      "cell_type": "markdown",
      "metadata": {
        "id": "h7cGL8dHP1A4"
      },
      "source": [
        "# Exercises"
      ]
    },
    {
      "cell_type": "markdown",
      "metadata": {
        "id": "02rTlQnPOkf_"
      },
      "source": [
        "## Exercise 1"
      ]
    },
    {
      "cell_type": "markdown",
      "metadata": {
        "id": "VI0U1vdzP3IE"
      },
      "source": [
        "Create a list expansion that builds a list of numbers between 5 and 67 (inclusive) that are divisible by 7 but not divisible by 3."
      ]
    },
    {
      "cell_type": "markdown",
      "metadata": {
        "id": "0frrpHdctK-3"
      },
      "source": [
        "### Student Solution"
      ]
    },
    {
      "cell_type": "code",
      "metadata": {
        "id": "iWOZspofRMKN"
      },
      "source": [
        "### YOUR CODE HERE ###\n",
        "\n",
        "[x for x in range(68) if x > 4 and x%7 == 0 and x%3 != 0]"
      ],
      "execution_count": null,
      "outputs": []
    },
    {
      "cell_type": "markdown",
      "metadata": {
        "id": "Oncv1SY4dMix"
      },
      "source": [
        "---"
      ]
    },
    {
      "cell_type": "markdown",
      "metadata": {
        "id": "8TuriZO94tPm"
      },
      "source": [
        "## Exercise 2"
      ]
    },
    {
      "cell_type": "markdown",
      "metadata": {
        "id": "bGalFZy_4tPp"
      },
      "source": [
        "Use list comprehension to find the lengths of all the words in the following sentence."
      ]
    },
    {
      "cell_type": "markdown",
      "metadata": {
        "id": "_dzLJsjp4tPr"
      },
      "source": [
        "### Student Solution"
      ]
    },
    {
      "cell_type": "code",
      "metadata": {
        "id": "oaLcm3YZ5VZJ"
      },
      "source": [
        "sentence = \"I love list comprehension so much it makes me want to cry\"\n",
        "words = sentence.split()\n",
        "print(words)\n",
        "\n",
        "### YOUR CODE GOES HERE ###\n",
        "\n",
        "print([len(words[x]) for x in range(len(words))])"
      ],
      "execution_count": null,
      "outputs": []
    },
    {
      "cell_type": "markdown",
      "metadata": {
        "id": "XOtO1NgCdJyY"
      },
      "source": [
        "---"
      ]
    }
  ]
}