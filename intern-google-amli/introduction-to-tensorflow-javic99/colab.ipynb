{
 "cells": [
  {
   "cell_type": "markdown",
   "metadata": {
    "colab_type": "text",
    "id": "view-in-github"
   },
   "source": [
    "<a href=\"https://colab.research.google.com/github/google/applied-machine-learning-intensive/blob/master/content/03_regression/05_introduction_to_tensorflow/colab.ipynb\" target=\"_parent\"><img src=\"https://colab.research.google.com/assets/colab-badge.svg\" alt=\"Open In Colab\"/></a>"
   ]
  },
  {
   "cell_type": "markdown",
   "metadata": {
    "colab_type": "text",
    "id": "copyright"
   },
   "source": [
    "#### Copyright 2020 Google LLC."
   ]
  },
  {
   "cell_type": "code",
   "execution_count": 0,
   "metadata": {
    "colab": {},
    "colab_type": "code",
    "id": "nUILHfaIXp8i"
   },
   "outputs": [],
   "source": [
    "# Licensed under the Apache License, Version 2.0 (the \"License\");\n",
    "# you may not use this file except in compliance with the License.\n",
    "# You may obtain a copy of the License at\n",
    "#\n",
    "# https://www.apache.org/licenses/LICENSE-2.0\n",
    "#\n",
    "# Unless required by applicable law or agreed to in writing, software\n",
    "# distributed under the License is distributed on an \"AS IS\" BASIS,\n",
    "# WITHOUT WARRANTIES OR CONDITIONS OF ANY KIND, either express or implied.\n",
    "# See the License for the specific language governing permissions and\n",
    "# limitations under the License."
   ]
  },
  {
   "cell_type": "markdown",
   "metadata": {
    "colab_type": "text",
    "id": "_FdRu8E0F6EJ"
   },
   "source": [
    "# Introduction to TensorFlow"
   ]
  },
  {
   "cell_type": "markdown",
   "metadata": {
    "colab_type": "text",
    "id": "-BAA5YllEH3S"
   },
   "source": [
    "[TensorFlow](http://tensorflow.org) is a software library used for high-performance numerical computation. It can be used from a variety of languages and deployed on a large number of operating systems and hardware platforms.\n",
    "\n",
    "TensorFlow is particularly good at machine learning and is often associated with it. However, TensorFlow isn't limited to machine learning applications.\n"
   ]
  },
  {
   "cell_type": "markdown",
   "metadata": {
    "colab_type": "text",
    "id": "DDm6iXKZBPaB"
   },
   "source": [
    "## TensorFlow Version"
   ]
  },
  {
   "cell_type": "markdown",
   "metadata": {
    "colab_type": "text",
    "id": "5SKPdCbjBSfK"
   },
   "source": [
    "In late 2019, TensorFlow moved from version `1.x` to version `2.x`. This move signaled a major change in how programmers use TensorFlow. Many of the APIs used in version 1 are no longer core to the libarary.\n",
    "\n",
    "In this course we use TensorFlow 2 exclusively.\n",
    "\n",
    "TensorFlow 1 and TensorFlow 2 can't be installed in the same environment at the same time. As of early 2020, Colab still defaulted to using TensorFlow 1. In order to enable TensorFlow 2, run the code cell below:"
   ]
  },
  {
   "cell_type": "code",
   "execution_count": 0,
   "metadata": {
    "colab": {},
    "colab_type": "code",
    "id": "DaSeHyW3_eKf"
   },
   "outputs": [],
   "source": [
    "%tensorflow_version 2.x"
   ]
  },
  {
   "cell_type": "markdown",
   "metadata": {
    "colab_type": "text",
    "id": "DlZ4QBIRC9he"
   },
   "source": [
    "This cell runs a magic that tells Colab to use TensorFlow 2 instead of TensorFlow 1 by default. This magic needs to run before you actually load TensorFlow.\n",
    "\n",
    "In the future this magic might not be necessary. If you are ever in doubt of which TensorFlow you are using, import `tensorflow` and print out the version."
   ]
  },
  {
   "cell_type": "code",
   "execution_count": 0,
   "metadata": {
    "colab": {},
    "colab_type": "code",
    "id": "zjomxNnvDU5C"
   },
   "outputs": [],
   "source": [
    "import tensorflow as tf\n",
    "\n",
    "print(tf.__version__)"
   ]
  },
  {
   "cell_type": "markdown",
   "metadata": {
    "colab_type": "text",
    "id": "r36Rz1wzcUro"
   },
   "source": [
    "## Tensors\n",
    "\n",
    "TensorFlow gets its name from **tensors**, which are arrays of arbitrary dimensionality. Using TensorFlow, you can manipulate tensors with a very high number of dimensions. With that being said, most of the time you will work with one or more of the following low-dimensional tensors:"
   ]
  },
  {
   "cell_type": "markdown",
   "metadata": {
    "colab_type": "text",
    "id": "Zlsfo3aEEgyg"
   },
   "source": [
    "### Scalars"
   ]
  },
  {
   "cell_type": "markdown",
   "metadata": {
    "colab_type": "text",
    "id": "yzsOB6mlEiZ0"
   },
   "source": [
    "A **scalar** is a 0-d array (a 0th-order tensor). An example might be `\"Howdy\"` or `5`.\n",
    "\n",
    "How would we create a scalar tensor, or any tensor for that matter?\n",
    "\n",
    "One ways is to use `tf.constant()`. This creates a **constant tensor**, which is a tensor that cannot change."
   ]
  },
  {
   "cell_type": "code",
   "execution_count": 0,
   "metadata": {
    "colab": {},
    "colab_type": "code",
    "id": "w3EWv5ZKDttp"
   },
   "outputs": [],
   "source": [
    "scalar_tensor = tf.constant(\"Hi Mom!\")\n",
    "print(scalar_tensor)"
   ]
  },
  {
   "cell_type": "markdown",
   "metadata": {
    "colab_type": "text",
    "id": "cGd8aEBwEV5k"
   },
   "source": [
    "Notice that the shape of the tensor is `()`, which indicates that the tensor is a scalar."
   ]
  },
  {
   "cell_type": "markdown",
   "metadata": {
    "colab_type": "text",
    "id": "P4L-BGswEdqK"
   },
   "source": [
    "### Vectors"
   ]
  },
  {
   "cell_type": "markdown",
   "metadata": {
    "colab_type": "text",
    "id": "sltvfWBMEpCm"
   },
   "source": [
    "A **vector** is a 1-d array (a 1st-order tensor). An example might be `[2, 3, 5, 7, 11]` or even `[5]`.\n",
    "\n",
    "We can again use `tf.constant()` to create the tensor."
   ]
  },
  {
   "cell_type": "code",
   "execution_count": 0,
   "metadata": {
    "colab": {},
    "colab_type": "code",
    "id": "Ixlx45SoEox0"
   },
   "outputs": [],
   "source": [
    "vector_tensor = tf.constant([1, 2, 3])\n",
    "print(vector_tensor)"
   ]
  },
  {
   "cell_type": "markdown",
   "metadata": {
    "colab_type": "text",
    "id": "mielH7FgFMNn"
   },
   "source": [
    "Notice now that our shape has changed to `(3,)`."
   ]
  },
  {
   "cell_type": "markdown",
   "metadata": {
    "colab_type": "text",
    "id": "uU8GVaBoFQc5"
   },
   "source": [
    "### Matrix"
   ]
  },
  {
   "cell_type": "markdown",
   "metadata": {
    "colab_type": "text",
    "id": "anVENBnUFTx4"
   },
   "source": [
    "A **matrix** is a 2-d array (a 2nd-order tensor). For example:\n",
    "\n",
    "```\n",
    "  [\n",
    "    [3.1, 8.2, 5.9],\n",
    "    [4.3, -2.7, 6.5],\n",
    "  ]\n",
    "```"
   ]
  },
  {
   "cell_type": "code",
   "execution_count": 0,
   "metadata": {
    "colab": {},
    "colab_type": "code",
    "id": "jzNZDQH7FdGP"
   },
   "outputs": [],
   "source": [
    "matrix_tensor = tf.constant([[1.2, 3.4, 5.6], [7.8, 9.0, 1.2]])\n",
    "print(matrix_tensor)"
   ]
  },
  {
   "cell_type": "markdown",
   "metadata": {
    "colab_type": "text",
    "id": "Deqzy12KFcsu"
   },
   "source": [
    "### Cubes"
   ]
  },
  {
   "cell_type": "markdown",
   "metadata": {
    "colab_type": "text",
    "id": "_Lbz2LpADxRI"
   },
   "source": [
    "A **cube** is a 3d array (a 3rd-order tensor). For example:\n",
    "\n",
    "```\n",
    "  [\n",
    "    [\n",
    "      [3.1, 8.2, 5.9],\n",
    "      [4.3, 2.7, 6.5],\n",
    "    ],\n",
    "    [\n",
    "      [4.5, 5.2, 3.1],\n",
    "      [3.4, 2.0, 5.9],\n",
    "    ],\n",
    "    [\n",
    "      [4.2, 3.7, 9.1],\n",
    "      [6.4, 1.2, 6.4],\n",
    "    ],\n",
    "    [\n",
    "      [9.9, 6.1, 8.8],\n",
    "      [3.1, 8.7, 4.5],\n",
    "    ],\n",
    "  ]\n",
    "```"
   ]
  },
  {
   "cell_type": "markdown",
   "metadata": {
    "colab_type": "text",
    "id": "bpWv_8WoFsXR"
   },
   "source": [
    "#### Exercise 1: Create a Cube\n",
    "\n",
    "Using `tf.constant()` create 3rd-order tensor. Print the tensor.\n",
    "\n",
    "**Student Solution**"
   ]
  },
  {
   "cell_type": "code",
   "execution_count": 0,
   "metadata": {
    "colab": {},
    "colab_type": "code",
    "id": "ZPvWJMc-Frz2"
   },
   "outputs": [],
   "source": [
    "# Your Code Goes Here"
   ]
  },
  {
   "cell_type": "markdown",
   "metadata": {
    "colab_type": "text",
    "id": "MO1f8gLpF6Dn"
   },
   "source": [
    "---"
   ]
  },
  {
   "cell_type": "markdown",
   "metadata": {
    "colab_type": "text",
    "id": "KozwsHewGTAx"
   },
   "source": [
    "### Higher-Order Tensors"
   ]
  },
  {
   "cell_type": "markdown",
   "metadata": {
    "colab_type": "text",
    "id": "Dn-MhxmCGVmo"
   },
   "source": [
    "Tensors can have an arbitrarily large number of dimensions. Your mathematical needs might require large numbers of dimensions, but for the most part you'll likely see tensors in these smaller dimensions that we've covered. "
   ]
  },
  {
   "cell_type": "markdown",
   "metadata": {
    "colab_type": "text",
    "id": "5qS4EkNVE64R"
   },
   "source": [
    "### Variable Tensors\n",
    "\n",
    "A variable is a type of tensor that can change. Creating variable tensors doesn't look much different from creating constant tensors."
   ]
  },
  {
   "cell_type": "code",
   "execution_count": 0,
   "metadata": {
    "colab": {},
    "colab_type": "code",
    "id": "CXFIG_FkF5bJ"
   },
   "outputs": [],
   "source": [
    "vector_tensor = tf.Variable([1, 2, 3])\n",
    "print(vector_tensor)"
   ]
  },
  {
   "cell_type": "markdown",
   "metadata": {
    "colab_type": "text",
    "id": "xTmnToHKHZRC"
   },
   "source": [
    "But with variable tensors you can change the values using the `assign()` method."
   ]
  },
  {
   "cell_type": "code",
   "execution_count": 0,
   "metadata": {
    "colab": {},
    "colab_type": "code",
    "id": "2snvQimMHatS"
   },
   "outputs": [],
   "source": [
    "vector_tensor = tf.Variable([1, 2, 3])\n",
    "\n",
    "vector_tensor.assign([5, 6, 7])\n",
    "\n",
    "print(vector_tensor)"
   ]
  },
  {
   "cell_type": "markdown",
   "metadata": {
    "colab_type": "text",
    "id": "V1EiBLkwGSmy"
   },
   "source": [
    "### Tensor Operations\n",
    "\n",
    "In order for variables to change, something must operate on them. TensorFlow operations create, destroy, and manipulate tensors. Most of the lines of code in a typical TensorFlow program are operations.\n",
    "\n",
    "Let's start by looking at a basic operation that adds two tensors together."
   ]
  },
  {
   "cell_type": "code",
   "execution_count": 0,
   "metadata": {
    "colab": {},
    "colab_type": "code",
    "id": "J8pFGSAxHVxN"
   },
   "outputs": [],
   "source": [
    "tensor = tf.constant(3) + tf.constant(4)\n",
    "print(tensor)"
   ]
  },
  {
   "cell_type": "markdown",
   "metadata": {
    "colab_type": "text",
    "id": "7UlsaKwGIx09"
   },
   "source": [
    "We create two scalar constant tensors and add them together. The result is another tensor.\n",
    "\n",
    "Notice that in order to perform a simple tensor addition operation, we could simply use the standard Python addition symbol. This is because TensorFlow overrides many of the standard operators for use with [`Tensor`](https://www.tensorflow.org/api_docs/python/tf/Tensor) objects.\n",
    "\n",
    "This override works as long as there is a `Tensor` on at least one side of the operator:"
   ]
  },
  {
   "cell_type": "code",
   "execution_count": 0,
   "metadata": {
    "colab": {},
    "colab_type": "code",
    "id": "jHlZQpsIJh7h"
   },
   "outputs": [],
   "source": [
    "print(tf.constant(3) + 4)\n",
    "print(3 + tf.constant(4))"
   ]
  },
  {
   "cell_type": "markdown",
   "metadata": {
    "colab_type": "text",
    "id": "J7uQM1BmgDYS"
   },
   "source": [
    "TensorFlow also has support for many more operations than can be represented by standard Python operators. For instance, there are a number of linear algebra operations such as the matrix transpositition:"
   ]
  },
  {
   "cell_type": "code",
   "execution_count": 0,
   "metadata": {
    "colab": {},
    "colab_type": "code",
    "id": "XvboMHpfeg8D"
   },
   "outputs": [],
   "source": [
    "matrix = tf.constant([\n",
    "  [11, 12, 13],\n",
    "  [21, 22, 23],\n",
    "  [31, 32, 33],\n",
    "])\n",
    "\n",
    "print(tf.transpose(matrix))"
   ]
  },
  {
   "cell_type": "markdown",
   "metadata": {
    "colab_type": "text",
    "id": "tCgAH1ucNJ6X"
   },
   "source": [
    "You can also calculate matrix multiplication using [`tf.tensordot()`](https://www.tensorflow.org/api_docs/python/tf/tensordot):"
   ]
  },
  {
   "cell_type": "code",
   "execution_count": 0,
   "metadata": {
    "colab": {},
    "colab_type": "code",
    "id": "g6AVCPW-NtXB"
   },
   "outputs": [],
   "source": [
    "matrix_one = tf.constant([\n",
    "  [2, 2, 2],\n",
    "  [2, 2, 2],\n",
    "  [2, 2, 2],\n",
    "])\n",
    "\n",
    "matrix_two = tf.constant([\n",
    "  [2, 2, 2],\n",
    "  [2, 2, 2],\n",
    "  [2, 2, 2],\n",
    "])\n",
    "\n",
    "tf.tensordot(matrix_one, matrix_two, axes=1)"
   ]
  },
  {
   "cell_type": "markdown",
   "metadata": {
    "colab_type": "text",
    "id": "u5sHaOu8NtEZ"
   },
   "source": [
    "This is necessary because by default `*` performs elementwise multiplication:"
   ]
  },
  {
   "cell_type": "code",
   "execution_count": 0,
   "metadata": {
    "colab": {},
    "colab_type": "code",
    "id": "G2PCoCejN7KC"
   },
   "outputs": [],
   "source": [
    "matrix_one = tf.constant([\n",
    "  [2, 2, 2],\n",
    "  [2, 2, 2],\n",
    "  [2, 2, 2],\n",
    "])\n",
    "\n",
    "matrix_two = tf.constant([\n",
    "  [2, 2, 2],\n",
    "  [2, 2, 2],\n",
    "  [2, 2, 2],\n",
    "])\n",
    "\n",
    "matrix_one * matrix_two"
   ]
  },
  {
   "cell_type": "markdown",
   "metadata": {
    "colab_type": "text",
    "id": "fqLMXLStOvFA"
   },
   "source": [
    "Interestingly, `Tensor` objects can also by passed to NumPy functions in some cases:"
   ]
  },
  {
   "cell_type": "code",
   "execution_count": 0,
   "metadata": {
    "colab": {},
    "colab_type": "code",
    "id": "W2GiNUnEO2Gi"
   },
   "outputs": [],
   "source": [
    "import tensorflow as tf\n",
    "import numpy as np\n",
    "\n",
    "matrix_one = tf.constant([\n",
    "  [2, 2, 2],\n",
    "  [2, 2, 2],\n",
    "  [2, 2, 2],\n",
    "])\n",
    "\n",
    "matrix_two = tf.constant([\n",
    "  [2, 2, 2],\n",
    "  [2, 2, 2],\n",
    "  [2, 2, 2],\n",
    "])\n",
    "\n",
    "np.dot(matrix_one, matrix_two)"
   ]
  },
  {
   "cell_type": "markdown",
   "metadata": {
    "colab_type": "text",
    "id": "Af25DbqlpL9P"
   },
   "source": [
    "#### Exercise 2: Linear Equation"
   ]
  },
  {
   "cell_type": "markdown",
   "metadata": {
    "colab_type": "text",
    "id": "xJPDMLjVDLWe"
   },
   "source": [
    "Create a TensorFlow graph that performs the linear equation, `y = mx + b`.\n",
    "\n",
    "*   `m` should be a 0D constant tensor with a value of 12.\n",
    "*   `b` should be a 0D constant tensor with a value of 32.\n",
    "*   `x` should be a 1D constant tensor of shape (5,) and any values you choose.\n",
    "*   `y` should be 1D tensor that receives the result of `mx + b`.\n",
    "\n",
    "Run the equation and print `y`."
   ]
  },
  {
   "cell_type": "markdown",
   "metadata": {
    "colab_type": "text",
    "id": "OeYG9IBhDamd"
   },
   "source": [
    "**Student Solution**"
   ]
  },
  {
   "cell_type": "code",
   "execution_count": 0,
   "metadata": {
    "colab": {},
    "colab_type": "code",
    "id": "toVERAtwtupZ"
   },
   "outputs": [],
   "source": [
    "# Your code goes here"
   ]
  },
  {
   "cell_type": "markdown",
   "metadata": {
    "colab_type": "text",
    "id": "6zpNW7p-OpFG"
   },
   "source": [
    "---"
   ]
  },
  {
   "cell_type": "markdown",
   "metadata": {
    "colab_type": "text",
    "id": "fag329aODDtT"
   },
   "source": [
    "### Extracting Values"
   ]
  },
  {
   "cell_type": "markdown",
   "metadata": {
    "colab_type": "text",
    "id": "1Fkn4SQRuosy"
   },
   "source": [
    "Notice that every value that we have seen so far has been a Tensor. This is fine as long as you are working inside of TensorFlow (and even NumPy) in many cases, but what if you wanted to extract the values in a Tensor out to more standard Python values?\n",
    "\n",
    "For that you can use the `.numpy()` method."
   ]
  },
  {
   "cell_type": "code",
   "execution_count": 0,
   "metadata": {
    "colab": {},
    "colab_type": "code",
    "id": "_ijtHHWMPqiI"
   },
   "outputs": [],
   "source": [
    "tensor = tf.constant([[1, 2], [3, 4]])\n",
    "\n",
    "tensor.numpy()"
   ]
  },
  {
   "cell_type": "markdown",
   "metadata": {
    "colab_type": "text",
    "id": "Y2VadKhFvkzZ"
   },
   "source": [
    "#### Exercise 3: Tensor to Python List\n",
    "\n",
    "In the example above, you found out how to take the values stored in a `Tensor` object and convert them to a NumPy array using the `numpy()` method. In this exercise you'll go one step further and convert the `Tensor` value into a core Python list.\n",
    "\n",
    "**Student Solution**"
   ]
  },
  {
   "cell_type": "code",
   "execution_count": 0,
   "metadata": {
    "colab": {},
    "colab_type": "code",
    "id": "w3Avr5soQ7-x"
   },
   "outputs": [],
   "source": [
    "tensor = tf.constant([[1, 2], [3, 4]])\n",
    "\n",
    "# Extract the values inside the tensor as a Python list stored\n",
    "# in a variable named tensor_values.\n",
    "\n",
    "# Print the type of tensor_values\n",
    "\n",
    "# Print tensor_values"
   ]
  },
  {
   "cell_type": "markdown",
   "metadata": {
    "colab_type": "text",
    "id": "3Q_Yxn-_DII3"
   },
   "source": [
    "---"
   ]
  },
  {
   "cell_type": "markdown",
   "metadata": {
    "colab_type": "text",
    "id": "8ktqaeUlRfKu"
   },
   "source": [
    "### Conclusion"
   ]
  },
  {
   "cell_type": "markdown",
   "metadata": {
    "colab_type": "text",
    "id": "sFj5uq0qRgp1"
   },
   "source": [
    "In this lab we briefly covered TensorFlow versions and introduced you to the concept of tensors. This is just the tip of the iceberg in regard to how to use TensorFlow. In future labs, you'll learn about the TensorFlow Estimator interface and the Keras interface. You'll train models, measure model quality, and use models to make predictions. You'll store model state and load saved models."
   ]
  }
 ],
 "metadata": {
  "colab": {
   "collapsed_sections": [
    "copyright",
    "Enrioe92F6tE"
   ],
   "include_colab_link": true,
   "name": "Introduction to TensorFlow",
   "private_outputs": true,
   "provenance": [],
   "toc_visible": true
  },
  "kernelspec": {
   "display_name": "Python 3",
   "name": "python3"
  }
 },
 "nbformat": 4,
 "nbformat_minor": 0
}
