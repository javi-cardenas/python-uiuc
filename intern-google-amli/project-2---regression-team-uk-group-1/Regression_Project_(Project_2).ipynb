{
  "nbformat": 4,
  "nbformat_minor": 0,
  "metadata": {
    "colab": {
      "name": "Regression Project (Project 2)",
      "private_outputs": true,
      "provenance": [],
      "collapsed_sections": [
        "copyright"
      ],
      "toc_visible": true
    },
    "kernelspec": {
      "name": "python3",
      "display_name": "Python 3"
    },
    "language_info": {
      "name": "python"
    }
  },
  "cells": [
    {
      "cell_type": "markdown",
      "metadata": {
        "id": "copyright"
      },
      "source": [
        "#### Copyright 2020 Google LLC."
      ]
    },
    {
      "cell_type": "code",
      "metadata": {
        "id": "cSdG7cSNFro-"
      },
      "source": [
        "# Licensed under the Apache License, Version 2.0 (the \"License\");\n",
        "# you may not use this file except in compliance with the License.\n",
        "# You may obtain a copy of the License at\n",
        "#\n",
        "# https://www.apache.org/licenses/LICENSE-2.0\n",
        "#\n",
        "# Unless required by applicable law or agreed to in writing, software\n",
        "# distributed under the License is distributed on an \"AS IS\" BASIS,\n",
        "# WITHOUT WARRANTIES OR CONDITIONS OF ANY KIND, either express or implied.\n",
        "# See the License for the specific language governing permissions and\n",
        "# limitations under the License."
      ],
      "execution_count": null,
      "outputs": []
    },
    {
      "cell_type": "markdown",
      "metadata": {
        "id": "_FdRu8E0F6EJ"
      },
      "source": [
        "# Regression Project"
      ]
    },
    {
      "cell_type": "markdown",
      "metadata": {
        "id": "Mm5d3zEpKE00"
      },
      "source": [
        "We have learned about regression and how to build regression models using both scikit-learn and TensorFlow. Now we'll build a regression model from start to finish. We will acquire data and perform exploratory data analysis and data preprocessing. We'll build and tune our model and measure how well our model generalizes."
      ]
    },
    {
      "cell_type": "markdown",
      "metadata": {
        "id": "2iIQ-XduKJZz"
      },
      "source": [
        "## Framing the Problem"
      ]
    },
    {
      "cell_type": "markdown",
      "metadata": {
        "id": "SY3OnPx1zGWa"
      },
      "source": [
        "### Overview"
      ]
    },
    {
      "cell_type": "markdown",
      "metadata": {
        "id": "9JbgK7HnzJD_"
      },
      "source": [
        "*Friendly Insurance, Inc.* has requested we do a study for them to help predict the cost of their policyholders. They have provided us with sample [anonymous data](https://www.kaggle.com/mirichoi0218/insurance) about some of their policyholders for the previous year. The dataset includes the following information:\n",
        "\n",
        "Column   | Description\n",
        "---------|-------------\n",
        "age      | age of primary beneficiary\n",
        "sex      | gender of the primary beneficiary (male or female)\n",
        "bmi      | body mass index of the primary beneficiary\n",
        "children | number of children covered by the plan\n",
        "smoker   | is the primary beneficiary a smoker (yes or no)\n",
        "region   | geographic region of the beneficiaries (northeast, southeast, southwest, or northwest)\n",
        "charges  | costs to the insurance company\n",
        "\n",
        "We have been asked to create a model that, given the first six columns, can predict the charges the insurance company might incur.\n",
        "\n",
        "The company wants to see how accurate we can get with our predictions. If we can make a case for our model, they will provide us with the full dataset of all of their customers for the last ten years to see if we can improve on our model and possibly even predict cost per client year over year."
      ]
    },
    {
      "cell_type": "markdown",
      "metadata": {
        "id": "YqKI2KIe02wc"
      },
      "source": [
        "### Exercise 1: Thinking About the Data\n",
        "\n",
        "Before we dive in to looking closely at the data, let's think about the problem space and the dataset. Consider the questions below."
      ]
    },
    {
      "cell_type": "markdown",
      "metadata": {
        "id": "BjnbH6vp1PEK"
      },
      "source": [
        "#### Question 1"
      ]
    },
    {
      "cell_type": "markdown",
      "metadata": {
        "id": "Fhcs4Keh1Shq"
      },
      "source": [
        "Is this problem actually a good fit for machine learning? Why or why not?\n",
        "\n",
        "##### **Student Solution**"
      ]
    },
    {
      "cell_type": "markdown",
      "metadata": {
        "id": "fhYunBlz1ZMn"
      },
      "source": [
        "> *Yes this problem is a good fit for machine learning because based on past data we can make predictions on company costs. use the data provided to guess costs. Given these constraints we can weigh each input accordingly and apply a model and test how accurate our model is in predicting costs."
      ]
    },
    {
      "cell_type": "markdown",
      "metadata": {
        "id": "qJgwg-dL1cKm"
      },
      "source": [
        "---"
      ]
    },
    {
      "cell_type": "markdown",
      "metadata": {
        "id": "1q9C-k7o4A2g"
      },
      "source": [
        "#### Question 2"
      ]
    },
    {
      "cell_type": "markdown",
      "metadata": {
        "id": "O4F3Ezrc4DRb"
      },
      "source": [
        "If we do build the machine learning model, what biases might exist in the data? Is there anything that might cause the model to have trouble generalizing to other data? If so, how might we make the model more resilient?\n",
        "\n",
        "##### **Student Solution**"
      ]
    },
    {
      "cell_type": "markdown",
      "metadata": {
        "id": "grZRXJkr4Myz"
      },
      "source": [
        "> *Some biases in the data may include limiting the amount of children options as a family with more children may pay more per child. The model may have trouble generalizing to other data due to no spcifications of the type of insurance plan. Including type and what is included based on needs or illness can help specify the charges.*"
      ]
    },
    {
      "cell_type": "markdown",
      "metadata": {
        "id": "bMk4NdcZ4PyG"
      },
      "source": [
        "---"
      ]
    },
    {
      "cell_type": "markdown",
      "metadata": {
        "id": "8LtrUiMk4wIg"
      },
      "source": [
        "#### Question 3"
      ]
    },
    {
      "cell_type": "markdown",
      "metadata": {
        "id": "oHHdnVjS446h"
      },
      "source": [
        "We have been asked to take input features about people who are insured and predict costs, but we haven't been given much information about how these predictions will be used. What effect might our predictions have on decisions made by the insurance company? How might this affect the insured?\n",
        "\n",
        "##### **Student Solution**"
      ]
    },
    {
      "cell_type": "markdown",
      "metadata": {
        "id": "s6tiq72L5Q11"
      },
      "source": [
        "> *Our predictions made could cause the insurance to unfairly charge more to a certain group when it is not nessecary or it could cause the the insurance to think they do not have to pay as much leaving more individuals to pay out of pocket when they shouldn't.*"
      ]
    },
    {
      "cell_type": "markdown",
      "metadata": {
        "id": "9LojR01P5TYf"
      },
      "source": [
        "---"
      ]
    },
    {
      "cell_type": "markdown",
      "metadata": {
        "id": "GVqj4S4tytvn"
      },
      "source": [
        "## Exploratory Data Analysis"
      ]
    },
    {
      "cell_type": "markdown",
      "metadata": {
        "id": "IAr2H2CJ60WX"
      },
      "source": [
        "Now that we have considered the societal implications of our model, we can start looking at the data to get a better understanding of what we are working with.\n",
        "\n",
        "The data we'll be using for this project can be [found on Kaggle](https://www.kaggle.com/mirichoi0218/insurance). Upload your `kaggle.json` file and run the code block below."
      ]
    },
    {
      "cell_type": "code",
      "metadata": {
        "id": "NiXw-ACkKlCT"
      },
      "source": [
        "! chmod 600 kaggle.json && (ls ~/.kaggle 2>/dev/null || mkdir ~/.kaggle) && mv kaggle.json ~/.kaggle/ && echo 'Done'"
      ],
      "execution_count": null,
      "outputs": []
    },
    {
      "cell_type": "markdown",
      "metadata": {
        "id": "CpYSfwuT8N3B"
      },
      "source": [
        "### Exercise 2: EDA and Data Preprocessing"
      ]
    },
    {
      "cell_type": "markdown",
      "metadata": {
        "id": "RgjffxoV7kxc"
      },
      "source": [
        "Using as many code and text blocks as you need, download the dataset, explore it, and do any model-independent preprocessing that you think is necessary. Feel free to use any of the tools for data analysis and visualization that we have covered in this course so far. Be sure to do individual column analysis and cross-column analysis. Explain your findings."
      ]
    },
    {
      "cell_type": "markdown",
      "metadata": {
        "id": "hIfb22Iq8Asx"
      },
      "source": [
        "#### **Student Solution**"
      ]
    },
    {
      "cell_type": "markdown",
      "metadata": {
        "id": "-4mckAmc0v3g"
      },
      "source": [
        "##### Import Dataset"
      ]
    },
    {
      "cell_type": "code",
      "metadata": {
        "id": "2WOAqQdSjn6X"
      },
      "source": [
        "import pandas as pd\n",
        "import numpy as np\n",
        "import matplotlib.pyplot as plt\n",
        "import zipfile\n",
        "import os\n",
        "from collections import Counter\n",
        "\n",
        "with zipfile.ZipFile('insurance.zip','r') as z:\n",
        "  z.extractall('./')\n",
        "os.listdir()\n",
        "\n",
        "insurance_df = pd.read_csv('insurance.csv')\n",
        "insurance_df"
      ],
      "execution_count": null,
      "outputs": []
    },
    {
      "cell_type": "markdown",
      "metadata": {
        "id": "cdRv81cz2A_c"
      },
      "source": [
        "#### Import TensorFlow"
      ]
    },
    {
      "cell_type": "code",
      "metadata": {
        "id": "Ms8crLF9olg0"
      },
      "source": [
        "%tensorflow_version 2.x\n",
        "\n",
        "import tensorflow as tf\n",
        "tf.__version__"
      ],
      "execution_count": null,
      "outputs": []
    },
    {
      "cell_type": "markdown",
      "metadata": {
        "id": "VbWPkCO106fJ"
      },
      "source": [
        "##### Missing Data"
      ]
    },
    {
      "cell_type": "code",
      "metadata": {
        "id": "q1DaUcrYkmDb"
      },
      "source": [
        "# No missing data\n",
        "insurance_df.isnull().all()"
      ],
      "execution_count": null,
      "outputs": []
    },
    {
      "cell_type": "markdown",
      "metadata": {
        "id": "zjKnDCk20-zG"
      },
      "source": [
        "##### Examine Data and Correlations"
      ]
    },
    {
      "cell_type": "code",
      "metadata": {
        "id": "ku0jP66foI5r"
      },
      "source": [
        "for region in sorted(insurance_df['region'].unique()):\n",
        "  print(region)\n",
        "\n",
        "insurance_df.describe()"
      ],
      "execution_count": null,
      "outputs": []
    },
    {
      "cell_type": "code",
      "metadata": {
        "id": "Lu2wH-VZLWut"
      },
      "source": [
        "import seaborn as sns\n",
        "\n",
        "corr_axes = []\n",
        "for i in range(len(insurance_df.corr())):\n",
        "  corr_axes.append(insurance_df.corr().columns[i])\n",
        "\n",
        "sns.heatmap(\n",
        "    insurance_df.corr(),\n",
        "    yticklabels=corr_axes,\n",
        "    xticklabels=corr_axes,\n",
        "    cmap='coolwarm',\n",
        ")"
      ],
      "execution_count": null,
      "outputs": []
    },
    {
      "cell_type": "markdown",
      "metadata": {
        "id": "Vy74MG7E1UVz"
      },
      "source": [
        "##### Features and Targets"
      ]
    },
    {
      "cell_type": "code",
      "metadata": {
        "id": "eEh_BJTW1UV0"
      },
      "source": [
        "target_column = 'charges'\n",
        "feature_columns = [c for c in insurance_df.columns if c != target_column]\n",
        "numeric_feature_columns = [c for c in feature_columns if c != 'sex' and c != 'smoker' and c != 'region']\n",
        "\n",
        "target_column, feature_columns, numeric_feature_columns"
      ],
      "execution_count": null,
      "outputs": []
    },
    {
      "cell_type": "markdown",
      "metadata": {
        "id": "cQW3gqZ21UV1"
      },
      "source": [
        "##### Standardize Data"
      ]
    },
    {
      "cell_type": "code",
      "metadata": {
        "id": "mnbc_dyY1UV1"
      },
      "source": [
        "insurance_df.loc[:, numeric_feature_columns] = (\n",
        "    insurance_df[numeric_feature_columns] - \n",
        "      insurance_df[numeric_feature_columns].mean()) / (\n",
        "          insurance_df[numeric_feature_columns].std())\n",
        "\n",
        "insurance_df[numeric_feature_columns].describe()"
      ],
      "execution_count": null,
      "outputs": []
    },
    {
      "cell_type": "markdown",
      "metadata": {
        "id": "5bnz-DoI1csd"
      },
      "source": [
        ""
      ]
    },
    {
      "cell_type": "markdown",
      "metadata": {
        "id": "KL2MxJfx0LQC"
      },
      "source": [
        "##### Features and Targets"
      ]
    },
    {
      "cell_type": "code",
      "metadata": {
        "id": "EpSAWXKoOTLD"
      },
      "source": [
        "target_column = 'charges'\n",
        "feature_columns = [c for c in insurance_df.columns if c != target_column]\n",
        "numeric_feature_columns = [c for c in feature_columns if c != 'sex' and c != 'smoker' and c != 'region']\n",
        "\n",
        "target_column, feature_columns, numeric_feature_columns"
      ],
      "execution_count": null,
      "outputs": []
    },
    {
      "cell_type": "markdown",
      "metadata": {
        "id": "TW_NCdt00gCy"
      },
      "source": [
        "##### One-Hot Encoding"
      ]
    },
    {
      "cell_type": "code",
      "metadata": {
        "id": "eopDn8C9pB40"
      },
      "source": [
        "# sex\n",
        "for op in sorted(insurance_df['sex'].unique()):\n",
        "  op_col = op.lower().replace(' ', '_').replace('<', '')\n",
        "  insurance_df[op_col] = (insurance_df['sex'] == op).astype(int)\n",
        "  feature_columns.append(op_col)\n",
        "\n",
        "feature_columns.remove('sex')\n",
        "\n",
        "# smoker\n",
        "for op in sorted(insurance_df['smoker'].unique()):\n",
        "  op_col = op.lower().replace(' ', '_').replace('<', '')\n",
        "  insurance_df[op_col] = (insurance_df['smoker'] == op).astype(int)\n",
        "  feature_columns.append(op_col)\n",
        "\n",
        "feature_columns.remove('smoker')\n",
        "\n",
        "# regions\n",
        "for op in sorted(insurance_df['region'].unique()):\n",
        "  op_col = op.lower().replace(' ', '_').replace('<', '')\n",
        "  insurance_df[op_col] = (insurance_df['region'] == op).astype(int)\n",
        "  feature_columns.append(op_col)\n",
        "\n",
        "feature_columns.remove('region')\n",
        "\n",
        "insurance_df"
      ],
      "execution_count": null,
      "outputs": []
    },
    {
      "cell_type": "markdown",
      "metadata": {
        "id": "jUo4DgfD8T7B"
      },
      "source": [
        "---"
      ]
    },
    {
      "cell_type": "markdown",
      "metadata": {
        "id": "Ac-YMzcBy1yM"
      },
      "source": [
        "## Modeling"
      ]
    },
    {
      "cell_type": "markdown",
      "metadata": {
        "id": "Mp3TkmalNcR-"
      },
      "source": [
        "Now that we understand our data a little better, we can build a model. We are trying to predict 'charges', which is a continuous variable. We'll use a regression model to predict 'charges'."
      ]
    },
    {
      "cell_type": "markdown",
      "metadata": {
        "id": "Cnc7Y47bIQG5"
      },
      "source": [
        "Using as many code and text blocks as you need, build a model that can predict 'charges' given the features that we have available. To do this, feel free to use any of the toolkits and models that we have explored so far.\n",
        "\n",
        "You'll be expected to:\n",
        "1. Prepare the data for the model (or models) that you choose. Remember that some of the data is categorical. In order for your model to use it, you'll need to convert the data to some numeric representation.\n",
        "1. Build a model or models and adjust parameters.\n",
        "1. Validate your model with holdout data. Hold out some percentage of your data (10-20%), and use it as a final validation of your model. Print the root mean squared error. We were able to get an RMSE between `3500` and `4000`, but your final RMSE will likely be different."
      ]
    },
    {
      "cell_type": "markdown",
      "metadata": {
        "id": "nmlwZpbUIHQZ"
      },
      "source": [
        "### Exercise 3: Modeling"
      ]
    },
    {
      "cell_type": "markdown",
      "metadata": {
        "id": "YjSCGA7HryJh"
      },
      "source": [
        "#### **Student Solution**"
      ]
    },
    {
      "cell_type": "markdown",
      "metadata": {
        "id": "OaROEN_x1t1W"
      },
      "source": [
        "##### Shuffle and Split Data"
      ]
    },
    {
      "cell_type": "code",
      "metadata": {
        "id": "ql19zKMPn-PX"
      },
      "source": [
        "# Shuffle\n",
        "insurance_df = insurance_df.sample(frac=1)\n",
        "\n",
        "# Calculate test set size\n",
        "test_set_size = int(len(insurance_df) * 0.2)\n",
        "\n",
        "# Split the data\n",
        "testing_df = insurance_df[:test_set_size]\n",
        "training_df = insurance_df[test_set_size:]\n",
        "\n",
        "print(f'Holding out {len(testing_df)} records for testing. ')\n",
        "print(f'Using {len(training_df)} records for training.')"
      ],
      "execution_count": null,
      "outputs": []
    },
    {
      "cell_type": "markdown",
      "metadata": {
        "id": "B5biBtBo27j6"
      },
      "source": [
        "##### Create Model"
      ]
    },
    {
      "cell_type": "code",
      "metadata": {
        "id": "3r0754r5ov8q"
      },
      "source": [
        "from tensorflow import keras\n",
        "from tensorflow.keras import layers\n",
        "\n",
        "# Create the Sequential model.\n",
        "model = keras.Sequential()\n",
        "\n",
        "# Determine the \"input shape\", which is the number\n",
        "# of features that we will feed into the model.\n",
        "input_shape = len(feature_columns)\n",
        "\n",
        "# Create a layer that accepts our features and outputs\n",
        "# a single value, the predicted median home price.\n",
        "layer = layers.Dense(1, input_shape=[input_shape])\n",
        "\n",
        "# Add the layer to our model.\n",
        "model.add(layer)\n",
        "\n",
        "# Print out a model summary with the only 1 layer.\n",
        "\n",
        "model = keras.Sequential(layers=[\n",
        "    layers.Dense(\n",
        "        1,\n",
        "        input_shape=[len(feature_columns)],\n",
        "        # Name your layer here\n",
        "        name = 'the_only_layer'\n",
        "    )\n",
        "])\n",
        "\n",
        "model.summary()"
      ],
      "execution_count": null,
      "outputs": []
    },
    {
      "cell_type": "markdown",
      "metadata": {
        "id": "hKuPM0QGvsIU"
      },
      "source": [
        "##### Activation Function"
      ]
    },
    {
      "cell_type": "code",
      "metadata": {
        "id": "Qoso1znpti-B"
      },
      "source": [
        "from tensorflow import keras\n",
        "from tensorflow.keras import layers\n",
        "\n",
        "feature_count = len(feature_columns)\n",
        "\n",
        "model = keras.Sequential([\n",
        "  layers.Dense(100, input_shape=[feature_count], activation='exponential'),\n",
        "  layers.Dense(100, activation='exponential'),\n",
        "  layers.Dense(1)\n",
        "])\n",
        "\n",
        "model.summary()"
      ],
      "execution_count": null,
      "outputs": []
    },
    {
      "cell_type": "markdown",
      "metadata": {
        "id": "L2zrAq8g3RZr"
      },
      "source": [
        "##### Compile"
      ]
    },
    {
      "cell_type": "code",
      "metadata": {
        "id": "ZdPp5PDQrdtL"
      },
      "source": [
        "model.compile(\n",
        "  loss='mse',\n",
        "  optimizer='Adam',\n",
        "  metrics=['mae', 'mse'],\n",
        ")\n",
        "\n",
        "model.summary()"
      ],
      "execution_count": null,
      "outputs": []
    },
    {
      "cell_type": "markdown",
      "metadata": {
        "id": "0IoGkhGC3aBZ"
      },
      "source": [
        "##### EPOCHS"
      ]
    },
    {
      "cell_type": "code",
      "metadata": {
        "id": "LQ15d5cFridt"
      },
      "source": [
        "EPOCHS = 100\n",
        "\n",
        "model.fit(\n",
        "  training_df[feature_columns],\n",
        "  training_df[target_column],\n",
        "  epochs=EPOCHS,\n",
        "  validation_split=0.2,\n",
        ")"
      ],
      "execution_count": null,
      "outputs": []
    },
    {
      "cell_type": "markdown",
      "metadata": {
        "id": "cSewOm4d3dXM"
      },
      "source": [
        "##### Predictions"
      ]
    },
    {
      "cell_type": "code",
      "metadata": {
        "id": "28KkFetCrn9O"
      },
      "source": [
        "predictions = model.predict(testing_df[feature_columns])\n",
        "\n",
        "predictions"
      ],
      "execution_count": null,
      "outputs": []
    },
    {
      "cell_type": "markdown",
      "metadata": {
        "id": "gEm2xppsvmCN"
      },
      "source": [
        "##### RMSE"
      ]
    },
    {
      "cell_type": "code",
      "metadata": {
        "id": "QChjLzJZrtAj"
      },
      "source": [
        "from sklearn.metrics import mean_squared_error\n",
        "\n",
        "RMSE = mean_squared_error(predictions, testing_df[target_column], squared=False)\n",
        "\n",
        "RMSE"
      ],
      "execution_count": null,
      "outputs": []
    },
    {
      "cell_type": "markdown",
      "metadata": {
        "id": "LE0etIxF7hxi"
      },
      "source": [
        "###### **Image of our best result**"
      ]
    },
    {
      "cell_type": "markdown",
      "metadata": {
        "id": "lMc9Xx967MkU"
      },
      "source": [
        "![Screen Shot 2021-06-25 at 4.47.14 PM.png](data:image/png;base64,iVBORw0KGgoAAAANSUhEUgAABnIAAAGACAYAAACZRfyYAAAMbWlDQ1BJQ0MgUHJvZmlsZQAASImVVwdYU8kWnluSkJCEEkBASuhNkE4AKSG0ANKLYCMkgYQSY0JQsaOLCq5dRLGiqyKKbQXEjl1ZFHtfLKgo66IuNlTehAR03Ve+d75v7v1z5sx/yp3JvQcArQ88qTQf1QagQFIoS4wIYY5Kz2CSOgARYIAOtIE/jy+XsuPjYwCUgfvf5d0NgCjvV52VXP+c/6+iKxDK+QAgYyDOEsj5BRAfBwBfy5fKCgEgKvVWkwqlSjwLYj0ZDBDiFUqco8LblThLhQ/32yQnciC+DIAGlceT5QBAvwf1zCJ+DuShf4bYVSIQSwDQGgZxIF/EE0CsjH1YQcEEJa6E2B7aSyGG8QBW1necOX/jzxrk5/FyBrEqr37RCBXLpfm8Kf9naf63FOQrBnzYwkEVySITlfnDGt7KmxCtxFSIuyRZsXHKWkP8QSxQ1R0AlCJSRKao7FETvpwD6wcMIHYV8EKjITaBOFySHxuj1mdli8O5EMPdgk4WF3KTITaEeL5QHpakttkom5Co9oXWZ8s4bLX+HE/W71fp64EiL4Wt5n8jEnLV/Bi9WJScBjEFYusicWosxHSIXeR5SdFqmxHFIk7sgI1MkaiM3xriRKEkIkTFjxVly8IT1fZlBfKBfLGNIjE3Vo33FYqSI1X1wU7xef3xw1ywy0IJO2WARygfFTOQi0AYGqbKHXsulKQkqXk+SAtDElVrcYo0P15tj1sK8yOUekuIPeVFSeq1eGoh3JwqfjxbWhifrIoTL87lRcWr4sGXgBjAAaGACRRwZIEJIBeIW7sauuAv1Uw44AEZyAFC4KzWDKxI65+RwGsSKAZ/QCQE8sF1If2zQlAE9V8GtaqrM8juny3qX5EHnkJcAKJBPvyt6F8lGfSWCp5Ajfgf3nlw8GG8+XAo5/+9fkD7TcOGmhi1RjHgkak1YEkMI4YSI4nhRAfcGA/E/fEYeA2Gwx1n4b4DeXyzJzwltBEeEa4T2gm3x4tLZD9EORK0Q/5wdS2yvq8Fbgs5vfAQPACyQ2bcADcGzrgn9MPGg6BnL6jlqONWVoX5A/ffMvjuaajtyK5klDyEHEy2/3El3ZHuNciirPX39VHFmjVYb87gzI/+Od9VXwDv0T9aYvOx/dhZ7AR2HjuMNQAmdgxrxFqwI0o8uLue9O+uAW+J/fHkQR7xP/zx1D6VlZS71rp2un5WzRUKJxcqDx5ngnSKTJwjKmSy4dtByORK+C7DmO6u7m4AKN81qr+vtwn97xDEoOWbbs7vAAQc6+vrO/RNF3UMgL0+8Pgf/KazZwGgownAuYN8haxIpcOVFwL8l9CCJ80ImAErYA/zcQfewB8EgzAQBeJAMkgH42CVRXCfy8AkMA3MBqWgHCwBK8EasAFsBtvBLrAPNIDD4AQ4Ay6Cy+A6uAt3Twd4CbrBO9CLIAgJoSEMxAgxR2wQJ8QdYSGBSBgSgyQi6UgmkoNIEAUyDZmDlCPLkDXIJqQG2YscRE4g55E25DbyEOlE3iCfUAylonqoKWqLDkdZKBuNRpPRsWgOOhEtRueii9BKtBrdidajJ9CL6HW0HX2J9mAA08QMMAvMGWNhHCwOy8CyMRk2AyvDKrBqrA5rgs/5KtaOdWEfcSLOwJm4M9zBkXgKzscn4jPwhfgafDtej5/Cr+IP8W78K4FGMCE4EfwIXMIoQg5hEqGUUEHYSjhAOA3PUgfhHZFINCDaEX3gWUwn5hKnEhcS1xF3E48T24iPiT0kEsmI5EQKIMWReKRCUilpNWkn6RjpCqmD9EFDU8Ncw10jXCNDQ6JRolGhsUPjqMYVjWcavWRtsg3ZjxxHFpCnkBeTt5CbyJfIHeReig7FjhJASabkUmZTKil1lNOUe5S3mpqalpq+mgmaYs1ZmpWaezTPaT7U/EjVpTpSOdQxVAV1EXUb9Tj1NvUtjUazpQXTMmiFtEW0GtpJ2gPaBzqD7kLn0gX0mfQqej39Cv2VFlnLRoutNU6rWKtCa7/WJa0ubbK2rTZHm6c9Q7tK+6D2Te0eHYaOm06cToHOQp0dOud1nuuSdG11w3QFunN1N+ue1H3MwBhWDA6Dz5jD2MI4zejQI+rZ6XH1cvXK9Xbptep16+vqe+qn6k/Wr9I/ot9ugBnYGnAN8g0WG+wzuGHwaYjpEPYQ4ZAFQ+qGXBny3nCoYbCh0LDMcLfhdcNPRkyjMKM8o6VGDUb3jXFjR+ME40nG641PG3cN1RvqP5Q/tGzovqF3TFATR5NEk6kmm01aTHpMzUwjTKWmq01PmnaZGZgFm+WarTA7atZpzjAPNBebrzA/Zv6Cqc9kM/OZlcxTzG4LE4tIC4XFJotWi15LO8sUyxLL3Zb3rShWLKtsqxVWzVbd1ubWI62nWdda37Eh27BsRDarbM7avLe1s02znWfbYPvcztCOa1dsV2t3z55mH2Q/0b7a/poD0YHlkOewzuGyI+ro5ShyrHK85IQ6eTuJndY5tQ0jDPMdJhlWPeymM9WZ7VzkXOv80MXAJcalxKXB5dVw6+EZw5cOPzv8q6uXa77rFte7brpuUW4lbk1ub9wd3fnuVe7XPGge4R4zPRo9Xns6eQo913ve8mJ4jfSa59Xs9cXbx1vmXefd6WPtk+mz1ucmS48Vz1rIOudL8A3xnel72Pejn7dfod8+vz/9nf3z/Hf4Px9hN0I4YsuIxwGWAbyATQHtgczAzMCNge1BFkG8oOqgR8FWwYLgrcHP2A7sXPZO9qsQ1xBZyIGQ9xw/znTO8VAsNCK0LLQ1TDcsJWxN2INwy/Cc8Nrw7giviKkRxyMJkdGRSyNvck25fG4NtzvKJ2p61KloanRS9JroRzGOMbKYppHoyKiRy0fei7WJlcQ2xIE4btzyuPvxdvET4w8lEBPiE6oSnia6JU5LPJvESBqftCPpXXJI8uLkuyn2KYqU5lSt1DGpNanv00LTlqW1jxo+avqoi+nG6eL0xgxSRmrG1oye0WGjV47uGOM1pnTMjbF2YyePPT/OeFz+uCPjtcbzxu/PJGSmZe7I/MyL41XzerK4WWuzuvkc/ir+S0GwYIWgUxggXCZ8lh2QvSz7eU5AzvKcTlGQqELUJeaI14hf50bmbsh9nxeXty2vLz8tf3eBRkFmwUGJriRPcmqC2YTJE9qkTtJSaftEv4krJ3bLomVb5Yh8rLyxUA9+1Lco7BU/KR4WBRZVFX2YlDpp/2SdyZLJLVMcpyyY8qw4vPiXqfhU/tTmaRbTZk97OJ09fdMMZEbWjOaZVjPnzuyYFTFr+2zK7LzZv5W4liwr+WtO2pymuaZzZ819/FPET7Wl9FJZ6c15/vM2zMfni+e3LvBYsHrB1zJB2YVy1/KK8s8L+Qsv/Oz2c+XPfYuyF7Uu9l68fglxiWTJjaVBS7cv01lWvOzx8pHL61cwV5St+Gvl+JXnKzwrNqyirFKsaq+MqWxcbb16yerPa0RrrleFVO1ea7J2wdr36wTrrqwPXl+3wXRD+YZPG8Ubb22K2FRfbVtdsZm4uWjz0y2pW87+wvqlZqvx1vKtX7ZJtrVvT9x+qsanpmaHyY7FtWitorZz55idl3eF7mqsc67btNtgd/kesEex58XezL039kXva97P2l/3q82vaw8wDpTVI/VT6rsbRA3tjemNbQejDjY3+TcdOORyaNthi8NVR/SPLD5KOTr3aN+x4mM9x6XHu07knHjcPL757slRJ6+dSjjVejr69Lkz4WdOnmWfPXYu4Nzh837nD15gXWi46H2xvsWr5cBvXr8daPVurb/kc6nxsu/lprYRbUevBF05cTX06plr3GsXr8deb7uRcuPWzTE3228Jbj2/nX/79Z2iO713Z90j3Cu7r32/4oHJg+rfHX7f3e7dfuRh6MOWR0mP7j7mP375RP7kc8fcp7SnFc/Mn9U8d39+uDO88/KL0S86Xkpf9naV/qHzx9pX9q9+/TP4z5buUd0dr2Wv+94sfGv0dttfnn8198T3PHhX8K73fdkHow/bP7I+nv2U9ulZ76TPpM+VXxy+NH2N/nqvr6CvT8qT8fo/BTA40OxsAN5sA4CWDgAD9m2U0apesF8QVf/aj8B/wqp+sV+8AaiD3+8JXfDr5iYAe7bA9gvya8FeNZ4GQLIvQD08Boda5Nke7iouKuxTCA/6+t7Cno20HIAvS/r6eqv7+r5shsHC3vG4RNWDKoUIe4aNYV+yCrLAvxFVf/pdjj/egTICT/Dj/V/Lv5DFCnSeGAAAAIplWElmTU0AKgAAAAgABAEaAAUAAAABAAAAPgEbAAUAAAABAAAARgEoAAMAAAABAAIAAIdpAAQAAAABAAAATgAAAAAAAACQAAAAAQAAAJAAAAABAAOShgAHAAAAEgAAAHigAgAEAAAAAQAABnKgAwAEAAAAAQAAAYAAAAAAQVNDSUkAAABTY3JlZW5zaG907sSKaAAAAAlwSFlzAAAWJQAAFiUBSVIk8AAAAddpVFh0WE1MOmNvbS5hZG9iZS54bXAAAAAAADx4OnhtcG1ldGEgeG1sbnM6eD0iYWRvYmU6bnM6bWV0YS8iIHg6eG1wdGs9IlhNUCBDb3JlIDYuMC4wIj4KICAgPHJkZjpSREYgeG1sbnM6cmRmPSJodHRwOi8vd3d3LnczLm9yZy8xOTk5LzAyLzIyLXJkZi1zeW50YXgtbnMjIj4KICAgICAgPHJkZjpEZXNjcmlwdGlvbiByZGY6YWJvdXQ9IiIKICAgICAgICAgICAgeG1sbnM6ZXhpZj0iaHR0cDovL25zLmFkb2JlLmNvbS9leGlmLzEuMC8iPgogICAgICAgICA8ZXhpZjpQaXhlbFlEaW1lbnNpb24+Mzg0PC9leGlmOlBpeGVsWURpbWVuc2lvbj4KICAgICAgICAgPGV4aWY6UGl4ZWxYRGltZW5zaW9uPjE2NTA8L2V4aWY6UGl4ZWxYRGltZW5zaW9uPgogICAgICAgICA8ZXhpZjpVc2VyQ29tbWVudD5TY3JlZW5zaG90PC9leGlmOlVzZXJDb21tZW50PgogICAgICA8L3JkZjpEZXNjcmlwdGlvbj4KICAgPC9yZGY6UkRGPgo8L3g6eG1wbWV0YT4Kh8gZuQAAABxpRE9UAAAAAgAAAAAAAADAAAAAKAAAAMAAAADAAABXpKlUXvgAAEAASURBVHgB7N0HnBRF2sfxhyBiQhHFACIiZsGM6QwnmMOJYg6nokRFUTFgwgQGzIqgHCoGxJwwgqfIa0LPLBgRBAVUEBFFgrzzr7Xamt6Z3tnd2Z1h91d+ZHq6q7urvz3TPVtPV1WdHXbYYYmREEAAAQQQQAABBBBAAAEEEEAAAQQQQAABBBBAAAEEik6gDoGcojsnFAgBBBBAAAEEEEAAAQQQQAABBBBAAAEEEEAAAQQQcAIEcvggIIAAAggggAACCCCAAAIIIIAAAggggAACCCCAAAJFKkAgp0hPDMVCAAEEEEAAAQQQQAABBBBAAAEEEEAAAQQQQAABBAjk8BlAAAEEEEAAAQQQQAABBBBAAAEEEEAAAQQQQAABBIpUgEBOkZ4YioUAAggggAACCCCAAAIIIIAAAggggAACCCCAAAIIEMjhM4AAAggggAACCCCAAAIIIIAAAggggAACCCCAAAIIFKkAgZwiPTEUCwEEEEAAAQQQQAABBBBAAAEEEEAAAQQQQAABBBAgkMNnAAEEEEAAAQQQQAABBBBAAAEEEEAAAQQQQAABBBAoUgECOUV6YigWAggggAACCCCAAAIIIIAAAggggAACCCCAAAIIIEAgh88AAggggAACCCCAAAIIIIAAAggggAACCCCAAAIIIFCkAgRyivTEUCwEEEAAAQQQQAABBBBAAAEEEEAAAQQQQAABBBBAgEAOnwEEEEAAAQQQQAABBBBAAAEEEEAAAQQQQAABBBBAoEgFCOQU6YmhWAgggAACCCCAAAIIIIAAAggggAACCCCAAAIIIIBAmYGclVZayVZdddWsUgsXLrTp06fbn3/+mTVPuGC11VazFVZYIZo1e/Zs++WXX6L3uU7UrVvX1llnnbTs3377bZnlWHHFFa1Vq1bWsmVLa9Kkic2ZM8dmzJhh//vf/+z3339P2178Tbzs8eXZ3s+fP9/tI9ty5iOAAAIIIIAAAggggAACCCCAAAIIIIAAAggggAACmQTKDOT07dvX1l9//Uzrps1btGiRzZ0711566SV74YUX0paFb2677TZr2LBhNEuBnLPPPjt6n+vE3nvvbYcffnha9iFDhtjbb7+dNs+/UfDm5JNPtjXWWMPPSntdsmSJC0gNHTrUvvnmm7Rl/k287H5+Wa+LFy+2Ll26lJWN5QgggAACCCCAAAIIIIAAAggggAACCCCAAAIIIIBAmkDeAjnhVn/77TcbNGiQTZgwIZztpjMFQy655BKbOnVqqbxJM6699tpSLYWyBXIURNl+++2TNhctU0Dn+eeft0ceeSSa5ycyld0vS3olkJOkwzIEEEAAAQQQQAABBBBAAAEEEEAAAQQQQAABBBDIJlDuQI66IgtTgwYNXAubOnXqhLNNLXR69+5tCuqEKVMw5OOPP7YbbrghzJY43bx5c7v00ktL5ckUyOnUqZPtu+++aXl//fVX+/77710LosaNG9taa62V1kpImUeMGGGjR49OWy8su7qSUwukXJLyKVhFQgABBBBAAAEEEEAAAQQQQAABBBBAAAEEEEAAAQTKI1CuQM6CBQuse/fuGbffrl07O+6442z55ZePlk+ZMqVUwCUMhviMCop069bN1HIll3T66adb27ZtS2WNB3Lq1atnmueDTGptM2zYMHv99ddLrXvQQQeZ/vd5VSYdqwJSPoVlnzRpkl1xxRV+Ea8IIIAAAggggAACCCCAAAIIIIAAAggggAACCCCAQN4F8hbIUcmWW245u/HGG61+/fquoAqcaFyaMIXBkHC+ujJ77rnnwlkZpxWcGTx4sNWtW7fU8nggp0OHDnbUUUdF+UaNGmWPPfZY9D4+ceyxx9o///nPaPbTTz9tTzzxRPQ+LDuBnIiFCQQQQAABBBBAAAEEEEAAAQQQQAABBBBAAAEEEKgigbwGclTGjh072gEHHBAVNz7+TRgMiTKlJn7++Wc766yzwlkZp/fZZx877LDDMi6LB3LiY+OceeaZFu8aLtyQWuPceeedUauczz77zK655pooS1h2AjkRCxMIIIAAAggggAACCCCAAAIIIIAAAggggAACCCBQRQJ5D+RsttlmpoCJT/GxZsJgyE8//WRNmjTxWV03bOqOLSkNHDjQNK6NkoIyjRo1igIv8UBOvIWNxtUpa/sDBgywVVZZxW3/888/Txu7Jyw7gRxHxD8IIIAAAggggAACCCCAAAIIIIAAAggggAACCCBQhQJ5D+Rsu+22aePo3H///fbyyy9HhxAGQ1599VXbddddo0DMxx9/nBY4iVb6a6J58+ZpY+6om7RDDjkkyhYP5Gy11VZ26qmnRsunT59uF1xwQfS+vBNh2QnklFeP/AgggAACCCCAAAIIIIAAAggggAACCCCAAAIIIFBegbwHchQ4UQDFp8suu8wmT57s31oYDHnttddstdVWs0022cQt//PPP61bt262ePHiKH84ccYZZ1ibNm2ivN27dzcFb3yKB3KWWWYZu/XWW6Mxe5RPXbgpn1rblDeFZSeQU1498iOAAAIIIIAAAggggAACCCCAAAIIIIAAAggggEB5BfIayNlmm22sR48eURkWLFjg3i9ZsiSaFwZD3nrrLXvhhRfs4osvjpY/+uij9uyzz0bv/US9evVs8ODBVrduXTdLrXcGDRrk/vd54oEczY+3yvF5f/nlFxs/frw9//zzNmvWLD878TUsu9YfO3ZsYn4tfP/9901BHxICCCCAAAIIIIAAAggggAACCCCAAAIIIIAAAgggUF6BcgVyFi5caKeffnraPjSeTKtWrWz33Xe31q1bpy178skn7amnnkqbFwZD3nvvPddi5vrrr7eVV17Z5VOLmbPOOittHb3ZZ5997LDDDovmX3LJJaZgyg033BDNyxTI0cIOHTrYkUceGXXhFq3w14S28+KLL7qgkloFZUth2bPlic9/4403bOjQofHZvEcAAQQQQAABBBBAAAEEEEAAAQQQQAABBBBAAAEEyhQoVyCnzK0FGbIFMMJgiB8TZ99997VOnTpFa1966aU2ZcqU6L0mBg4caI0bN3bz1IKmT58+1rRpUxswYECUL1sgRxnUhVvnzp1tgw02yBrQWbRokanc99xzj4WtiPwOwrL7eWW9ZnMoaz2WI4AAAggggAACCCCAAAIIIIAAAggggAACCCCAAAJ5D+T88ccfdvPNN9vEiRMz6obBkM8++8yuueYay9RtWtjSpkWLFqYWOD6NHDnStaCJz08K5Ph1V1ppJevYsaPrcq1Ro0Z+dtrrnDlz7MILL7TffvstbX5Ydh3nhAkT0pZnejNu3DhTyyMSAggggAACCCCAAAIIIIAAAggggAACCCCAAAIIIFBegXIHcubPn5+2D41Z06BBg2jef//7X7vvvvui9/GJMBjy9ddf25VXXumy9OrVy7bYYgs3re7NunXrZosXL3bve/fubZtvvrmb1jwtUx61rjnvvPPcfP2TSyAnypyaUCud/fff37bddltbfvnlw0X2448/2rnnnps2Lyy7xr254oor0pbzBgEEEEAAAQQQQAABBBBAAAEEEEAAAQQQQAABBBDIp0C5AjkLFiyw7t27p+1fgZxbb73Vll12WTdfARaNoxNvzeJXyhYMWXvtte3yyy/32eyxxx6zUaNGlWqt48fVUcaNNtrIzjnnnGid8gZyohVTE+re7ZBDDjEdj0/xLt6yld3n5xUBBBBAAAEEEEAAAQQQQAABBBBAAAEEEEAAAQQQyKdApQM5Ksxee+1lRxxxRFSuDz74wHWvFs0IJpKCIepmrUmTJi63ujc788wzXYAlHD+nb9++NmPGDJcnn4EcbVAtc8JA1ejRo23EiBFuX/onqexRJiYQQAABBBBAAAEEEEAAAQQQQAABBBBAAAEEEEAAgTwJ5CWQo7LcdNNNtuKKK7piLVmyxBRwmTlzZqliJgVDOnToYEcddVS0jlrEqHXPKqus4ubFuztLCuTEx8956KGH7IUXXoi2nW3i9ttvj7qK++677+yiiy6KsiaVPcrEBAIIIIAAAggggAACCCCAAAIIIIAAAggggAACCCCQJ4G8BXLatWtnXbt2jYo1ZcoUUyAmnpKCIXXq1LHBgwdb/fr13Wrff/+9rbXWWtEm7r33XnvllVei90mBnOWWW851+eYzf/LJJ3b99df7t1lfBw0aFHUTN2vWLOvTp0+UN6nsUSYmEEAAAQQQQAABBBBAAAEEEEAAAQQQQAABBBBAAIE8CeQtkKPyhF2j6f3AgQNtwoQJmoxSWcEQdW2mLs7iadGiRdatWzdTax+fkgI5yhPuS+tdffXV9sUXX/jVS73Gt6e8V111VZQv3N6kSZPsiiuuiJYxgQACCCCAAAIIIIAAAggggAACCCCAAAIIIIAAAgjkWyCvgZyNN944rQXL7Nmz7eyzz04rc1nBkNVXXz0teOJXfvvtt23IkCH+rXuNB160XPl82m+//ezQQw/1b03BoKefftpGjRqVFhBSBrUo6ty5c9QaSPPUXdyHH36oSZfKKrvPxysCCCCAAAIIIIAAAggggAACCCCAAAIIIIAAAgggkA+BvAZyVKB+/frZOuusE5XtnnvusbFjx0bvcwmGDBgwwJo2bRqto4lzzz3XNEZOmMoK5CivxupZf/31w9VcQGfOnDmm/9UFW+PGja1hw4ZpeaZOnWqXXHJJ2ryw7Grhs3DhwrTl2d4ob69evdx+s+VhPgIIIIAAAggggAACCCCAAAIIIIAAAggggAACCCAQF8h7IKdZs2Z22WWXRfv5448/rGfPnlELmDAYkq17sl122cVOOOGEaBvTp0+3Cy64IHrvJ3IJ5GjcnVNPPdW23HJLv1qZr999950LSC1evDgtb1j2tAU5vOnRo4fJgoQAAggggAACCCCAAAIIIIAAAggggAACCCCAAAII5CpQZiBHLWE23HBDtz0FIhSQKCv16dPH1M2aT8OHD7dXX33Vvb311ltdKxi9+eqrr6x///4+W9qrukmrX7++mzd06FB744030pbrjVraqMWNT4MGDbJ3333Xv017bdmypR111FG23nrrWb169dKW+Tdq8XPvvffaxx9/7GelvYZlT1uQwxuN/bNgwYIccpIFAQQQQAABBBBAAAEEEEAAAQQQQAABBBBAAAEEECgRKDOQUxOhWrRoYWuttZatuuqqNmvWLJsyZYqp1Y+6QCMhgAACCCCAAAIIIIAAAggggAACCCCAAAIIIIAAAsUiUCsDOcWCTzkQQAABBBBAAAEEEEAAAQQQQAABBBBAAAEEEEAAgSQBAjlJOixDAAEEEEAAAQQQQAABBBBAAAEEEEAAAQQQQAABBAooQCCngPjsGgEEEEAAAQQQQAABBBBAAAEEEEAAAQQQQAABBBBIEiCQk6TDMgQQQAABBBBAAAEEEEAAAQQQQAABBBBAAAEEEECggAIEcgqIz64RQAABBBBAAAEEEEAAAQQQQAABBBBAAAEEEEAAgSQBAjlJOixDAAEEEEAAAQQQQAABBBBAAAEEEEAAAQQQQAABBAooQCCngPjsGgEEEEAAAQQQQAABBBBAAAEEEEAAAQQQQAABBBBIEiCQk6TDMgQQQAABBBBAAAEEEEAAAQQQQAABBBBAAAEEEECggAIEcgqIz64RQAABBBBAAAEEEEAAAQQQQAABBBBAAAEEEEAAgSQBAjlJOixDAAEEEEAAAQQQQAABBBBAAAEEEEAAAQQQQAABBAooQCCngPjsGgEEEEAAAQQQQAABBBBAAAEEEEAAAQQQQAABBBBIEiCQk6TDMgQQQAABBBBAAAEEEEAAAQQQQAABBBBAAAEEEECggAIEcgqIz64RQAABBBBAAAEEEEAAAQQQQAABBBBAAAEEEEAAgSQBAjlJOixDAAEEEEAAAQQQQAABBBBAAAEEEEAAAQQQQAABBAooQCCngPjsGgEEEEAAAQQQQAABBBBAAAEEEEAAAQQQQAABBBBIEiCQk6TDMgQQQAABBBBAAAEEEEAAAQQQQAABBBBAAAEEEECggAIEcgqIz64RQAABBBBAAAEEEEAAAQQQQAABBBBAAAEEEEAAgSQBAjlJOixDAAEEEEAAAQQQQAABBBBAAAEEEEAAAQQQQAABBAooQCCngPjsGgEEEEAAAQQQQAABBBBAAAEEEEAAAQQQQAABBBBIEiCQk6TDMgQQQAABBBBAAAEEEEAAAQQQQAABBBBAAAEEEECggAIEcgqIz64RQAABBBBAAAEEEEAAAQQQQAABBBBAAAEEEEAAgSQBAjlJOixDAAEEEEAAAQQQQAABBBBAAAEEEEAAAQQQQAABBAooQCCngPjsGgEEEEAAAQQQQAABBBBAAAEEEEAAAQQQQAABBBBIEiCQk6TDMgQQQAABBBBAAAEEEEAAAQQQQAABBBBAAAEEEECggAIEcgqIz64RQAABBBBAAAEEEEAAAQQQQAABBBBAAAEEEEAAgSQBAjlJOixDAAEEEEAAAQQQQAABBBBAAAEEEEAAAQQQQAABBAooQCCngPjsGgEEEEAAAQQQQAABBBBAAAEEEEAAAQQQQAABBBBIEiCQk6TDMgQQQAABBBBAAAEEEEAAAQQQQAABBBBAAAEEEECggAIEcgqIz64RQAABBBBAAAEEEEAAAQQQQAABBBBAAAEEEEAAgSQBAjlJOixDAAEEEEAAAQQQQAABBBBAAAEEEEAAAQQQQAABBAooQCCngPjsGgEEEEAAAQQQQAABBBBAAAEEEEAAAQQQQAABBBBIEiCQk6TDMgQQQAABBBBAAAEEEEAAAQQQQAABBBBAAAEEEECggAIEcgqIz64RQAABBBBAAAEEEEAAAQQQQAABBBBAAAEEEEAAgSQBAjlJOixDAAEEEEAAAQQQQAABBBBAAAEEEEAAAQQQQAABBAooQCCngPjsGgEEEEAAAQQQQAABBBBAAAEEEEAAAQQQQAABBBBIEiCQk6TDMgQQQAABBBBAAAEEEEAAAQQQQAABBBBAAAEEEECggAIEcgqIz64RQAABBBBAAAEEEEAAAQQQQAABBBBAAAEEEEAAgSQBAjlJOixDAAEEEEAAAQQQQAABBBBAAAEEEEAAAQQQQAABBAooQCCngPjsGgEEEEAAAQQQQAABBBBAAAEEEEAAAQQQQAABBBBIEiCQk6TDMgQQQAABBBBAAAEEEEAAAQQQQAABBBBAAAEEEECggAIEcgqIz64RQAABBBBAAAEEEEAAAQQQQAABBBBAAAEEEEAAgSQBAjlJOixDAAEEEEAAAQQQQAABBBBAAAEEEEAAAQQQQAABBAooQCCngPjsGgEEEEAAAQQQQAABBBBAAAEEEEAAAQQQQAABBBBIEiCQk6TDMgQQQAABBBBAAAEEEEAAAQQQQAABBBBAAAEEEECggAIEcgqIz64RQAABBBBAAAEEEEAAAQQQQAABBBBAAAEEEEAAgSQBAjlJOixDAAEEEEAAAQQQQAABBBBAAAEEEEAAAQQQQAABBAooQCCngPjsGgEEEEAAAQQQQAABBBBAAAEEEEAAAQQQQAABBBBIEiCQk6TDMgQQQAABBBBAAAEEEEAAAQQQQAABBBBAAAEEEECggAIEcgqIz64RQAABBBBAAAEEEEAAAQQQQAABBBBAAAEEEEAAgSQBAjlJOixDAAEEEEAAAQQQQAABBBBAAAEEEEAAAQQQQAABBAooQCCngPjsGgEEEEAAAQQQQAABBBBAAAEEEEAAAQQQQAABBBBIEiCQk6TDMgQQQAABBBBAAAEEEEAAAQQQQAABBBBAAAEEEECggAIEcgqIz64RQAABBBBAAAEEEEAAAQQQQAABBBBAAAEEEEAAgSQBAjlJOixDAAEEEEAAAQQQQAABBBBAAAEEEEAAAQQQQAABBAooQCCngPjsGgEEEEAAAQQQQAABBBBAAAEEEEAAAQQQQAABBBBIEiCQk6TDMgQQQAABBBBAAAEEEEAAAQQQQAABBBBAAAEEEECggAIEcgqIz64RQAABBBBAAAEEEEAAAQQQQAABBBBAAAEEEEAAgSQBAjlJOixDAAEEEEAAAQQQQAABBBBAAAEEEEAAAQQQQAABBAooQCCngPjsGgEEEEAAAQQQQAABBBBAAAEEEEAAAQQQQAABBBBIEiCQk6TDMgQQQAABBBBAAAEEEEAAAQQQQAABBBBAAAEEEECggAIEcgqIz64RQAABBBBAAAEEEEAAAQQQQAABBBBAAAEEEEAAgSSBOi1atFiSlIFlCCCAAAIIIIAAAggggAACCCCAAAIIIIAAAggggAAClRNYe+21K7QBAjkVYmMlBBBAAAEEEEAAAQQQQAABBBBAAAEEEEAAAQQQQCB3AQI5uVuREwEEEEAAAQQQQAABBBBAAAEEEEAAAQQQQAABBBCoVgECOdXKzc4QQAABBBBAAAEEEEAAAQQQQAABBBBAAAEEEEAAgdwFCOTkbkVOBBBAAAEEEEAAAQQQQAABBBBAAAEEEEAAAQQQQKBaBQjkVCs3O0MAAQQQQAABBBBAAAEEEEAAAQQQQAABBBBAAAEEchcgkJO7FTkRQAABBBBAAAEEEEAAAQQQQAABBBBAAAEEEEAAgWoVIJBTrdzsDAEEEEAAAQQQQAABBBBAAAEEEEAAAQQQQAABBBDIXYBATu5W5EQAAQQQQAABBBBAAAEEEEAAAQQQQAABBBBAAAEEqlWAQE61crMzBBBAAAEEEEAAAQQQQAABBBBAAAEEEEAAAQQQQCB3AQI5uVuREwEEEEAAAQQQQAABBBBAAAEEEEAAAQQQQAABBBCoVgECOdXKzc4QQAABBBBAAAEEEEAAAQQQQAABBBBAAAEEEEAAgdwFCOTkbkVOBBBAAAEEEEAAAQQQQAABBBBAAAEEEEAAAQQQQKBaBQjkVCs3O0MAAQQQQAABBBBAAAEEEEAAAQQQQAABBBBAAAEEchcgkJO7FTkRQAABBBBAAAEEEEAAAQQQQAABBBBAAAEEEEAAgWoVIJBTrdzsDAEEEEAAAQQQQAABBBBAAAEEEEAAAQQQQAABBBDIXYBATu5W5EQAAQQQQAABBBBAAAEEEEAAAQQQQAABBBBAAAEEqlWAQE61crMzBBBAAAEEEEAAAQQQQAABBBBAAAEEEEAAAQQQQCB3AQI5uVuREwEEEEAAAQQQQAABBBBAAAEEEEAAAQQQQAABBBCoVgECOdXKzc4QQAABBBBAAAEEEEAAAQQQQAABBBBAAAEEEEAAgdwFijaQs/HGG1v79u1Nr82bN3ev4WFNnDjRpk6danodM2aMew2XM40AAggggAACCCCAAAIIIIAAAggggAACCCBQWIF//OMfrgDjxo0rbEHYOwJLsUBRBXKaNWtmxx13nHXo0ME0XZ40bdo0Gz16tN17772maRICCCCAAAIIIIAAAggggAACCCCAAAIIIIBAYQUI5BTWn73XDIGiCOSstNJKdv7551vHjh3zovr444/bgAEDbO7cuXnZHhtBAAEEEEAAAQQQQAABBBBAAAEEEEAAAQQQKL8AgZzym7EGAnGBggdy1Pqmf//+pmBOPpOCOH379nWtdPK5XbaFAAIIIIAAAggggAACCCCAAAIIIIAAAgggkJsAgZzcnMiFQJJAQQM5CuDkqxVOtoNU6xwFdEgIIIAAAggggAACCCCAAAIIIIAAAggggAAC1StAIKd6vdlbzRQoSCBHrW8UxFFrnOpIGjtHwRy6WqsObfaBAAIIIIAAAggggAACCCCAAAIIIIAAAgiUCBDI4ZOAQOUFChLIueWWW6otiOOJFMw57bTT/FteEUAAAQQQQAABBBBAAAEEEEAAAQQQQAABBKpYgEBOFQOz+VohUO2BnOroTi3bmRs+fLgNGDAg22LmI4AAAggggAACCCCAAAIIIIAAAggggAACCORRgEBOHjHZVK0VqNZAjrpSU2ucQia1ylHrHBICCCCAQGmB+vXr27rrrmuTJ0+2RYsWlc5Qy+Y0XbmpzfntF/tj4fxaduQcLgIIIIAAAggggAACCCCAAAL5ESCQkx9HtlK7BaotkKNxccaMGWN6LWTSODnt27dfqsbLaVC/ga3eaHVbdaUmtvjPRTZzzg/24y8/FJKxxu971VVXtbZt20bH+dVXX9m3334bvS/PRKtWraxFixZpq/z55582fvx4+/3339Pm8waBQgo0a9bM7rjjDqtTp45Nnz7dTjrppEIWp+D7vu6E663xCo1t0eJF1u2OrqbvLQkBBBBYWgQ23XRTa9q0aVTcTz75xH74gd+PEQgTCCCAAAIIIIAAAtUmQCCn2qjZUQ0WqLZAjro0O/jgg4uC8oknnrDzzz+/KMqSVIjdNtvdDm53sK28/Mqlsr3x2Rt25+g7Ss1nRn4Enn76aatXr160MQVcDj300Oh9rhNbbLFF1u781DLs+uuvz3VT5EOgygX22msvO+OMM9x+FixYUDTX7Co/8Cw7GNbzrmjJWXefabPnzY7eM4EAAggUs8CBBx5o3bt3TyvipEmTrGfPnmnzeIMAAggggAACCCCAQHUIEMipDmX2UdMFqiWQo6e8K9qdWd++fU3/r7jiink9F+rmbdq0aXndZj431mnHTrbf1vtn3aSeDD/59s5Zl7OgcgKPPPKILb/88tFG/vjjD+vYsWP0PteJddZZxwYPHuxaOMTXee2117IGeeJ5eV8zBXQdUqXa+++/b5deemnBD3KXXXaJgtwV/cwX/CDyVIA6Vsf+03NYtLUz7jrdfkl1sUYqn8CWLbe0U/bsYu98Od7u+u/fgbHybYXcCCBQXoF27dpZv3790lZTy+KuXbumzeMNAggggAACCCCAAALVIUAgpzqU2UdNF6iWQI5avxx//PEVstxkk01s4403dhXees1XGj58eNFWoterW8/u6Hanq/xfsmSJvfjBC/bh5A/doTddeQ1bc5U13PsJUyfki4PtZBBYYYUV7Nprr7WWLVtaZSu1GzVqZMsuu6zby9133+3OLYGcDOi1bNZVV13luvDTWDQHHXRQwY9en/nbbrvNGjRoYGPHjnVByIIXqoAF6L53d1t/zdb2zcxv7NbnCju+WwEZKrVrGW7Xup0tWLTAug2hArlSmKyMQAUE1FWsuszUwykEcioAyCoIIIAAAggggAACeREgkJMXRjZSywWqJZCj1jhqlVORpECOksbWUcucfHXPptY4ehq+GFObddta7wN6u6KN/vAle+C1B4qxmLWiTDfccINttNFGlQ7khFijRo0ikBOC1OLpq6++2tq0aWOLFy82dYNDQqCmCfTcp6dts/62bpyhLoNPqWmHx/EgsFQIjBw50v2OJpCzVJwuCokAAggggAACCNRIAQI5NfK0clDVLFDlgRy1onn88ccrfFg+kOM3oO6t8tXVmrY1ceJEv+mied1l013txH+e6Mpz4zM3plrffJC3sq203Eq24dobpZ4wn2Q/zf2pzO2u2HBFW3f1lqmnqf+wyT9Mdk9Vl7nSXxmWa7CcbbDWBla3Tl375NtPbOHihW5J4xUb28bNNrYf5vxgk1LlWPzn4lw3WaF8amWw3nrrmbo501g3n3/+uX333XdWv35923rrre1///ufqUVEplSMgRx9aVX5rzF8Pv74Y5syZUqmomed16JFC2fRuHFj+/XXX913QAPbVzYtt9xytuOOO9rMmTNduXLZns7BVlttZSrLBx98YDNmzMhltbzkUSupbbfd1urWrWtqHaVWV0ryVZc0qvD68MMPbeHCks9ttp3WqVPHNtxwQ9dycM6cOW6dWbNmZcueNr+qAzlNmjRxx6LjqK6uJPX52nzzzU0Wn332mf3444/umHWu9Zn1zmkQf71ZZpllbN111zVtQ62CvvzyS/v6669NXUnqM69z8vPPP2datajmqVVlqzVaWZOVmtjHUz62X+f/6sqna+KmzTd118Ivvv/Cfl/we7WUe7WVVrPmTZrbrF9n2dRZU51nZXfcoH6D1HV8E/v5t59tSurekC0VSyCnGL7v3iif12A9aNC6dWt3Hf/qq6/8Lqr8Vde95s2bu++qWnxMnjzZvvgi9ZlO3WN1r9V3Wd/dpSHpWPRbs2nTprbyyiub7ocTJkywX36pfFeK5b0GV/b+ns27ugM5aoG82Wabud9e+o2i3yr6bFQ2ldcz0/7WX39995154403cjrH+r7qHv/999+7e1q234uZ9pVtnj5z+v3RsGFDUznysc1s+2I+AggggAACCCBQLAIEcorlTFCOpVmgygM5p556aqUGVo0HcoSdr67W1K3RPffcUxTnr2XTltaxXUdbdpllbbVGq9uqK67qyvX97O9t7u/plQnTZn1n9746PK3cqqS76LCLbZl6y0TzVUnY884e1nCZhnbsbsdamxZtTYEcn36e97P1GX52qUCK8pzc/mTbbJ3NXSW3z69XdY8z9tNXbeT/jUxb74idj7S9ttgrGgtmxs8zrOnKTaP36iLuykevsGN2OcbWS1Vw+qQyXv7wZTb958oHEvw2/esGG2xgZ511lqto8vP8q8qjpD+mVcl93nnn+UVpr5kCOfvtt58bQFiV0mFSUPDMM88MZ2WcrkiLHFVCKoCpymyVOUw6ljfffNOuueaarJXkqlTpl+orXxUrqlCPJ1Ww3HjjjS6gEV+mQMeIESPc07x+mfZ59tlnu8ouDaassVVWWWUVv9i1MNFyVeQr3XvvvabKPpVd6yqAIcf48SgAouMsb3Aq2nGWCZXln//8Z2Sn/Sh45C1Vposuusid17D1oIIOWjdTBakqg7SOKv/iSZUyDz74oD3wQOnWdBrvS5VCClR07tzZtVbU/i+//PL4ZlzFlz6fWh4mXRdlGJ5L3/2ftn/uuefapptuagqu+aSg3THHHFMqMKVr9L777htZ+PyvvPKK+0z590mvOveXXXaZycSb+vz6bGkMIAX5dBxHH320C/L45XpVsFXnfcsttyy1vpbLU8f622+/WadOnTSrSpICzGceeJbVr5f+HZn601S7+MGLMu5TY8D0SLU68ev8krpeN6jXwBo2aBjlH/l/D9oqK6xie2+5TzRPFoNfvN3Gp8aOUTqpfWfbeaOd3fFr2ah3n7ExH71sx+x6jAsKNV6hsbvmKgA/cdoEGzFuRGJgvcXq61rXPbumuuJcs5SpAksPvf6QjZvwWlQeP6HA+7X/Hmjan08qzyUjLzY5HLjtgfaPTXax1VP3KZ8WLV5klz7Uz6bNKhl3TvectVdd292PDt/pcHfN1zaueeJqv0r0+oceEpg52Zak/stXKqbvuz+mylyDL7nkEheQ9dfP559/3l0b9DBK+H1T0Pm6665z3SL6/VbFq675e++9t7uGxbe/YMGCaP5RRx1V6rvu82+xxRZ28skn21prreWuU2qVqOuyKrWHDBliDz30UDQ2oj47ukd/9NFHduedd0YtvDVf962XXnrJbVbXPt1rfDemmqnyZGvJrQc81PWvrvmhoy+jHvjQdS3T/Sif1+DK3t9VXh3DGWec4YJoasGuNHv2bPfgirqIVZeuml/VLXLU0l2fj/De4wqT+mfu3Lnu8/n222/7WdFrPjx1f9P9JTyXehigV69eLnBz+umnuwcFwvvmJ598Yn369InK4Sf0MILuo/53i5+vV93TdG9/9NFHw9nR9IABA1yXqWE5Hn74Ybvrrrtsr732siOPPNLWWGONqJz6HGt7999/f7QNJhBAAAEEEEAAgZooQCCnJp5Vjqm6Bao8kHPrrbda+/btK3xcmQI52lg+ulobM2aMqRKzGFKv/U83VQjmmi54oK8pyOPTputsamcfVPqP0YtGXGgXHHphWqWiX0evqmB84f0Xoln/2PgfdkKqNZAq75OSAjADnxpok2aUPHF71kFnpwI/myWtknXZV9O/ckGerBkqsECVCPqjWE87+qQKHT0lHP5xrWVqQXLCCSf4bGmvmQI5//rXvzIOFqxKE1UklJXKG8jZfffdXYAorHzItA9V4qkiZ9KkSaUWX3jhhbbTTjuVmh+foe9D/ClqBRzUqi7udtNNN7lKk9VX/7tCN9yetuO/X08//bRrjREuzzatgMRhhx2W1ydUb775ZleRk22fSfOnTp1qXbp0ScvSs2dP23///dPmZXrzww8/uMrKsFXPU089lRaAybReOO/VV191QZtwngJnqoCMp969e7u8OmeZkq9MCpepkk8BvnhSyzV9nspKe+65p6soiwc2s62nilEFHsN0yy23uCCQn6fAjbYX/8ypwisXd7+d8r4qQHHSHieVWm3+gvnW487upeZrRoe2e9rRuxydcVlZM9VKsfuQbvbnkj/t4sMvsZap1o8+KdiyfIPls16LVaZbnrvZMo2Vpmv4rqmWnWWl71IPBSjAHrYMUkBqSNc7StlrjKCO2x9izVZtlnGzCi5d88Q1btmQbnekPVSQcYVg5ksfvJQKTJUOegZZyjVZTN93X/DKXIM1volav+SaMl3Hc123rHy6Vx5++OFRNn0nFYTJdH9SAGr8+JJApV9B32ldu/wfcX5++KqAjirQw6TgzpNPPunuRWGg5tlnnzX9zlRSYEZjfMXTSSed5FrZxOfrN4IC+klp/vz57njjLSbydQ3Ox/39uOOOc8GB+PXSH5cCD7on6JpaVYEc7VvfOwXzw6TPR7xc//d//2dXXnllmM09DFLZe5rW13kJk36XKSioe3i8HD5f/Pty8cUX2w477OAXZ33V/f20004r1arnvvvuK/X51THLP9t29fkqhnHysh4sCxBAAAEEEEAAgTwI+L8Bxo0bl4etsQkEaqdAlQdyVAGsFjQVTdkCOX57lelqTS0otH4xpPXXXN+O+sfRrvXMcssuFz0Nrcq8X35Lb5GjrnGGvDC41BPMeppcLXl22nhn132PjkstaNQFjpJavbyTevp7ndVapFrntHHz+qWeop7607duukVq/iWH94v+2FX+Ea89YF9O/zK1jWVt03U2sWN3Pc7UPZCSKhLPuOt0t48VGq7gAjmdUy15fKug9ya9Z+98Nd467XhYdDxa7+0v33bdDR2t4/3rqfXOt51U6niUt6JJlcXqtkJJXaddf/317mlfvdcTkT169IieGtYf4//+97+1qFTKFMjp2rWrKZijpEoKdQmmgeFffvll9/RvqY3EZpQnkKNuRPQkra8kV5cvt99+u7377ruugletHFQJ4Z/A1ROvCibFK52URy1gNF9dnLz++uuu9Y2CMP5pVRXzm2++cTaxIrtuZ9R9j1o5+bGlwgoaVRSpTAqUqas0VRqpFY+ejlbSenvssUfkpnlaX5VwquhTd1rHHnusW1/L9KTrf/7zH03mJanFiH40qDLHVzh++umnph8Qemrc+2lnOp/vvPOOqXLMB0QUPFB5lXbddde0FlxqMaNzoq6FNJi0nv7WE7d+P9peWEGlY8v0tLLbeIZ/FPgZPHhwqSU692uuuaZz9ZVnOr9+vz/99JM7Dtmq+yUlPXms4w6TnmJXsN0HPXUe9HnLJZCj/es8+Qoy7V/d1KlbIlWQbr/99taq1d8t8LRftRx75ZVXoiLoyX49Ka2kMqvy1wcT9blRpZq+B0o6B1UZyKljdazNum2i69W+W+/nWhYmBXIU9G6bau2o65xaoSjNnDPTHn/rsVQwZTfbpPkmbp7+0TX10TcftUNSAZG1Gq/l5t/wzA320eQPrdHyjWyTVFdlp3ToUip4M+XHKW5dXd9bNW0VLZfHOff2Sesmc89Uy8ij/nFUtM93v37Xnvvfs6ZtqIu17VpvZ//a7uBoG59/97ld9fiAKL8m1MJTARvdK/ZLGSipezsf4J/7+9xUS6K33bV+u9bt3HX8gdS9QmO6Kd100s1prT/dzIR/HktZPfPO0wk5yreomL7vvuSVuQavttpqrkVbt27dou+atqtrrlqj6Dqle5j/nmS7jvuyVPRVrgp+6Puu77paEfpAjVqVqIViGBRWK9B46wt91/Wd90mt7HyLF3VhpWtomNQqxt/zNF/XHD2UoNY8Ss8995wpEOyTAiNq7aDWfWr1oyQ3vw+fT69Dhw51XWnq/qXjUGX7e++957qGVBBbx6SU7X5U2WtwPu7v++yzj7uHu4Km/lF3cOriTg9E6NorrzBVVSBHLaZ0b1TSdUnnRa1MFJTTcereq3uwv1coOPnEE0+ERXOf8crc09Syc7vttnP7O+KII6IWXX4nKpc+B2qFo8+H/gDSudeDI7q+KZ0QC1Tq95Ja1+pVXQbq9+MBBxwQHYfu+2qBFCYdgz576qZP30sds/btj13fHd2H9RCRfqfqe6V7plqQkxBAAAEEEEAAgZosQCCnJp9djq26BKo8kKM/TiqTygrkaNuV6Wotl+1XpvwVWVdBHbWiUbrnv3fbq6muzMqT/tXu4FRFXUmgQevpaesBjw2IAjaa5yvk/B+vmnfDiTfaysuvrEl747M37M7Rd7jp8B89rd3v8EujCsv3U8Gam5+9OcriK/BUYdn3/pIWA23XbWtnHNDb5flj4XzrfkfJH737brWvHZbqdkfprLvPtNnzZrvpfPyj4Ie6vNIfz6pYD1tEaPv6g19dtOgPaHWbpacqM6UwkHPooYda//79XZcZyquxOlQxXt6xR8oTyBk0aJC1bNnSFS1bFyCqxNMToKqQV3rhhRdMrWXiSZULmcbCUeXCI4884oILevr4kEMOia8avVclnVpw+CRfVYbFx8HSE9OqSAqTKul8QELrqfIjrFxTyw61KFFSl2x+OtxGZad9EEUBAwVqlBRgUldMSvqc+CCduj3TOVfyT3TLSk+F+2DJ8OHDXSWPyxT8owo0VS76ipsLLrjAVRAqi757+twpqeJTQRZ5+PK4BX/9o/Ohis6k5CuIfR65a39hwMaXVxVIZSWdS52/XAI5w4YNiyoK9dlSUFBduIVJlWQnnnhiNCseyJG9zoGSPFQ5HU/qqkYVY+H5ieepive9U9etNqnrV1Igx+/XjwWja+pp/znVXXcV1B7cdUj0OThneB/7ce6PLjh01bFXu1UfeO3+VABktN+My++D7/P+mGfXplq5KAjjk7q+VAtIBd6Vwm7f1B3awH9fF+1vyIuD7a0v3vKrRq8ap0z790H3u/57l7326dhouZ/QPvodcal/6z6n/xkz1F7/7PVonia0HT8Gmt6re7blly2pkD+lwynOUC4K/MeTHjbQ/1WRiuH7Hh5XZa/BYWs+3RueeeaZaPMKgOg6rqRrQFU8pKJK8ksvLfk8jB492j0gERXgrwlVoPsHI0455ZS0+6MCs+oKzV8Xda3RfThM4XVX8xVgUXA3TAqE69wqxQM5Pp/uYz7Yky2Qo3IoSKaHOeJJP451b1Mqq5K9otfgyt7fdc9XsMRf39XyVUGvMOnaqgCBN6+KQI668Rw4cKDbre5luqZn+u0fnhPlU0BEr/FUUc9wO2EXfJqv+5OCc+G4R/rtpHuKL4O+n+GDCbKUaTzps6HfMt5dvzfV6idTirdGVteBV1xxRbRPrZPp91KmbTEPAQQQQAABBBBY2gUI5CztZ5DyF4NAjQjkCLKiXa3V9ECOnpzu+8D5Nm/+vMTPmyoArzvhepdHlYdnDDs9bQyccGUN4H3Ncde6igFV3nUd3CVa7AM5n3z7iV2X6npNSRXXQ7uXtK4Iu9/Zar2t7LT9erk8lz9yedRNm5tRyX9UqaDKBSVVOKnyXV2OhYErlev44493LWnCgEK4ax/IUQW4uujw3Ygp+KNAQy4V4+H2NF2eQI7Pq65rVDGXbX96Cvmcc85xu9ITzL4CK75vPU2qz7wqLPSdUaBAT4VuvfXW7uljVWgktXgIAznKq9YSmSre4/vV+zCQoxZBqswIkypFdJ5U4RQGWsI8lZ32Fbu+33xtT/tVBalS2B2crHzXYj4Qo2CCggpKSc5aHnalFHb/o2U+aZwbjROk83vggQf62eV6DSu99HSxKkIVZKxoyjWQo8onH8BT+RWIyrZfVej6iuV4d0thoEffK1WKaSwMdYUYJn0u/Rga4fyqnK5IICce9NF1VddXBSu6DenqiquWP//pOcxNj3p3VKqVTkkFvGYo8OMDOWoxOeWHyS5f+I+W33TSTakx1Uq6jjzrnlQg/NfZtkeb9qlWk8e6rB+mWvncmGrtky3tsOEO1iU1ho6SWl32f/TKUlnDQI6+7/0fu9LUFWZ5kg9waRydLoNPKc+qlc5bbN93HVBlrsE+kJOtG0+N+ad7VFnX8YrCqrszPTSgpICtKrPV4iYevG3btq0LUKsrxzCFXVap5Yuuq5mSWvK0a9fOLarKQI52oKCQurRSy0U9/KHr2rx580xdavqxw5Ja7WobFb0GV/b+rmuuWpQqhfcuNyP4R4F0XWeVqiKQE7ayyhZY88UJu7PTbxa1dImninqG2wkDOUkP64TrqDWz7x63rIdJwi52k0zDQI4CrXr4gYQAAggggAACCNRWAQI5tfXMc9z5FKhRgRx1X+QrC3NFqumBHAVkNPh2WWm3zXa3f+9e0r2YnszWE9pJ6fKjrojGStBT1r77t0yBHG1nWM+S7T01/kl74u2S7jTU5VCff5UEHwY81t+++P6LpF2Wa1lYCR+uqAouVTrriWUFdtRlhrpey5Z8ICdcrm3oieMff/wxnJ3ztK+8URdUPiiQaWU9vRy2rIlXbMfX8d2AZWq1oJYl6jJLlVRlJXXBli2FgRw9ueqfis6WP5wfBnI06G+8kk951RWbumHJVlEZbq8i05kqdrUdBVr8qx9vYeedd44qGn3wIexWT/mTzkk4HlO2iqR8B3IUmKzo59IBpP7JNZAT+pRV6aVtq8saVZrGnxjXE/GqgPZPjPty6FXfVRnrmFSJrUrCMBgb5q2K6XwEcq49fqAp+P3NzG/ssof/bt3ynx7D3DG/8P7zqbHKRkbF94EcjV9z4YjMFd3KrO7T1I2a0uAXb7e3v3jbTt//DNui5RZu3s2jbrL3v3nfTWf7x5dBrTZ73tmjVLYwkDPs5WE2bsJrpfKUNaPYAjkqbyG+7/m4BvtAjlrb+VaEoX84RkjSdTxcp7zTagHiWxSG6+q+qO+qWjxoXC+1UIgHeHxXZlrPt3IMt+Gnw4BRVQZyNJi9ugPLdO3xZdGrAsi6f2ZLYeAh12twPu7vehhCD2EoqaXUW2+Vbn3ny+x/dyQFHXze8r5q/CJ1O6akh02SrtH+d4ry6jOiwH08VcQzvg0fyNHDDZ06dUprARPP69+rC17fFbSm9RBQUvKmSS3gfCAnW4vqpO2zDAEEEEAAAQQQqGkCBHJq2hnleAohUCMCOXStlv7RCbtWO+m2E9MXZnmn8R38WAgPjhthL37wYpacJbNP3fc027pVSQXC1Y9fZZ9995lbUFYgR+NGPP3XWAga0+ecg8916+U7kKONqlWKnpr048u4HWX4J+nJ4EyBHG1CT+zqKdd4RVWGzZea5f/4LyuQo4o4VWiUN6ls/ulbravgplpE+KSKFnUHN2fOHGej1jmqOPOVWUkVgGEg56qrrnJjA/ntlvUaBnJUyeJbc4TrqVJHT0UXKpCjShcfaND4B+rqS8kHcsKKs7DcZU3Hx8nx+fMdyEk6d36fZb3mGsgJnwbX+FC+a52ytp9puQaA1tPZfpyeTHk0T5XEqihNCqBlW7ci8/MZyFFLlisf/bsVmg+iZAvkaIyxW4JuK+Pl32XTXe3Ef5Zc35977zl7+PWH7NIjL7N1mpRUqPpu3OLrhe9v7nyLrdhwRVfJ2XnQSeEiNx0Gcq576jr75NvST8+XWik2o5gDOdX1fc/XNdgHcjQul8Ykiaewm8J8XAvi29d7BdrVPZpek5ICO+qy1I93pbz+2qLpssrn75NVFcgJg14qjyr81cpS1xh1U9esWbOou9LyBHLKOi7tS0n5Knt/9/dLbe/www9P/D3y2GOPuetrVQRyRo4cmTbOnMqTS1IASK1w4ykM5OTqGd+GD+SU57eEHjDR+EpK2brjC/fjHwzRZz1bS2YfyNH4S1deeWW4OtMIIIAAAggggECtEyCQU+tOOQdcBQJVHsjRH+7+CbeKlL+sFjOqINEf5OFg5bnuZ+LEieVuwZPrtiuTL59j5OQayNlxox1Ng2wrvfLJKzb8lXsSD0HjJqiST+miERfatFnT3HQxBXJcgVL/qOWABgTW4OtqJaFWKRqENmydkm1sDh/I0R/qqsTXIM2+yxdV7uip4vJWKvsKqrICOWG/86pcUmVJUlIZVRmlrs7CVhm+skHr6vuop6KVN0xhlzdJFSe1PZDTs2fPqMJG1w+dw6SkJ5MVMFO/+HpqN558ICepIii+Tvx9Piq9wm36ytayxsgJA13ZWgiE281lWk+pa0wrPd2t76e+rxoHwo//pG1kG5sjl+2XN08hAzkaF6ffyEuyFvnQHTrZ/tvs75aPSAXfX0oF37vv3d22a13SJdUNT19vH035KOv6WqAuL9XFZLyLTL9SPgM5+i6cfHtnv+lqefXXvrArRe3Yt8gpK5CTr++7L4f2XZlrcDEEcnQMSmpJp++q7gkKwKqLSo09p3urfyhA3XaqJZ5PYWueI488Mm28Ep9Hr40aNYrGHisrkJNtTDgFNvy+45Xy4Rg7avWnhxJU0R5PvrxVEcjJx/09HGNH4+BkGpfGH5P/3VEVgRwfNNG+1MpG97ykpIdJNGaNzm2mlI97mi9TeQI5+hyoW0Cl+FhumcrpTXU86p4vUyKQk0mFeQgggAACCCBQWwUI5NTWM89x51OgygM56qaoffv2FS5ztkCOAjcV6UotLMiYMWMq9ERkuI2qmC5EIEdd/6gLIKU5v82xM+/qbUtS/2VKjZZrZNefcIOrAIxXzhVLIEcVAeoyRQEadfuUKd18883WunVrt0h/kN92222lsvlATth1hp+nzGrZ0qVLl1KBkVIbCmb4P/7LCuSogtUPZq0AjbrmKW9SZbgqDpWSKnDuuOMOa968ucu3tARy5KMxFrbZZhtX4a8nv9UVnSptsyVfoVrRil19pvyT8PnoKkVP6G611VZlumc7Hs3PR6VXuP1cAzlhZai681PFrD6n2ZKedNY4FBpTI0wy1VhE6l4t09PZyhu2/tF3LmxhFm4r39OFDOQouHfOvX3sp7k/lTqsunXqujHNVl5+ZbdMXbap6zZ1taYu15TGf/m23f5C+sDnbsFf/2zZckvrtf/p7l282zefLx+BnK57dbXtN9jBbTLXBwv8/iv7Wgzf93xegwsdyFGARV1qqkXQ5ZdfnvH0tGrVynz3lAqShGN/hWPXZRs3TBtVSx6NT6OUKZCjAK+/VqhrVI1HFk/hGGXxQE44ppy2o5Yh8aRglJYpQFUVgZx83N/DFlhjx451Aan4ceh92Pon6XdApnVzmaf7sB6YUSpvl6uZtp+Pe1pFAjkK/CkAqJSt1Zsvb4cOHezMM890b5PGyyOQ48V4RQABBBBAAAEEzAjk8ClAoPICVR7I0R9keqq1oilTIKcyXamF5dDTd6o8LLZUiECODHw3O5oe/eFL9sBrD2gyLakC8cJOF1nLpi3d/M9TXapdlepazadiCeT4AXVVsaxKX1XExNMBBxxgPXqUjAuRrRLEB23CQI4qeFRJ4L88uYwPEu4710CO1vHHoemkQYRVKaTWaTvttJO9+eab0fgzYWV7tmCQDGTh09ISyAkr933Zv/nmm+ic+nnha2UrdtUyRC2j/BPnvsu1cB9+WpWeGldBrUyGDx9u6sIvnsLufTK1ClMlorps2XDDDU3dvoQtrfy28lHp5bel11wDOcrrxzTStJ4GV8VivLWXPpsKfqmiT27xsRx8havWk4cq0OIprAz/6aefXGAnnqcq3hcykKPj+eGXH+yKRy63ub/PjQ5Pnt326m7brr+tm7dg0QLrcWfNulGoAAAXZElEQVR3Ny7FaiutZlcfd030+czWHZq6U7v2+Gtt2WUaum2oWzZ1zxZP+QjkHLPrsda+TcnDHOpaTl3MhUnH06719u6e8uy7o3Ia0y1cP2m6GL7v+bwGFzqQs/vuu7suEGWebXwTv0zXynhLQ13L/O9BLbv22mvtlVde0SpR2mOPPUytS/w1NlMgR5l9BXmm+5q6C9U92nerGg/khOXI1JpQgSKNkbL++uu7clVFIEcbruz9PWwVqe3pwYB4y6L11lvPPeCge4lSVQRyws+FWqfovqdWxJmSuljVGINqvaXf4D///HOpbPm4p1UkkKOyqWtV/9lT+fTbMJ7UFa3ux/qcKOk6owBWpuQ/p3StlkmHeQgggAACCCBQ2wQI5NS2M87xVoWAr4su77brpP7gydxcI7YlBV18i4DYopzexgM5lelKLb5DbUvdIxVDWqbeMrZZi82tYapirXmTZqnxakq6zHnrizftg2/Cis0l9tm0z2z2vNlpxVYrGQWAFGjZeZN/mJ62VrrtuVvT8i1cvMgmTP3UdaWTtiD1RsGZiw/7uyufSTO+tvtfu98m/zDZVL4N197ITtzjRPNPgS9Kbevse85yFW9arvXPOuhsa1C/gU3/ebrdP/Z+mzhtgi3+c7EN63mX2927X79rj735qH0/+3sLx8jR2DljP30t1Rqo9B/18XLm8t53iaK8qlhQwO6ll15ylQsabFc3EFUoqZJNSU8Ka5wPn/SHurqM0Tg7q6++uusWS58Xn7QN7UN96Sup8lkVUmrpEbYI0aDQ2223XVShpLy9evXSi02aNMlVRrk3f/2jSitVVPukz/91113n39pXX33lukbzn9vNN9/cdW+zxRZbuCeHlTFeseUr5rVMlTjqimbq1KmmddXlXNhtlfKoVYtaPXz8ccl4GDLafvvtXfc5alGhcYeU1MWVKsHC9M4772QMNqgbHrXMUwWOkoJN6rPf70MVImqZ0qdPH1fBM3/+fPdUt/L99ttv4S6iaV9RE834ayJTIEqBAHWZomCJKrRkrPXV5Zlak/iullQetU7SOQwryVQZo/LOmDHDddfjn9pVZaRaVj388MPufMpS473oKXQ9me4rhD766CPTwNrxJMuuXbu62XPnzjUFDjXukrYhD1Us+crIMNgoTw1yrUrwPffc0/x1Uq3MwqRu/1SBlKlbN+VTGRUkCpMCe95IFY1h+uKLL9xn0M+LV3z5LgD1udB3Q8ehz5iv8NJ6Ol59Dn0Ku/XTPH2uHnzwQTdehd7rOLWOH0xbn4nLLrtMi/KaFNzYYK0N3DXUb7jj9ofY2quubbrWDXlxsJ/tXn/5/Rf74vsvrE7qv2ZNmtvJHU523U0q702jbkoFLL60+Qvnu5aOavGoljXaxpep+Up+jBx1f/bguAdT18Tv3PzBXYe4a6h7k/pHrR7f/fodmzFnprv2amyyFZZdwS+2m1Pj6LyfGk/HpwO2OcAO2eHv1nuvfTrWnn//eZs+e7o1SrXg2a71tnb4TkdY/XolFbu6Fl/wQF+/utv3Rqlrva7jazZe09SFm5ICPV/HgjA6fjkkpR023NG67NnFZdF9644Xh9jvKZfN1tnM2rRoY63XbB2VJdsDBEnbz7Ss2L7vlb0G67vkr1+6pqhbKlUc6/qlz4eSrgHdu3ePWpnqOq6xuZQ3X0lBFgVrfdL9SK1v1A2jroW6Pxx99NG2yy67uCyqpNf7MIXdgWm+7kX+fqZj0Ng0YcoWyAmDILqe3H333a5LL11z1OWbD1xoWyNGjHAV8pMnT3abVqBn2LBh0W7ef/99e/HFF52l7nUqf7i+7qmq4NdxTpkyxa2Xj2twPu7v8td13CcF1N966y13zdfvAh2Pvw8pj86J7nHjxo1zv438epV9veWWW6LAl+6pCvSp1bs+f/LW/X+vvfZyv6f8vtTNq+6rSvnwVAtr38parWv0MIXOne71YZKB7iOZku41/jeOlstSnzV91jV+n45B939/X44/WCDrbbfdNhpDSq3LNE8PmSgQGyb9BszWYjzMxzQCCCCAAAIIIFBTBAjk1JQzyXEUUqDKAzk6OP0xV9Ed+QrKfHSlFkKrK4TKdPkWbisf01327Go7bFjS/UxZ2/t9we/W886SliQ+7+1dbo+ervbzsr2+/NEYu2/sfRkX75XqmueInY9M+8M/U0ZfWekHvz7jgN7Wdt22pbI++fYT9uT4J6NAjjKowueU20+2Vmu0sr6HXhCto6fPz733nOh9ZSbCSp5wO9p3WKmhZaqcP/HEkkHDfV7/5LN/r8DCIYcc4t+6II+eJo4nbT8c9FYV/HryNNekSg+NuxOmzp0759ytmvav1h/heDrHHHOM6f+kpMoOH9Ty+RR4UAAirKDxy7K9Znty2bdCiq+nY9Uxh13EhHmSui+LtyTSegokqIuvePItq+LzfZd6PpCj5TJUIEaBlLD7oLBSUoN9xwMg8W3796rUUqsTWcaTAhyqzFKwMCmpTAp4aPwjJXX5EwZHktZVhV3//v1LZYlXZpbKkGFG/POtLKr0UveC8e9VfHWtq8pQ312gXx52y+Pn6VX5lcLtKiir78MPP/zgluXzn9tOGWTLNSgJ7Oa6XbUwUauV43Y7vtQqCoRfnmpNoxYyqzf6+/wOeKy/CwD5QI5W1LF2v6ObqXWND+SoFY4CNgrWZUpa56l3njJdY+Op1369bMv1Srrsiy8L36sbzX4j+6UF0M/+Vx/btPmmYbas0zN+nmHn339e1uVaUK9uPbv0iMtcQCwpo45HNj7QlZS3rGXF9n2v7DVY14hMv6F0rVfQU+O29evXrxRLPKhfKkM5Z4RdS4arZvquanmmFg16uEHXT1WKZ0uqHG/SpIlbnC2QEw8qZduWnx/v5i3bZ8Tn1zHpehNeZzXP39/zcQ3Wvip7f5eTAhUapyhbUkBfD5+ESQ+2yCBfSWMj6XOa6+8d/VZQ0GTevHmuCJX1VBBR95dcU6bPpl9XD8/4vz38vEyvKrsCNWGwNOyeLdM64Tx9nhR01G8EEgIIIIAAAgggUBsECOTUhrPMMVa1QKa6gVz2mXOLHG1M3eUcf3zpiq5cdqQ/pvLVlVq4P1WADBgwIJxV0Om9t9zbBVByKcSUVAuZfg/1S8va7/B+1mL1ddPmZXuTrRsdn3+1VKVjj316WMvVW/pZ0av+8PxfqlXNsJeHmQJKPoUDb/t5yjv8lXvs1U9ftYH/vs5WXXFVt0gVlKcP6+Wewr75pFusYYOSCggFhdQVUD6Sf0pVZVAFTvh0rd++lqm1gv5oj7dY0NO6quj2SU+5qrsXnzbaaCPX9UpYyaxlYWW/3mvcHXVtkmvK1nJD+1MwwFduxben/b766quuUi/TQMPqWkbBiXh51QpElWpqgRN2KSIzdW+iJ5izBVniZdD7+NgzPs99991nauUUJlWSqdJDFTq6PsQDMDo/CgKri5tMSRVG8vUVgmq5o6fQ1UImnjQGi56kDZP7fP4V9FJlqJ7eVfKVn6r40lPFvgIsfmxqaaKKKD39nynJVIEiBS50rNmSKgr1GVQ3PvHzIxs9da/ApM6xT/HPp5+f6TVbty8K3Om4w4rKTOuH82TcqVNJC41wvr4raiXjx1kKl+mzpJYB+nzJJJ4URD3ssMPcbH0Ps3nKX8HTsDVPfFuVea8uIxVczjWpJcRFD15oq6ywip19UJ9S586PUaOWOjtttLPbrD5zF464wLVIPK/jea6VoxboWnra0FPtzyV/RoEcrf/AayNSQaLjbL011rNVll/F7WPeH/Ns2k9T7Z5XhketeDKVebN1NrdT9jzF1FoznhSIf+bdZ+zp8U+VGgvtiJ2PsL233Ce+Ssb3uV6zFcxRsH+TZpuUCkwpGPTm52/Y6I9G27z5JZW6GXdWjpnF+H2vzDXYdz8YEuizpCD7888/77pv1HU8fv3Q9y2f40mpBd7gwYNdMfRd1bUxvk8t1HVL12Zdu7IlBbd0DVUAQPdnXSO1nlpA6Frhu6TKFsjRdrUNtfgJyyAXBa+173PO+fvBkPi9Wdc/Bb/atGmTVkStrwd9tEytWdQq16fwQYF8XIP9dit7f9c1U11WqtVWmHQsul7KQd1ghtd6dQ2mB03ymXQe9LtB5zU8J34fKo9aX2m/8RYxlfVUa1i1ks70W8/v37+qHOruM9PDFT6PgpZqPe1bXfv5etU9TV3d6nOqbYVJ3cypZXGm4w/zaVoPCOl+6lvVxZfzHgEEEEAAAQQQqGkCBHJq2hnleAohUC2BHHWVoe5yKpL69u3rAkFqkZPPpIFKM1Uq5nMfS/u29CT42o2buS7TFqaeFJ80c5LNTHXvszQk/VGvMTlUmaPKFwVANt10U1dppD+a1c2FKob1pOrSlFRho+NQxY+eBv3666/d/wo+lJV89zzqhkUBGg0Snct6ZW230Mv1hLeeRg6fiq3OMikApMrAli1b2syZM935kG9S8CZb+VRRqq5hdG1StytL2+dTlWgKvqtbQgUJ9flUd2xJFqrw2m233dzxyk0VrOr2b4011nCVZDqv2oa+x7Uh+RY5PhDkj1lduMlKwZ7yJHWRtm4qyN9s1WY269dZ9s3Mb8rsDq082y9vXo3jo+7q1NXcjDkzXLd15d1GIfNX5vteE67BvhtPtQ7UbwR93xXA1TVYY3jpvqpWruVJPpATrpNLIEf5VQbd01QGXX/10EW8cj3cbnxaXXopAKLrjbrWVCvQQlWsV+b+ruNSoEbHotai6rJLXcYV6lj0x4Xui3qAQ93nqWsyBciWtqTvrO5nui/rc61udDONVbe0HRflRQABBBBAAAEECiFAIKcQ6uyzpglUSyBHaGr9oi4EiiEVW2ucYjChDAgggAAChRfIFsgpfMkoAQLVJ5BrIKf6SsSeEEAAAQQQQAABBBBAoDICBHIqo8e6CJQIVFsgRy1qNJh8fGD16j4RGkhcfavraXESAggggAACxSRAIKeYzgZlKZQAgZxCybNfBBBAAAEEEEAAAQSqRoBATtW4stXaJVBtgRyxqjsz9eleyKSBSSvazVshy82+EUAAAQRqrsBB2/3LdttsN2u8QmN3kOoeav7C+dEBv/7Z63b/2Pui90wgUFMENE7OoEGD0sYj8WNl6XugB280zsuUKVNqyiFzHAgggAACCCCAAAII1DoBAjm17pRzwFUgUK2BHJW/kF2s0aVaFXyC2CQCCCCAQKUFBhxzla2xyhpZtzPvj3l22tBTsy5nAQKZBHbZZRc3flemZbnO01hdI0eOzDV7ufPtuOOOdtFFFyWud99997nB7BMzsTBnAbWO79ixY875s2XUWEmffvpptsXMRwABBBBAAAEEEEAgEiCQE1EwgUCFBao9kKOS3nrrrda+ffsKF7oiKz7xxBN2/vnnV2RV1kEAAQQQQKBKBVqs1sJ23nhnq1Onbqn9LFnyp7036T2bOG1iqWXMQCBJYOjQoVbRH3rhdvfbb7/wbV6n69SpY927dze1zMmUZs2aZXoQ5/fff8+0mHkVEGjbtq1dddVVFVgzfZVx48ZZ//7902fyDgEEEEAAAQQQQACBDAIEcjKgMAuBcgpU9O/7Oi1atFhSzn1F2TVejlrmVFcwZ8yYMS6Iw7g40SlgAgEEEEAAAQRquIACJJtttlmljnLhwoXWu3fvSm2DlYtLYM0117QLL7yw0oV67rnnbNSoUZXeDhtAAAEEEEAAAQQQqPkCBHJq/jnmCKteoCCBHH9Y1dHNGt2peW1eEUAAAQQQQAABBBBAAAEEEEAAAQQQQACB6hUgkFO93uytZgoUNJAj0g4dOrjWOeqvO5/p119/da1wRo8enc/Nsi0EEEAAAQQQQAABBBBAAAEEEEAAAQQQQACBHAUI5OQIRTYEEgQKHshR2dTVWt++fe3ggw9OKGrui9QKR+Pw0JVa7mbkRAABBBBAAAEEEEAAAQQQQAABBBBAAAEE8i1AICffomyvNgoURSDHwzdr1syOP/5410qnvAX77rvvTK1vFMSZNm2a3ySvCCCAAAIIIIAAAggggAACCCCAAAIIIIAAAgUSIJBTIHh2W6MEyhsv8Qdfp0WLFkv8m6p43XjjjW377be37bbbzhTg0fswTZw40QVsxo8fb2+99ZbpPQkBBBBAAAEEEEAAAQQQQAABBBBAAAEEEECgeAQI5BTPuaAkS69A0QZyll5SSo4AAggggAACCCCAAAIIIIAAAggggAACCCAgAQI5fA4QqLwAgZzKG7IFBBBAAAEEEEAAAQQQQAABBBBAAAEEEEAAgQwCBHIyoDALgXIKEMgpJxjZEUAAAQQQQAABBBBAAAEEEEAAAQQQQAABBHITIJCTmxO5EEgSIJCTpMMyBBBAAAEEEEAAAQQQQAABBBBAAAEEEEAAgQoLEMipMB0rIhAJEMiJKJhAAAEEEEAAAQQQQAABBBBAAAEEEEAAAQQQyKcAgZx8arKt2ipAIKe2nnmOGwEEEEAAAQQQQAABBBBAAAEEEEAAAQQQqGIBAjlVDMzma4UAgZxacZo5SAQQQAABBBBAAAEEEEAAAQQQQAABBBBAoPoFCORUvzl7rHkCBHJq3jnliBBAAAEEEEAAAQQQQAABBBBAAAEEEEAAgaIQIJBTFKeBQizlAgRylvITSPERQAABBBBAAAEEEEAAAQQQQAABBBBAAIFiFSCQU6xnhnItTQIEcpams0VZEUAAAQQQQAABBBBAAAEEEEAAAQQQQACBpUiAQM5SdLIoatEKEMgp2lNDwRBAAAEEEEAAAQQQQAABBBBAAAEEEEAAgaVbgEDO0n3+KH1xCBDIKY7zQCkQQAABBBBAAAEEEEAAAQQQQAABBBBAAIEaJ0Agp8adUg6oAAIEcgqAzi4RQAABBBBAAAEEEEAAAQQQQAABBBBAAIHaIEAgpzacZY6xqgUI5FS1MNtHAAEEEEAAAQQQQAABBBBAAAEEEEAAAQRqqQCBnFp64jnsvAoQyMkrJxtDAAEEEEAAAQQQQAABBBBAAAEEEEAAAQQQ8AIEcrwErwhUXIBATsXtWBMBBBBAAAEEEEAAAQQQQAABBBBAAAEEEEAgQYBATgIOixDIUYBATo5QZEMAAQQQQAABBBBAAAEEEEAAAQQQQAABBBAonwCBnPJ5kRuBTAIEcjKpMA8BBBBAAAEEEEAAAQQQQAABBBBAAAEEEECg0gIEcipNyAYQMAI5fAgQQAABBBBAAAEEEEAAAQQQQAABBBBAAAEEqkSAQE6VsLLRWiZAIKeWnXAOFwEEEEAAAQQQQAABBBBAAAEEEEAAAQQQqC4BAjnVJc1+arIAgZyafHY5NgQQQAABBBBAAAEEEEAAAQQQQAABBBBAoIACBHIKiM+ua4wAgZwacyo5EAQQQAABBBBAAAEEEEAAAQQQQAABBBBAoLgECOQU1/mgNEunAIGcpfO8UWoEEEAAAQQQQAABBBBAAAEEEEAAAQQQQKDoBQjkFP0pooBLgQCBnKXgJFFEBBBAAAEEEEAAAQQQQAABBBBAAAEEEEBgaRQgkLM0njXKXGwCBHKK7YxQHgQQQAABBBBAAAEEEEAAAQQQQAABBBBAoIYIEMipISeSwyioAIGcgvKzcwQQQAABBBBAAAEEEEAAAQQQQAABBBBAoOYKEMipueeWI6s+AQI51WfNnhBAAAEEEEAAAQQQQAABBBBAAAEEEEAAgVolQCCnVp1uDraKBAjkVBEsm0UAAQQQQAABBBBAAAEEEEAAAQQQQAABBGq7AIGc2v4J4PjzIUAgJx+KbAMBBBBAAAEEEEAAAQQQQAABBBBAAAEEEECglACBnFIkzECg3AIEcspNxgoIIIAAAggggAACCCCAAAIIIIAAAggggAACuQgQyMlFiTwIJAsQyEn2YSkCCCCAAAIIIIAAAggggAACCCCAAAIIIIBABQUI5FQQjtUQCAQI5AQYTCKAAAIIIIAAAggggAACCCCAAAIIIIAAAgjkT4BATv4s2VLtFahoIOf/AQAA///5wdHMAABAAElEQVTsnQm8ddXcx9fT+DRqHjSiCc3GkFIIvQ1SKKVQeStNMvaGQkVSkqhMFUKKTGmQRkmUSKM0z5HmeXjvd9f/WHc/e5/53nvOvd//83nuOWfvtdde+7vW3nut/28N05ZeeulnkiYBCUhAAhKQgAQkIAEJSEACEpCABCQgAQlIQAISqCHwute9rthz/vnn14RwswQk0IrA85///FZBKvdPU8ip5OJGCUhAAhKQgAQkIAEJSEACEpCABCQgAQlIQAISeI6AQo5FQQK9E1DI6Z2hMUhAAhKQgAQkIAEJSEACEpCABCQgAQlIQAISkEAFAYWcCihukkCHBBRyOgRmcAlIQAISkIAEJCABCUhAAhKQgAQkIAEJSEACEmiPgEJOe5wMJYFmBBRymtFxnwQkIAEJSEACEpCABCQgAQlIQAISkIAEJCABCXRNQCGna3QeKIEGAYWcBgq/SEACEpCABCQgAQlIQAISkIAEJCABCUhAAhKQQD8JKOT0k6ZxTVUCCjlTNee9bglIQAISkIAEJCABCUhAAhKQgAQkIAEJSEACY0xAIWeMARv9lCCgkDMlstmLlIAEJCABCUhAAhKQgAQkIAEJSEACEpCABCQw/gQUcsafuWecfAQUciZfnnpFEpCABCQgAQlIQAISkIAEJCABCUhAAhKQgAQGgoBCzkBkg4kYcgIKOUOegSZfAhKQgAQkIAEJSEACEpCABCQgAQlIQAISkMCgElDIGdScMV3DREAhZ5hyy7RKQAISkIAEJCABCUhAAhKQgAQkIAEJSEACEhgiAgo5Q5RZJnVgCSjkDGzWmDAJSEACEpCABCQgAQlIQAISkIAEJCABCUhAAsNNQCFnuPPP1A8GAYWcwcgHUyEBCUhAAhKQwBQisMwyy6R//etf6aGHHhrqq5533nnTfPPNl2666aahvg4TPzkJWD4nZ756VRKQgAQkIAEJDB8BhZzhyzNTPHgEFHIGL09MkQQkIIFJQYAXzAorrNC4Fhy91113XeO3XyQw7ARe8pKXpEUWWaRxGZdffnm6++67G7/rvvz4xz9O88wzT3rqqafS29/+9vTkk0/WBR3o7ZtttlnafvvtizSedtpp6bDDDhvo9Jq4qUXA8lmd33PPPXdac80100wzzVQEePjhh9NFF11UHbhi67Rp09Kiiy6allpqqfS85z0v3XPPPYln32OPPVYR2k0SGGwC3AsIvrk98MAD6eKLL843+V0CEhgDAryHXv7yl6c555yziP3pp59Of/zjHyf1+2SmWWZL8y+5Uppp5llHEX3kvrvSg/+6edS2yfhDIWcy5qrXNN4EFHLGm/gQno8G2zPPPDOEKTfJEpDARBGgh/7xxx8/6vQ4qzfeeONR2/wxfARodNHQmuq20UYbpZ122mkUhuuvvz7tsssuo7ZV/TjllFMam9///venO+64o/F7mL7st99+6RWveEWR5GuvvTbttttuw5R80zrJCVg+qzP4Jz/5SZprrrlG7eRZduONN47aVv6x9NJLpw996EPppS99aaJtkBvthP/93/9NN988+Z1Q+XX7fbgJ7L777mmDDTaovIhPfepTijmVZNwogf4ROOCAA9Lqq68+KsITTzwxfec73xm1bTL9eM0HDk3PW3y5GS6J9+ip+w9nO7mTtqFCzgxZ7wYJdExAIadjZP09AGcnjo9yg4qz8DB/4oknimlX7r333vTrX/+6soG0yiqrpK222qrRs+6WW25Jhx9+eGVC3/jGN6Y3vOENaZZZZin20wPvpJNOmiHsK1/5yrTjjjumhRZaKM0222zF/scffzxdc801aYEFFih6IB9zzDHppz/9aePYtddeO2244YYzNO4aASq+PPLII+mII45oqwdzxeFukoAEBpTA7LPPnnAWxbOGZCrkDGhmdZCsvfbaK73tbW9LBx10UGIExlQ23pP77rvvKAQ4MT/4wQ+O2lb+gQOU93nYtttuO67vwD333DOts8466Xvf+17l+z/S1c7nJz/5ycS7H7v66qsTcWvjT2DhhRcu6lLUqd73vvcNtdBq+Rz78vOtb30rlRuAcOcerrMFF1wwffe73x31Ti+HPf3009NXvvKV8ubGb551ZYfdueeem372s581wtR9mUxlvO4ax3O7PJ+l/a53vStRLqts//33T7///e+rdk36bdTz8Bnkgu0VV1yRvvnNb076a/cCx5dAlZj6i1/8Ih155JF9S8hscz4vrbjetmmW6aM7MLQ6wZ1X/SHd9vezWwXreP+aW+ydFl1xrcrjfvP5jSq3D/LGOeaYI/3qV79Kt956a9phhx1ajqZSyBnk3DRtw0KgXI9vN93TRnplOUSjXVpNwr373e9O733ve5uEGL2L3nK77rrrqGlYDjnkkLTSSiuNCnjCCSckhJbc6ElXfilWOVYPPfTQtOKKK+aHVn4vO21+8IMfpPnnn78ybLON9Ez+2te+1iyI+yQggSEkQAOQaVf22WefxBRUVc+bIbysKZvk97znPekDH/hAcf30vEbY11LRueHoo48upoVoR8iB2Re+8IW07LLLFp0zPvrRj44rRno6MoVFu6OHmiWO0Tg4gOl0cuyxx6bf/e53zYK7b4wIbLLJJg0BsZ2RFWOUjL5Ea/nsC8aWkeB4YVrHrbfeugjbSsjJRdv//Oc/6Yc//GG6/fbbi45drPfF+x5x+MEHH6w8N53CTj311Bn2Ma3b//zP/8ywvbxhMpXx8rVNxG95/pc6ZZf268wzz5xe9rKXNUaWTmUhh46adDYt2xZbbJH+/e9/lzf7WwI9EaDTX3QWIKJ+CzkvXGuztOL67+s4jU8/+Xg67Qvv6Pi4dg6YNtPMadY55k7TRv4tv+42aak13lwcNoxCDgmnIwf5yDTq2223XXEtdX8UcurIuF0C7RNQyGmf1ZiE5KW19957J+arZq5pjJEvd955Z/Gdhg/z9tLgCvvnP/9ZiDnxe6211iqca3lmMoKHUTq5feQjH0nrrbdeYxONJ0SUfOhqPg0FTtczzzwzXXnllYmeW8xfmgs8obpHhAhSDE/HQURvfIz5srmeKmN9AOzss88uendXhXGbBCQw/AQ+//nPF/PxK+QMb17SEYDe2Dg8WA9h8803H96LGYOUx5o37Qo5Y5CEtqNkFC51CkbvMvJWG34C+VowjJqj3jasZvkcv5yj1z1TpWGthBymSsWxy2wBjGKoE2zqUs8zJ0Yi0jZgDQTsnHPOSWeddVbdYY3tk6mMNy5qAr/Isxp+PtJ2Kgs5r33taxsjcuiwEX4IOvQg4GoS6DcBpuZiVAfWbyFnrgWWSGts/ok06/S50/R5FyrO8czTT6XHHrq3+F7+M+vsc6WZZ5ueCHPqAZuWd/f990pv+kB6wauePc+wCjl02gw/48EHH1z4GOtAKeTUkXG7BNonkPv+2z8qJUfkdEKrzbA0cHCSXXLJJUUP9vwwpk+jQhnTFJUbXFWjbRjaiNgSVp4TuzwSBgGGMKSBRhZDze+///44vPikJw7TdmA486InX7HhuT9vfvOb0x577FH8YnTPGWecke9ufKe3z/Tp06eEkIMYhxBGJeW8885rDDnlBqTRgPPvb3/7W9GruQGo5gvHUB7oOfb3v/+96PlQE7RyM2UF0ZDeZzTEr7rqqq7XZ0DYW2655Yo4EBjH0xBBlx3p0Q4PFhfnOhAwYf2iF70o/eUvfxnP5HR9Lu63F7/4xUWvVkavsFYGTrjyvdfNCWBE+aJs5c+Curg4/6qrrlpMqQhPRt31Yy2U8RZyEJKZw/8FL3hBcX9wnzDlUK/WKc+q83UaB1NZrrzyyunRRx8t7ncE+F6NMsfziOfvH/7wh1EjPOviZuRnTInz1a9+NZ188sl1Qcd1e6c8e31+1l3ceAs5OFW4V7l+nr3XXXdd4/1Bx5BmTtZBc5TzTlphhRUK5xDPHATfbozF1+lNzbOOKWAYJdSOMbUtzwreizwnGGl22223FfUtFsGmTtZtmto5fz/C9NMpy/OB/GCk93333Ve8P6jvtWu98hy08sl1c02vetWrirrbX//616b3V7ucBiFcJ0JO1NmrOoq1cy25kIOI3MlsBMTfrzI+SHWudri1CtPtO61fPFulr9391HWijsF6a7SLEA0x7r+HHnqoZVS0Y6n7EZ5637/+9a+Wx5QDTLSQQ7uKEeyXXnppMWqW9NH25/lDu+3Pf/5z2202jltjjTWK43huRSfR8jW3+n3UUUel5Zdfvgg2bEJOr++jVmzGcz/3CG1uPnmOUVeh7hf3Sbdp6bRNMFZtrLEUcnI2b9n75MRomLuv/XP684/2y3c1vi/zio3SSzbYsaWQM8d8i6Y5R/4zdduTjz2cHrjrhvToA52PWOtFyEFwmmuB54+kY7H01BOPpQfuvjE9ev+/imucb4kV0723Xl1cR+Piar7MOjLt3LyLL5+mzz1/uv/O69ODd980UrbaXw+V5xMjqilP+DA23bReAFPIqckEN0ugAwLU/7oxhZxuqLU4ppmQw6HbbLNN2nLLLYtYfv7znycqVmFU/BBNsKeeeqpw8v/2t79NON8wXvw433jZ84DFmAIFxTyM0TTMU4qVRZ4IwyfTpzBCB+d51bzC7Qo50Vjv94gcnNE4c2adddY82U2/4/BBYGnX8dMsMkY+sQ5RcMYBwsstfpMHLKDJ9CdLLLFEIyrEM46tEkQQJxi5hYAT8cSBxHfhhRcWo5qIo8qodO07spYDDZwQA/NwOK+Y1xwGZfvMZz5TiAGcl3MxNQbhmZIjTwvsvvzlLyfmOx9Le9Ob3lSIiVVD/nG2xfUx1VGdsxnnJ6yZDoTyguGwwonIPUGvktVWW63YzjVTMWE0AnNDR56xHWYhVOI8ZVqRGI3GwYxGq6vI4DhkqhLiyzkWJx35gyPxs5/9bKVQh/DzxS9+sXGtHEPekyek4+Mf/3jREIwedOzHsUsDrFzGOTfTZL31rW8dFR/HYDSmKQPNFmPnmj/84Q8X5yRfqIxzPpw1PHcQlXGIjvWIHObz5r7Kr/vZq0jpgQceKMon64KVrR88+xFHpIvySRnEmVouGzC84IILimsp5yXHH3jggYWDPz8OgZ7yy7OZ6TxxeMd+yjE9rZkas854/rCGAccQnnuwTuDDKc9UmXEfkl4cRu94xzuK43h38GzmGXLXXXclBBDeAWXrJ89en5+kjfuUDgo4+2M0KdML0ZD+0pe+VExlyva6ETmMnOUZjgCfGwxaTUGQh99oo42K5x8iXG7kCw160rDIIosU7wSeH2GLLbZYkXbOz3OHPCD9Vevp8W6veg9FXF//+teLZ2eUIbZzfjhU5WUcl38iTvKcCodEvo+yQZmkjlA2nqdM7xccEW2OO+64YjRBzoT08PxvNp8/jilGr1Bmy8bxGNeIEP6JT3yiHGTCf3OPIbbgqHr9619f1DtIFO8hps3Ljfv1sssuaypo0wGCugnlp2zcxz/60Y+KfCnvi9+98ByE8smzifIS60JyzdSJqTuxLzdYsp2yWme8F6lnUO+KegbvIRy03HdMTZY/J9///vd35XiuO39sp+3Amljx7KVTAO9zpmDG8d1sRA6dxsKBG9On0cbgOZcb2yh3Ve/XCNeNkNPPMj4odS548D6gUxx5Qjmhrsi7gLWLEBKoj8X7ljVaWAw8t27faf3kmaen2+/UFak78vyKeyHi4v7jXqEuzvuKumTV1Hwcx1qz66677gxxxHuRdyHvtXasEyGnlzYB7z5mxIjnDWmlvUj9L4z3MO197sP8fUtbjbpeGPdevEuJh/YBIm25zUj81EOY+qgTG0Yhp5f3Uc6G+iv3I2sGc6/S1uJepV3Ie+Db3/52I294H9DhFSc1U+ZGPQXuecdX6pLUoyNPyTPq2Nz/Vca6i/ho8jpOhONY6vjHHHNMbBr12c82QbdtrDxBjPSiLUo7hHcC9zmC6/nnn19cQ92IHOpp1HeCWR5n3XfquFXvpHaEnKVf9rb00rfuVCnkzDTLbGnVjfdIi67wqsT3sj3+8H3p0p8dnP59/aXlXbW/uxFy5l5oqbTyhrum+Zd68QzxMpIIQ7C6/Yrz06U//eIMYZ7dMC296HXvTMuN/K+6lv/ccmW69KQvti1Ose417TeMNsFvfvObZ09T+quQUwLiTwl0QUAhpwtoY3VIKyEnF1ouvvjiosEdaaGiG5U6RiLQA4ee2zH9DRU3Hpr0cqKxzouQl2beOGA4JI1OjHBUjKuMBjfOQBa6rpq+o07Iwcm8/fbbN5yGIQhRGcqnd6s6ZyfbqMxUOSJaxYFzlJEDvRqNDYSzbqxqqhsaJzR0yo2ccvw4dakclh04hMMp/JrXvKZ8yAy/adDjDMwNQWTJJZfMNzX9XhVH0wM62IlDhEXW84ocDeBoCOVRlYXK2EelnAZ0VLBje3yGczwXAsORR0WbinxYLnjiJKACUzacM1UiSDtrSuFweec73zlDb3AWF8cZWzYaezTgqngQNhz6cRz3MuUV8aeZ0VBgfa1f/vKXMwSjlyBOzpxLHohjeRbhbKTCvvHGG+e7+/Kd8sB18GzLjXPnZYV9OEUY3ZhbP3j2Iw7ShOBBmSmnO08v32lM4pwojzz7/ve/XzTo8/BcM+X91a9+db658b1VvnzsYx9Lb3nLW4rwjNTaeeedG8eWvzBKhPVfckOUbFbZ4P769Kc/PWoazn7x7MfzE0co77y6PKHxzj0H4zohh3yN9YVyNs3E3jwcz3+cvzhT27G8o0Xe0aOdYwnzuc99rhitVRU+OmGU9/FMayYIRnjyuq4sRhg+uQbWBMxHJyLUIma1a3VpwoHAvtwxQl7w3C/nc6diW7tp6zXcN77xjbbLA+diXQPKcpXtsssuacMNN6zaNWobeUI9Lt6TsbMXnoNSPukFn3du4tqq3iFxzYi4Mfo8tsUndXKEnrr3Is/ccp0OEY26fb+M9zvP4mb1YcpEOI7LI/0RnxCb2jWcw3QKqbNuhJx+lnHudzpVNbOxrnNxbt7bjIits3KZo/5InSCsl3daP3lGerr9xDFL5y/qhu0YnQSo/+dGm4B3Vf4cz/fHd5hSN2qnPHci5PTSJuD6y+vWRnrb+aS9zshTjLp5XZumHBd1R8QGnkHt2rAJOb28j4IJndJoT8W097E9/+R9WBb5mdaedyliRRjlL3+/0hlm2ZEZJXKr87twv1MHb2WUbzrAlK0fbQLqRL20sUgTdSs6BdKpr87omBOdJfOp1Tg/Ak+5blYXT76dZ0a5g1GVkDNt2kzpTR87IT38n9vT+UfvmhZ64RrpFVt9thjhcvoXN8+jTCu/bZe01JrPtolG7Sj9OPfrH0wP3XNbaWv1z06FnJlHBKQ37HFsMVVcxPjk44+kmWedPgMnRglxTWWbPs+C6TXvPyTNPs8C5V2jflN+/3rywen2y88dtb3qBwJy+BLpIIvvr8oUcqqouE0CnRFo5ltpFpMjcprR6XJfKyEHJ044KsviB04RnCMYvVypfGDRMIspERhBQA9DXoZ/+tOfipdqEXDkD5WWvBKAIILjlwd4J1Yn5MT6O+EUR+ygMcPLuh/TBUUaqypIsa/ZZ+6Ubxau1T448oJi7YFoqFPZRjhjRFX05iYehrozTB7nSjjfqewFcxrY5ENU0GnQ0RCjsU9PNnr1IZxEnPT2pPJYrqAThpcr25luANGKHl1UQBHsQni64YYbZnDS0guJ89BAzytRpIHRKKSbkVnhDKiKoxWzdvfTI5ieiBhc6KlGowQWOPi4xkhjlZCTN9CIAx44XuFG5TGugX0Yjj3uGXr0UEZxjCCI4cjC6GmS92inwk0vI6aHiBE9cKvq/UbPKx7AOIG5F3G245SnpzrOobhOnKb0+CobeUJ6EGDjucD1RJnDQUPZwvGLowyjh1g0/PhNL764ZtJBz3YWK+Q7ZYJ0vPCFLyRoUSZhnF8L5897o+HcY1QTvato/HBs5AdxkL6xEHIQkujRiXHvkC88y6J3I/ci92SkpWq0Vj949hpHWagkD+HL1E40TImfey2cg5RPGo3585M8oezhhCMs1wyTuHbygDKAc5rnL88rBHlGJtQZon0Im816WMXx9ALdbrvtGr2yYjv36o033lg4gSkfUcbZT89bOhzk1ivPfjw/EbDyTg2ICv/4xz+K5w7lG9651Qk58GekZjT6uQ9wKrYr5NAARjQN4zxMi8c7gRGoNI4pI2H59Efl+zTC1H1SXsgL3k9VxrOS5yDPXfIwGmp1okkeB+UCcTqM9xHPdT4pE9QfWPg8yivlhedOGOUQjjg28/KDA4BnJc9yhB4ERazumZM7U7m/GL3M8wIjDYiV8U7ORbEiwID8wUkf19lOkqo6inAcz858xBF1NOoZsGfEBqOgEDLj3UK5KHck6IXnIJVP6tI4OaNHKXx4HzJykE4y3IMxWoJ9PBtwwOXGfUiZjmcm70VEH0SCxRdffAZRm+cvIya5B/pl3D84reMe4Z6mkw7PDZ5B1AkiP+Oc0V6I33zSCShG5FAXjPuSeyI3rpH6Q7MR2XChnYO1O7Vav8o45xyEOhc96zfZZBOSUxidHFhvBCGCEbhRZthJnlH/ZC2hELN7faf1k+ezV9DdX8oR7wvqH2HUf3m28E7kPqQ+FG0fwvC+Q7QJozwRR4g4UQapSzMinA6NdJ7IhUyeczzfmlneTmi1Rg7Prl7aBLy76VxGWjHeVzje6RjGKLowtjP6h3NF2yLnwT1KWyAvW5Qf2rW0L2gHMCIkyldduyLOV/4cNiGnl/dRXDsdTPP6HfVx6hl0fEOEKz8/aVfzzGUUFXUj8oO2Pc9b8iIXcmgn8t4lHG124uL5TFu9bJQRyj1x8A4i3xEmGAXJe5n6ClZX1+Eaem0T9KONlecJ6eXZx/Vw//I+KncozIUcwvO7zJztrYx3GHW83KqEHKYme/3OR6Wnn3oynXbgyIwjIyNZllh1vZGp0m5M9912TX54Wn6d96Tl1n53evrJkTWtr76w+P+v6y5Js801fzEdGyIQds9Nf09/PG7GTpejInvuR6dCDiOCllh1/eLo2y47K11x+jfTE488UPxmpNCqm+6VZpnt2TYBU6Sdd9QuM5z29Tt9I8214LMddTn2itOOTndedUF6auS62M6IpAWXfbYuzQifc0aEqUfuvXOGePINPGMYORl1Bcp07neIsAo5QcJPCXRPQCGne3Z9PzKEHF7mMUKFRlg4N8Lhyssc5x1Kd1g+moZGNw0qjmXKLUQceiTw0sd5hPObl2GV4ywXi4ibc3EeKjA0NogPQYKKdp3lQk5VmFZOw6pjOt1GxYUKUrtGA6DcMG332Lpw0WsZdtELNs8nzhmVbhob9NjGcFDFCI5clLr88ssLR3z5fDibqPhHJQin62GHHVYOVlRII958Jy9bhEEaRTgaaFRUWV6JIl0x/JmwOHuIA8NZG469YkMf/8Q9UtdDmh61NFQp3zhSuA/CqFzgjIlGH4IDzkqcNGGMAkDsiMoijWcqyrnBibzFykJOhINhiD11Qg7ccYxUlTsezDHEvtX9EiJdnBv+//d//zeq4hTXQ0U/jPRFXtPoxcGaCwIRLm/4U/GO62J/OEb4znMLdjlPGqP0cIYZVtfQKHZ2+SfvRc3zip5AMCtbnieEw1nMZ9m65ZnH020cCOfRO5WGBw2QsnG/06APQaBZ+Sj30qQByKjD/LoRhSgzdYYgRK9TjOOaTauWx5E/09iOg4/3UD4lW3n0Ud0okG559vr85JmKIBj3DzxxcOfGMx0RLBotdUJOfgzfmQqVxms7Qg4LDdMRIgznHoJrbpQbRL9w3OZCDuHI5yhb3Lc8B3kfRM+5PC7EEN5P7RgOCZzQWCshh/dyLvzCsmqUH88/eioHd0R7poHKjen7QmSuuldy0Z+1OMprJRAnDj7KNHWm8vXCivsMRyOOGUYGDaKRPuo6PM/iXcV9xPstN5694QzOt1Nuo07Idt6ZsCsbrKkfRjnnHZOPBuyV5yCUz7hmRuwi5mAwwwGavzsZaYOzF6MzRLmXP8/Y6HWMyMN7MX/G4qRm9E2wLHfMKiLu8Q8dthjFj/FeZ1R33gmD8o0ov2zWK7xKyMmTwX3O/d6snpiHL3+nHtCpkEMcvZbxSAe8J7LOBTvadqSD5w73KW2qMO4BOuEh6GBV9aVe32nE2y+exNWt5eWTZy9ljzpkbrwfqT+GmJMLF4RjFooQNXjfUefI658RF88qpnPC2B9trdhf/uxEyOHYXtsEed00F46oe5BXGO8/nrFYtMXKIzjyET6Ur3LHK+pucMZ4P8T3YkOLP8Mm5PT6PkJciRE1+E54VuYiNXnOcz4X/KvqZdF+Ij9yISfHHb6COiGHsPh/eBeV6ynsI22Inhi+Ie6FOuumTdCPNlZeh4UFz7mcJ+mljkUnibCykEPbh+d3J0bbtqreE0JOVVwh5FTty7fNPvcC6bEHn+38k28fmcwsrf/h7xVr5jzx6IPptwdvOXp3za9OhZzX7Xh4mmeRZYup3077wuYjn/9t33MK1s1Ze8cj0hzzLVJM8XbRDz416swvXOsdacX1tyu2PfbAPSMizY7F6KNRgUZ+rL7Zx9PiL3ldsfm+269NF3z72WdIOVz+m3pkzOTCswPfS9kUcspE/C2Bzgko5HTObMyOCCd1sxPwAqSyEOtyRFhGIuDswvgeL0Qaj/Q+4iWKIo7TJiqB8Tvi4BOHPD1/GRUQjcx8P99JA+dnmG3ulItwgyDkRFom8jMqZ3llG8cU/LG80pYzyx0kUSaoSCKO5M6E/NrWHRkJEkOvy872PBznoeKJQ41RPDTIEUVwOuAAbFbZjHLDnLNRwc3jjqnymsWRh+/mezDlHFQUzh7plVRevJMKL445nCu5MJGLaDgqcXoRT9nyKQypAIZzLML12miLePgkLsRVesvhVKQhz4Ku9FaNXr+teoPnTm4aqTRmm1Xk4/x5b7NmvRRJE2JwOB+iMUIZCsEZZzS97KsE3rwRUOWYiPR0+5k7BOqEtYgbR3NMrcL9UtUDuluecQ4+u4kj58l9+a53vauy0Ub8jIhgVBF50oxp3mjr1llID/SYtpNGUbsjqnIhpzyqgmsIQ+iMOPNnZeznsxueHNfr8xMBPtaly5/XxJ1b7vgdCyEn78l41llnFQ33/PzxnWc4z2Hu2Tqxm7DxHK0boRHxtfPZiZCTO0daOZLo5EDvdayKaS7kELbs4OD+5r2IVQmEOAh5NmGsJ4iYQe/QvE6DQIIIxOjO3AleHDRgf3JnIMJilZhdlWQcoXF/N6s7cGw+RWt5BHM/eU5U+Qw++f1cNS1LPgL+nHPOaYyAj+NjBDz1b57jVe/F/F7o9tkc56v6ZH2oGFFWVx54TuBgiXCDKuTE9XVbxuN4PieyzkUdiQ4zWLmjUbFx5E/e4ajq3d7rOy3Ow2c/eObxdfI9F9pz8aIcB20Tnt/Udcqj7PMyTpu3bl03jqWcR2e3VuV8IoUcOkrxHMa4bkZjYHmHsGBHR4x8yr1cyKmaKpz2J+85eOQdDIsTtPgzbEJOr++jXERjymzuu7LBkTZFiG1jKeRwbt7VjMhiVCftGJ4PtMfp1BWzMtDhhxF8ddZNm6AfbSz8RTHzR3mK7zyteb2uLOTk4Xr93g8hhzQw8uV5S6yQ5px/8UK4YWqzR+69Iy220mvT9HkXKnwMp+6/cVvJ7VTIWfOd+xTnJ/Lr//DTdPNfTi+mhXvmmacb52O6uGVeudHIiKE/jKTrrsZ2vrx2+8PSvIu9sNiGOINIU2Wsm/Pmj5/4rA9gZFTOqQdsWhVs1DZmCIr6N8/tqmULFHJGIfOHBLoioJDTFbaxOSgq6HWx43ShF1/ZcU34vEKOkJM7VyI+GutMpxWV3zqnGeGpmLBAOYIOFYboGRtx8Vmemi325aIEPThxkmA4ARCUWByQ6d/GymgskYZORuQglOAY5Zr6ZeGMKHPGAYLljhB6iyHgYAhppIOh8vnImipnQHHAc3+iMY5DK0b6xH56oNGrlIZ7K6P8VFkIOVUCIOGZaoURLVhdHMXOHv7Ura2AIEOlFiGDkWb0kmUIfG55ZbRVz/FwxIylkMM9wNB6GgPNrLxIZjls7uSu6nleDh+/Iz/53W7ZIizOVRyr5DHnxpo5l9kfIl+VY4L9vRgNTEYtYsSfO2LL8cY9wva8h2MerluevcaBYEj+YTTE8hEYedzxPZjymynUqkZ2RaOtbjRfxNXsk+dGOAtwHNDjrx3LhZxWjct49yEU5dNuxXm6yZN+PD/znvXtXkOV6BDXkX92MiInz+tW9zgNehjCtG4KmXg3jbeQw/RlLFaL8T3qBjmX/HuUCxzi5VGe0eCv62Gdv1OrnPF5PSU/J+8S6gOcE2EHp1l5Wo48/KB8z+uAdY77qrSWp3pq9i7AyRzvq/IopX7ynKjyGXxyIQchNx/9HmGibJYdpjDCWYoxYinqdXFcfPIuoi6O9VvIyTubtOoIkguerRzcEzUiJ5h1W8bj+Imuc+XTY7J+ad7RKNLIZwj35fpSP95p+Xl65ZnH1en3uH+qnu3luHAI0nak/MXISpzXvBex8ujT8vH8phMjnbmwqlF0xY7n/gyKkEOdg+vmnRQdqCL9dFgrd9bIhRxY4TAvW0ynXNchrxw+fg+bkNPr+yjKJ+9DOgbWGUI99W9srIQcpk/lOb3AAs3XMSENjAAqj3Rhe1g3bYJ+tLEQUuk8Wi7Lka74zDtJlIUcfAw8AzsxnrH4nsqdG0PIufufF6eLf/z5Isq5F1oyMcqlnRE5S6y2fnrJm3dIs8w+V8vk/ObzG7UMQ4BOhRxEJMScssGYKd+efOzhdO8tV6Xr/nBSuvfW0SO0OWaDT5yUEGkwBKhmFlO0Eebsw0dGPt43WhQqH0u9knsDYyrq6JSVh1PIyWn4XQLdEVDI6Y7bmBwVFYeYJoRKGQ3KmBefh3N5qHQkBOcaDjcsnOhRYWNb3iAIJ/UNN8y4HgphqwwhB6cz58kLTT4NWByXV6BwVsXooajw0MilYoBDAMGparqviKubz7wnTSfHV00118nx5bDhjKgTcqhQxTQ9rAWBSIeFkJM7ystxN/vNiI6YFoRwOMAQ5cIoC4gcOCeYsoCRAFQQw0ET5SfCx2c4/nEO5vPpx/68oVQXR4Tt9pM0MoycUUWR3rq4yuughOOU8CFq1h0bo1XGSsjJRS/SgDOSXnicj1FxjLiI3oOdCDntcs9HhtUxqNvOc4Y0MVXLG9/4xiJY3SKbEQcL2pJn+XMo9vX6GQ2ETuPhGRQOt/zYXDRol2d+PN+7iSPnWScy5efJp1PA8ZNP0RLhotHGnPH0eu3GeC6xJglGL38WRW/HciEHkYqyXWfxrKxr5HXDk7zjuE4tf37G9BzEgTiC0FRn8V4dCyEnOl/U8alLU9324D3eQk44gklX3sO4VTqrrruVkIMDLMTQKiGHc9L7mU4PMXVPXTqaOeTrjhnv7d06ZXOxspM0V62T0y+eE1U+4/pzIYe6FM+EskV9vSzk4GCl7o3RcSpGO5WP53fE0W8hJ9ZU4BytRr7xXItRIpNZyJnoOhd5kQvZzeoWUZcu15f68U4jHWHdPjPi+G4/89HHZTGi3TjzMt5stGzER2c26iQYI/l5J9TZoAk5dCxg3bewaNuX2eVCDtOCxpS4cRyfUaeZ7EIO19rt+4jpu2Ja7lbtL0aMxWiDsRBymJ6auk60d6kLMc09+Ue5IK34UaIO066Q00mboB9trHjXtRJumco5pirNhRyunzi6saopfBtCzrV/Tn/+0X5FtKyJg7jx6P3/Tmd/7dlnRdX5lljlDWnVTT7c2IVoct9t/0iPPvifNNOIT2XuhZZOc46stxN5NlZCDglgerTl19165LyzNNJT9eW2v5+T/nrywY1dXCsMurHffnmrxlo8dcfzvKI+gdH2qxJDFXLq6LldAu0TyH3y7R81MgHkSIVhxjmJOonBsDMQiBddCDkRIHdA1/Wui4Zn7vCgB0843RBTiAej0YizGGd+7uDnQUsvMfZHT8FIQ/6JgzzmvqSCESNMIkydkMN+pn4Jh17M9VznUI34Ov3EacgC1Z0YvfhJR7MhyZ3ER9hwRnQr5ORTUsGMylQzI+8RBC6++OJGr7U8HXynYs/6CITNLR/pUtfAHAQhJ9LMyCKmHmOYOYIHwgS9UBlJFhVarjFfByW/RtZpIH/qLPIO7s2mVqtbjyh3jpQdlnlvWSriVLypVJctBMlWDYlunNycK5z8cIr1eMppyH9TAWfBZsozljvqWS+J+7nOQhgrOybqwneynQYrwheGAFLVezqPjzQgHteNvuuWZ36ObuLg+bvjjjsW0ZSdg3nc8T2Y8rvOARd53EmjLeKPT8onjg0Mhza9/duxvHzk00VWHRvvvqrRhITvhmc/np/xjiINrUY5xDWMhZATjhvS0WoOdMK0sni+tZpKq1U87M9H/7Ya6UhZoncpVieuFDuf+xNMq54b/RBy4lyM3qHOwOhjRlTwfsGhkI9gRdDk3Tqoljtlm02VWU4/dcTo7X3VVVcV4kM5TP6buhLPWNar4J1QZb3ynKjyGdcS9Wl+dyrkcEyU22b3Fx0b6OCA9VvIwfnHdEBYK7GWdwdrZ2B175Fi58ifEGLHe42cOH+3ZXxQ6lwx5TXX0+wejTZW+bnXj3dasOSzW555HN18x8FJnZHPuhGVreKl3k99D2tHlMjLee4grjpPL0JON22CPB/yqdViRI5CTlUutb+t0/dR3tGtVfnMO0p2K+REJ6AqQTLvsIUoT126PJIvnzZ8LIScfrSxwn9QLsvlXMyFsfJ9Shs+1kUsH1f3m/yDGe3o3KqEHPbPPOvsIyNynpphvZn82DfudXyadY55ik1X/+7YdN0F+BJG+1RW3nDXtNQaby7CjKWQE+lacNlV0xKrrl9M5zbTLLMmRtDM8byFR40YuvCYj6X/3HJlHJI2+OTPCgHomZHp0i775WGN7XVfnnryifTAXTekh/59S12Qxvb111+/MRqZ+kKVX0khp4HLLxLomoBCTtfo+n9gNP7KQg6iCz0UcDBgfI8ef5EKRuqggOOUjUY5+1h7A8c2FYSw6F1R7s0TPXV40dJLtW6KIqaaYO0ArKrneDMhJ9LAZzTWy/Me52GG+XtcX7dCDlPD0djBWlUm6zjhiIpeWc0cjNFwJJ6qFy7boyI2kSNycN5xHzB6oaqXLMzgHg44ejYyFRyGQwYHDdbMwZL39KsScvKpU8r3ahH5yJ98LYGykMM0EQyTx2J0WvEj+0MDl300KMZKyMHpGuvFcD8zZ3Ynljd2m823Te/LWOC87Jjo5Hx1Yamk01DDWgl0dXHk27sRDfLj+d5NHEwPh5iMUbYRA8uCa7Fz5A+98JhWhHJSfuZHGD77IeRQfkkLxnsER0M7lgs5dc8M4uFdE8Puy3O+x3m64dmP52f0jCYdTFdBI7nK8p7SzZ6z+bHRQaPV1B0ck4+aKDdu8zjjO/cD0+mVp5OI/by3cYS1MyVNHFP32YmQQ8//KEvNygTnYrQfz3ms6nndq5BDmWKUMQINDpIqy+d1p34WzvGqsGzbY489Rr0/qUPRmYDn3lgb59l5552L07A+APWqdgwGMcK2lykY+8lzospn8OpVyMnfrUyPi3M3N57b1OFjqpx+CzmcK9oT1OcZRVvVwYF0MHUgU95ggy7kdFvGB6XOlaeDZy/5Um5n5U7Zcn2pH++0IqOf+9MtzzyObr9HO5TjmfKOKbfrjGkI6bRFh5R8LTTqyNTHqQPRCaY8nXIeX3SMYhv176r1ESN8Xrdttn5PhO+1TTDZhRyEAHwRYbzPqQuMpfX6Por2O2mkPUdbr8roBBeOtCohJ6+7UdfNyy/x5aJRlZAT78LysyBPS/h/2DYWQk4/2lj59MDN7qmcVzt13ZxDJ9/rhJxWcTAVGaN2MEQRxJEqW2u7L6X5lnx2GuGxEnKWf/1WI2LRBumi4z+VHrz7pqpkpFds9dm00AvXKPb949zj07Xn/rARbp2djx4ZObR48fvMQ7ZOjz98X2Nfr1+YAjrucZaDiLVG83gVcnIafpdAdwTi/dPp0Y7I6ZRYG+Gj4VXlHM4r91RamdIsXysHBwICSqveDiQjKrRlB3EIOYRh7nqmAaiyAw44IK2++urFrqoXcrtCTvRCaTXMvSoNw7AtKoLdCjlcY+4QaLaQOw08egbR2GGKpZgbOe+JWCcG4fyhQRc2yEJOjP5ifn7WvCk3grkGyuQaazxbccnLJw5HRjHgvMBOP/30Yk7j4sdzf+jtgxNs+vTpxZYqIYcd4SCvYopwQcMlRgaVhZx8pFzVekM0Crn3YvHK8n36XFIbH904uTk4r5xXOUobJxj5wrzFNEJwPnzxi18sdlG2cEAFz6qeiIjQDGtnPnOsWWOkCNDFn9w5Qvw4R8i3KmPqCeaznmuuuYoGT5Wju1ue+fm6jSOeGcRVJxxwryO8xsv7hiZTZEY57WVEDtOqxbSPCHb5tI35NZe/50IO+3i/0CjNjfuUaeHiXkF05t4pW7c8e31+5lNekqb8eRJppPc7zloa5NhYCDmsPcbUQBjvfwSOKvGB0S7c1zhm60bvEgdTIeJEJi5GgpWdC4ycZSoa7nHuX8LVWSdCDvcf8cUzo87pQNro/c+zEOO+QKTNrVchJ8oGz3BGJpd7bHKu3NFZdz/maaLjBc+8MJzn5bV9Yl+/P/MyUld/4zm+zjrrpFNPPTUxNRqGoIdTNfIkpnatSh/lgucr89Qz9Qwj9ML6yXOiymdcS69CTl5fJ05GWDLKnTo7HUWov8M9bCyEnNxxxqgcnqHl9Y/yDiekZdCFnG7L+KDUuWAc7S++02GDOiltPjpnUMcK5xb7q+pLcZ+xv5s2AceFdcszju/lE/GGZxHGlKV0EKmqt/Eeos7G+7W8FmM+WoH3HXUOmJUtXx+zimk5fKdCDsdHXaubNsFkFnLoLMb7OzdGc1JPGUuL+6Tb93suKDCigGfjjTfeOCrJ+XTI7KgScvL2NXXb6FgZEeUzRTQTcghPPaUsVtIRg3sp3t91dao4X5TTTtoE/WhjffSjH21M0cxIXsSn8rT6ue+I9A6ikDPziJDz5ueEnCceeSAxzVjZllv73Wn5dd7T2DxWQk4IMQgw535jp8rpzhZ/ydpp9c2eFZtu/NMv0xWnHd1I10vfulNa+mVvK37fd/u16YJv79nYV/6ywDIrF2EfG5k+7srTZ2yjlcPTXomRvtQ1uX/KFu+6888/v7zL3xKQQJsEwhfUZvBGMIWcBorevvDyxZm1yCKLpN12262IjBc1Di96rOZiTT6/Mtvp0YfTnmmFmB5jhRVWKBwuhx9+ePGyL/dwYtopHD2IPjiqqeDggGI6MV6sRx55ZMLREobjAqdL9OTDqcPUALzUsXKFmIbpKqusUvRyjQr6OeeMzMv5nMOgOCj7QwWHyvlkE3IYDQJnnJ9cH85PKnBUXnGYhRhBjzAcsgg9ucOQihYiF3mcT78BOgQMegAxBQq28sorF4641VZbreFILDckqDjGCBWcjDjcadhzLNPJ5A4F4qRMUAajxxqOqbgeyiuVL5xqXE8IKaSTitlyyy1HFEUc5Hu5olbs7OFPsCOKBx54INFjmimycFBQvpluDUcT6cT5SO/vfOQOjUUaTWE0HLlPKOM4ZFmIOyrEhKkTcqKRQBiY4qQmDhxlOEbDqct+RtBxL0UjIJ8fnP2szYSoBEvWw6JxnR9PfnIfMq3ZTTc92+uGRj9D0HHqU1mCPwaP3OBChb1qChzKBL1xo2wgalC2/vznPxcNa3gwyo/KVu6czNc7yR1enJfGNI1t8n3FFVcsFpcNZyz7yZN45sRzhe29Gs+8EL64x3h+nnnmmUU64M0wbxoJIShxPq6V+wzrB89+xMF9nK+pwH1I3lNGySccDNxnCFEYwj15EAsAU3Zf/vKXJ9ZpwHhes+2GEbGHRlFuLOReJQbkYfjOdYUAQzniHmvHykIOx1A+6PVPWV922WVHTZNA+WPasLB+8OzH8zMEg0gX6wTFO5P84p7NnxlcB891GifhVEKYIF+4X8PooUZ5JA/LIz0QFS666KIIWnzSQOc5HMb6G7w7GVmLAM1zh3s2jLytajyxP4+L9w/vfpz0dATgvcA9E5aLV1wnz538PsJREyN0cUjmjTLud57PuUjC6CsclmGw5HnKu416EPcpz+0Q98qj/WBIGnFecG4Y40DhuRWOQCq2CCgxOhlhA2d5PD85d+5QJQ4c30xBSxz0AOe5R72Keg/WapQL91x0oCgOGPnDqCve5+NhvP+4JowyxfONjgLUL1kviHdzPOvLTOk5GSOlyDPKFtfCM4L6Ae813gWUsyjrPJPIg7B+8pzI8sk9hMMsOitxb1LPhhnGfcI9EKNqea8jPCHWwC6MqQMpp+3YWAg55Wcfz27eidzvtBkQ6GNEUKQRhysjucj3MEQ7pvTCuM+pC3C/lIVVprei3OQMIo745F6iwxpGHZReu51Yt2V8UOpcXCv3IXWguI+aXT+cN95441FByvnaTZsgIuyWZxzfyyfPceqf0f7gWhE7eY5TVnnX8QwnjWHltRipB/HciTomdWXevbRN+E65pb6Ut2urpvTknqe+GkaZj3oO7wTe+WHUqXnHlUXRbtsEpI37KkaV8x6i3UwdOqZW456iA1XUO2KqVdo2iFnUFagvUc9F9MJ4ZlG/jXYcjHgX4FCHG+IEdRvClafqimvNPxktHgvNv+c97ynWacn3131nbdwYcU0YroVtUWetO67X7b2+j3hW0XajLoCRbtrdiC2USXwdvAtyqxJy8hGvvJd5xpKP1KFoS1EPDqOeRBuOeyDa1jFymzC0eSmPdKDgOMpo2YlHXYd3EdPA0hbiOdOPNkGvbSw40o7IedI2pR7BMwAfSPgPggf1F/KxbjRUhGv/c1qaf6mV0mxzzZ/WeMcnCjYP/uvmdM3Z3y+ieOapJ9O/r780PfXk402jfNNHf9SYsoxROTdfclp6+D+3p/mWWDG94FWbptnnWWDU8Zf8ZP/0yH13pfvv+O/MOAQg/OzzPNtW4/cyL3trWvAFz3aSvuTEA9nUsMce+He699bRI8fX2eWbac75n62rs07P5b/5Rrrjqj+kJx97qJgybcEXrJFW22TPxjRwrAV098iaQGGMLlp/z+Ma1/Lwf+4ohJ7/3HxFeurxR0biXjwtsdr6aanV3zzC7HlxWDrjS+8uztHYUPGFckv7CKODU1XHcIWcCnBukkCHBMrvgHYPV8hpl1SLcFRU83Vq8uBUrlizJoyXHS+13MlLo6z88ovw5Tn9ceTlx0a4WJA1rzDEPj6pDFDJRvzJGx+5g4dwUbnkeyeGM6rZwpOdxDUIYes4xtQsuRhB5RAHCRXsz33uc43k507NKodoI2DpC/HRUzZfT4dKN/+bGY2ecFhFOJw0VLJwCFU9KDgPDbG891ocyydx0puun5azy+OlghyOv9he1ysZzvSKrTPKOxypcNYJOeUet3VxxXbSRz6H1ZWR2M/5ueeigcp2toVjMqaUiPDNPml0Moquysg7BMcyu6qwbKsaLYjQkE+bUD6WdGP5s4NGKr2S+2WsZ0E5DYGjVbw0mGhchsjXD579iIN041Rl1EvOq+p6KFM04hEJw3KHbGyr+yRfqkZjVIXHARjp4Ry5Q7wqPNvy5xYjvqqeIXEs9xmO0TzefvHM0xHnq/uESfn5iYMeIT5G6VUdi1MnGqixP1+XLhfTY3+rT+7LfE0WnPAILoyAaWU4SZkWLoSNcnjuVxrmVfWBPCwONcQ1nuVYPq1qHq7ZdzokIDbmxtogIT7n28vfuT8RI/MOAfnorDw8ThZ6yHJNlJ0or3kYnFyIiVjueMvDUAbKx1ZdQ34M32GT1+Wov+UjXcvhx+L33nvvPapHf9054BPTOEYYnFB0BmrHeEcymoP6QVg/eU5U+cQ5FyNO47r4zNeEqbvOqmk9ecdRByqXJ97t8OYexcZCyCHefP0jflcZacmfA5R/yi2fOCqp47VrtAFwftZZr0IO8XZbxgelzsU1MI0qPf5zQZztGAI87xPKInlTFnII0+s7jTjCuuUZx/fyiTBA2y8E5mZxIW5U3ZuI1NFprtnx7Is2WB4OAYR3fidWNZq/mzYBdVDqrWWL9gLXhYM7LKYhp+MYnR7C6GRAe7/8nGE/zyDen/k0sXEcn+1Op9mtkIMwkQvadFyLKVPzdPT7e91zupP3O+1yRsw0K5/UDaJOViXkcF25qNTOdeL4jjVHERhxglflbcTFiLYQRGNbjNbrV5ug1zYW6UKs5HnT7FqoW+TtXo5rNrUd+9u1pdd8S3rp23ZpGvyWS89Il/1qdIfI8gGMYmE0SzNjlMxsc/5X/CDs77+1x4iY88/iMASSVTfao1kUM+y74Dt7pftuu6axPUbkNDY894U1b6bNNPOozaxtc/7Ru47axo/5l3pJeuXW+xfCzww7KzbcdtlZ6a8/P6Riz+hN+eh03r1VHZoUckYz85cEuiHQzLfSLD6FnGZ0OtiHQ5mpZapebPTGzh0DREtPwH333bfR8KL3+7rrrjvD8TQAGE6e96yrE1pizZ28olfl2I/LwhFC5Sx3MrEvn3ItwrbzyUMep9dksZjmLr8eKo/hIKRhHD15Quwo91ZBoIsRWsRDZY7KTPS0z+PmO8IPDR3irhrpwPReCAnlckYPHyqf0fM/9tOQwGFGb9Py9Bucj+vBEcgULTTGiCOOZT9WVX6f3dP93xAjKd+ID+VzEjPORxwjVOTrDAGDObVpxMGe64Eb3GlYUibptVon5BAv4hhOzjwNxINwQo/A6LFL2FyY4zcODe5jGuu5cTxOb/bR0z9fjyRPS77QfX581feqaYnycFTQaazUOVbhSa96nhP58ySPA8cCI51yFuwnzfQqxKGUL1JJY44KfT+Nc1NmGWVWTgfngS3OXnqa0wsxt37w7EcckSZ6aZInVS9oroNelgjpZUc97wJ6XFZdf8Qdnzgn6SgQPf9ie9Un7w7uBwwnMD2KW1nubMKZSacF1j3hnsNxyDOG9NN7kEYr15VbP3n2+vykIU85zkfEkFbSzIg87nUY5Q1QpgaLERr0El5yySXzy2v6nXh5f/M8KhvPHHpy5s7XCINAiWhUnsok9uef5CdCIPd/Xl44N89uhHB69PKsDcOpxPsgDx/76j7rHEX0VOUdl4/2izgoGzgiEInL5YJeqIg7uRGG3p0hWJPusvDGcwynRrwfY6QVx3K+Kp4RL8ITxzcz3ocvfelLG0FwfOUdKho7xvgL5Yae2eXroa5BT17qCFXlimTx7MS5WOe4olzgDKWRnpcLju03z4kon9SvcJKWOzbkHQ+qBAHKD2WETkllo3zjEGS0L+WJkcqMtudcPOMweipz3rEwnGfU7ct5isOM8zOqLUZjcX6cgvGbMkQZLnfyqUon1waDZmsz9UPI4dzdlPFBqnMFP0aCUDYWX3zxohMD9SzKGu0rOuiRR/noxTiOz17faXlc3fDMj+/lO/Vv1ugqj2yNOKlzcm/Aps64x6hPwrLq3cSoVYSzqudeue1Vd458e3lkUOzrtE1AHYn7q/ysjnuQNhsjisLivPl0Xdx38KPjXXmEHc9o3nnUCxj9Rr0hN46lk05Vb/k8HN+7FXLofJe/ixl9xHtkrK1f7yPKB3Vq2mpMWUv5oi6AH4R6Fp1mqEdhdUIOIwIpf+X6PPVf2pvUg0KYI0/oOMTotDBEQuo8Vc9w0hCdKsOvQBzcM9Q/+9km4Nq7bWPFtfBeZ8Rt2ZdBmqnDcT9QlwpjO/dA3skr9nX6yVoxL99yv8pnRMR11W+/k66/8Gfxs/bzRa97Z2KNmrJg8ujIK3johgAAP1xJREFUyJm/nvzlkRE4dyaEltj/9FNPpvOO3LkYuUOk8y/54vSqbb/YNC35yRFnOP6he25rbEaAWXDZVRP7iH/mWWdv7Isv7LvpklMT18WonSqbdfpcadVNPpwWWf6VVbuL0Te3XnZ2uuGin6eH77m9Mky+kXcTdXeMuhEdUMsjGNmnkAMFTQK9ESi/V9qNTSGnXVJDFI7KBiIEjimmk8Cxi3DEi5cKIRVqhrq2Mx3PEF32UCWVihzTBfCipLcyw7z5Hz2mm10MjR0ckTjUEWgYXdHOcc3iHO999NSl8csoBBzQ/GZKLSrY8GCaiRtuuGEG51+zdNKIKjulqEhT7qlolxs/eVxMDwFPnLQ0FpmCgYpnu4ZTmzyhRxfO+Zh2qt3j+xmOSjrOA5yROLLgCE9EqHYNUY/GNCyY7qGdKRvajbuTcLzYaHjRsKWhxXUgkA2bUTbpJc+zmIowZaROTBvLa6PXa/SGJW+b3RORjrKQkz9rqu65OG4sP3t5fpIuhBruV/KE9yCCZDtC2FhcE88O3s80iGnkkp5upivhvuedQu9wyhbv//G8Jt5LPHN49tC7FSd3N9fRKWN6sOLkRnTnOQ9HOCBscf08/3D8VTVAq86VO6wQSevWmqs6diy2Mf0LZZXOGjz/uMZ2DYcQz89lR6Zv4X6njkGdofyezOPrN8+Ie6LLZ6Sj35+UvVgnIhy0/T5HHh/1e57jGGV+PO6x/Px875eQE/F2U8YHqc4V11H+jE53OIzpANHMen2n5XF3wzM/vtfv1O2Zjof6J+8i3mkxarrduOkEw7OL9wr1cTrvNHtutRtvu+F6bRO0e57xDteNkEOdIu/MQH7QqWs8bKzeR+W6K3WXVkJOXC91ixidRF0+OpXE/maflCvORYcA3um0rxDoJsp6bWORP0z5hoDFVHLUMYbNEE6e9/zl09wLLZ0e+vct6d5brmo5LVs/r3GW2eYYmYpttfTvGy4rxBZGAM2z6AvSbHPMU/ghSBP/EXnas2kj17Jkmnfx5UamgZ555Nhb04Mjx7MWUCfGSEKmbsXw1ew70jG1yhRyqqi4TQKdEVDI6YyXoSUggSlAoF0hZwqg8BIlUBBghBs9hzGmysKx28yaCTnNjnOfBIaNAM6IfAoqHPMx2mLYrsX0jg+BfGRPq/WXxidFY3+Wfgs5Y5/i8T8DQgRTaGLlkdzjnxrPKIFnCXQj5LBeaT6FMjMMDKPDvlkZ6ETIaRaP+yQwWQjk06oxureu04hCzmTJca9jIgko5Ewkfc8tAQkMJAGFnIHMFhM1gQSYjpApETCm1WS6iWamkNOMjvsmE4HcYcV0SEz/Np6jmiYTy8l2LYxyYNQuI0LpSc13pmBitBTGCF6muMxHLE42BnE9CjlB4tlPeufzvGCqKUbB8Y5lHa+YQqluncfRsfhLAmNPoBshh+nNGOWKIeDkU0WPfYrH5wwKOePD2bMMB4F11lknfeYznykS22oEnkLOcOSpqRxsAgo5g50/pk4CEhgHAvSOZRqZMOZFZkoXjClpjj322GLNhtjvpwSmIgHm4mYaQZyPLMJcNe3JXHPNVcxxzbQasdYE01PFlIN8Z073iZgibirmmdc89gTodYyYg7E+Dw4sTQJMZ/btb3+7UZeoIsKaVnQcmQqWCzlcb7wTrrnmmlFrgUwFFgceeGAxjVjdtTI9I+uasF6KJoGJIMBaiDEVWLSHSAdC9O23t14rIxd/WFuFqdmH3ZgSkynomWINo44b35nCjzWuWH9Vk8BUJBAzN3AvsJ5n3Wgc2CjkTMUS4jX3m4BCTr+JGp8EJNAgsPbaa48SSBo7OviC4zefZ7mDQ9sOygLOeUOlfCBzde+5557lzf7ukgDzI7ea+72dqBkZMhkah+1c6yCEYY5vppCixzDTv7BId9nytR/K++J3LM4av/2UwLATWH311YsFu3HKOxpn2HOzP+ln7Tum2KuqW+CoZ20F1qsJY52otdZaK352/fnLX/6yo7Xtuj5RhweyzgNrSdFRJjfWxtpyyy3zTZP++3777ddYs6h8saxf+bnPfa5YVL28byJ/T/byOZFsB/HcxxxzTGKqv9xw0G600UZtlU3u97e85S1FfRHBejLYxz/+8cSog2bG1MM80zQJTCUCCJqnn356ccmsi8P6OM1MIacZHfdJoD0CCjntcTKUBCTQBYFvfetbqduHTH66sV44etNNNy0WlM/PGd9xuJx00knFguKxzc/eCDCtTEzT1UtM559/fjrggAN6icJjOyQw//zzp2222aa4J5gSpmw4LWnI4sSsMhZoZQ2RqtE8VeHdJgEJSGBYCSy//PKJDi0LLLBAMX0a04387W9/q+ypuvvuu6cNNtig50vl3drKidLzSbqMAOfuQgstNOpoeu1ONfFz1llnTdRrl1pqqcRIpZtuuildfvnl6aqrrko4ywfRpkL5HETuE5km1n/LjfrboJbPPJ1j9Z1Rloy+5f6tMjr9MSpXk8BUJLDXXnuln//85+naa69tefkKOS0RGUACLQl062OdNtJL45mWsRtAAhKY0gR22mmnxBzCvRhziDsapheCg3csjaF99tmn54T95je/SYym0iQgAQlIQALDTGC99dZLm222Wc+XcMghh0y6RcV7hmIEPROwfPaM0AgkIAEJSGCEgEKOxUACvRNQyOmdoTFIQAISkIAEJCABCUhAAhKQgAQkIAEJSEACEpBABQGFnAoobpJAhwQUcjoEZnAJSEACEpCABCQgAQlIQAISkIAEJCABCUhAAhJoj4BCTnucDCWBZgQUcprRcZ8EJCABCUhAAhKQgAQkIAEJSEACEpCABCQgAQl0TUAhp2t0HiiBBgGFnAYKv0hAAhKQgAQkIAEJSEACEpCABCQgAQlIQAISkEA/CSjk9JOmcU1VAgo5UzXnvW4JSEACEpCABCQgAQlIQAISkIAEJCABCUhAAmNMQCFnjAEb/ZQgoJAzJbLZi5SABCQgAQlIQAISkIAEJCABCUhAAhKQgAQkMP4EFHLGn7lnnHwEFHImX556RRKQgAQkIAEJSEACEpCABCQgAQlIQAISkIAEBoKAQs5AZIOJGHICCjlDnoEmXwISkIAEJCABCUhAAhKQgAQkIAEJSEACEpDAoBJQyBnUnDFdw0RAIWeYcsu0SkACEpCABCQgAQlIQAISkIAEJCABCUhAAhIYIgIKOUOUWSZ1YAko5Axs1pgwCUhAAhKQgAQkIAEJSEACEpCABCQgAQlIQALDTUAhZ7jzz9QPBgGFnMHIB1MhAQlIQAISkIAEJCABCUhAAhKQgAQkIAEJSGDSEVDImXRZ6gVNAAGFnAmA7iklIAEJSEACEpCABCQgAQlIQAISkIAEJCABCUwFAgo5UyGXvcaxJqCQM9aEjV8CEpCABCQgAQlIQAISkIAEJCABCUhAAhKQwBQloJAzRTPey+4rAYWcvuI0MglIQAISkIAEJCABCUhAAhKQgAQkIAEJSEACEggCCjlBwk8JdE9AIad7dh4pAQlIQAISkIAEJCABCUhAAhKQgAQkIAEJSEACTQgo5DSB4y4JtElAIadNUAaTgAQkIAEJSEACEpCABCQgAQlIQAISkIAEJCCBzggo5HTGy9ASqCKgkFNFxW0SkIAEJCABCUhAAhKQgAQkIAEJSEACEpCABCTQMwGFnJ4RGoEEkkKOhUACEpCABCQgAQlIQAISkIAEJCABCUhAAhKQgATGhIBCzphgNdIpRkAhZ4pluJcrAQlIQAISkIAEJCABCUhAAhKQgAQkIAEJSGC8CCjkjBdpzzOZCSjkTObc9dokIAEJSEACEpCABCQgAQlIQAISkIAEJCABCUwgAYWcCYTvqScNAYWcSZOVXogEJCABCUhAAhKQgAQkIAEJSEACEpCABCQggcEioJAzWPlhaoaTgELOcOabqZaABCQgAQlIQAISkIAEJCABCUhAAhKQgAQkMPAEFHIGPotM4BAQUMgZgkwyiRKQgAQkIAEJSEACEpCABCQgAQlIQAISkIAEhpGAQs4w5pppHjQCCjmDliOmRwISkIAEJCABCUhAAhKQgAQkIAEJSEACEpDAJCGgkDNJMtLLmFACCjkTit+TS0ACEpCABCQgAQlIQAISkIAEJCABCUhAAhKYvAQUciZv3npl40dAIWf8WHsmCUhAAhKQgAQkIAEJSEACEpCABCQgAQlIQAJTioBCzpTKbi92jAgo5IwRWKOVgAQkIAEJSEACEpCABCQgAQlIQAISkIAEJDDVCSjkTPUS4PX3g4BCTj8oGocEJCABCUhAAhKQgAQkIAEJSEACEpCABCQgAQnMQEAhZwYkbpBAxwQUcjpG5gESkIAEJCABCUhAAhKQgAQkIAEJSEACEpCABCTQDgGFnHYoGUYCzQko5DTn414JSEACEpCABCQgAQlIQAISkIAEJCABCUhAAhLokoBCTpfgPEwCGQGFnAyGXyUgAQlIQAISkIAEJCABCUhAAhKQgAQkIAEJSKB/BBRy+sfSmKYuAYWcqZv3XrkEJCABCUhAAhKQgAQkIAEJSEACEpCABCQggTEloJAzpniNfIoQUMiZIhntZUpAAhKQgAQkIAEJSEACEpCABCQgAQlIQAISGG8CCjnjTdzzTUYCCjmTMVe9JglIQAISkIAEJCABCUhAAhKQgAQkIAEJSEACA0BAIWcAMsEkDD0BhZyhz0IvQAISkIAEJCABCUhAAhKQgAQkIAEJSEACEpDAYBJQyBnMfDFVw0VAIWe48svUSkACEpCABCQgAQlIQAISkIAEJCABCUhAAhIYGgIKOUOTVSZ0gAko5Axw5pg0CUhAAhKQgAQkIAEJSEACEpCABCQgAQlIQALDTEAhZ5hzz7QPCgGFnEHJCdMhAQlIQAISkIAEJCABCUhAAhKQgAQkIAEJSGCSEVDImWQZ6uVMCAGFnAnB7kklIAEJSEACEpCABCQgAQlIQAISkIAEJCABCUx+Ago5kz+PvcKxJ6CQM/aMPYMEJCABCUhAAhKQgAQkIAEJSEACEpCABCQggSlJQCFnSma7F91nAgo5fQZqdBKQgAQkIAEJSEACEpCABCQgAQlIQAISkIAEJPAsAYUcS4IEeiegkNM7Q2OQgAQkIAEJSEACEpCABCQgAQlIQAISkIAEJCCBCgIKORVQ3CSBDgko5HQIzOASkIAEJCABCUhAAhKQgAQkIAEJSEACEpCABCTQHgGFnPY4GUoCzQgo5DSj4z4JSEACEpCABCQgAQlIQAISkIAEJCABCUhAAhLomoBCTtfoPFACDQIKOQ0UfpGABCQgAQlIQAISkIAEJCABCUhAAhKQgAQkIIF+ElDI6SdN45qqBBRypmrOe90SkIAEJCABCUhAAhKQgAQkIAEJSEACEpCABMaYgELOGAM2+ilBQCFnSmSzFykBCUhAAhKQgAQkIAEJSEACEpCABCQgAQlIYPwJKOSMP3PPOPkIKORMvjz1iiQgAQlIQAISkIAEJCABCUhAAhKQgAQkIAEJDAQBhZyByAYTMeQEFHKGPANNvgQkIAEJSEACEpCABCQgAQlIQAISkIAEJCCBQSWgkDOoOWO6homAQs4w5ZZplYAEJCABCUhAAhKQgAQkIAEJSEACEpCABCQwRAQUcoYos0zqwBJQyBnYrDFhEpCABCQgAQlIQAISkIAEJCABCUhAAhKQgASGm4BCznDnn6kfDAIKOYORDwOdimnTpqVnnnlmoNNo4iQgAQlIQAISkIAEJCABCUhAAhKQgAQkIIHBI6CQM3h5YoqGj4BCzgTn2XzzzZd22223NNdcc82QEsSTJ554Ij300EPp3nvvTb/+9a/TzTffPEO4VVZZJW211VZppplmKvbdcsst6fDDD58hHBve+MY3pje84Q1plllmKfZfdNFF6aSTTpoh7Ctf+cq04447poUWWijNNttsxf7HH388XXPNNWmBBRZIiyyySDrmmGPST3/608axa6+9dtpwww0Twk+79sgjj6Qjjjgi3X333e0eYjgJSEACEpCABCQgAQlIQAISkIAEJCABCUhgSAgo5AxJRpnMgSagkDPB2fPud787vfe97207FTfeeGPadddd05NPPtk45pBDDkkrrbRS4zdfTjjhhEJoyTcuvfTS6cgjj8w3FfFsvPHGo7YdeuihacUVVxy1rerH1Vdfnfbcc8/Grh/84Adp/vnnb/xu98spp5ySvva1r7Ub3HASkIAEJCABCUhAAhKQgAQkIAEJSEACEpDAkBBQyBmSjDKZA01AIWeCs2fBBRdMe++9d5p77rnTUkstVaSGkS933nln8Z3RMPPOO2+aY445Gin95z//WYg5sWGttdZKH/jAB1KemYzgYZRObh/5yEfSeuut19j08MMPJ0SU73znO41t++23X3rFK15R/EYsOvPMM9OVV16ZFl544fTyl798lMBz6623ph122KFxLILUBhtskOacc840++yzF9sfe+yxxPVU2TzzzFNsPvvss9NBBx1UFcRtEpCABCQgAQlIQAISkIAEJCABCUhAAhKQwBATUMgZ4swz6QNDIPf9d5KoaSOjO1w0pRNibYRl6jSmJbvkkkvSPvvsM+oIpk/bf//9G1OiMRKGETFhVaNtEFkQW8J+8pOfjJrCrTwSBgGGMKQBAWbbbbdN999/fxxefG6xxRbpfe97X/H9nnvuSVtvvfWo/fx485vfnPbYY49iO6N7zjjjjBnCsIFp2aZPn54UcirxuFECEpCABCQgAQlIQAISkIAEJCABCUhAAkNPQCFn6LPQCxgAAgo5A5AJkYRmQg5httlmm7TlllsWwX/+85+no446Kg4tRsogmmBPPfVUmnnmmdNvf/vbxLRr2HLLLZe++tWvJtbdiTVsfve736WDDz642M8fRtPsvvvuxe+yyNMINPLl2GOPLUbosK4NYk/Z2hVyWJuHkUYKOWWC/paABCQgAQlIQAISkIAEJCABCUhAAhKQwOQgoJAzOfLRq5hYAgo5E8t/1NlbCTm50HLxxRenT33qU43jV1tttXTggQcWv//yl7+kNdZYIzF12uabb15sY/o2HprXXnttetGLXlSIOeeff3464IADGnEw7RrTr2GE22233Rr78i+LLbZYYm2f0047rZh2Ld/H9zoh5+1vf3vafvvt0/HHH59YTycEoRNPPHHU9G7l+PwtAQlIQAISkIAEJCABCUhAAhKQgAQkIAEJDCcBhZzhzDdTPVgEFHIGKD9aCTmHH354IcKQ5LL48epXvzp9+tOfLq7m4x//ePriF79YfI8p2GIas6985SvFqBtG5fzpT39Kn/nMZ4pw/JlvvvkKkSU2HHPMMcVUa4zi6cTqhJxYf+dvf/tb+sQnPlGMEmLdnV/84heF6NTJOQwrAQlIQAISkIAEJCABCUhAAhKQgAQkIAEJDD4BhZzBzyNTOPgEFHIGKI9CyLnuuusaI1TmnXfetNRSSxWjXBZccMEitQgrW221Vbrvvvsaqc9H02y66abpuOOOSxx74YUXFmvRHHTQQcWUaxtvvHFiWrZZZpklXXrppYmROrnlYhHbORfn+fe//51uv/32Ij5G8jz++OP5YaO+50LOqB3P/bjyyivTXnvtVbXLbRKQgAQkIAEJSEACEpCABCQgAQlIQAISkMAkIqCQM4ky00uZMAIKOROGfsYTh5Az457/bkFYYVTNGWec8d+NI9/e9ra3pQ996EPFNr7vuuuu6a1vfWt67LHHEiNgXvGKV6QrrriimDqNETAIOfE7j2jOOecsRumsvPLKjbV08v18Jw2cnzV3nn766fLuUVOrzbBzZINCThUVt0lAAhKQgAQkIAEJSEACEpCABCQgAQlIYPIRUMiZfHnqFY0/AYWc8Wdee8ZWQs4tt9xSrItz5513zhDHZpttVqw/ww6EnEUXXTR997vfHRWONXTOO++8dPLJJ6fZZput6To4TLO2ww47JASd+eefvxB+RkU28qM8NVvsz0fkMMLnt7/9bbFrn332KQSlyy67LDH9myYBCUhAAhKQgAQkIAEJSEACEpCABCQgAQlMbgIKOZM7f7268SGgkDM+nNs6Swg5l1xySUL0WHrppdP73ve+9KpXvao4npEwO+20U7rppptmiI+p1rbeeutiO0IO9r3vfS/FdGxPPvlkYlo1LNbLueGGG9LOO+9cbGv1hxE8r3/964sp3fJC8/73vz/dcccdow7PhZxDDz20MXroXe96V9p2222Lqd2OOuqoYsQPglP5+FGR+UMCEpCABCQgAQlIQAISkIAEJCABCUhAAhIYWgIKOUObdSZ8gAjkPvlOkjVtRGR4ppMDDNuaQFnIiSMQQ1ZcccXi5913312IIbEvPhF8tthii2Lasw033LDYzOcuu+xSfGcqNOLBTjzxxMQUarfeemsx6qbYOPKHtXU233zzYj+jdurs6KOPTksuuWSx+2tf+1o65ZRTRgWtE3IIxLo9999/fxH+61//elp22WUTog7r9mgSkIAEJCABCUhAAhKQgAQkIAEJSEACEpDA5CKgkDO58tOrmRgCCjkTw73yrHVCDqLLD3/4wzTrrLMWx/Gd0Ta5MVJno402GiXksH+ZZZZJM888c7ruuusawX/84x+neeaZJ911111pu+22a2w/5phj0iKLLJKeeuqptMkmm1Suf0PgLbfcMm2zzTbFcSeccELiuNyaCTl5uJNOOinNMccc6Xe/+106+OCD811+l4AEJCABCUhAAhKQgAQkIAEJSEACEpCABCYBAYWcSZCJXsKEE1DImfAs+G8C6oQcQqy33nrpIx/5SBGYKdaY0ixfK2ePPfZICCiIMAg6zez4449PrIFzzz33NKZjI3wIOXxnXZtDDjmErzPYAQcckFZfffVi+/77759+//vfjwrTrpATU7ydffbZ6aCDDhoVhz8kIAEJSEACEpCABCQgAQlIQAISkIAEJCCB4SegkDP8eegVTDwBhZwJzoNp06alNdZYoxgJs9tuuxWpYcozRrr87W9/GyXWIKystNJKRRhEHEblXHjhhWmJJZYoplBbYYUVihE5hx9+eDFt2mWXXTbq6hBvVl111YToM3369PTII4+kww47LP3xj39Mjz32WDryyCOLdXnioHPPPTd94xvfSPfdd1+xidEzu+66a1p33XWL3/m6O2yYe+650yqrrFKspbPOOusUYc4555z017/+tfhe/sP6PKy9o5BTJuNvCUhAAhKQgAQkIAEJSEACEpCABCQgAQlMDgIKOZMjH72KiSWgkDOx/NPb3/72UevU5Ml5+OGHizVrYhtCCaNpED/Crr322rTccsvFz1Gfe+21V7ryyisb237xi1+MOjZ2nHfeeenAAw8s1tCJtXhiH59PPPFEQrRB/EF4CiuPxkFYWnDBBWN3258KOW2jMqAEJCABCUhAAhKQgAQkIAEJSEACEpCABIaKgELOUGWXiR1QAgo5E5wxL3vZy9JnP/vZUQJJJImROTvssEP8LD7XXHPNtO+++zYEmbPOOqsYIZMLLAREeNl9993T9ddf3zi+TmiJNXeYuo0p3DBG6zACp8ruvvvu9NWvfjVdfPHFo3bnU66N2tHix6GHHprOOOOMFqHcLQEJSEACEpCABCQgAQlIQAISkIAEJCABCQwbAYWcYcsx0zuIBBRyBjFXJihNiy22WDHt2s0335yOOOKI9OIXvzghHDF1G8IQotAVV1yRrr766glKoaeVgAQkIAEJSEACEpCABCQgAQlIQAISkIAEhomAQs4w5ZZpHVQCCjmDmjOmSwISkIAEJCABCUhAAhKQgAQkIAEJSEACEpDAkBNQyBnyDDT5A0FAIWcgssFESEACEpCABCQgAQlIQAISkIAEJCABCUhAAhKYfAQUciZfnnpF409AIWf8mXtGCUhAAhKQgAQkIAEJSEACEpCABCQgAQlIQAJTgoBCzpTIZi9yjAko5IwxYKOXgAQkIAEJSEACEpCABCQgAQlIQAISkIAEJDBVCSjkTNWc97r7SUAhp580jUsCEpCABCQgAQlIQAISkIAEJCABCUhAAhKQgAQaBBRyGij8IoGuCSjkdI3OAyUgAQlIQAISkIAEJCABCUhAAhKQgAQkIAEJSKAZAYWcZnTcJ4H2CCjktMfJUBKQgAQkIAEJSEACEpCABCQgAQlIQAISkIAEJNAhAYWcDoEZXAIVBBRyKqC4SQISkIAEJCABCUhAAhKQgAQkIAEJSEACEpCABHonoJDTO0NjkIBCjmVAAhKQgAQkIAEJSEACEpCABCQgAQlIQAISkIAExoSAQs6YYDXSKUZAIWeKZbiXKwEJSEACEpCABCQgAQlIQAISkIAEJCABCUhgvAgo5IwXac8zmQko5Ezm3PXaJCABCUhAAhKQgAQkIAEJSEACEpCABCQgAQlMIAGFnAmE76knDQGFnEmTlV6IBCQgAQlIQAISkIAEJCABCUhAAhKQgAQkIIHBIqCQM1j5YWqGk4BCznDmm6mWgAQkIAEJSEACEpCABCQgAQlIQAISkIAEJDDwBBRyBj6LTOAQEFDIGYJMMokSkIAEJCABCUhAAhKQgAQkIAEJSEACEpCABIaRgELOMOaaaR40Ago5g5YjpkcCEpCABCQgAQlIQAISkIAEJCABCUhAAhKQwCQhoJAzSTLSy5hQAgo5E4rfk0tAAhKQgAQkIAEJSEACEpCABCQgAQlIQAISmLwEFHImb956ZeNHQCFn/Fh7JglIQAISkIAEJCABCUhAAhKQgAQkIAEJSEACU4qAQs6Uym4vdowIKOSMEVijlYAEJCABCUhAAhKQgAQkIAEJSEACEpCABCQw1Qko5Ez1EuD194OAQk4/KBqHBCQgAQlIQAISkIAEJCABCUhAAhKQgAQkIAEJzEBAIWcGJG6QQMcEFHI6RuYBEpCABCQgAQlIQAISkIAEJCABCUhAAhKQgAQk0A4BhZx2KBlGAs0JKOQ05+NeCUhAAhKQgAQkIAEJSEACEpCABCQgAQlIQAIS6JKAQk6X4DxMAhkBhZwMhl8lIAEJSEACEpCABCQgAQlIQAISkIAEJCABCUigfwQUcvrH0pimLgGFnKmb9165BCQgAQlIQAISkIAEJCABCUhAAhKQgAQkIIExJaCQM6Z4jXyKEFDImSIZ7WVKQAISkIAEJCABCUhAAhKQgAQkIAEJSEACEhhvAgo5403c801GAgo5kzFXvSYJSEACEpCABCQgAQlIQAISkIAEJCABCUhAAgNAQCFnADLBJAw9AYWcoc9CL0ACEpCABCQgAQlIQAISkIAEJCABCUhAAhKQwGASUMgZzHwxVcNFQCFnuPLL1EpAAhKQgAQkIAEJSEACEpCABCQgAQlIQAISGBoCCjlDk1UmdIAJKOQMcOaYNAlIQAISkIAEJCABCUhAAhKQgAQkIAEJSEACw0xAIWeYc8+0DwoBhZxByQnTIQEJSEACEpCABCQgAQlIQAISkIAEJCABCUhgkhFQyJlkGerlTAiBroWcV7/61c9MSIo9qQQkIAEJSEACEpCABCQgAQlIQAISkIAEJCABCUhAAhKQQFMC0xRymvJxpwQkIAEJSEACEpCABCQgAQlIQAISkIAEJCABCUhAAhKYMAIKOROG3hNLQAISkIAEJCABCUhAAhKQgAQkIAEJSEACEpCABCQggeYEFHKa83GvBCQgAQlIQAISkIAEJCABCUhAAhKQgAQkIAEJSEACEpgwAgo5E4beE0tAAhKQgAQkIAEJSEACEpCABCQgAQlIQAISkIAEJCCB5gQUcprzca8EJCABCUhAAhKQgAQkIAEJSEACEpCABCQgAQlIQAISmDACCjkTht4TS0ACEpCABCQgAQlIQAISkIAEJCABCUhAAhKQgAQkIIHmBBRymvNxrwQkIAEJSEACEpCABCQgAQlIQAISkIAEJCABCUhAAhKYMAIKOROG3hNLQAISkIAEJCABCUhAAhKQgAQkIAEJSEACEpCABCQggeYEFHKa83GvBCQgAQlIQAISkIAEJCABCUhAAhKQgAQkIAEJSEACEpgwAgo5E4beE0tAAhKQgAQkIAEJSEACEpCABCQgAQlIQAISkIAEJCCB5gQUcprzca8EJCABCUhAAhKQgAQkIAEJSEACEpCABCQgAQlIQAISmDACCjkTht4TS0ACEpCABCQgAQlIQAISkIAEJCABCUhAAhKQgAQkIIHmBBRymvNxrwQkIAEJSEACEpCABCQgAQlIQAISkIAEJCABCUhAAhKYMAIKOROG3hNLQAISkIAEJCABCUhAAhKQgAQkIAEJSEACEpCABCQggeYEFHKa83GvBCQgAQlIQAISkIAEJCABCUhAAhKQgAQkIAEJSEACEpgwAgo5E4beE0tAAhKQgAQkIAEJSEACEpCABCQgAQlIQAISkIAEJCCB5gQUcprzca8EJCABCUhAAhKQgAQkIAEJSEACEpCABCQgAQlIQAISmDACCjkTht4TS0ACEpCABCQgAQlIQAISkIAEJCABCUhAAhKQgAQkIIHmBBRymvNxrwQkIAEJSEACEpCABCQgAQlIQAISkIAEJCABCUhAAhKYMAIKOROG3hNLQAISkIAEJCABCUhAAhKQgAQkIAEJSEACEpCABCQggeYEFHKa83GvBCQgAQlIQAISkIAEJCABCUhAAhKQgAQkIAEJSEACEpgwAgo5E4beE0tAAhKQgAQkIAEJSEACEpCABCQgAQlIQAISkIAEJCCB5gQUcprz6XnvTDPNlJ5++umu4+n1eE48KHF0DeG5A/txHb2mgeP7kY7JFEc/mOZx9INNHl+73/tx3l7j6PX4dq/VcBKQgAQkIAEJSEACEpCABCQgAQlIQAISkMDwEFDI6XNeLbDAAuld73pXWmWVVdJss82Wpk2blp544ol01113paOOOirdeuutLc8477zzpl133TUtueSSRRxPPfVUuvvuu9OZZ56Zfve737U8ngCLLbZY+uAHP1h8ko5nnnkmPfroo+nqq69O3/rWt9IjjzzSVjxbbLFFeuUrX5nmn3/+Ig6u49RTT03nnXdeW8f3GgjH9vbbb1/wnHPOOYs03Hfffemvf/1rOu6447qKfv/990+LLrpoevzxx9MJJ5yQzj777JbxvOlNb0rrrrtuIn+D5wMPPJBOOeWUdMYZZ7Q8ngC9xjHzzDOnbbbZJr3kJS9J8803X+L3k08+me6555703e9+N11zzTUt00E+vu9970tLL710mnvuuYvy+dhjj6VbbrklHXHEEQm2nVo3PPNzUL5e85rXpKWWWipR9slzyutvfvObdNJJJ+VBi+9rrrlmeutb31qEm2FntgEB9Xvf+1666aabsq2jv5KX3CfLL798mmuuuYp79eabb07HH398uv7660cHrvjVj/t9pZVWSu985zvTIosskuaYY47i2rk/L7300iJfexGCK5LsJglIQAISkIAEJCABCUhAAhKQgAQkIAEJSGDICPRVyPn2t7/dl8v/wAc+0Jd4xjuSl7/85YVTGEd0leGchtEf/vCHqt3FthVWWCF95CMfKZz0VYEuuOCCIo6qfbFtvfXWS1tttVXhpI9t+SfO/89//vMJh3Uz22mnnRLXVGU/+tGP2hYwqo5vZxtO7QMPPDDNM888lcHvuOOOtN9++xWCTGWAio2wec973tPY85e//CV97Wtfa/wuf8G5/uEPfzgtvPDC5V2N3zfccEP63Oc+1/hd/tKPONZYY420ww47pNlnn70cfeP3aaedVghTjQ2lL+94xzsKAQRxscoQDGCBSNaudcozj5f7ZPfdd08rr7xyvrnx/ZxzzqkU6770pS8VglojYJMvCJ8/+MEPKkPMOuus6YADDqiMC/GUfeRtnfV6v3N+BNuXvvSldacoBNdPfvKTCdFQk4AEJCABCUhAAhKQgAQkIAEJSEACEpCABKYmAYWcPuZ77mBm9AsjJBgNsNZaa6UFF1ywOBMO4r322qvWMXvYYYcVIyUIfP/996c//vGPxSgFRi2EA/6Xv/xlOvnkkytTzkgcRJoI+/e//70YcTJ9+vTCib/EEksUx9Hjf4899ihGdFRFtOmmm6aNNtqo2IXwc9lllxUiwotf/OJG3FzvVVddVXV4X7btueeeDSc/o5ouvPDCBL9Xv/rVievBcLQ3E1HyhOA4P/zwwxOfYa2EHJz5jN7BEOLgQL7CkXQEZ0blIG5VWT/iYBRVnIuRRH/+85+L0V2rrbZaQvwLq8uTFVdcMX3sYx+LYOnee+8t4njwwQfT2muv3SifcIZ7OyO2uuEZCWAky6c+9amibLMNttddd136/e9/X4w+I18ffvjhCD7q8+tf/3pRFikLlM2yIRBFHiPi1I1i4/zLLrtscfhDDz1UCFiMVGIkHEbcH/rQh4pROsWG0p9e7/f3vve9aZ111mnEyjVTvkg7AhmjhTBG8X36059uhPOLBCQgAQlIQAISkIAEJCABCUhAAhKQgAQkMLUIKOT0Mb+ZOut1r3td+vWvf50uuuiiUTHnzvw65/Ib3/jGtOWWWxbH4Wj/6Ec/2lhf5/nPf3767Gc/WzjzceTvsssujX35iZg2izRgVaMRcAgvs8wyxX6meiuns9gx8oeRGTHNE6Ni/vnPfxa7uMZ3v/vdxXcc70yrNRb2vOc9Lx1yyCFF1IwUYZRSTPuFgxsnOlODYVxTO1PW7bjjjulVr3pV4ZhnWjIc/q2EnC9/+cvFNGY49bnWfJouRpIgemDsZ4quKutHHDHajWnUPvOZz4wSObbddtv0+te/vjg1U6Sxv2wIgZG+Sy65pJhGLQ9DHjNyCGPqvJ/85Cf57srv3fCMiEgjognGaBNElXZHnXzhC18oRkh99atfrRw9FCIk4hCjyhCnysYUcwcffHCxmanlyEc+Me47pjvDEEwRTqus1/s9H/F27LHHpnPPPbdxGqYR/MpXvtIYmdduGW9E4BcJSEACEpCABCQgAQlIQAISkIAEJCABCUhg0hAYMyGn0+nRwlEN2U6PHYbcYNTDdtttVySVqdUYYVE2ev8zhRZWJbLk+3G043AvG2IDo3IwHPflEQuM4Nhtt92K/eeff36xBkfxI/vDVE9MJ4YxoufQQw/N9qYUwgSOcuKqGzkx6qAOfyC4IBRgjD75xje+MSoGRjmxdg72j3/8I+Hcb2b5SCXYbbbZZoWTvJWQwxpBCGNHH310uvzyy2c4RbBgB2IAo6jK1o849t5770JQYvRRWfBAkCJ9jNhBjNh5553LSShEL4TA2267rSFg5IGYJgxhAbv22muLKe3y/eXv3fIkHkQSxBKMkTCIdIiTnRhiXt0xkSe333572meffSqjff/7359e+9rXFvvKIsoss8ySjjzyyIIn4mHcC5UR1Wxs537nXkd4RXCtGmGXCz0nnnhisWZQzencLAEJSEACEpCABCQgAQlIQAISkIAEJCABCUxiAgo545S5rFmz/vrrF2djAfazzz57hjMzJdriiy9ebGfas7LDngXeN99882J/lcDCDhz+L3rRi4ow//u//zvDaAScxwhC2K9+9av0s5/9rPie/0GcQfDBmMbq4osvznenfEqoE044IbE2S7+NkUmMUMKqnNisFUPaMKYHY62VZoYAwqgmmMIW4YNROa2EnGZxsi8fyUL+XX/99a0OmWF/P+KIqdeYbiwEsBlO1GRDPvVaMwEkouiFZz4lGSO/yIN+GQJTjBKrEzs5F6NdWHsJMZL7pCx45nlSdS+2Sm8793urOPL77Mwzz0zHH398q0PcLwEJSEACEpCABCQgAQlIQAISkIAEJCABCUxCAgo545CpCAiMDEB8wHHMiImq0QT5mh377bffqGm8SObb3va2xIL1WJ2zPZ/6rGqx+H333TcttdRSRRyf+MQnivVIih/ZnwhDWhEFmNost9zpX3WOPGy33zfZZJO08cYbF4dXrT8z77zzNkYKtRIv8mnFYjqufgg5CAGMVmIkTB2rVtffjzjy67v77rsT+dqp5aM/6kZqRZz5+Trlydo4CDkY08QxMofRNcsvv3whgvU6uiume2t2n3FuRrwx8oYpDFmzqmy5iHLQQQelq6++uhyk9ne793ttBM/tiJFF/GSawaoRYa3icL8EJCABCUhAAhKQgAQkIAEJSEACEpCABCQw/AQGRsgZfpSjrwAnMaNnmEYqhBNCXHDBBSmfRi4/Kl/rpGr6NcSdWIidKaliirQ8Dta1QVyIxd5x/jL6Z/r06YUQFCN+mAIs1nfJj+d7OJDrBJJ8fRHij7VsyvH08juffisc/nl8TFf2lre8pbGpaho5djLt2OGHH15cf75ofD+EHAQTBAjsyiuvrJyyrNjZ5E+vcTCqCDGF/MXq1l9qkoRipFKsv4QA8slPfrJS4COOXnnmIhBlZ4klliimjIv0Pfroo+k73/nODKPAYn+rT0ZpIZjecccd6f/+7/9qg8c9mJeJPPBGG22UWGsHO+644xKCZTPr5n5vFh9lmzKOIW7tuuuuzYK7TwISkIAEJCABCUhAAhKQgAQkIAEJSEACEpjEBBRyxihz82nQ4hRVI0tiH5/LLrtsseg733Go49BG+MHe+c53pg022KD4zp86IYd9CC0sJs9ojyq76aabijVlYnH3cphwhtett4Iz/5vf/GZx2C233FKcqxxHr785xxFHHFGM1iCufJTImmuuWYxqYiRMWJ2Qs/XWW6c3vOENRTBGPLFGDNarkPM///M/6e1vf3sRF3nFOipV6+MUAWr+9COOfCq9utElNacvNiN6HHzwwWnOOecsfv/pT38q1oepO6ZXnmUBru48ddP+1YVn+6qrrtqYYu+nP/1p+vWvf10ZnPuCqdWwuvWVWBeJ9Wsw1qJimrZm1s39XhffC1/4wmKKxCjfVetl1R3rdglIQAISkIAEJCABCUhAAhKQgAQkIAEJSGDyERhoIYfFyFmUHPv9739fCBvDkgULL7xwMWUTogq99cOuu+66YsRM3RRS+RRXHMMUbDh0Y4RNxNNMQGHUDqMqYpRGHBOfHHvAAQekOiGHhd45X7ORADGiodXIhzhnN5/56A2OZx0TRgkhPuTGdoScssGeabzgV15TqBchByFpl112aZwOwY3y2Yn1I458+i+mv0PUYWq1dg2xjLVuWFcGQwhiqrPyVHoRXz94st7MKqusElEWeXrKKaeku+66K6299tqJafuwViODGhFkX2J0E8eSP3XlO19Hp24kVV72zjrrrPT9738/O9OMX7u938sxMfUc92bc75dcckkhaJbD+VsCEpCABCQgAQlIQAISkIAEJCABCUhAAhKYOgQGWsghG4ZZzIlixLo1/9/euYXo9L1xfF3pJ4emiFIG0STKJEQujEMiOSfJscw4hFIuuEEuCBeEiBxyuHAqcrqRUUJOkfMx5yHJIIzmws3Pd/2ttzXL3u+735/Xv/d95/OUefdee6219/7svW/W1/d5VNvGLc6GooLrp18trkvM0UJ/GFpoLykpsc1xC7xapF65cqUVL9RRtT3kspD4UVFRYdq0aWPHK4WV0jVFLdpv3LjRNG/e3Pz48cMWgrcDvD9ybyhdmSLO0eB1/6NNuZDk4nDuBDfZt2/fUo6jL1++WEeMO+Z+lyxZYsrKyqwoIAGhrq7OHWrgyJEQo0V/iUSZomfPnlYkcNdz4cIFs2fPnkzDGhzPxRyTJ082Q4YMSc27detWc/369dR+pg29Z3JtuVR9etYS/z5//hw7NBc8dc7S0lJ7DgkuEp8k4rhQusDy8nK7m03aPqWYk3NFz+X9+/d2Xjdn+Kt7d46yV69eGaWVC8OvNSU3jlw5SSOb792fU0LZqlWrUkKluCg9XNQ36o9jGwIQgAAEIAABCEAAAhCAAAQgAAEIQAACEChuAnkv5Ah/MYg5WrzWIrYirvaMPfjrj5wJ/fr1s4vetbW1VoxR2+DBg22PEydOmOPHj/tD7Pa0adPMwIED7XZUeiot1nfp0sUe37x5s7l586bd9v9oMVmCkBbaq6qq/EN2W4v/qtejuHr1qhVF7M5f+iO3g+5J9WgkuNy5c8fU1NRY94hO+fLlS+ssCU+/c+dOu7CvhXAt7vvhagXJ8SSBTenmohb0/TGhAHPjxg2jNHTZRC7mCEWcvXv3mvPnzye+jFDEkaNJz9OlnYubKBc8fUfOs2fPrPvEP58vEmaTKs4XXo4dO2ZOnjzpT/vbtoQccZCDSU6eMPwUcHHfSTjG38/2e5cTRwKsc5vp3nVdEtgICEAAAhCAAAQgAAEIQAACEIAABCAAAQhAoHETKAghR4+oGMQcLQg3bdrUvnFy3UhEyCb88UqJJQEjDKUS06JwnFgkR87q1avtsFu3bqWcNf48LkWV2iT8+I4JtfmL5kqLdeTIETX/X0MpwLp27WrPGVfDxKV/S3JhSnknASsu+vbta2bNmpVyBklMknMpm8jFHKrbovotLg4cOGCqq6vdbsZfpfmTaOPSqek9kYAgIStT5ILnpEmT7Pujc8lBJCdRGHLW6DrjHGFhf+3rnda7LfFRrp641IVurKsDFXcO//2SK0YpBLMN/3tN973rWUjkbdKkiT2FRBw5leJSw2V7HfSHAAQgAAEIQAACEIAABCAAAQhAAAIQgAAECptAXgk52SwUF1rNHL0mLmWZttMt7Op4GKNHjzZjxoyxzVp0d46YsN+WLVtsbZy4ujH6H//ORfL27VuzfPnycAozbtw4M3LkSNt+5swZc/DgwQZ9tLCtguwK1fOQsyJd9OrVy0yYMMHIWVNfX2/ryYRzphsfHvMdQRLDFixYEJkWbcWKFaZVq1bhcLsv54dCbh1dk1wtcthERSjAXLt2zabxiuob15aLOSorK03//v3tKSRY7Nu3LysnjtKPSbRx6fUkYkgQ1HuQJHLB0xdkHz16ZGsYhed2zh+lz5ODJ1O0bNnS1p1SP4mOEh8zhZ/iLUoUlcAkYUVC19y5c/9TerMk37u+CZ3fpV38+PGjWbp0adYib6b75TgEIAABCEAAAhCAAAQgAAEIQAACEIAABCBQuAQKVsi5dOmSyUb4+duPSC6YAQMGmCtXrkT+7/3evXtb8UbXIbeA6tMkDRVenz17tnWDaAFfC71xDgEJPK7uiVwKT58+bXCa4cOH25ozarx8+bLRonkYEnskCKneyPfv3+1iuqvT4Re8T7LQrvRVEo7cQrU7V9TiuTuW7lcihAQFl4Lq8OHD5vTp0+mGRB7bvn27kbCh1HJyTsSFahXNmzcv5cSJqokjgaVdu3Zm7dq1kQvwuZjDT5mnd0DXL0HJhUSHxYsX2/ci6pnqOejd0HUqJIBJzPDdVhLnZs6cac6dO5eVy0fzJeUp5nof5LjRO7Vw4cIG7hmlDpwyZYqmNC9evLDCk91J80f9M6UcDIfrmcyfP982P3jwwKxbty7VRd/bnDlz7H6c8yoX33tYE0fftIRViUcudF+qhaQ6TpkEUzeGXwhAAAIQgAAEIAABCEAAAhCAAAQgAAEIQKC4COSVkJMOrf8/+fNNxNF1+wKK6rHcu3fP6Dq1YK7F2IE/a7xIGFFEiQH2QPBHosX48eNNnz59Ukcy1aQZNWqUGTt2rO2v1EybNm0ycj4olJJrxowZtjaI9pWGzR3Tvh9K7dS5c2fb9PjxYyt2NGvWzNbtKCkpse1J0qqpHk+UQyIurZZ/Df62HDQjRoywabkkAig+ffqUqpPj943bloigGjWaa/r06fZ5qC7M0aNHbd0dfwFdc7Ro0cKsX78+xUsup/v37zeYXs+0R48etk3Cop65H7mYwxcdNLdcG2/evPFPY9PptW/f3rYpBZwT3lwntanmkguJAnV1dW7X/nbq1MnI3ZJEoNOAbHm6k/nCi9KIrVmzxtaqkdgpwVLzKpRizRer3PjwV++43k2FBNJMadXceJdeTfuqqaO6U2VlZWbRokWpa5DYFbJW/1x87y4NouZT3L59+38b3t/u3btb0SsuDaLXlU0IQAACEIAABCAAAQhAAAIQgAAEIAABCECgSAkUhJCT7yKO3g2/OHq6d0WL8HJORIXSLGnBvXXr1jY9mnOdqK9cGKdOnTIq5J4plO6sbdu2qW5a1Jfg4IQkHcjkRAmLr6cm+7UhJ4ecQaH4EfaTE2Tbtm2phXF3XA4DpcdLF0qZ1qFDByu8iIV//XJRbNiwIeP5/fmnTp1qBg0a5Delts+ePWv279+f2teGxJ6KiooGbel25OwRVz9yMUf4PP35w229J1VVVWGz2bFjR0qQ+u1g0JBUIMuWpzuN3FkSb5wgqHZdt/98a2pqrPPKjYn7lfik91Dx4cMHKzTG9Q3bJerJleOf1+9z8eJFs3v3br8ptf2n37vcT0pRmDQyCbhJ56EfBCAAAQhAAAIQgAAEIAABCEAAAhCAAAQgUHgE8l7IKQQRxz12Le4qvZqrv+La9auFaqUyUy0WOTuiwi8E7x//+vWrdcQkTa0k0UOpocrLy/1p7LauQ6LFoUOHfnNthJ0lLK34mcbsn3/+aXBIjiOlgIq7jwadf+7IIaSUblrA1/mfP39ua+uE/fz9jh07mmXLlvlNdlsuIzloqqurfzuWqWHYsGFm4sSJv3XTNYmH6gH50a1bN+vOiFvo9/tGpQnT8VzMoWvWtSeJOKFQLMU0SSR1vGXL0z+3XDdyakmICUPOFKX2yyQSapzv7pGrJonQ6Z/PT1votycRTv7ke5erTE4iX6z1zx9uJ3UnhePYhwAEIAABCEAAAhCAAAQgAAEIQAACEIAABAqfQF4LOYUk4vivggQLpdtSWiSlVpNw8fDhQ5uyyu8XbmtRV6nR5FRQyimlZ3vy5ElGwSWcx+3L2aNr0AK+CttLCFJqsDCllusf96vxSu+mOeRSqK2tjeuatr20tNS8e/fOzpO246+DQ4cOtfV+JBjJgaN/9fX1SYbSp0AIKJWbUqpJ0Hn9+rW5e/dubP2nqFtS6jp9axLjJL4kEX/CeeQak+gp0U3vp+pcJU3Pprn+6/ceXgf7EIAABCAAAQhAAAIQgAAEIAABCEAAAhCAAASiCOS1kBN1wbRBAAIQgAAEIAABCEAAAhCAAAQgAAEIQAACEIAABCAAgcZCACGnsTxp7hMCEIAABCAAAQhAAAIQgAAEIAABCEAAAhCAAAQgAIGCI5A3Qs6uXbtS8CorK1PbbEAAAhCAAAQgAAEIQAACEIAABCAAAQhAAAIQgAAEIACBxkoAIaexPnnuGwIQgAAEIAABCEAAAhCAAAQgAAEIQAACEIAABCAAgbwngJCT94+IC4QABCAAAQhAAAIQgAAEIAABCEAAAhCAAAQgAAEIQKCxEvhrQs6fACW12p/QYywEIAABCEAAAhCAAAQgAAEIQAACEIAABCAAAQhAAALFQgAhp1ieJPcBAQhAAAIQgAAEIAABCEAAAhCAAAQgAAEIQAACEIBA0RFAyCm6R8oNQQACEIAABCAAAQhAAAIQgAAEIAABCEAAAhCAAAQgUCwEcirkFAsU7gMCEIAABCAAAQhAAAIQgAAEIAABCEAAAhCAAAQgAAEI5AMBhJx8eApcAwQgAAEIQAACEIAABCAAAQhAAAIQgAAEIAABCEAAAhCIIICQEwGFJghAAAIQgAAEIAABCEAAAhCAAAQgAAEIQAACEIAABCCQDwT+BS7KuN3+tzwVAAAAAElFTkSuQmCC)"
      ]
    }
  ]
}