{
  "nbformat": 4,
  "nbformat_minor": 0,
  "metadata": {
    "colab": {
      "name": "03_extra_afternoon.ipynb",
      "provenance": [],
      "collapsed_sections": []
    },
    "kernelspec": {
      "name": "python3",
      "display_name": "Python 3"
    },
    "language_info": {
      "name": "python"
    }
  },
  "cells": [
    {
      "cell_type": "markdown",
      "metadata": {
        "id": "KSJ43gJYpL2x"
      },
      "source": [
        "## **Extra Problems for Practice - Intermediate Python**\n",
        "\n",
        "This colab provides extra problems for practice"
      ]
    },
    {
      "cell_type": "markdown",
      "metadata": {
        "id": "Fwmf9ZIba0gd"
      },
      "source": [
        "## **Problem 1:** \n",
        "\n",
        "Given a list of integers, write a function that continuously prints out a new list of sum of 2 consecutive elements in the previous list until there is only 1 element left in the last list\n",
        "\n",
        "\n",
        "```\n",
        "Input: [1,1,2,2,3,3]\n",
        "\n",
        "Output: \n",
        "[1,1,2,2,3,3]\n",
        "[2,3,4,5,6]\n",
        "[5,7,9,11]\n",
        "[12,16,20]\n",
        "[28,36]\n",
        "[64]\n",
        "```\n",
        "\n"
      ]
    },
    {
      "cell_type": "markdown",
      "metadata": {
        "id": "ea_-qD5470dn"
      },
      "source": [
        "**Student Solution**"
      ]
    },
    {
      "cell_type": "code",
      "metadata": {
        "id": "OLU0Fl_qa3eW"
      },
      "source": [
        "def cons_sum(int_list):\n",
        "  \n",
        "  while len(int_list) != 0: # while the int_list is not empty\n",
        "    # print the list\n",
        "    print(int_list) \n",
        "\n",
        "    # create the new list\n",
        "    new_list = []\n",
        "    for i in range(len(int_list) - 1):\n",
        "      new_list.append(int_list[i] + int_list[i+1])\n",
        "\n",
        "    int_list = new_list"
      ],
      "execution_count": null,
      "outputs": []
    },
    {
      "cell_type": "markdown",
      "metadata": {
        "id": "QgMLXZTb9PIX"
      },
      "source": [
        "Run the following cell to see if the result matches the given example"
      ]
    },
    {
      "cell_type": "code",
      "metadata": {
        "colab": {
          "base_uri": "https://localhost:8080/"
        },
        "id": "weYXLykh89pq",
        "outputId": "815e9a41-37ff-40a8-f5ba-f3725e4b8079"
      },
      "source": [
        "lis = [1,1,2,2,3,3]\n",
        "cons_sum(lis)"
      ],
      "execution_count": null,
      "outputs": [
        {
          "output_type": "stream",
          "text": [
            "[1, 1, 2, 2, 3, 3]\n",
            "[2, 3, 4, 5, 6]\n",
            "[5, 7, 9, 11]\n",
            "[12, 16, 20]\n",
            "[28, 36]\n",
            "[64]\n"
          ],
          "name": "stdout"
        }
      ]
    },
    {
      "cell_type": "markdown",
      "metadata": {
        "id": "xpnu4x948HHD"
      },
      "source": [
        "## **Problem 2:**\n",
        "\n",
        "\n",
        "Write a function to check if a number is prime. The input to the function is a positive integer. The function returns true or false. \n",
        "\n",
        "**Definition:** Prime number is a natural number greater than 1 that is not a product of two smaller natural numbers\n",
        "```\n",
        "# Example: 3, 7, 11, 13, 17, 23\n",
        "```\n",
        "\n",
        "**Student solution:**"
      ]
    },
    {
      "cell_type": "code",
      "metadata": {
        "id": "7rLvlpZqGqIe"
      },
      "source": [
        "def isPrime(number):\n",
        "  # primes must be greater than 1\n",
        "  if number <= 1:\n",
        "    return False\n",
        "\n",
        "  if number > 1:\n",
        "    for i in range(2, number // 2): #\n",
        "      if number % i == 0: #\n",
        "        return False\n",
        "\n",
        "  return True"
      ],
      "execution_count": null,
      "outputs": []
    },
    {
      "cell_type": "markdown",
      "metadata": {
        "id": "tVt-HVRLGvi4"
      },
      "source": [
        "Run the following cell to see if you have the correct anwser"
      ]
    },
    {
      "cell_type": "code",
      "metadata": {
        "id": "Q1QIIs-tGu1M"
      },
      "source": [
        "assert isPrime(1) == False\n",
        "assert isPrime(9) == False\n",
        "assert isPrime(17) == True"
      ],
      "execution_count": null,
      "outputs": []
    },
    {
      "cell_type": "markdown",
      "metadata": {
        "id": "Uy5BlKEKj9e5"
      },
      "source": [
        "## **Problem 3**\n",
        "In this problem, you are given a class Geometry, which is the parent of class Triangle, Rectangle, Square and Circle. You will have multiple tasks to work on for each class.\n",
        "\n",
        "The base class is given to you. However, the last method count_number_of_geometry() is not complete and you might want to modify it so that it returns the number of instances that have been created. "
      ]
    },
    {
      "cell_type": "code",
      "metadata": {
        "id": "SJYDIRKQkAdv"
      },
      "source": [
        "# This is the base class\n",
        "class Geometry():\n",
        "\n",
        "  __num_shapes = 0    # this is CLASS VARIABLE, not INSTANCE VARIABLE\n",
        "\n",
        "  def __init__(self, name = \"Shape\", points = None):\n",
        "      self.name = name\n",
        "      # name is string that is a name of gemoetry\n",
        "      self.points = points\n",
        "      # points is a list of tuple points = [(x0, y0), (x1, y1), ...]\n",
        "\n",
        "  def calculate_area(self):\n",
        "      pass  \n",
        "  \n",
        "  def get_name(self):\n",
        "      return self.name\n",
        "  \n",
        "  @classmethod\n",
        "  def count_number_of_geometry(cls):\n",
        "      # TODO: Your task is to implement the class method \n",
        "      # to get the number of instances that have already created\n",
        "      pass"
      ],
      "execution_count": null,
      "outputs": []
    },
    {
      "cell_type": "markdown",
      "metadata": {
        "id": "KwpIu1e2RE7j"
      },
      "source": [
        "**a. Class Triangle** \n",
        "\n",
        "1.   Make sure Triangle inherits from Geometry\n",
        "2.   In the constructor, \n",
        "we want to pass 3 tuples to parameters, which \n",
        "represent 3 vertices of a triangle. As this class inherits from Geometry, don't forget to call the constructor from the parent class. \n",
        "\n",
        "3.   You need to write a method that returns the area of the triangle \n",
        "\n",
        "4.   A static method is a method which is bound to the class and not the object of the class. It cannot access or modify class state. It is present in a class because it makes sense for the method to be present in class. You will have to implement the static method asterisk_triangle() so that it can print the triangle of asterisks like the examples below\n",
        "\n",
        "```\n",
        ">>> triangle.asterisk_triangle(3)\n",
        "\n",
        "  *\n",
        " * *\n",
        "*****\n",
        "\n",
        ">>> triangle.asterisk_triangle(5)\n",
        "\n",
        "     *\n",
        "    * *\n",
        "   *   *\n",
        "  *     *\n",
        " *********  \n",
        "```\n",
        "\n",
        "\n",
        "\n"
      ]
    },
    {
      "cell_type": "code",
      "metadata": {
        "id": "ghbIxH4UOnS-"
      },
      "source": [
        "class Triangle(Geometry):\n",
        "    def __init__(self, a, b, c): \n",
        "        # a, b, c are tuples that represent for 3 vertices of a triangle\n",
        "        # TODO: Your task is to implement the constructor\n",
        "        super(Triangle, self).__init__(name = \"Triangle\", points = 3)\n",
        "        self.a = a\n",
        "        self.b = b\n",
        "        self.c = c\n",
        "    \n",
        "    def calculate_area(self):\n",
        "      #TODO: Your task is required to implement an area function\n",
        "      pass\n",
        "\n",
        "    @staticmethod \n",
        "    def asterisk_triangle(triangle_size):\n",
        "      pass"
      ],
      "execution_count": null,
      "outputs": []
    },
    {
      "cell_type": "markdown",
      "metadata": {
        "id": "RaHRsL4dXf_5"
      },
      "source": [
        "**b. Class Rectangle** \n",
        "\n",
        "1.   Make sure Rectangle inherits from Geometry\n",
        "2.   In the constructor, \n",
        "we want to pass 4 tuples to parameters, which \n",
        "represent 4 vertices of a triangle. As this class inherits from Geometry, don't forget to call the constructor from the parent class. \n",
        "\n",
        "4.   You need to write a static method that checks if the shape is a rectangle or not. Put the method to the constructor and **raise error** if the shape is not a rectangle.\n",
        "\n",
        "3.   You need to write a method that returns the area of the rectangle.\n"
      ]
    },
    {
      "cell_type": "code",
      "metadata": {
        "id": "BJvB9d9_PALa"
      },
      "source": [
        "class Rectangle(Geometry):\n",
        "  def __init__(self, a, b, c, d): \n",
        "    # a, b are tuples that represent for top and bottom vertices of a rectangle\n",
        "    # TODO: Your task is to implement the constructor\n",
        "    # super(Rectangle, self).__init__(?, ?)\n",
        "    super(Rectangle, self).__init__(name = \"Rectangle\", points = 4)\n",
        "    self.a = a\n",
        "    self.b = b\n",
        "    self.c = c\n",
        "    self.d = d\n",
        "  \n",
        "  def calculate_area(self):\n",
        "    #TODO: Your task is required to implement an area function\n",
        "    pass\n",
        "\n",
        "  @staticmethod\n",
        "  def isRectangle(self, a, b, c, d):\n",
        "    pass\n",
        "    "
      ],
      "execution_count": null,
      "outputs": []
    },
    {
      "cell_type": "markdown",
      "metadata": {
        "id": "HSvnSVzIZwZg"
      },
      "source": [
        "**c. Class Square** \n",
        "\n",
        "1.   Make sure Square inherits from Geometry\n",
        "2.   In the constructor, \n",
        "we want to pass 1 tuple, which \n",
        "represent 4 vertices of a triangle, and one positive real number as the side length. As this class inherits from Geometry, don't forget to call the constructor from the parent class. \n",
        "\n",
        "3.   You need to write a method that returns the coordinate of other 3 vertices."
      ]
    },
    {
      "cell_type": "code",
      "metadata": {
        "id": "Nw7w4bf5PCEr"
      },
      "source": [
        "class Square():\n",
        "  def __init__(self, a, l): \n",
        "      # a is a tuple that represent a top left vertex of a square\n",
        "      # TODO: Your task is to implement the constructor\n",
        "      # super(Square, self).__init__(?, ?)\n",
        "      super(Square, self).__init__(name = \"Square\", points = 4)\n",
        "      self.a = a\n",
        "      self.l = l\n",
        "\n",
        "  def vertices(self):\n",
        "  #TODO: Your task is required to find other vertices\n",
        "    pass\n"
      ],
      "execution_count": null,
      "outputs": []
    },
    {
      "cell_type": "markdown",
      "metadata": {
        "id": "gs8auqNejd8f"
      },
      "source": [
        "## **Problem 4:**\n",
        "\n",
        "When it comes to the distributions, we have two important functions of a particular distribution:\n",
        "- [Probability Density Function (PDF)](https://en.wikipedia.org/wiki/Probability_density_function) \n",
        "- [Cumulative Distribution Function (CDF)](https://en.wikipedia.org/wiki/Cumulative_distribution_function)\n",
        "\n",
        "For example, the PDF and CDF of the [Uniform Distribution](https://en.wikipedia.org/wiki/Continuous_uniform_distribution) with a range of $[a, b]$ can be defined as follows:\n",
        "\n",
        "- PDF: \n",
        "  \\begin{equation}\n",
        "    f(x) = \\begin{cases}\n",
        "      0 & \\text{If } x < a \\text{ or } b < x \\\\ \n",
        "      \\frac{1}{b-a} & \\text{If } a \\leq x \\leq b \n",
        "    \\end{cases}\n",
        "  \\end{equation}\n",
        "- CDF: \n",
        "  \\begin{equation}\n",
        "    F(x) = \\int_{t=\\infty}^{x}f(t)dt = \\begin{cases}\n",
        "      0 & \\text{If } x < a  \\\\\n",
        "      \\frac{x-a}{b-a} & \\text{If } a \\leq x \\leq b \\\\\n",
        "      1 & \\text{If } x > b  \\\\\n",
        "    \\end{cases}\n",
        "  \\end{equation}\n",
        "\n",
        "Now, your task is to implement PDF and CDF of several common distributions:\n",
        "- Uniform Distribution: [PDF and CDF formulas are defined as follows](https://www.itl.nist.gov/div898/handbook/eda/section3/eda3662.htm)\n",
        "  \\begin{aligned}\n",
        "      f(x) &= \\begin{cases}\n",
        "        0 & \\text{If } x < a \\text{ or } b < x \\\\ \n",
        "        \\frac{1}{b-a} & \\text{If } a \\leq x \\leq b \n",
        "        \\end{cases} \\\\\n",
        "        F(x) &= \\begin{cases}\n",
        "      0 & \\text{If } x < a  \\\\\n",
        "      \\frac{x-a}{b-a} & \\text{If } a \\leq x \\leq b \\\\\n",
        "      1 & \\text{If } x > b  \\\\\n",
        "    \\end{cases}\n",
        "  \\end{aligned}\n",
        "\n",
        "\n",
        "- Possion Distribution: [PDF and CDF formulas are defined as follows](https://www.itl.nist.gov/div898/handbook/eda/section3/eda366j.htm)\n",
        "  \\begin{aligned}\n",
        "    f(x) &= \\frac{e^{-\\lambda}\\lambda^x}{x!} \\\\\n",
        "    F(x) &= \\sum_{t=1}^{x}f(t) = \\sum_{t=1}^{x}\\frac{e^{-\\lambda}\\lambda^t}{t!}\n",
        "  \\end{aligned}\n",
        "\n",
        "- Normal Distribution: [PDF and CDF formulas are defined as follows](https://www.itl.nist.gov/div898/handbook/eda/section3/eda3661.htm)\n",
        "  \\begin{aligned}\n",
        "      f(x) &= \\frac{e^{\\frac{-(x-\\mu)^2}{2\\sigma^2}}}{\\sigma\\sqrt{2\\pi}} \\\\\n",
        "      F(x) &= \\int_{t=\\infty}^{x}f(t)dt\n",
        "  \\end{aligned}\n",
        "\n",
        "It should be noticed that the CDF of the Normal Distribution does not have a concrete formula. Hence, we will approximate CDF formula of the Normal Distribution by using the Riemann sum method. Particularly, let $M$ be a sufficiently large (positive) number, and $N$ be a sufficiently large integer number. The CDF can be defined as follows:\n",
        "\n",
        "  \\begin{equation}\n",
        "    F(x) = \\sum_{t=0}^{x}f(-M + 2\\frac{tM}{N})\n",
        "  \\end{equation}\n",
        "\n",
        "\n",
        "The further details of these distributions can be found on Wikipedia or Wolfram Alpha."
      ]
    },
    {
      "cell_type": "code",
      "metadata": {
        "id": "X3ISnD8Zje20"
      },
      "source": [
        "# Here is the base class. You do not need to modify that one.\n",
        "# However, you are free to modify if need be.\n",
        "\n",
        "class BaseDistribution:\n",
        "  def __init__(self, name = \"Base Distribution\"):\n",
        "    self.__name = name\n",
        "  \n",
        "  def get_name(self):\n",
        "    return self.__name\n",
        "  \n",
        "  def pdf(self, x):\n",
        "    raise NotImplementedError(f\"The PDF of {self.__name} was not implemented!\")\n",
        "\n",
        "  def cdf(self, x):\n",
        "    raise NotImplementedError(f\"The CDF of {self.__name} was not implemented!\")"
      ],
      "execution_count": null,
      "outputs": []
    },
    {
      "cell_type": "code",
      "metadata": {
        "id": "N-AgjaNFjBfL",
        "colab": {
          "base_uri": "https://localhost:8080/"
        },
        "outputId": "2a2b4c13-5a64-4f83-fb7a-8849ffafcc02"
      },
      "source": [
        "class UniformDistribution(BaseDistribution):\n",
        "  def __init__(self, a = 0, b = 1):\n",
        "    super(UniformDistribution, self).__init__(name = \"Uniform Distribution\")\n",
        "    self.a = a\n",
        "    self.b = b\n",
        "  \n",
        "  def pdf(self, x):\n",
        "    if x < self.a or self.b < x:\n",
        "      func = 0\n",
        "    elif self.a <= x or x <= self.b:\n",
        "      func = 1 / (self.b - self.a)\n",
        "\n",
        "    return func      \n",
        "  \n",
        "  def cdf(self, x):\n",
        "    if x < self.a:\n",
        "      func = 0\n",
        "    elif self.a <= x or x <= self.b:\n",
        "      func = (x - self.a) / (self.b - self.a)\n",
        "    elif x > self.b:\n",
        "      func = 1\n",
        "\n",
        "    return func\n",
        "\n",
        "p = UniformDistribution(0, 5)\n",
        "x = 2\n",
        "pdf = p.pdf(x)\n",
        "cdf = p.cdf(x)\n",
        "print(f\"{p.get_name()}. f({x}) = {pdf}. F({x}) = {cdf}.\")"
      ],
      "execution_count": null,
      "outputs": [
        {
          "output_type": "stream",
          "text": [
            "Uniform Distribution. f(2) = 0.2. F(2) = 0.4.\n"
          ],
          "name": "stdout"
        }
      ]
    },
    {
      "cell_type": "code",
      "metadata": {
        "colab": {
          "base_uri": "https://localhost:8080/"
        },
        "id": "0lHjpv72jtC0",
        "outputId": "e7576a56-8782-4614-8a6c-b89e593ea3d3"
      },
      "source": [
        "import math\n",
        "\n",
        "class PossionDistribution(BaseDistribution):\n",
        "  def __init__(self, lambda_ = 1):\n",
        "    super(PossionDistribution, self).__init__(name = \"Possion Distribution\")\n",
        "    self.lambda_ = lambda_\n",
        "  \n",
        "  def pdf(self, x):\n",
        "    num = math.exp(-self.lambda_) * (self.lambda_ ** x)\n",
        "    denom = math.factorial(x)\n",
        "    return num / denom\n",
        "  \n",
        "  def cdf(self, x):\n",
        "    N = 100 # too large I get an error \n",
        "    sum = 0\n",
        "    i = 1\n",
        "    for i in range(N + 1):\n",
        "      num = math.exp(-self.lambda_) * (self.lambda_ ** i)\n",
        "      denom = math.factorial(i)\n",
        "      sum += num / denom\n",
        "    return sum\n",
        "    \n",
        "p = PossionDistribution(2)\n",
        "x = 2\n",
        "pdf = p.pdf(x)\n",
        "cdf = p.cdf(x)\n",
        "print(f\"{p.get_name()}. f({x}) = {pdf}. F({x}) = {cdf}.\")"
      ],
      "execution_count": null,
      "outputs": [
        {
          "output_type": "stream",
          "text": [
            "Possion Distribution. f(2) = 0.2706705664732254. F(2) = 1.0.\n"
          ],
          "name": "stdout"
        }
      ]
    },
    {
      "cell_type": "code",
      "metadata": {
        "colab": {
          "base_uri": "https://localhost:8080/"
        },
        "id": "RgJ4y9eojuip",
        "outputId": "2343bd39-3f83-4693-d33d-bd4179622f97"
      },
      "source": [
        "import math\n",
        "\n",
        "class NormalDistribution(BaseDistribution):\n",
        "  def __init__(self, mu = 0, sigma = 1):\n",
        "    super(NormalDistribution, self).__init__(name = \"Normal Distribution\")\n",
        "    self.mu = mu\n",
        "    self.sigma = sigma\n",
        "  \n",
        "  def pdf(self, x):\n",
        "    #num = exp(-((self.x - self.mu)**2) / (2 * self.sigma**2)\n",
        "    #denom = self.sigma * math.sqrt(2 * math.pi)\n",
        "    #return num #/ denom\n",
        "    pass\n",
        "\n",
        "  def cdf(self, x):\n",
        "    #TODO: YOUR CODE HERE\n",
        "    pass\n",
        "\n",
        "p = NormalDistribution(0, 1)\n",
        "x = 2\n",
        "pdf = p.pdf(x)\n",
        "cdf = p.cdf(x)\n",
        "print(f\"{p.get_name()}. f({x}) = {pdf}. F({x}) = {cdf}.\")"
      ],
      "execution_count": null,
      "outputs": [
        {
          "output_type": "stream",
          "text": [
            "Normal Distribution. f(2) = None. F(2) = None.\n"
          ],
          "name": "stdout"
        }
      ]
    },
    {
      "cell_type": "markdown",
      "metadata": {
        "id": "Y4YVjRceHnNK"
      },
      "source": [
        "## **The End**"
      ]
    }
  ]
}