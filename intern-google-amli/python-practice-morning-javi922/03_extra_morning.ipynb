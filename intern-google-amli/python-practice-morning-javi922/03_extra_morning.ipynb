{
  "nbformat": 4,
  "nbformat_minor": 0,
  "metadata": {
    "colab": {
      "name": "03_extra_morning.ipynb",
      "provenance": [],
      "collapsed_sections": []
    },
    "kernelspec": {
      "name": "python3",
      "display_name": "Python 3"
    },
    "language_info": {
      "name": "python"
    }
  },
  "cells": [
    {
      "cell_type": "markdown",
      "metadata": {
        "id": "KSJ43gJYpL2x"
      },
      "source": [
        "## **Extra Problems for Practice - Intermediate Python**\n",
        "\n",
        "This colab provides extra problems for practice"
      ]
    },
    {
      "cell_type": "markdown",
      "metadata": {
        "id": "YS59If7mqnCl"
      },
      "source": [
        "## **Problem 1**\n",
        "You are given a string and your task is to swap cases. In other words, convert all lowercase letters to uppercase letters and vice versa. \n",
        "\n",
        "**For example:**\n",
        "```\n",
        "GooGLE BoOtCaMP -> gOOgle bOotcAmp\n",
        "```\n",
        "\n",
        "**Function Description:** \n",
        "\n",
        "Complete the swap_case function in the editor below. You are not allowed to use built-in method swapcase().\n",
        "\n",
        "swap_case has the following parameters:\n",
        "\n",
        "string s: the string to modify\n",
        "\n",
        "\n",
        "**Returns:** \n",
        "\n",
        "string: the modified string\n",
        "\n",
        "\n",
        "**Input Format:** \n",
        "\n",
        "A single line containing a string\n",
        "\n",
        "\n",
        "\n"
      ]
    },
    {
      "cell_type": "code",
      "metadata": {
        "id": "k-KG2yCevXzK",
        "colab": {
          "base_uri": "https://localhost:8080/"
        },
        "outputId": "edadf209-7d0e-4c54-f2af-0ac01a3d6235"
      },
      "source": [
        "# Here are some examples that you can rely on to solve the problem\n",
        "\n",
        "# https://www.geeksforgeeks.org/join-function-python/\n",
        "# If you have a list of letters or words and you want to join them, one easy way\n",
        "# is to use string method join. For example:\n",
        "str_list = ['A', 'B', 'C', 'D', 'E', 'F']\n",
        "emp_str  = ''  # This is an empty string \n",
        "join_str = emp_str.join(str_list)\n",
        "print(join_str)\n",
        "\n",
        "# if you run the following line and it shows no error, this means the equality \n",
        "# is right. You might see people use assert a lot instead of if statement for\n",
        "# quick checks \n",
        "assert join_str == 'ABCDEF' \n",
        "\n",
        "# If you want to make a list containing every letters in the string\n",
        "letter_list = [i for i in join_str]\n",
        "print(letter_list)\n",
        "\n",
        "assert letter_list == ['A', 'B', 'C', 'D', 'E', 'F']\n",
        "\n",
        "# you can use string method like lower or upper to make a letter or a word \n",
        "# uppercase of lower case\n",
        "assert 'a'.upper() == 'A'\n",
        "assert 'B'.lower() == 'b'\n",
        "print('a'.upper())\n",
        "print('B'.lower())"
      ],
      "execution_count": null,
      "outputs": [
        {
          "output_type": "stream",
          "text": [
            "ABCDEF\n",
            "['A', 'B', 'C', 'D', 'E', 'F']\n",
            "A\n",
            "b\n"
          ],
          "name": "stdout"
        }
      ]
    },
    {
      "cell_type": "markdown",
      "metadata": {
        "id": "vOnlFKFay6PH"
      },
      "source": [
        "**Student Solution**"
      ]
    },
    {
      "cell_type": "code",
      "metadata": {
        "id": "_nslzAC9yzc4"
      },
      "source": [
        "def swap_case(s):\n",
        "  # s is the parameter string\n",
        "\n",
        "  # place each letter of the string s into a list\n",
        "  letter_list = [i for i in s]\n",
        "  \n",
        "  # convert uppercase to lowercase and lowercase to uppercase\n",
        "  # string.isupper() and string.islower() return booleans\n",
        "  for i in range(len(letter_list)):\n",
        "    # check if the letter is lowercase\n",
        "    if letter_list[i].islower():\n",
        "      letter_list[i] = letter_list[i].upper() # change from lower to upper\n",
        "\n",
        "    # check if the letter is uppercase\n",
        "    elif letter_list[i].isupper():\n",
        "      letter_list[i] = letter_list[i].lower() # change from upper to lower\n",
        "\n",
        "  # convert our modified list back to a string\n",
        "  emp_str = ''\n",
        "  s = emp_str.join(letter_list)\n",
        "\n",
        "  return s"
      ],
      "execution_count": null,
      "outputs": []
    },
    {
      "cell_type": "markdown",
      "metadata": {
        "id": "PRaJesmjsrSg"
      },
      "source": [
        "Run the following cells to see if they match the expected answers. If the cells run without showing errors, that means you have the correct answer."
      ]
    },
    {
      "cell_type": "code",
      "metadata": {
        "id": "wf81dbRCsp_5"
      },
      "source": [
        "s = \"WaIT WhAtTtTtT\" \n",
        "\n",
        "assert swap_case(s) == 'wAit wHaTtTtTt'"
      ],
      "execution_count": null,
      "outputs": []
    },
    {
      "cell_type": "code",
      "metadata": {
        "id": "c_Efy1Wet0R7"
      },
      "source": [
        "s = \"A b C D e f\" \n",
        "\n",
        "assert swap_case(s) == 'a B c d E F'"
      ],
      "execution_count": null,
      "outputs": []
    },
    {
      "cell_type": "markdown",
      "metadata": {
        "id": "jmlHqj6IbpMZ"
      },
      "source": [
        "## **Problem 2**\n",
        "\n",
        "Write a function to check if a number is a palindromic number. The input to the function is a positive integer. The function returns true or false. \n",
        "\n",
        "**Definition:** Palindromic number is a number that is the same when written forwards or backwards of the form. \n",
        "\n",
        "```\n",
        "# Example: 121, 32523, 1263621\n",
        "```"
      ]
    },
    {
      "cell_type": "code",
      "metadata": {
        "id": "d7Yqx95pcuDB"
      },
      "source": [
        "def isPalindromic(number):\n",
        "  \n",
        "  # convert number into a string\n",
        "  num_str = str(number)\n",
        "\n",
        "  # convert the string into a list\n",
        "  num_list = [i for i in num_str]\n",
        "\n",
        "  # reverse the list\n",
        "  rev_list = num_list[::-1] # list[start:stop:step]\n",
        "\n",
        "  # if true -> palindromic\n",
        "  return num_list == rev_list"
      ],
      "execution_count": null,
      "outputs": []
    },
    {
      "cell_type": "markdown",
      "metadata": {
        "id": "KIGwZ-Y_z22U"
      },
      "source": [
        "Run the following cells to see if they match the expected answers."
      ]
    },
    {
      "cell_type": "code",
      "metadata": {
        "id": "WmziGrFhz3Uu"
      },
      "source": [
        "assert isPalindromic(121) == True\n",
        "assert isPalindromic(1201) == False\n",
        "assert isPalindromic(98689) == True\n",
        "assert isPalindromic(10001) == True"
      ],
      "execution_count": null,
      "outputs": []
    },
    {
      "cell_type": "markdown",
      "metadata": {
        "id": "VTZ0myrPzj0x"
      },
      "source": [
        "## **Problem 3**\n",
        "\n",
        "You are given two second-degree polynomial functions, and you have to print the result of their addition, subtraction, multiplication and division operations.\n",
        "\n",
        "**Input Format:**\n",
        "\n",
        "Two lines of input: each line consists of coefficients of each function\n",
        "\n",
        "**Output Format:**\n",
        "\n",
        "For two functions **C** and **D**, the output should be in the following sequence on separate lines:\n",
        "\n",
        "*   C + D\n",
        "*   C - D\n",
        "\n",
        "**Sample Input:**\n",
        "```\n",
        "2 1 3\n",
        "5 6 0\n",
        "```\n",
        "\n",
        "**Sample Output:**\n",
        "```\n",
        "f_1(x) = 2x^2 + x + 3\n",
        "f_2(x) = 5x^2 + 6x \n",
        "\n",
        "f_1(x) + f_2(x) =  7x^2 + 7x + 3\n",
        "f_1(x) - f_2(x) = -3x^2 - 5x + 3\n",
        "```\n",
        "\n",
        "**Concept**\n",
        "\n",
        "Methods with a double underscore before and after their name are considered as built-in methods. They are used by interpreters and are generally used in the implementation of overloaded operators or other built-in functionality.\n",
        "\n",
        "```\n",
        "__add__-> Can be overloaded for + operation\n",
        "\n",
        "__sub__ -> Can be overloaded for - operation\n",
        "```"
      ]
    },
    {
      "cell_type": "markdown",
      "metadata": {
        "id": "G4ZXskx-41g1"
      },
      "source": [
        "**Student Solution**"
      ]
    },
    {
      "cell_type": "code",
      "metadata": {
        "id": "TrVuxF1r401K"
      },
      "source": [
        "# this activity is pretty much string manipulation\n",
        "class Function():\n",
        "  def __init__(self, coef_1, coef_2, bias): # initial constructor\n",
        "    self.coef_1 = coef_1\n",
        "    self.coef_2 = coef_2\n",
        "    self.bias = bias\n",
        "\n",
        "  def __add__(self, no):\n",
        "    #coef_1 = self.coef_1 + no.coef_1\n",
        "    #coef_2 = self.coef_2 + no.coef_2\n",
        "    #bias = self.bias + no.bias\n",
        "    #return coef_1 + coef_2 + bias\n",
        "    pass\n",
        "\n",
        "  def __sub__(self, no):\n",
        "    pass\n",
        "\n",
        "\n",
        "  # string manipulation \n",
        "  def __str__(self):\n",
        "\n",
        "    str_x2 = 'x^2'\n",
        "    str_x = 'x'\n",
        "\n",
        "    return str(self.coef_1) + str_x2 + str(self.coef_2) + str_x + str(self.bias)\n",
        "\n",
        "\n",
        "    # only 3rd term\n",
        "    if self.coef_1 == 0 and self.coef_2 == 0: \n",
        "      return str(self.bias)\n",
        "\n",
        "    #\n",
        "\n",
        "\n",
        "\n",
        "    #\n",
        "\n",
        "\n",
        "\n",
        "\n",
        "    # all terms\n",
        "    elif (self.coef_1 != 0 and self.coef_2 != 0):\n",
        "      return str(self.coef_1) + str_x2 + str(self.coef_2) + str_x + str(self.bias)\n",
        "\n",
        "\n",
        "    # if 1st and 2nd term is +1 or -1\n",
        "    if(abs(self.coef_1) == 1 and abs(self.coef_1) == 1):\n",
        "        if self.coef_1 == 1 and self.coef_1 == 1:\n",
        "          pass\n",
        "        else:\n",
        "          pass \n",
        "\n",
        "\n",
        "    # if 1st term is +1 or -1\n",
        "    if(self.coef_1 == 1 or self.coef_1 == -1):\n",
        "\n",
        "\n",
        "    # if 2nd term is +1 or -1\n",
        "    #if(self.coef_2 == 1 or self.coef_2 == -1):\n",
        "        pass\n",
        "      \n",
        "    return str(self.coef_1) + str_x2 + str(self.coef_2) + str_x + str(self.bias)\n",
        "      "
      ],
      "execution_count": null,
      "outputs": []
    },
    {
      "cell_type": "markdown",
      "metadata": {
        "id": "ttdWmSHiT8ha"
      },
      "source": [
        "Run the following cells to see if you have the correct answer"
      ]
    },
    {
      "cell_type": "code",
      "metadata": {
        "id": "W26izTD1t0OU",
        "colab": {
          "base_uri": "https://localhost:8080/"
        },
        "outputId": "ddceee0e-d0c5-4848-83ab-43fdb6df4eee"
      },
      "source": [
        "f_1 = Function(0,1,-3)\n",
        "f_2 = Function(3,4,4)\n",
        "\n",
        "f_3 = Function(0,0,0)\n",
        "\n",
        "print(f_3)\n",
        "\n",
        "#assert str(f_1) == 'x-3'\n",
        "#assert str(f_2) == '3x^2+4x+4'\n",
        "#assert str(f_1+f_2) == '3x^2+5x+1'\n",
        "#assert str(f_1-f_2) == '-3x^2-3x-7'"
      ],
      "execution_count": null,
      "outputs": [
        {
          "output_type": "stream",
          "text": [
            "0x^20x0\n"
          ],
          "name": "stdout"
        }
      ]
    },
    {
      "cell_type": "markdown",
      "metadata": {
        "id": "Oor7DcN-7fEP"
      },
      "source": [
        "## **Problem 4**\n",
        "Let's say we have a circle whose center is at origin $(0, 0)$ in the Euclidean space and the radius is $r$. Assume that we do not know the value of $\\pi$ and our task is to calculate the area of the circle without $\\pi$. In this problem, we will use the Monte Carlo method to approximiate the circle area. \n",
        "In particular, we have a tangential square of the circle where the four corrdinates (in the counterclockwise order) of the square are $(-r, r), (r, r), (r, -r), (-r, -r)$, respectively. We use Uniform distribution to generate random points within the square. Let $M$ be the number of points that lie inside the circle. A point $(x, y)$ ($-r \\leq x, y \\leq r$) belongs to the circle if and only if $x^2 + y^2 \\leq r^2$. If $N$ is a sufficiently large number, the probabilty that a point belong to the circle $\\big(\\frac{M}{N}\\big)$ will be equal to the ratio between the circle area and the tangential square area $\\big(\\frac{\\text{Circle Area}}{\\text{Square Area}}\\big)$, i.e. $\\lim_{N \\to \\infty}\\frac{M}{N} = \\frac{\\text{Circle Area}}{\\text{Square Area}}$. \n",
        "Now, you are given the area of the square and the value of $N$. Your task is to implement a function to calculate the area of the circle.\n",
        "\n",
        "**Input Format**\n",
        "\n",
        "There are 2 parameters:\n",
        "\n",
        "\n",
        "*   square_area : the area of the square\n",
        "*   num_points  : number of points you want to generate\n",
        "\n",
        "The bigger the area you choose, the more random points you need to generate.\n",
        "\n",
        "\n",
        "**Output Format**\n",
        "\n",
        "The area of the circle inscribed inside that square\n",
        "\n",
        "\n"
      ]
    },
    {
      "cell_type": "markdown",
      "metadata": {
        "id": "torG8Ftkc2OD"
      },
      "source": [
        "![Circle-inscribed-in-a-square.jpg](data:image/jpeg;base64,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)"
      ]
    },
    {
      "cell_type": "markdown",
      "metadata": {
        "id": "Ds2yzA4jYSoe"
      },
      "source": [
        "**Student Solution**"
      ]
    },
    {
      "cell_type": "code",
      "metadata": {
        "id": "CFpLo0KXUuLt"
      },
      "source": [
        "import math\n",
        "from random import uniform   # <- use uniform to generate random number. Use \n",
        "                             # other distributions will cause error\n",
        "\n",
        "def circle_area(square_area, num_points):\n",
        "\n",
        "  r = 0.5 * (square_area ** 0.5) # radius of the circle\n",
        "\n",
        "  # generate all points N in the space\n",
        "  # uniform(a,b) - get a random number between 'a' and 'b' inclusive\n",
        "  list = []\n",
        "  for i in range(num_points):\n",
        "    x = uniform(-r,r) # randomly generate an x and y value\n",
        "    y = uniform(-r,r)\n",
        "    coordinate = (x,y) # point's coordinate\n",
        "    list.append(coordinate) # add each coordinate into the list\n",
        "\n",
        "\n",
        "  # check for points in the circle\n",
        "  M = 0\n",
        "  for i in range(len(list)): # iterate through all the points\n",
        "    if (list[i][0] ** 2) + (list[i][1] ** 2) <= r**2: # check if point is in circle\n",
        "      M += 1 # mark point\n",
        "  \n",
        "\n",
        "  # formula to find area of circle\n",
        "  area_circle = M/num_points * square_area\n",
        "\n",
        "  return area_circle"
      ],
      "execution_count": null,
      "outputs": []
    },
    {
      "cell_type": "markdown",
      "metadata": {
        "id": "NZpP7dmjgpQC"
      },
      "source": [
        "Run the following cells to see if you have the correct answer"
      ]
    },
    {
      "cell_type": "code",
      "metadata": {
        "id": "lvgCdQthbsXJ"
      },
      "source": [
        "#print(abs(circle_area(9, 1000000) - math.pi*1.5**2))\n",
        "#print(abs(circle_area(16, 10000000) - math.pi*2**2))\n",
        "\n",
        "assert abs(circle_area(9, 1000000) - math.pi*1.5**2) < 0.01\n",
        "assert abs(circle_area(16, 100000000) - math.pi*2**2) < 0.01 # my program crashes because calculation takes up too much RAM"
      ],
      "execution_count": null,
      "outputs": []
    },
    {
      "cell_type": "markdown",
      "metadata": {
        "id": "aKnp9sqT50y3"
      },
      "source": [
        "## **The End**"
      ]
    }
  ]
}