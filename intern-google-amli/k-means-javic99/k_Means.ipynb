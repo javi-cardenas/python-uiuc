{
  "nbformat": 4,
  "nbformat_minor": 0,
  "metadata": {
    "colab": {
      "name": "k-Means",
      "private_outputs": true,
      "provenance": [],
      "collapsed_sections": [
        "copyright"
      ],
      "toc_visible": true
    },
    "kernelspec": {
      "display_name": "Python 3",
      "name": "python3"
    }
  },
  "cells": [
    {
      "cell_type": "markdown",
      "metadata": {
        "id": "copyright"
      },
      "source": [
        "#### Copyright 2020 Google LLC."
      ]
    },
    {
      "cell_type": "code",
      "metadata": {
        "id": "DIk2MioaatFI"
      },
      "source": [
        "# Licensed under the Apache License, Version 2.0 (the \"License\");\n",
        "# you may not use this file except in compliance with the License.\n",
        "# You may obtain a copy of the License at\n",
        "#\n",
        "# https://www.apache.org/licenses/LICENSE-2.0\n",
        "#\n",
        "# Unless required by applicable law or agreed to in writing, software\n",
        "# distributed under the License is distributed on an \"AS IS\" BASIS,\n",
        "# WITHOUT WARRANTIES OR CONDITIONS OF ANY KIND, either express or implied.\n",
        "# See the License for the specific language governing permissions and\n",
        "# limitations under the License."
      ],
      "execution_count": null,
      "outputs": []
    },
    {
      "cell_type": "markdown",
      "metadata": {
        "id": "daX5oL8aDZLn"
      },
      "source": [
        "# k-means\n"
      ]
    },
    {
      "cell_type": "markdown",
      "metadata": {
        "id": "e5jEmmM1wQBC"
      },
      "source": [
        "k-means clustering is an *unsupervised* machine learning algorithm that can be used to group items into clusters.\n",
        "\n",
        "So far we have only worked with supervised algorithms. Supervised algorithms have training data with labels that identify the numeric value or class for each item. These algorithms use labeled data to build a model that can be used to make predictions.\n",
        "\n",
        "k-means clustering is different. The training data is not labeled. Unlabeled training data is fed into the model, which attempts to find relationships in the data and create clusters based on those relationships. Once these clusters are formed, predictions can be made about which cluster new data items belong to.\n",
        "\n",
        "The clusters can't easily be labeled in many cases. The clusters are \"emergent clusters\" and are created by the algorithm. They don't always map to groupings that you might expect."
      ]
    },
    {
      "cell_type": "markdown",
      "metadata": {
        "id": "ytHWSs1qG3e5"
      },
      "source": [
        "## Example: Groups of Mushrooms\n",
        "\n",
        "Let's start by looking at a real world use case involving mushrooms. The University of California Irvine has a [dataset containing various attributes of mushrooms](https://www.kaggle.com/uciml/mushroom-classification). One of those attributes is the edibility of the mushroom: Is it edible or is it poisonous?  We want to see if we can find clusters of mushroom attributes that can be used to determine if a mushroom is edible or not."
      ]
    },
    {
      "cell_type": "markdown",
      "metadata": {
        "id": "1NUs6PhaH9J7"
      },
      "source": [
        "### Load the Data\n",
        "\n",
        "For this example we'll load the [mushroom classification](https://www.kaggle.com/uciml/mushroom-classification) data. The dataset attributes about over `8,000` different mushrooms.\n",
        "\n",
        "Upload your `kaggle.json` file and run the code block below."
      ]
    },
    {
      "cell_type": "code",
      "metadata": {
        "id": "-IXUekcf9kLk"
      },
      "source": [
        "! chmod 600 kaggle.json && (ls ~/.kaggle 2>/dev/null || mkdir ~/.kaggle) && mv kaggle.json ~/.kaggle/ && echo 'Done'"
      ],
      "execution_count": null,
      "outputs": []
    },
    {
      "cell_type": "markdown",
      "metadata": {
        "id": "90kxf9D89sh-"
      },
      "source": [
        "And then use the Kaggle API to download the dataset."
      ]
    },
    {
      "cell_type": "code",
      "metadata": {
        "id": "yA7gddSDBP0B"
      },
      "source": [
        "! kaggle datasets download uciml/mushroom-classification\n",
        "! ls"
      ],
      "execution_count": null,
      "outputs": []
    },
    {
      "cell_type": "markdown",
      "metadata": {
        "id": "XloYj7BNNzs9"
      },
      "source": [
        "Unzip the Data."
      ]
    },
    {
      "cell_type": "code",
      "metadata": {
        "id": "Cs3D-ZBXBXTy"
      },
      "source": [
        "! unzip mushroom-classification.zip\n",
        "! ls"
      ],
      "execution_count": null,
      "outputs": []
    },
    {
      "cell_type": "markdown",
      "metadata": {
        "id": "oKcL398EN2Vt"
      },
      "source": [
        "And finally, load the training data into a `DataFrame`."
      ]
    },
    {
      "cell_type": "code",
      "metadata": {
        "id": "Bo2GFoXNBfFN"
      },
      "source": [
        "import pandas as pd\n",
        "\n",
        "data = pd.read_csv('mushrooms.csv')\n",
        "data.sample(n=10)"
      ],
      "execution_count": null,
      "outputs": []
    },
    {
      "cell_type": "markdown",
      "metadata": {
        "id": "ShvO0AWGOAX3"
      },
      "source": [
        "### Exploratory Data Analysis"
      ]
    },
    {
      "cell_type": "markdown",
      "metadata": {
        "id": "xcvUECVCODNV"
      },
      "source": [
        "Let's take a closer look at the data that we'll be working with, starting with a simple describe."
      ]
    },
    {
      "cell_type": "code",
      "metadata": {
        "id": "6Vlqf1a3GaZv"
      },
      "source": [
        "data.describe(include='all')"
      ],
      "execution_count": null,
      "outputs": []
    },
    {
      "cell_type": "markdown",
      "metadata": {
        "id": "YZE93JydGaEq"
      },
      "source": [
        "It doesn't look like any columns are missing data since we see counts of `8,124` for every column.\n",
        "\n",
        "It does look like all of the data is categorical. We'll need to convert it into numeric values for the model to work. Let's do it for every column except `class`. We aren't trying to predict class, but we do want to see if we can get pure clusters of one type of class. So we don't want it included in our training data. Also, it is the only feature that isn't observable without having dire consequences!"
      ]
    },
    {
      "cell_type": "code",
      "metadata": {
        "id": "UxVI_cMiBvtx"
      },
      "source": [
        "columns = [c for c in data.columns.values if c != 'class']\n",
        "id_to_value_mappings = {}\n",
        "value_to_id_mappings = {}\n",
        "\n",
        "for column in columns:\n",
        "  i_to_v = sorted(data[column].unique())\n",
        "  v_to_i = { v:i for i, v in enumerate(i_to_v)}\n",
        "  \n",
        "\n",
        "  numeric_column = column + '-id'\n",
        "  data[numeric_column] = [v_to_i[v] for v in data[column]]\n",
        "\n",
        "  value_to_id_mappings[column] = v_to_i\n",
        "  id_to_value_mappings[numeric_column] = i_to_v\n",
        "\n",
        "numeric_columns = id_to_value_mappings.keys()\n",
        "data[numeric_columns].describe()"
      ],
      "execution_count": null,
      "outputs": []
    },
    {
      "cell_type": "markdown",
      "metadata": {
        "id": "pxHbDQi5RehL"
      },
      "source": [
        "### Perform Clustering"
      ]
    },
    {
      "cell_type": "markdown",
      "metadata": {
        "id": "-ZTI-QWeRcXE"
      },
      "source": [
        "We now have numeric data that a model can handle. To run k-means clustering on the data, we simply load [k-means](https://scikit-learn.org/stable/modules/generated/sklearn.cluster.KMeans.html) from scikit-learn and ask the model to find a specific number of clusters for us.\n",
        "\n",
        "Notice that we are scaling the data. The class IDs are integer values, and some columns have many more classes than others. Scaling helps make sure that columns with more classes don't have an undue influence on the model."
      ]
    },
    {
      "cell_type": "code",
      "metadata": {
        "id": "R1kKMdvzC27A"
      },
      "source": [
        "from sklearn.cluster import KMeans\n",
        "from sklearn.preprocessing import scale\n",
        "\n",
        "model = KMeans(n_clusters=10)\n",
        "model.fit(scale(data[numeric_columns]))\n",
        "\n",
        "print(model.inertia_)"
      ],
      "execution_count": null,
      "outputs": []
    },
    {
      "cell_type": "markdown",
      "metadata": {
        "id": "PMOPqimXSlaQ"
      },
      "source": [
        "We asked scikit-learn to create 10 clusters for us, and then we printed out the `inertia_` for the resultant clusters. *Inertia* is the sum of the squared distances of samples to their closest cluster center. Typically, the smaller the inertia the better.\n",
        "\n",
        "But why did we choose `10` clusters? And is the inertia that we received reasonable?"
      ]
    },
    {
      "cell_type": "markdown",
      "metadata": {
        "id": "Asbd5pyUSp2G"
      },
      "source": [
        "### Find the Optimal Number of Clusters\n",
        "\n",
        "With just one run of the algorithm, it is difficult to tell how many clusters we should have and what an appropriate inertia value is. k-means is trying to discover things about your data that you do not know. Picking a number of clusters at random isn't the best way to use k-means.\n",
        "\n",
        "Instead, you should experiment with a few different cluster values and measure the inertia of each. As you increase the number of clusters, your inertia should decrease."
      ]
    },
    {
      "cell_type": "code",
      "metadata": {
        "id": "1WlVhQkWC_iK"
      },
      "source": [
        "from sklearn.cluster import KMeans\n",
        "from sklearn.preprocessing import scale\n",
        "import matplotlib.pyplot as plt\n",
        "\n",
        "clusters = list(range(5, 50, 5))\n",
        "inertias = []\n",
        "\n",
        "scaled_data = scale(data[numeric_columns])\n",
        "\n",
        "for c in clusters:\n",
        "  model = KMeans(n_clusters=c)\n",
        "  model = model.fit(scaled_data)\n",
        "  inertias.append(model.inertia_)\n",
        "\n",
        "plt.plot(clusters, inertias)\n",
        "plt.show()"
      ],
      "execution_count": null,
      "outputs": []
    },
    {
      "cell_type": "markdown",
      "metadata": {
        "id": "UGrJ_QGkS3EF"
      },
      "source": [
        "The resulting graph should start high and to the left and curve down as the number of clusters grows. The initial slope is steep, but begins to level off. Your optimal number of clusters is somewhere in the [\"elbow\" of the graph](https://en.wikipedia.org/wiki/Elbow_method_(clustering) as the slope levels.\n",
        "\n",
        "Once you have this number, you need to then check to see if the number is reasonable for your use case. Say that the 'optimal' number of clusters for our mushroom identification is 15. Is that a reasonable number of clusters to deal with? If we have too many, we can overfit and make the model poor at generalizing. And what are the purposes of the clusters? If you are clustering mushrooms and want to find clusters that are definitely safe to eat, 15 or more clusters might be perfectly fine. If you are clustering customers for different advertising campaigns, 15 different campaigns might be more than your marketing department can handle.\n",
        "\n",
        "Clustering the data is often just the start of your journey. Once you have clusters, you'll need to look at each group and try to determine what makes them similar. What patterns did the clustering find? And will that clustering be useful to you?"
      ]
    },
    {
      "cell_type": "markdown",
      "metadata": {
        "id": "cVmJq7-ZTho3"
      },
      "source": [
        "### Examining Clusters"
      ]
    },
    {
      "cell_type": "markdown",
      "metadata": {
        "id": "2_IFLvUbTlDq"
      },
      "source": [
        "Let's say that `15` is a reasonable number of clusters. We can rebuild the model using that setting."
      ]
    },
    {
      "cell_type": "code",
      "metadata": {
        "id": "xfLmrYcwGKII"
      },
      "source": [
        "from sklearn.cluster import KMeans\n",
        "from sklearn.preprocessing import scale\n",
        "\n",
        "model = KMeans(n_clusters=15)\n",
        "model.fit(scale(data[numeric_columns]))\n",
        "\n",
        "print(model.inertia_)"
      ],
      "execution_count": null,
      "outputs": []
    },
    {
      "cell_type": "markdown",
      "metadata": {
        "id": "AjHeNiyETwLZ"
      },
      "source": [
        "Now let's see if we have any 'pure' clusters. These are clusters with all-edible or all-poisonous mushrooms."
      ]
    },
    {
      "cell_type": "code",
      "metadata": {
        "id": "_Q5DkPXBGs_I"
      },
      "source": [
        "import numpy as np\n",
        "\n",
        "for cluster in sorted(np.unique(model.labels_)):\n",
        "  num_edible = np.sum(data[model.labels_ == cluster]['class'] == 'e')\n",
        "  total = np.sum(model.labels_ == cluster)\n",
        "  print(cluster, num_edible / total)"
      ],
      "execution_count": null,
      "outputs": []
    },
    {
      "cell_type": "markdown",
      "metadata": {
        "id": "irNyQCzzT_el"
      },
      "source": [
        "In our model we had clusters `0`, `1`, `6`, and `10` be `100%` edible. Clusters `2`, `4`, `7`, and `12` were all poisonous. The remaining were a mix of the two.\n",
        "\n",
        "Knowing this, let's look at one of the all-edible clusters and see what attributes we could look for to have confidence that we have an edible mushroom."
      ]
    },
    {
      "cell_type": "code",
      "metadata": {
        "id": "5WhvIM6CMRp0"
      },
      "source": [
        "edible = data[model.labels_ == 1]\n",
        "\n",
        "for column in edible.columns:\n",
        "  if column.endswith('-id'):\n",
        "    continue\n",
        "  print(column, edible[column].unique())\n"
      ],
      "execution_count": null,
      "outputs": []
    },
    {
      "cell_type": "markdown",
      "metadata": {
        "id": "-URbeexwVRtT"
      },
      "source": [
        "The mapping of the letter codes to more descriptive text can be found in the [dataset description](https://www.kaggle.com/uciml/mushroom-classification)."
      ]
    },
    {
      "cell_type": "markdown",
      "metadata": {
        "id": "t2ySDMeeP-6J"
      },
      "source": [
        "## Example: Classification of Digits\n",
        "\n",
        "Clustering for data exploration purposes can lead to interesting insights in to your data, but clustering can also be used for classification purposes.\n",
        "\n",
        "In the example below, we'll try to use k-means clustering to predict handwritten digits."
      ]
    },
    {
      "cell_type": "markdown",
      "metadata": {
        "id": "QePSEGmwQY2W"
      },
      "source": [
        "### Load the Data\n",
        "\n",
        "We'll load the digits dataset packaged with scikit-learn."
      ]
    },
    {
      "cell_type": "code",
      "metadata": {
        "id": "C9pGH4rfQUgA"
      },
      "source": [
        "from sklearn.datasets import load_digits\n",
        "\n",
        "digits = load_digits()"
      ],
      "execution_count": null,
      "outputs": []
    },
    {
      "cell_type": "markdown",
      "metadata": {
        "id": "5OTRl2plQgDi"
      },
      "source": [
        "### Scale the Data\n",
        "\n",
        "It is good practice to scale the data to ensure that outliers don't have too big of an impact on the clustering."
      ]
    },
    {
      "cell_type": "code",
      "metadata": {
        "id": "t0aBmYGPQnri"
      },
      "source": [
        "from sklearn.preprocessing import scale\n",
        "\n",
        "scaled_digits = scale(digits.data)"
      ],
      "execution_count": null,
      "outputs": []
    },
    {
      "cell_type": "markdown",
      "metadata": {
        "id": "dwQ9Df4zQ_a_"
      },
      "source": [
        "### Fit a Model\n",
        "\n",
        "We can then create a k-means model with 10 clusters. (We know there are 10 digits from 0 through 9.)"
      ]
    },
    {
      "cell_type": "code",
      "metadata": {
        "id": "gZaOn2gRQzsu"
      },
      "source": [
        "from sklearn.cluster import KMeans\n",
        "\n",
        "model = KMeans(n_clusters=10)\n",
        "model = model.fit(scaled_digits)"
      ],
      "execution_count": null,
      "outputs": []
    },
    {
      "cell_type": "markdown",
      "metadata": {
        "id": "M0bCgYN_SCw5"
      },
      "source": [
        "### Make Predictions\n",
        "\n",
        "We can then use the model to predict which category a data point belongs to.\n",
        "\n",
        "In the case below, we'll just use some of the data that we trained with for illustrative purposes. The prediction will provide a numeric value."
      ]
    },
    {
      "cell_type": "code",
      "metadata": {
        "id": "mpLDPTMyRm7i"
      },
      "source": [
        "cluster = model.predict([scaled_digits[0]])[0]\n",
        "\n",
        "cluster"
      ],
      "execution_count": null,
      "outputs": []
    },
    {
      "cell_type": "markdown",
      "metadata": {
        "id": "R_yDe1QZSaBj"
      },
      "source": [
        "What is this value? Is it the predicted digit?\n",
        "\n",
        "No. This number is the cluster that the model thinks the digit belongs to. To determine the predicted digit, we'll need to see what other digits are in the cluster and choose the most popular one for our classification.\n"
      ]
    },
    {
      "cell_type": "code",
      "metadata": {
        "id": "RzccT4gMSxi2"
      },
      "source": [
        "import numpy as np\n",
        "\n",
        "labels = digits.target\n",
        "\n",
        "cluster_to_digit = [\n",
        "  np.argmax(\n",
        "      np.bincount(\n",
        "        np.array(\n",
        "          [labels[i] for i in range(len(model.labels_)) if model.labels_[i] == cluster]\n",
        "        )\n",
        "      )\n",
        "    ) for cluster in range(10)\n",
        "]\n",
        "\n",
        "cluster_to_digit"
      ],
      "execution_count": null,
      "outputs": []
    },
    {
      "cell_type": "markdown",
      "metadata": {
        "id": "LtBucdm7j9vQ"
      },
      "source": [
        "Here we can see the digit that each cluster represents."
      ]
    },
    {
      "cell_type": "markdown",
      "metadata": {
        "id": "Y1aVtOwEVdQf"
      },
      "source": [
        "### Measure Model Quality\n",
        "\n",
        "If we do have labeled data, as is the case with our digits data, then we can measure the quality of our model using the [homogeneity score](https://scikit-learn.org/stable/modules/generated/sklearn.metrics.homogeneity_score.html#sklearn.metrics.homogeneity_score_) and the [completeness score](https://scikit-learn.org/stable/modules/generated/sklearn.metrics.completeness_score.html#sklearn.metrics.completeness_score)."
      ]
    },
    {
      "cell_type": "code",
      "metadata": {
        "id": "r85vjdc0_l6S"
      },
      "source": [
        "from sklearn.metrics import homogeneity_score\n",
        "from sklearn.metrics import completeness_score\n",
        "\n",
        "homogeneity = homogeneity_score(labels, model.labels_)\n",
        "completeness = completeness_score(labels, model.labels_)\n",
        "homogeneity, completeness"
      ],
      "execution_count": null,
      "outputs": []
    },
    {
      "cell_type": "markdown",
      "metadata": {
        "id": "X5IZSU1OvPMN"
      },
      "source": [
        "# Exercises"
      ]
    },
    {
      "cell_type": "markdown",
      "metadata": {
        "id": "sCkXnAZHXEUL"
      },
      "source": [
        "## Exercise 1"
      ]
    },
    {
      "cell_type": "markdown",
      "metadata": {
        "id": "Pzwm9vnEkoAf"
      },
      "source": [
        "Load the [iris dataset](https://scikit-learn.org/stable/auto_examples/datasets/plot_iris_dataset.html), create a k-means model with three clusters, and then find the homogeneity and completeness scores for the model. "
      ]
    },
    {
      "cell_type": "markdown",
      "metadata": {
        "id": "abvbIkWfvSl3"
      },
      "source": [
        "### **Student Solution**"
      ]
    },
    {
      "cell_type": "markdown",
      "metadata": {
        "id": "v0XAmcpEKJL-"
      },
      "source": [
        "#### Load the Data"
      ]
    },
    {
      "cell_type": "code",
      "metadata": {
        "id": "XFrlI0PXKJL-"
      },
      "source": [
        "from sklearn.datasets import load_iris\n",
        "\n",
        "iris = load_iris()"
      ],
      "execution_count": null,
      "outputs": []
    },
    {
      "cell_type": "markdown",
      "metadata": {
        "id": "NR0uW_NIKJL-"
      },
      "source": [
        "#### Scale the Data\n",
        "\n",
        "It is good practice to scale the data to ensure that outliers don't have too big of an impact on the clustering."
      ]
    },
    {
      "cell_type": "code",
      "metadata": {
        "id": "5-pJMSxUKJL-"
      },
      "source": [
        "from sklearn.preprocessing import scale\n",
        "\n",
        "scaled_iris = scale(iris.data)"
      ],
      "execution_count": null,
      "outputs": []
    },
    {
      "cell_type": "markdown",
      "metadata": {
        "id": "KWiY82xqKJL-"
      },
      "source": [
        "#### Fit a Model\n",
        "\n",
        "We can then create a k-means model with 3 clusters."
      ]
    },
    {
      "cell_type": "code",
      "metadata": {
        "id": "vrdHJppEKJL-"
      },
      "source": [
        "from sklearn.cluster import KMeans\n",
        "\n",
        "model = KMeans(n_clusters=3)\n",
        "model = model.fit(scaled_iris)\n",
        "\n",
        "model.inertia_"
      ],
      "execution_count": null,
      "outputs": []
    },
    {
      "cell_type": "markdown",
      "metadata": {
        "id": "AjP1qs3IKJL-"
      },
      "source": [
        "#### Make Predictions\n",
        "\n",
        "We can then use the model to predict which category a data point belongs to.\n",
        "\n",
        "In the case below, we'll just use some of the data that we trained with for illustrative purposes. The prediction will provide a numeric value."
      ]
    },
    {
      "cell_type": "code",
      "metadata": {
        "id": "Qmt1xHOHK1xg"
      },
      "source": [
        "scaled_digits[0][0]"
      ],
      "execution_count": null,
      "outputs": []
    },
    {
      "cell_type": "code",
      "metadata": {
        "id": "nWp759DsKJL-"
      },
      "source": [
        "cluster = model.predict([scaled_iris[125]])[0]\n",
        "\n",
        "cluster"
      ],
      "execution_count": null,
      "outputs": []
    },
    {
      "cell_type": "markdown",
      "metadata": {
        "id": "n7TnWpemKJL-"
      },
      "source": [
        "What is this value? Is it the predicted digit?\n",
        "\n",
        "No. This number is the cluster that the model thinks the digit belongs to. To determine the predicted digit, we'll need to see what other digits are in the cluster and choose the most popular one for our classification.\n"
      ]
    },
    {
      "cell_type": "code",
      "metadata": {
        "id": "NuKi0P0zKJL-"
      },
      "source": [
        "import numpy as np\n",
        "\n",
        "labels = iris.target\n",
        "\n",
        "cluster_to_digit = [\n",
        "  np.argmax(\n",
        "      np.bincount(\n",
        "        np.array(\n",
        "          [labels[i] for i in range(len(model.labels_)) if model.labels_[i] == cluster]\n",
        "        )\n",
        "      )\n",
        "    ) for cluster in range(3)\n",
        "]\n",
        "\n",
        "cluster_to_digit"
      ],
      "execution_count": null,
      "outputs": []
    },
    {
      "cell_type": "markdown",
      "metadata": {
        "id": "ZRThOP_cKJL_"
      },
      "source": [
        "Here we can see the digit that each cluster represents."
      ]
    },
    {
      "cell_type": "markdown",
      "metadata": {
        "id": "GPF9bdN4KJL_"
      },
      "source": [
        "#### Measure Model Quality\n",
        "\n",
        "If we do have labeled data, as is the case with our digits data, then we can measure the quality of our model using the [homogeneity score](https://scikit-learn.org/stable/modules/generated/sklearn.metrics.homogeneity_score.html#sklearn.metrics.homogeneity_score_) and the [completeness score](https://scikit-learn.org/stable/modules/generated/sklearn.metrics.completeness_score.html#sklearn.metrics.completeness_score)."
      ]
    },
    {
      "cell_type": "code",
      "metadata": {
        "id": "vVA4yMbPKJL_"
      },
      "source": [
        "from sklearn.metrics import homogeneity_score\n",
        "from sklearn.metrics import completeness_score\n",
        "\n",
        "homogeneity = homogeneity_score(labels, model.labels_)\n",
        "completeness = completeness_score(labels, model.labels_)\n",
        "homogeneity, completeness"
      ],
      "execution_count": null,
      "outputs": []
    },
    {
      "cell_type": "markdown",
      "metadata": {
        "id": "qqSceBD3HDkU"
      },
      "source": [
        "---"
      ]
    },
    {
      "cell_type": "markdown",
      "metadata": {
        "id": "fjo4qeMNYu1T"
      },
      "source": [
        "## Exercise 2"
      ]
    },
    {
      "cell_type": "markdown",
      "metadata": {
        "id": "5VetIjZ1kqNk"
      },
      "source": [
        "Load the [iris dataset](https://scikit-learn.org/stable/auto_examples/datasets/plot_iris_dataset.html), and then create a k-means model with three clusters using only two features. (Try to find the best two features for clustering.) Create a plot of the two features.\n",
        "\n",
        "For each datapoint in the chart, use a [marker](https://matplotlib.org/api/markers_api.html) to encode the actual/correct species. For instance, use a triangle for Setosa, a square for Versicolour, and a circle for Virginica. Color each marker green if the predicted class matches the actual. Color each marker red if the classes don't match."
      ]
    },
    {
      "cell_type": "markdown",
      "metadata": {
        "id": "6ewsx_qWvXM8"
      },
      "source": [
        "### **Student Solution**"
      ]
    },
    {
      "cell_type": "markdown",
      "metadata": {
        "id": "wQCCxQExN27M"
      },
      "source": [
        "#### Load the Data"
      ]
    },
    {
      "cell_type": "code",
      "metadata": {
        "id": "iW1A6-iRN27M"
      },
      "source": [
        "from sklearn.datasets import load_iris\n",
        "\n",
        "iris = load_iris()\n",
        "\n",
        "targets = iris['target']"
      ],
      "execution_count": null,
      "outputs": []
    },
    {
      "cell_type": "markdown",
      "metadata": {
        "id": "SD8N1hIvN27N"
      },
      "source": [
        "#### Scale the Data\n",
        "\n",
        "It is good practice to scale the data to ensure that outliers don't have too big of an impact on the clustering."
      ]
    },
    {
      "cell_type": "code",
      "metadata": {
        "id": "5A4d1y9YN27N"
      },
      "source": [
        "from sklearn.preprocessing import scale\n",
        "\n",
        "scaled_iris = scale(iris.data)"
      ],
      "execution_count": null,
      "outputs": []
    },
    {
      "cell_type": "code",
      "metadata": {
        "id": "gN9Tq9HORjUE"
      },
      "source": [
        "# column_names = [iris for iris in iris['feature_names']]\n",
        "import pandas as pd\n",
        "\n",
        "iris_df = pd.DataFrame(scaled_iris, columns=iris['feature_names'])\n",
        "iris_df['target'] = iris['target']\n",
        "iris_df"
      ],
      "execution_count": null,
      "outputs": []
    },
    {
      "cell_type": "markdown",
      "metadata": {
        "id": "-YtJsZJtWl5v"
      },
      "source": [
        "#### Correlation Heatmap\n",
        "(2 features: Petal length and width)"
      ]
    },
    {
      "cell_type": "code",
      "metadata": {
        "id": "tGe99k9mWNKn"
      },
      "source": [
        "import seaborn as sns\n",
        "\n",
        "corr_axes = []\n",
        "for i in range(len(iris_df.corr())):\n",
        "  corr_axes.append(iris_df.corr().columns[i])\n",
        "\n",
        "sns.heatmap(\n",
        "    iris_df.corr(),\n",
        "    yticklabels=corr_axes,\n",
        "    xticklabels=corr_axes,\n",
        "    cmap='coolwarm',\n",
        ")\n",
        "\n",
        "iris_df.corr()"
      ],
      "execution_count": null,
      "outputs": []
    },
    {
      "cell_type": "markdown",
      "metadata": {
        "id": "MoWu5CdHY451"
      },
      "source": [
        "##### Features"
      ]
    },
    {
      "cell_type": "code",
      "metadata": {
        "id": "yD_zqKadXs7O"
      },
      "source": [
        "iris_df = iris_df.drop(columns=['sepal length (cm)','sepal width (cm)'])\n",
        "\n",
        "features = iris_df.drop(columns=['target'])\n",
        "features"
      ],
      "execution_count": null,
      "outputs": []
    },
    {
      "cell_type": "markdown",
      "metadata": {
        "id": "BIAj_A6RN27N"
      },
      "source": [
        "#### Fit a Model\n",
        "\n",
        "We can then create a k-means model with 3 clusters."
      ]
    },
    {
      "cell_type": "code",
      "metadata": {
        "id": "Jej8DfUWN27N"
      },
      "source": [
        "from sklearn.cluster import KMeans\n",
        "\n",
        "model = KMeans(n_clusters=3)\n",
        "model = model.fit(features)\n",
        "\n",
        "print(model.inertia_)"
      ],
      "execution_count": null,
      "outputs": []
    },
    {
      "cell_type": "markdown",
      "metadata": {
        "id": "JXbV_UWMN27P"
      },
      "source": [
        "#### Measure Model Quality\n",
        "\n",
        "If we do have labeled data, as is the case with our digits data, then we can measure the quality of our model using the [homogeneity score](https://scikit-learn.org/stable/modules/generated/sklearn.metrics.homogeneity_score.html#sklearn.metrics.homogeneity_score_) and the [completeness score](https://scikit-learn.org/stable/modules/generated/sklearn.metrics.completeness_score.html#sklearn.metrics.completeness_score)."
      ]
    },
    {
      "cell_type": "code",
      "metadata": {
        "id": "aRAS55E7N27P"
      },
      "source": [
        "from sklearn.metrics import homogeneity_score\n",
        "from sklearn.metrics import completeness_score\n",
        "\n",
        "homogeneity = homogeneity_score(labels, model.labels_)\n",
        "completeness = completeness_score(labels, model.labels_)\n",
        "homogeneity, completeness"
      ],
      "execution_count": null,
      "outputs": []
    },
    {
      "cell_type": "markdown",
      "metadata": {
        "id": "efO3TCbCarMQ"
      },
      "source": [
        "#### Predictions"
      ]
    },
    {
      "cell_type": "code",
      "metadata": {
        "id": "gKYEQa1AastX"
      },
      "source": [
        "cluster = model.predict(features)\n",
        "\n",
        "# actual:\n",
        "# first 50 - setosa\n",
        "# second 50 - versicolour\n",
        "# third 50 - virginica\n",
        "\n",
        "cluster"
      ],
      "execution_count": null,
      "outputs": []
    },
    {
      "cell_type": "code",
      "metadata": {
        "id": "MSlMFOOXy_-g"
      },
      "source": [
        "targets"
      ],
      "execution_count": null,
      "outputs": []
    },
    {
      "cell_type": "markdown",
      "metadata": {
        "id": "MTkICdW33NYM"
      },
      "source": [
        "##### Green / Red Dots"
      ]
    },
    {
      "cell_type": "code",
      "metadata": {
        "id": "GGMFcI6g8eR3"
      },
      "source": [
        "dictionary = {\n",
        "    cluster[0] : targets[0], # setosa\n",
        "    cluster[50] : targets[50], # versicolour\n",
        "    cluster[100] : targets[100] # virginica\n",
        "}\n",
        "\n",
        "dictionary.keys()"
      ],
      "execution_count": null,
      "outputs": []
    },
    {
      "cell_type": "code",
      "metadata": {
        "id": "DNOBRgQGy1cI"
      },
      "source": [
        "# The first 50\n",
        "red = []\n",
        "green = []\n",
        "for i in range(0,50):\n",
        "  if dictionary[cluster[i]] == targets[i]: # check predictions with targets : 0\n",
        "    green.append(i)\n",
        "  else:\n",
        "    red.append(i)\n",
        "\n",
        "if red == []:\n",
        "  print('All green')\n",
        "else:\n",
        "  print(red)"
      ],
      "execution_count": null,
      "outputs": []
    },
    {
      "cell_type": "code",
      "metadata": {
        "id": "1Qz2fG_i0Wlw"
      },
      "source": [
        "# The second 50\n",
        "red = []\n",
        "green = []\n",
        "for i in range(50,100):\n",
        "  if dictionary[cluster[i]] == targets[i]: # check predictions with targets : 1\n",
        "    green.append(i)\n",
        "  else:\n",
        "    red.append(i)\n",
        "\n",
        "if red == []:\n",
        "  print('All green')\n",
        "else:\n",
        "  print(red)\n",
        "\n",
        "red_second = red"
      ],
      "execution_count": null,
      "outputs": []
    },
    {
      "cell_type": "code",
      "metadata": {
        "id": "HnMhpX3l2bfg"
      },
      "source": [
        "# The third 50\n",
        "red = []\n",
        "green = []\n",
        "for i in range(100,150):\n",
        "  if dictionary[cluster[i]] == targets[i]: # check predictions with targets: 2\n",
        "    green.append(i)\n",
        "  else:\n",
        "    red.append(i)\n",
        "\n",
        "if red == []:\n",
        "  print('All green')\n",
        "else:\n",
        "  print(red)\n",
        "\n",
        "red_third = red"
      ],
      "execution_count": null,
      "outputs": []
    },
    {
      "cell_type": "markdown",
      "metadata": {
        "id": "NH0yo4oAZ2KJ"
      },
      "source": [
        "#### Plot"
      ]
    },
    {
      "cell_type": "markdown",
      "metadata": {
        "id": "si2M1CLQeMoX"
      },
      "source": [
        "For each datapoint in the chart, use a marker to encode the actual/correct species. For instance, use a triangle for Setosa, a square for Versicolour, and a circle for Virginica. Color each marker green if the predicted class matches the actual. Color each marker red if the classes don't match."
      ]
    },
    {
      "cell_type": "code",
      "metadata": {
        "id": "xceqaZrFbed9"
      },
      "source": [
        "# map the shapes\n",
        "x_val = []\n",
        "y_val = []\n",
        "for i in range(len(iris_df)):\n",
        "  x = iris_df['petal width (cm)'][i]\n",
        "  y = iris_df['petal length (cm)'][i]\n",
        "\n",
        "  x_val.append(x)\n",
        "  y_val.append(y)"
      ],
      "execution_count": null,
      "outputs": []
    },
    {
      "cell_type": "code",
      "metadata": {
        "id": "0MoLcpXZ4M3z"
      },
      "source": [
        "# grab the incorrect values\n",
        "\n",
        "x_2nd = []\n",
        "y_2nd = []\n",
        "\n",
        "for i in range(2):\n",
        "  x_2nd.append(x_val[red_second[i]])\n",
        "  y_2nd.append(y_val[red_second[i]])\n",
        "\n",
        "x_3rd = []\n",
        "y_3rd = []\n",
        "\n",
        "for i in range(4):\n",
        "  x_3rd.append(x_val[red_third[i]])\n",
        "  y_3rd.append(y_val[red_third[i]])"
      ],
      "execution_count": null,
      "outputs": []
    },
    {
      "cell_type": "code",
      "metadata": {
        "id": "krWgEYfNrmeN"
      },
      "source": [
        "import matplotlib.pyplot as plt\n",
        "\n",
        "x = range(-2,3)\n",
        "y = range(-2,3)\n",
        "fig = plt.figure()\n",
        "ax1 = fig.add_subplot()\n",
        "\n",
        "# setosa\n",
        "ax1.scatter(x_val[:50], y_val[:50], marker = '^', label='setosa', c='green')\n",
        "\n",
        "\n",
        "# versicolour\n",
        "ax1.scatter(x_val[50:100], y_val[50:100], marker = 's',  label='versicolour', c='green')\n",
        "ax1.scatter(x_2nd, y_2nd, marker = 's',  label='versicolour', c='red')\n",
        "\n",
        "\n",
        "# virginica\n",
        "ax1.scatter(x_val[100:150], y_val[100:150], marker = 'o',  label='virginica', c='green')\n",
        "ax1.scatter(x_3rd, y_3rd, marker = 'o',  label='virginica', c='red')\n",
        "\n",
        "plt.legend(loc='upper left');\n",
        "plt.show()"
      ],
      "execution_count": null,
      "outputs": []
    },
    {
      "cell_type": "markdown",
      "metadata": {
        "id": "yPO58TzI9thu"
      },
      "source": [
        "#### Correct Output"
      ]
    },
    {
      "cell_type": "markdown",
      "metadata": {
        "id": "AEiWM1dM90ik"
      },
      "source": [
        "![Screen Shot 2021-07-12 at 2.25.07 PM.png](data:image/png;base64,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)"
      ]
    },
    {
      "cell_type": "markdown",
      "metadata": {
        "id": "eiHWlzVxHge1"
      },
      "source": [
        "---"
      ]
    }
  ]
}