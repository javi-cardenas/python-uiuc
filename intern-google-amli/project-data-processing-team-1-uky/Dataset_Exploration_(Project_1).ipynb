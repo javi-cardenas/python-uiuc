{
  "nbformat": 4,
  "nbformat_minor": 0,
  "metadata": {
    "colab": {
      "name": "Dataset Exploration (Project 1)",
      "provenance": [],
      "collapsed_sections": [
        "jx_FnF6HFucc"
      ]
    },
    "kernelspec": {
      "display_name": "Python 3",
      "name": "python3"
    }
  },
  "cells": [
    {
      "cell_type": "markdown",
      "metadata": {
        "id": "jx_FnF6HFucc"
      },
      "source": [
        "#### Copyright 2019 Google LLC."
      ]
    },
    {
      "cell_type": "code",
      "metadata": {
        "id": "cSdG7cSNFro-"
      },
      "source": [
        "# Licensed under the Apache License, Version 2.0 (the \"License\");\n",
        "# you may not use this file except in compliance with the License.\n",
        "# You may obtain a copy of the License at\n",
        "#\n",
        "# https://www.apache.org/licenses/LICENSE-2.0\n",
        "#\n",
        "# Unless required by applicable law or agreed to in writing, software\n",
        "# distributed under the License is distributed on an \"AS IS\" BASIS,\n",
        "# WITHOUT WARRANTIES OR CONDITIONS OF ANY KIND, either express or implied.\n",
        "# See the License for the specific language governing permissions and\n",
        "# limitations under the License."
      ],
      "execution_count": null,
      "outputs": []
    },
    {
      "cell_type": "markdown",
      "metadata": {
        "id": "_FdRu8E0F6EJ"
      },
      "source": [
        "# Dataset Exploration\n"
      ]
    },
    {
      "cell_type": "markdown",
      "metadata": {
        "id": "Mm5d3zEpKE00"
      },
      "source": [
        "For this project you will be given a dataset and an associated problem. Over the course of the day, you will explore the dataset and train the best model you can in order to solve the problem. At the end of the day, you will give a short presentation about your model and solution."
      ]
    },
    {
      "cell_type": "markdown",
      "metadata": {
        "id": "Nb9YD_6cWefp"
      },
      "source": [
        "### Deliverables\n",
        "\n",
        "1. A **copy of this Colab notebook** containing your code and responses to the ethical considerations below.\n",
        "1. At the end of the day, we will ask you and your group to stand in front of the class and give a brief **presentation about what you have done**. "
      ]
    },
    {
      "cell_type": "code",
      "metadata": {
        "id": "8mEbagsCVwiS"
      },
      "source": [
        ""
      ],
      "execution_count": null,
      "outputs": []
    },
    {
      "cell_type": "markdown",
      "metadata": {
        "id": "JzEoFw-TPi7r"
      },
      "source": [
        "## Team\n",
        "\n",
        "Please enter your team members' names in the placeholders in this text area:\n",
        "\n",
        "*   *Patricia Garcia*\n",
        "*   *To'Nia Ray*\n",
        "*   Daniela Rodriguez\n",
        "*   **Javi Cardenas**\n",
        "---\n",
        " Honorary Member  \n",
        " * Drew \n"
      ]
    },
    {
      "cell_type": "markdown",
      "metadata": {
        "id": "a0-9HPLU43Xf"
      },
      "source": [
        "# Exercises"
      ]
    },
    {
      "cell_type": "markdown",
      "metadata": {
        "id": "8rqFJ-Ch4_mU"
      },
      "source": [
        "## Exercise 1: Coding"
      ]
    },
    {
      "cell_type": "markdown",
      "metadata": {
        "id": "cr12EFb2WQym"
      },
      "source": [
        "[Kaggle](http://www.kaggle.com) hosts a [dataset containing US airline on-time statistics and delay data](https://www.kaggle.com/giovamata/airlinedelaycauses) from the [US Department of Transportation's Bureau of Transportation Statistics (BTS)](https://www.bts.gov/). In this project, we will **use flight statistics data to gain insights into US airports' and airlines' flights in 2008.**\n",
        "\n",
        "You are free to use any toolkit we've covered in class to solve the problem (e.g. Pandas, Matplotlib, Seaborn).\n",
        "\n",
        "Demonstrations of competency:\n",
        "1. Get the data into a Python object.\n",
        "1. Inspect the data for each column's data type and summary statistics.\n",
        "1. Explore the data programmatically and visually.\n",
        "1. Produce an answer and visualization, where applicable, for at least three questions from the list below, and discuss any relevant insights. Feel free to generate and answer some of your own questions. \n",
        "\n",
        "  * Which U.S. airport is the busiest airport? You can decide how you'd like to measure \"business\" (e.g., annually, monthly, daily).\n",
        "  * Of the 2008 flights that are *actually delayed*, think about:\n",
        "    * Which 10 U.S. airlines have the most delays? Daniela\n",
        "    * Which 10 U.S. airlines have the longest average delay time? Javi\n",
        "    * Which 10 U.S. airports have the most delays? Patricia\n",
        "    * Which 10 U.S. airports have the longest average delay time?\n",
        "  * More analysis:\n",
        "    * Are there patterns on how flight delays are distributed across different hours of the day?\n",
        "    * How about across months or seasons? Can you think of any reasons for these seasonal delays?\n",
        "    * If you look at average delay time or number of delays by airport, does the data show linearity? Does any subset of the data show linearity?\n",
        "    * Add reason for delay to your delay analysis above.\n",
        "    * Examine flight frequencies, delays, time of day or year, etc. for a specific airport, airline or origin-arrival airport pair."
      ]
    },
    {
      "cell_type": "markdown",
      "metadata": {
        "id": "WgFU38b7rfbv"
      },
      "source": [
        "### Student Solution"
      ]
    },
    {
      "cell_type": "code",
      "metadata": {
        "id": "wOdOl0qqPyL-",
        "colab": {
          "base_uri": "https://localhost:8080/"
        },
        "outputId": "4ac106ee-ff1a-4d50-b51f-19baea7beff3"
      },
      "source": [
        "# Use as many text and code blocks as you need to create your solution.\n",
        "# Make sure to take notes and add lots of code comments, so your instructor\n",
        "# understands what you are doing!\n",
        "\n",
        "print(\"Good luck!\")"
      ],
      "execution_count": null,
      "outputs": [
        {
          "output_type": "stream",
          "text": [
            "Good luck!\n"
          ],
          "name": "stdout"
        }
      ]
    },
    {
      "cell_type": "code",
      "metadata": {
        "id": "TiOWDRudaLaj"
      },
      "source": [
        "# import files and data\n",
        "\n",
        "import pandas as pd\n",
        "import numpy as np\n",
        "import matplotlib.pyplot as plt\n",
        "import zipfile\n",
        "import os\n",
        "from collections import Counter\n",
        "\n",
        "with zipfile.ZipFile('airlines.zip','r') as z:\n",
        "  z.extractall('./')\n",
        "os.listdir()\n",
        "\n",
        "Airlines = pd.read_csv('DelayedFlights.csv')"
      ],
      "execution_count": null,
      "outputs": []
    },
    {
      "cell_type": "code",
      "metadata": {
        "colab": {
          "base_uri": "https://localhost:8080/",
          "height": 499
        },
        "id": "g09PoctSZqxg",
        "outputId": "d4df43e2-92ea-49aa-94cb-1aa497d2cd1e"
      },
      "source": [
        "# Which 10 U.S. airlines have the longest average delay time?\n",
        "\n",
        "# airline delays\n",
        "airline_delay_df = Airlines.groupby(['UniqueCarrier']).mean()\n",
        "airline_delay_df = airline_delay_df[['CarrierDelay']]\n",
        "airline_delay_df = airline_delay_df.sort_values(by='CarrierDelay', ascending=False)\n",
        "print(airline_delay_df.head(10))\n",
        "\n",
        "# plot\n",
        "x = airline_delay_df.index[:10]\n",
        "y = airline_delay_df['CarrierDelay'][:10]\n",
        "plt.bar(x, y)\n",
        "plt.title('Average Airline Delay Times')\n",
        "plt.xlabel('Airlines')\n",
        "plt.ylabel('Delayed Time (min)')\n",
        "plt.show()"
      ],
      "execution_count": null,
      "outputs": [
        {
          "output_type": "stream",
          "text": [
            "               CarrierDelay\n",
            "UniqueCarrier              \n",
            "YV                37.633791\n",
            "HA                33.769017\n",
            "EV                29.708864\n",
            "OH                27.302573\n",
            "NW                27.002904\n",
            "9E                25.497713\n",
            "AQ                24.535294\n",
            "AA                21.336542\n",
            "AS                20.065592\n",
            "DL                19.531916\n"
          ],
          "name": "stdout"
        },
        {
          "output_type": "display_data",
          "data": {
            "image/png": "[encoded data removed]",
            "text/plain": [
              "<Figure size 432x288 with 1 Axes>"
            ]
          },
          "metadata": {
            "tags": [],
            "needs_background": "light"
          }
        }
      ]
    },
    {
      "cell_type": "code",
      "metadata": {
        "colab": {
          "base_uri": "https://localhost:8080/",
          "height": 499
        },
        "id": "22kCeL84U6dg",
        "outputId": "b88e5836-2962-4f5e-ddfa-b8aa0f272862"
      },
      "source": [
        "# Which 10 U.S. airports have the longest average delay time?\n",
        "\n",
        "# airport delays\n",
        "airport_delay_df = Airlines.groupby(['Origin']).mean()\n",
        "airport_delay_df = airport_delay_df[['DepDelay']]\n",
        "airport_delay_df = airport_delay_df.sort_values(by='DepDelay', ascending=False)\n",
        "print(airport_delay_df.head(10))\n",
        "\n",
        "# plot\n",
        "x = airport_delay_df.index[:10]\n",
        "y = airport_delay_df['DepDelay'][:10]\n",
        "plt.bar(x, y)\n",
        "plt.title('Average Airport Delay Times')\n",
        "plt.xlabel('Airports')\n",
        "plt.ylabel('Delayed Time (min)')\n",
        "plt.show()"
      ],
      "execution_count": null,
      "outputs": [
        {
          "output_type": "stream",
          "text": [
            "          DepDelay\n",
            "Origin            \n",
            "CMX     116.147059\n",
            "PLN      93.761905\n",
            "SPI      83.848739\n",
            "ALO      82.225806\n",
            "MQT      79.556650\n",
            "ACY      79.310345\n",
            "MOT      78.661654\n",
            "HHH      76.530055\n",
            "EGE      74.128920\n",
            "BGM      73.155340\n"
          ],
          "name": "stdout"
        },
        {
          "output_type": "display_data",
          "data": {
            "image/png": "[encoded data removed]",
            "text/plain": [
              "<Figure size 432x288 with 1 Axes>"
            ]
          },
          "metadata": {
            "tags": [],
            "needs_background": "light"
          }
        }
      ]
    },
    {
      "cell_type": "code",
      "metadata": {
        "id": "CyGHlTniWRj9",
        "colab": {
          "base_uri": "https://localhost:8080/",
          "height": 35
        },
        "outputId": "b43a1995-81cc-4e1e-c888-7e0730185bf2"
      },
      "source": [
        "airport = Counter(Airlines['Origin'])\n",
        "\n",
        "#max_key = max(airportmax, key = airportmax.get)\n",
        "#print(max_key)\n",
        "#maxvalue = max(airportmax, key = airportmax.get)\n",
        "#print(maxvalue, airportmax[maxvalue])\n",
        "airport.most_common(1)[0][0]\n",
        "#This displays the airport that is busiest for flights leaving its airport (origin) yearly.\n"
      ],
      "execution_count": null,
      "outputs": [
        {
          "output_type": "execute_result",
          "data": {
            "application/vnd.google.colaboratory.intrinsic+json": {
              "type": "string"
            },
            "text/plain": [
              "'ATL'"
            ]
          },
          "metadata": {
            "tags": []
          },
          "execution_count": 66
        }
      ]
    },
    {
      "cell_type": "markdown",
      "metadata": {
        "id": "2IY331QgBEm5"
      },
      "source": [
        "## Exercise 2: Ethical Implications"
      ]
    },
    {
      "cell_type": "markdown",
      "metadata": {
        "id": "uK8XzfVHLi1K"
      },
      "source": [
        "Even the most basic of data manipulations has the potential to affect segments of the population in different ways. It is important to consider how your code might positively and negatively affect different types of users.\n",
        "\n",
        "In this section of the project, you will reflect on the ethical implications of your analysis."
      ]
    },
    {
      "cell_type": "markdown",
      "metadata": {
        "id": "BqyxriWE53Du"
      },
      "source": [
        "### Student Solution"
      ]
    },
    {
      "cell_type": "markdown",
      "metadata": {
        "id": "_U3L0F9FLmwa"
      },
      "source": [
        "**Positive Impact**\n",
        "\n",
        "Your analysis is trying to solve a problem. Think about who will benefit if the problem is solved, and write a brief narrative about how the model will help."
      ]
    },
    {
      "cell_type": "markdown",
      "metadata": {
        "id": "g582VerYL0so"
      },
      "source": [
        "*Frequent flyers and people that want to avoid as much delays as possible will benefit from this analysis. Our data will help these people potentially avoid some of these airlines/airports or at the very least, plan ahead for expected delays.*"
      ]
    },
    {
      "cell_type": "markdown",
      "metadata": {
        "id": "ALr018eQMuUw"
      },
      "source": [
        "**Negative Impact**\n",
        "\n",
        "Solutions usually don't have a universal benefit. Think about who might be negatively impacted by your analysis. This person or persons might not be directly considered in the analysis, but they might be impacted indirectly."
      ]
    },
    {
      "cell_type": "markdown",
      "metadata": {
        "id": "We8_W4WtNDLw"
      },
      "source": [
        "*The airlines and airports in our analysis will be negatively impacted because it will affect their business if this data were to be released. Current workers for these airlines and airports may have potentially less 'work' because fewer flyers fly would want to fly on these airlines/travel to these airports.*"
      ]
    },
    {
      "cell_type": "markdown",
      "metadata": {
        "id": "07J-8ljpL85I"
      },
      "source": [
        "**Bias**\n",
        "\n",
        "Data analysis can be biased for many reasons. The bias can come from the data itself (e.g. sampling, data collection methods, available sources), and from the interpretation of the analysis outcome.\n",
        "\n",
        "Think of at least two ways that bias might have been introduced to your analysis and explain them below."
      ]
    },
    {
      "cell_type": "markdown",
      "metadata": {
        "id": "Jg_PSw3NMyFX"
      },
      "source": [
        "*One source of bias in the analysis could be that the information in the sample is from 2008 and there have been many advancements to air traffic since then. Another source of bias in the analysis could be in the amount of data taken from each airport in relation to each airlines delays at a certain location. For example, SouthWest could have many delays at 'ATL' airport and only there but since most data for SW was taken from 'ATL' it gives a bad impression of their rate of delays overall.*"
      ]
    },
    {
      "cell_type": "markdown",
      "metadata": {
        "id": "7j9AWdJLMTJI"
      },
      "source": [
        "**Changing the Dataset to Mitigate Bias**\n",
        "\n",
        "The most common way that an analysis is biased is when the dataset itself is biased. Look back at the input data that you used for your analysis. Think about how you might change something about the data to reduce bias in your model.\n",
        "\n",
        "What changes could you make to make your dataset less biased? Consider the data that you have, how and where that data was collected, and what other sources of data might be used to reduce bias.\n",
        "\n",
        "Write a summary of the changes that could be made to your input data."
      ]
    },
    {
      "cell_type": "markdown",
      "metadata": {
        "id": "yzzfrQ-xNZo5"
      },
      "source": [
        "*Since the data has potential bias based on the year , we can adjust this bias by adding data of more recent years into the data set. Also for the potential bias of airlines delays from each airport, we can adjust the data by having each airine have a certain pertange of flights recorded in the data set at each location. Therefore the percentage will be an even distribution of their delay rate.*"
      ]
    },
    {
      "cell_type": "markdown",
      "metadata": {
        "id": "ePs6hpLiMNSx"
      },
      "source": [
        "**Changing the Analysis Questions to Mitigate Bias**\n",
        "\n",
        "Are there any ways to reduce bias by changing the analysis itself? This could include modifying the choice of questions you ask, the approach you take to answer the questions, etc.\n",
        "\n",
        "Write a brief summary of any changes that you could make to help reduce bias in your analysis."
      ]
    },
    {
      "cell_type": "markdown",
      "metadata": {
        "id": "bZ3PS8bRNRCv"
      },
      "source": [
        "Since the analysis has potential bias X, we can adjust this bias by specifying in what way should the data be analyzed; by month, day, or year. Another approach to answer the question to mitigate bias would be to analyze all columns of delay."
      ]
    },
    {
      "cell_type": "markdown",
      "metadata": {
        "id": "YYY7lk55MgdX"
      },
      "source": [
        "**Mitigating Bias Downstream**\n",
        "\n",
        "While analysis can point to suggestions, it is people who make decisions based on them. What processes and/or rules should be in place for people and systems interpreting and acting on the results of your analysis to reduce the bias? Describe these below."
      ]
    },
    {
      "cell_type": "markdown",
      "metadata": {
        "id": "Mp3TkmalNcR-"
      },
      "source": [
        "In this exercise, we were given flight statistics data to gain insights into US airports' and airlines' flights in 2008. However, the flight data from 2008 is not representative of the modern data."
      ]
    }
  ]
}