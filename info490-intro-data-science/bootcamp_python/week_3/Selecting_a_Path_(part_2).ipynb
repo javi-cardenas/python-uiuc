{
  "nbformat": 4,
  "nbformat_minor": 0,
  "metadata": {
    "colab": {
      "name": "Selecting a Path (part 2)",
      "provenance": [],
      "collapsed_sections": []
    },
    "kernelspec": {
      "display_name": "Python 3",
      "name": "python3"
    },
    "language": "python",
    "story": {
      "auth_token": "wwuFIAV7e7b0Omv4idnXCqOBTbuPLfrp2fSQxZf3pnI=",
      "authorship_tag": "AB",
      "chapters": 14,
      "name": "Selecting a Path",
      "parser": {},
      "root": "https://raw.githubusercontent.com/habermanUIUC/CodeStories-lessons/main/lessons/p4ds/bootcamp/paths1",
      "tag": "p4ds:bootcamp:paths1"
    }
  },
  "cells": [
    {
      "cell_type": "markdown",
      "metadata": {
        "id": "G4ogkINXHCfE"
      },
      "source": [
        "# Programming w/🐍 for Data Science \n",
        "<img src=\"https://raw.githubusercontent.com/habermanUIUC/CodeStories-lessons/main/lessons/p4ds/bootcamp/paths1/html/section00.png\" align=\"left\"/>"
      ]
    },
    {
      "cell_type": "markdown",
      "metadata": {
        "id": "FQcAjRpVHCfG"
      },
      "source": [
        "<a id=\"install\"></a>\n",
        "## Notebook Preparation for Lesson in 1•2•3 steps:\n",
        "Each lesson will start with a similar template (given in the course schedule):  \n",
        "1. **save** to your google drive (copy to drive)<br/><img src=\"https://raw.githubusercontent.com/habermanUIUC/CodeStories-lessons/main/assets/images/colab/copy-to-drive.png\"/>\n",
        "2. **update** the NET_ID to be your netID (no need to include @illinois.edu)\n",
        "3. **run** the next cell to install the IDE. <img src=\"https://raw.githubusercontent.com/habermanUIUC/CodeStories-lessons/main/assets/images/colab/play-button.png\"/>"
      ]
    },
    {
      "cell_type": "code",
      "metadata": {
        "id": "hgt0JTKlHCfG",
        "colab": {
          "base_uri": "https://localhost:8080/"
        },
        "outputId": "9e15ab01-298a-45ab-f31d-66322ed3f53b"
      },
      "source": [
        "LESSON_ID = 'p4ds:bootcamp:paths1'   # keep this as is\n",
        "NET_ID    = 'jcarde28' # CHANGE_ME to your netID (keep the quotes)\n",
        "\n",
        "def install_ide(net_id, lesson_id):\n",
        "  import sys\n",
        "  if 'codestories' not in sys.modules:\n",
        "      print('installing modules')\n",
        "      !pip install git+https://mehaberman@bitbucket.org/mehaberman/codestories.git --upgrade &> install.log\n",
        "  \n",
        "  from codestories.cs.CodeStories import CodeStory\n",
        "  return CodeStory(net_id, lesson_id)\n",
        "\n",
        "ide = install_ide(NET_ID, LESSON_ID)\n",
        "print(ide.welcome())"
      ],
      "execution_count": null,
      "outputs": [
        {
          "output_type": "stream",
          "name": "stdout",
          "text": [
            "installing modules\n",
            "Telling the story: Selecting a Path\n"
          ]
        }
      ]
    },
    {
      "cell_type": "markdown",
      "metadata": {
        "id": "LB1fKI-qHCfH"
      },
      "source": [
        "# Lesson Selecting a Path\n",
        "(hit ▶ to read the first part of the lesson️)"
      ]
    },
    {
      "cell_type": "code",
      "metadata": {
        "id": "id4kjLomHCfH",
        "colab": {
          "base_uri": "https://localhost:8080/",
          "height": 1000
        },
        "outputId": "15990f10-c2fd-4967-e3a1-0fa3850d4c47"
      },
      "source": [
        "# run to read the next section\n",
        "ide.reader.view_section(1)"
      ],
      "execution_count": null,
      "outputs": [
        {
          "output_type": "display_data",
          "data": {
            "text/html": [
              "<!DOCTYPE html><html lang='en'><head><title>Selecting a Path</title><meta charset=\"utf-8\"><style>/*! normalize.css v8.0.1 | MIT License | github.com/necolas/normalize.css */html{line-height:1.15;-webkit-text-size-adjust:100%}body{margin:0}h1{font-size:2em;margin:.67em 0}pre{font-family:monospace,monospace;font-size:1em}a{background-color:transparent}strong{font-weight:bolder}code{font-family:monospace,monospace;font-size:1em}img{border-style:none}input{font-family:inherit;font-size:100%;line-height:1.15;margin:0}input{overflow:visible}[type=checkbox]{box-sizing:border-box;padding:0}::-webkit-file-upload-button{-webkit-appearance:button;font:inherit}blockquote,h1,h2,h3,h4,p,pre{margin:0}ul{list-style:none;margin:0;padding:0}html{font-family:system-ui,-apple-system,BlinkMacSystemFont,\"Segoe UI\",Roboto,\"Helvetica Neue\",Arial,\"Noto Sans\",sans-serif,\"Apple Color Emoji\",\"Segoe UI Emoji\",\"Segoe UI Symbol\",\"Noto Color Emoji\";line-height:1.5}*,::after,::before{box-sizing:border-box;border-width:0;border-style:solid;border-color:#e2e8f0}img{border-style:solid}input:-ms-input-placeholder{color:#a0aec0}input::-ms-input-placeholder{color:#a0aec0}input::-moz-placeholder{color:#a0aec0}h1,h2,h3,h4{font-size:inherit;font-weight:inherit}a{color:inherit;text-decoration:inherit}input{padding:0;line-height:inherit;color:inherit}code,pre{font-family:Menlo,Monaco,Consolas,\"Liberation Mono\",\"Courier New\",monospace}img,video{display:block;vertical-align:middle}img,video{max-width:100%;height:auto}.container{width:100%}@media (min-width:640px){.container{max-width:640px}}@media (min-width:768px){.container{max-width:768px}}@media (min-width:1024px){.container{max-width:1024px}}@media (min-width:1280px){.container{max-width:1280px}}.bg-gray-200{--bg-opacity:1;background-color:#edf2f7;background-color:rgba(237,242,247,var(--bg-opacity))}.bg-gray-300{--bg-opacity:1;background-color:#e2e8f0;background-color:rgba(226,232,240,var(--bg-opacity))}.bg-orange-300{--bg-opacity:1;background-color:#fbd38d;background-color:rgba(251,211,141,var(--bg-opacity))}.bg-green-200{--bg-opacity:1;background-color:#c6f6d5;background-color:rgba(198,246,213,var(--bg-opacity))}.bg-blue-200{--bg-opacity:1;background-color:#bee3f8;background-color:rgba(190,227,248,var(--bg-opacity))}.bg-blue-300{--bg-opacity:1;background-color:#90cdf4;background-color:rgba(144,205,244,var(--bg-opacity))}.border-gray-400{--border-opacity:1;border-color:#cbd5e0;border-color:rgba(203,213,224,var(--border-opacity))}.border-gray-500{--border-opacity:1;border-color:#a0aec0;border-color:rgba(160,174,192,var(--border-opacity))}.border-gray-600{--border-opacity:1;border-color:#718096;border-color:rgba(113,128,150,var(--border-opacity))}.border-indigo-500{--border-opacity:1;border-color:#667eea;border-color:rgba(102,126,234,var(--border-opacity))}.rounded{border-radius:.25rem}.rounded-full{border-radius:9999px}.border-solid{border-style:solid}.border-0{border-width:0}.border{border-width:1px}.border-l-2{border-left-width:2px}.border-t{border-top-width:1px}.cursor-pointer{cursor:pointer}.block{display:block}.inline-block{display:inline-block}.flex{display:flex}.justify-center{justify-content:center}.justify-around{justify-content:space-around}.float-left{float:left}.clearfix:after{content:\"\";display:table;clear:both}.clear-both{clear:both}.font-sans{font-family:system-ui,-apple-system,BlinkMacSystemFont,\"Segoe UI\",Roboto,\"Helvetica Neue\",Arial,\"Noto Sans\",sans-serif,\"Apple Color Emoji\",\"Segoe UI Emoji\",\"Segoe UI Symbol\",\"Noto Color Emoji\"}.font-serif{font-family:Georgia,Cambria,\"Times New Roman\",Times,serif}.font-semibold{font-weight:600}.font-bold{font-weight:700}.h-64{height:16rem}.text-xs{font-size:.75rem}.text-sm{font-size:.875rem}.text-base{font-size:1rem}.text-xl{font-size:1.25rem}.leading-none{line-height:1}.leading-normal{line-height:1.5}.m-2{margin:.5rem}.my-4{margin-top:1rem;margin-bottom:1rem}.mt-1{margin-top:.25rem}.mt-2{margin-top:.5rem}.mr-2{margin-right:.5rem}.mb-2{margin-bottom:.5rem}.mt-3{margin-top:.75rem}.mr-3{margin-right:.75rem}.mb-3{margin-bottom:.75rem}.mt-4{margin-top:1rem}.mb-4{margin-bottom:1rem}.mt-6{margin-top:1.5rem}.max-w-sm{max-width:24rem}.max-w-2xl{max-width:42rem}.object-contain{-o-object-fit:contain;object-fit:contain}.opacity-0{opacity:0}.overflow-hidden{overflow:hidden}.p-1{padding:.25rem}.p-2{padding:.5rem}.p-3{padding:.75rem}.py-1{padding-top:.25rem;padding-bottom:.25rem}.py-2{padding-top:.5rem;padding-bottom:.5rem}.px-3{padding-left:.75rem;padding-right:.75rem}.py-4{padding-top:1rem;padding-bottom:1rem}.px-4{padding-left:1rem;padding-right:1rem}.px-6{padding-left:1.5rem;padding-right:1.5rem}.pl-3{padding-left:.75rem}.absolute{position:absolute}.shadow-md{box-shadow:0 4px 6px -1px rgba(0,0,0,.1),0 2px 4px -1px rgba(0,0,0,.06)}.shadow-lg{box-shadow:0 10px 15px -3px rgba(0,0,0,.1),0 4px 6px -2px rgba(0,0,0,.05)}.shadow-inner{box-shadow:inset 0 2px 4px 0 rgba(0,0,0,.06)}.text-left{text-align:left}.text-center{text-align:center}.text-black{--text-opacity:1;color:#000;color:rgba(0,0,0,var(--text-opacity))}.text-gray-700{--text-opacity:1;color:#4a5568;color:rgba(74,85,104,var(--text-opacity))}.text-gray-800{--text-opacity:1;color:#2d3748;color:rgba(45,55,72,var(--text-opacity))}.whitespace-no-wrap{white-space:nowrap}.w-1\\/2{width:50%}.w-2\\/3{width:66.666667%}.w-full{width:100%}@media (min-width:768px){.md\\:w-2\\/3{width:66.666667%}}.text-tiny{font-size:.5rem!important}body{color:#000!important;font-size:1.25rem!important}.main-content{max-width:900px}.lesson{padding-left:15px!important;padding-right:10px!important;--bg-opacity:1;background-color:#edf2f7;background-color:rgba(237,242,247,var(--bg-opacity))}.main-content,html{font-family:Arial,Georgia,Verdana,\"Times New Roman\"!important}.lesson-footer-card,.lesson-overview-card{font-family:\"Times New Roman\"!important}blockquote em:first-child{font-family:Times!important;font-size:1.35em;margin-right:10px}blockquote em:first-child:after{content:\":\"}.lesson-footer{margin-top:50px;margin-top:20px}video{height:auto;padding:.25rem;background-color:#87cefa;margin:0!important;padding:0!important}.lesson ul{list-style-position:inside;list-style-type:none;margin-left:1em}.lesson ul li{padding-left:1em;padding-right:5px}.lesson ul li::before{content:\"•\";padding-right:5px}span{white-space:nowrap}p.new{padding-top:0;padding-bottom:.5em}p.new+p{padding-top:.5em}h1,h2,h3,h4{font-weight:700;margin-top:.25em!important;margin-bottom:.05em!important;font-family:Georgia,Cambria,\"Times New Roman\",Times,serif!important}h1{font-size:2em!important;clear:both;color:#000!important}div+h1,h2{margin-top:0!important}h2{margin-top:.5em!important;font-size:1.5em!important;clear:both;color:#8b0000!important}h3{font-size:1.25em!important;clear:both;color:#006400!important}h4{font-size:1em!important;clear:both;color:#00008b!important}ul{margin-bottom:30px}.lesson a{text-decoration:underline;color:#00f}.title-text{font-size:2rem}blockquote{font-size:1em;background:#f9f9f9;border-left:10px solid #ccc;margin:.5em 10px;padding:.5em 10px;border-left-color:#ffcd69;border-right-color:#f6ba59;quotes:\"\\201C\"\"\\201D\"\"\\2018\"\"\\2019\"}blockquote:before{color:#ccc;content:open-quote;font-size:4em;line-height:.1em;margin-right:.25em;vertical-align:-.4em}blockquote:after{color:#ccc;content:no-close-quote}blockquote p{display:inline}.shadow-lg{box-shadow:0 10px 15px -3px rgba(0,0,0,.1),0 4px 6px -2px rgba(0,0,0,.5)}img.center{-o-object-position:center;object-position:center;margin-left:auto;margin-right:auto}img.border2{border:1px solid #94add4;margin-top:.5rem;margin-bottom:.75rem}img.iw400{height:auto;width:auto;max-width:400px}img.iw300{height:auto;width:auto;max-width:300px}code{font-size:smaller}pre code{font-size:15px}.code{background:#f4f4f4;font-family:monospace;font-size:15px;-webkit-user-select:none;-moz-user-select:none;-ms-user-select:none;user-select:none;cursor:default;touch-action:none;-webkit-touch-callout:none;-webkit-tap-highlight-color:transparent;clear:both;border:1px solid #ddd;color:#666;page-break-inside:avoid;display:block;min-width:840px;max-width:840px;overflow:scroll;line-height:1.6;margin-bottom:1.6em;padding:1em 1.5em;-moz-tab-size:2;-o-tab-size:2;tab-size:2;word-wrap:break-word;white-space:pre-wrap;border-left:3px solid #f36d33!important}pre code:not(.line-number){background:#f4f4f4;font-family:monospace;font-size:15px;-webkit-user-select:none;-moz-user-select:none;-ms-user-select:none;user-select:none;cursor:default;touch-action:none;-webkit-touch-callout:none;-webkit-tap-highlight-color:transparent;clear:both;border:1px solid #ddd;color:#666;page-break-inside:avoid;display:block;min-width:840px;max-width:840px;overflow:scroll;line-height:1.6;margin-bottom:1.6em;padding:1em 1.5em;-moz-tab-size:2;-o-tab-size:2;tab-size:2;word-wrap:break-word;white-space:pre-wrap;border-left:3px solid #f36d33}div.code-starter>pre code{border-left:3px solid #fdff44!important;background-image:radial-gradient(rgba(0,150,0,.75),#000 120%);color:#fff;font:.9rem Inconsolata,monospace}div.code-starter>pre code::after{content:\"\\a$_\"}.code pre{counter-reset:line}code.line-number{counter-increment:line}code.line-number::before{padding:0 .5em;margin-right:.5em;border-right:1px solid #ddd}code.line-number:before{content:\"0\" counter(line)}.tab{font-size:1rem;border-color:#8c6728}.tab-content{max-height:0;max-width:100%;transition:max-height .35s}.tab input:checked~.tab-content{max-height:100vh}.tab input:checked+label{padding:1rem;border-left-width:2px;border-color:#6574cd;background-color:#f8fafc;color:#6574cd}.tab label::after{float:right;right:0;top:0;display:block;width:1em;height:1.5em;line-height:1.5;font-size:1rem;text-align:center;transition:all .35s}.tab input[type=checkbox]+label::after{content:\"+\";font-weight:700;border-width:1px;border-radius:9999px;border-color:#8c6728}.tab input[type=checkbox]:checked+label::after{transform:rotate(315deg);background-color:#6574cd;color:#f8fafc}</style>\n",
              "<script src=\"https://kit.fontawesome.com/7efc4bcee2.js\" crossOrigin=\"anonymous\"></script>\n",
              "<script>\n",
              "    let stateCheck = setInterval(function(){\n",
              "      if (document.readyState === 'complete') {\n",
              "        clearInterval(stateCheck);\n",
              "        let s1 = document.getElementById('start');\n",
              "        // console.log('doc is ready', s1);\n",
              "        if (s1) {\n",
              "           s1.setAttribute('tabindex', '-1');\n",
              "           s1.focus(); \n",
              "           s1.scrollIntoView({behavior: 'smooth'}); \n",
              "           setTimeout(function(){s1.blur()}, 500);\n",
              "           // console.log('focus set');\n",
              "        }\n",
              "      }\n",
              "    }, 200);\n",
              "    </script>\n",
              "</head><body class=\"lesson\"><div class=\"main-content lesson bg-gray-200 text-black p-1 pl-3 font-serif\"><div class=\"md-inner\">\n",
              "<div id=\"start\" class=\"section\">&nbsp;</div><h1 class=\"section\" id=\"section1\">Selecting a Path</h1><div class=\"clear-both border border-gray-600 float-left mr-3 mt-3\"><video class=\"border-0\" controls=\"\" id=\"v1\" width=\"500\"><source src=\"https://storage.googleapis.com/uicourse/videos/mh1/07_paths.mp4\" type=\"video/mp4\"/></video></div><h2 id=\"deciding-what-to-run\">Deciding What to Run</h2><img alt=\"paths.png\" class=\"float-left border2 iw300 mr-3\" src=\"https://raw.githubusercontent.com/habermanUIUC/CodeStories-lessons/main/lessons/p4ds/bootcamp/paths1/html/paths.png\"/><p class=\"new\">There comes a point in every journey where a decision or rule is made based on some condition:  </p><p class=\"new\">\"I will eat only if I am hungry\" <br/>\"I'll stop reading this journal if I get too tired\" <br/>\"I won't play unless all my lessons are done\" <br/>\"I get a 10% discount on all blue items\" <br/></p><p class=\"new\">Computer languages provide a construct to help you frame such situations -- where \n",
              "you want to run code but only under certain conditions. Those constructs \n",
              "are called if statements or if/then/else statements (also called <em>branching</em>, \n",
              "<em>selection</em>, or <em>conditionals</em>). It allows the computer to <strong>execute code based on a condition</strong>.</p><p class=\"new\">Here's a simple example that encapsulates the logic \"I will eat <strong>if</strong> I am hungry\":</p><div class=\"code-block code clearfix\"><pre><code class=\"line-number\">def will_eat(hungry):\n",
              "</code><code class=\"line-number\">    if hungry == True:\n",
              "</code><code class=\"line-number\">        return \"I will eat\"\n",
              "</code><code class=\"line-number\">    else:\n",
              "</code><code class=\"line-number\">        return \"I will NOT eat\"\n",
              "</code><code class=\"line-number\">\n",
              "</code><code class=\"line-number\">print(will_eat(True))\n",
              "</code></pre></div><p class=\"new\">The <code>if</code> statement is made up of the following:</p><ul><li><strong><code>if</code></strong> is a keyword for a start of the conditional (line 2)</li><li>the statement after the <code>if</code> and before the <code>:</code> is what is evaluated to\n",
              "determine which branch to execute (called a boolean expression)</li><li>a boolean expression is used to determine which branch to execute. In this\n",
              "case you are answering the question is the variable <code>hungry</code> equal (the double <code>==</code> sign) to <code>True</code>?</li><li><strong><code>:</code></strong> at the end of line 2 starts the 'if true' case (block of code to execute)</li><li><strong><code>else</code></strong> is a keyword for the start of the false case (followed by a <strong><code>:</code></strong>)</li><li>line 5 is the 'else' block of code that will be executed when hungry is not <code>True</code></li></ul><script>document.getElementById(\"v1\").playbackRate = 1.25;</script></div></div></body></html>"
            ],
            "text/plain": [
              "<IPython.core.display.HTML object>"
            ]
          },
          "metadata": {}
        }
      ]
    },
    {
      "cell_type": "markdown",
      "metadata": {
        "id": "dyYq-PEiHCfH"
      },
      "source": [
        "# Boolean Expressions"
      ]
    },
    {
      "cell_type": "code",
      "metadata": {
        "id": "Q9LJrqJ9HCfH",
        "colab": {
          "base_uri": "https://localhost:8080/",
          "height": 1000
        },
        "outputId": "e66cc6fa-ee28-4ccd-d08d-ce54a701e7f9"
      },
      "source": [
        "# run to read the next section\n",
        "ide.reader.view_section(2)"
      ],
      "execution_count": null,
      "outputs": [
        {
          "output_type": "display_data",
          "data": {
            "text/html": [
              "<!DOCTYPE html><html lang='en'><head><title>Selecting a Path</title><meta charset=\"utf-8\"><style>/*! normalize.css v8.0.1 | MIT License | github.com/necolas/normalize.css */html{line-height:1.15;-webkit-text-size-adjust:100%}body{margin:0}h1{font-size:2em;margin:.67em 0}pre{font-family:monospace,monospace;font-size:1em}a{background-color:transparent}strong{font-weight:bolder}code{font-family:monospace,monospace;font-size:1em}img{border-style:none}input{font-family:inherit;font-size:100%;line-height:1.15;margin:0}input{overflow:visible}[type=checkbox]{box-sizing:border-box;padding:0}::-webkit-file-upload-button{-webkit-appearance:button;font:inherit}blockquote,h1,h2,h3,h4,p,pre{margin:0}ul{list-style:none;margin:0;padding:0}html{font-family:system-ui,-apple-system,BlinkMacSystemFont,\"Segoe UI\",Roboto,\"Helvetica Neue\",Arial,\"Noto Sans\",sans-serif,\"Apple Color Emoji\",\"Segoe UI Emoji\",\"Segoe UI Symbol\",\"Noto Color Emoji\";line-height:1.5}*,::after,::before{box-sizing:border-box;border-width:0;border-style:solid;border-color:#e2e8f0}img{border-style:solid}input:-ms-input-placeholder{color:#a0aec0}input::-ms-input-placeholder{color:#a0aec0}input::-moz-placeholder{color:#a0aec0}h1,h2,h3,h4{font-size:inherit;font-weight:inherit}a{color:inherit;text-decoration:inherit}input{padding:0;line-height:inherit;color:inherit}code,pre{font-family:Menlo,Monaco,Consolas,\"Liberation Mono\",\"Courier New\",monospace}img,video{display:block;vertical-align:middle}img,video{max-width:100%;height:auto}.container{width:100%}@media (min-width:640px){.container{max-width:640px}}@media (min-width:768px){.container{max-width:768px}}@media (min-width:1024px){.container{max-width:1024px}}@media (min-width:1280px){.container{max-width:1280px}}.bg-gray-200{--bg-opacity:1;background-color:#edf2f7;background-color:rgba(237,242,247,var(--bg-opacity))}.bg-gray-300{--bg-opacity:1;background-color:#e2e8f0;background-color:rgba(226,232,240,var(--bg-opacity))}.bg-orange-300{--bg-opacity:1;background-color:#fbd38d;background-color:rgba(251,211,141,var(--bg-opacity))}.bg-green-200{--bg-opacity:1;background-color:#c6f6d5;background-color:rgba(198,246,213,var(--bg-opacity))}.bg-blue-200{--bg-opacity:1;background-color:#bee3f8;background-color:rgba(190,227,248,var(--bg-opacity))}.bg-blue-300{--bg-opacity:1;background-color:#90cdf4;background-color:rgba(144,205,244,var(--bg-opacity))}.border-gray-400{--border-opacity:1;border-color:#cbd5e0;border-color:rgba(203,213,224,var(--border-opacity))}.border-gray-500{--border-opacity:1;border-color:#a0aec0;border-color:rgba(160,174,192,var(--border-opacity))}.border-gray-600{--border-opacity:1;border-color:#718096;border-color:rgba(113,128,150,var(--border-opacity))}.border-indigo-500{--border-opacity:1;border-color:#667eea;border-color:rgba(102,126,234,var(--border-opacity))}.rounded{border-radius:.25rem}.rounded-full{border-radius:9999px}.border-solid{border-style:solid}.border-0{border-width:0}.border{border-width:1px}.border-l-2{border-left-width:2px}.border-t{border-top-width:1px}.cursor-pointer{cursor:pointer}.block{display:block}.inline-block{display:inline-block}.flex{display:flex}.justify-center{justify-content:center}.justify-around{justify-content:space-around}.float-left{float:left}.clearfix:after{content:\"\";display:table;clear:both}.clear-both{clear:both}.font-sans{font-family:system-ui,-apple-system,BlinkMacSystemFont,\"Segoe UI\",Roboto,\"Helvetica Neue\",Arial,\"Noto Sans\",sans-serif,\"Apple Color Emoji\",\"Segoe UI Emoji\",\"Segoe UI Symbol\",\"Noto Color Emoji\"}.font-serif{font-family:Georgia,Cambria,\"Times New Roman\",Times,serif}.font-semibold{font-weight:600}.font-bold{font-weight:700}.h-64{height:16rem}.text-xs{font-size:.75rem}.text-sm{font-size:.875rem}.text-base{font-size:1rem}.text-xl{font-size:1.25rem}.leading-none{line-height:1}.leading-normal{line-height:1.5}.m-2{margin:.5rem}.my-4{margin-top:1rem;margin-bottom:1rem}.mt-1{margin-top:.25rem}.mt-2{margin-top:.5rem}.mr-2{margin-right:.5rem}.mb-2{margin-bottom:.5rem}.mt-3{margin-top:.75rem}.mr-3{margin-right:.75rem}.mb-3{margin-bottom:.75rem}.mt-4{margin-top:1rem}.mb-4{margin-bottom:1rem}.mt-6{margin-top:1.5rem}.max-w-sm{max-width:24rem}.max-w-2xl{max-width:42rem}.object-contain{-o-object-fit:contain;object-fit:contain}.opacity-0{opacity:0}.overflow-hidden{overflow:hidden}.p-1{padding:.25rem}.p-2{padding:.5rem}.p-3{padding:.75rem}.py-1{padding-top:.25rem;padding-bottom:.25rem}.py-2{padding-top:.5rem;padding-bottom:.5rem}.px-3{padding-left:.75rem;padding-right:.75rem}.py-4{padding-top:1rem;padding-bottom:1rem}.px-4{padding-left:1rem;padding-right:1rem}.px-6{padding-left:1.5rem;padding-right:1.5rem}.pl-3{padding-left:.75rem}.absolute{position:absolute}.shadow-md{box-shadow:0 4px 6px -1px rgba(0,0,0,.1),0 2px 4px -1px rgba(0,0,0,.06)}.shadow-lg{box-shadow:0 10px 15px -3px rgba(0,0,0,.1),0 4px 6px -2px rgba(0,0,0,.05)}.shadow-inner{box-shadow:inset 0 2px 4px 0 rgba(0,0,0,.06)}.text-left{text-align:left}.text-center{text-align:center}.text-black{--text-opacity:1;color:#000;color:rgba(0,0,0,var(--text-opacity))}.text-gray-700{--text-opacity:1;color:#4a5568;color:rgba(74,85,104,var(--text-opacity))}.text-gray-800{--text-opacity:1;color:#2d3748;color:rgba(45,55,72,var(--text-opacity))}.whitespace-no-wrap{white-space:nowrap}.w-1\\/2{width:50%}.w-2\\/3{width:66.666667%}.w-full{width:100%}@media (min-width:768px){.md\\:w-2\\/3{width:66.666667%}}.text-tiny{font-size:.5rem!important}body{color:#000!important;font-size:1.25rem!important}.main-content{max-width:900px}.lesson{padding-left:15px!important;padding-right:10px!important;--bg-opacity:1;background-color:#edf2f7;background-color:rgba(237,242,247,var(--bg-opacity))}.main-content,html{font-family:Arial,Georgia,Verdana,\"Times New Roman\"!important}.lesson-footer-card,.lesson-overview-card{font-family:\"Times New Roman\"!important}blockquote em:first-child{font-family:Times!important;font-size:1.35em;margin-right:10px}blockquote em:first-child:after{content:\":\"}.lesson-footer{margin-top:50px;margin-top:20px}video{height:auto;padding:.25rem;background-color:#87cefa;margin:0!important;padding:0!important}.lesson ul{list-style-position:inside;list-style-type:none;margin-left:1em}.lesson ul li{padding-left:1em;padding-right:5px}.lesson ul li::before{content:\"•\";padding-right:5px}span{white-space:nowrap}p.new{padding-top:0;padding-bottom:.5em}p.new+p{padding-top:.5em}h1,h2,h3,h4{font-weight:700;margin-top:.25em!important;margin-bottom:.05em!important;font-family:Georgia,Cambria,\"Times New Roman\",Times,serif!important}h1{font-size:2em!important;clear:both;color:#000!important}div+h1,h2{margin-top:0!important}h2{margin-top:.5em!important;font-size:1.5em!important;clear:both;color:#8b0000!important}h3{font-size:1.25em!important;clear:both;color:#006400!important}h4{font-size:1em!important;clear:both;color:#00008b!important}ul{margin-bottom:30px}.lesson a{text-decoration:underline;color:#00f}.title-text{font-size:2rem}blockquote{font-size:1em;background:#f9f9f9;border-left:10px solid #ccc;margin:.5em 10px;padding:.5em 10px;border-left-color:#ffcd69;border-right-color:#f6ba59;quotes:\"\\201C\"\"\\201D\"\"\\2018\"\"\\2019\"}blockquote:before{color:#ccc;content:open-quote;font-size:4em;line-height:.1em;margin-right:.25em;vertical-align:-.4em}blockquote:after{color:#ccc;content:no-close-quote}blockquote p{display:inline}.shadow-lg{box-shadow:0 10px 15px -3px rgba(0,0,0,.1),0 4px 6px -2px rgba(0,0,0,.5)}img.center{-o-object-position:center;object-position:center;margin-left:auto;margin-right:auto}img.border2{border:1px solid #94add4;margin-top:.5rem;margin-bottom:.75rem}img.iw400{height:auto;width:auto;max-width:400px}img.iw300{height:auto;width:auto;max-width:300px}code{font-size:smaller}pre code{font-size:15px}.code{background:#f4f4f4;font-family:monospace;font-size:15px;-webkit-user-select:none;-moz-user-select:none;-ms-user-select:none;user-select:none;cursor:default;touch-action:none;-webkit-touch-callout:none;-webkit-tap-highlight-color:transparent;clear:both;border:1px solid #ddd;color:#666;page-break-inside:avoid;display:block;min-width:840px;max-width:840px;overflow:scroll;line-height:1.6;margin-bottom:1.6em;padding:1em 1.5em;-moz-tab-size:2;-o-tab-size:2;tab-size:2;word-wrap:break-word;white-space:pre-wrap;border-left:3px solid #f36d33!important}pre code:not(.line-number){background:#f4f4f4;font-family:monospace;font-size:15px;-webkit-user-select:none;-moz-user-select:none;-ms-user-select:none;user-select:none;cursor:default;touch-action:none;-webkit-touch-callout:none;-webkit-tap-highlight-color:transparent;clear:both;border:1px solid #ddd;color:#666;page-break-inside:avoid;display:block;min-width:840px;max-width:840px;overflow:scroll;line-height:1.6;margin-bottom:1.6em;padding:1em 1.5em;-moz-tab-size:2;-o-tab-size:2;tab-size:2;word-wrap:break-word;white-space:pre-wrap;border-left:3px solid #f36d33}div.code-starter>pre code{border-left:3px solid #fdff44!important;background-image:radial-gradient(rgba(0,150,0,.75),#000 120%);color:#fff;font:.9rem Inconsolata,monospace}div.code-starter>pre code::after{content:\"\\a$_\"}.code pre{counter-reset:line}code.line-number{counter-increment:line}code.line-number::before{padding:0 .5em;margin-right:.5em;border-right:1px solid #ddd}code.line-number:before{content:\"0\" counter(line)}.tab{font-size:1rem;border-color:#8c6728}.tab-content{max-height:0;max-width:100%;transition:max-height .35s}.tab input:checked~.tab-content{max-height:100vh}.tab input:checked+label{padding:1rem;border-left-width:2px;border-color:#6574cd;background-color:#f8fafc;color:#6574cd}.tab label::after{float:right;right:0;top:0;display:block;width:1em;height:1.5em;line-height:1.5;font-size:1rem;text-align:center;transition:all .35s}.tab input[type=checkbox]+label::after{content:\"+\";font-weight:700;border-width:1px;border-radius:9999px;border-color:#8c6728}.tab input[type=checkbox]:checked+label::after{transform:rotate(315deg);background-color:#6574cd;color:#f8fafc}</style>\n",
              "<script src=\"https://kit.fontawesome.com/7efc4bcee2.js\" crossOrigin=\"anonymous\"></script>\n",
              "<script>\n",
              "    let stateCheck = setInterval(function(){\n",
              "      if (document.readyState === 'complete') {\n",
              "        clearInterval(stateCheck);\n",
              "        let s1 = document.getElementById('start');\n",
              "        // console.log('doc is ready', s1);\n",
              "        if (s1) {\n",
              "           s1.setAttribute('tabindex', '-1');\n",
              "           s1.focus(); \n",
              "           s1.scrollIntoView({behavior: 'smooth'}); \n",
              "           setTimeout(function(){s1.blur()}, 500);\n",
              "           // console.log('focus set');\n",
              "        }\n",
              "      }\n",
              "    }, 200);\n",
              "    </script>\n",
              "</head><body class=\"lesson\"><div class=\"main-content lesson bg-gray-200 text-black p-1 pl-3 font-serif\"><div class=\"md-inner\">\n",
              "<div id=\"start\" class=\"section\">&nbsp;</div><h1 class=\"section\" id=\"section2\">Boolean Expressions</h1><p class=\"new\">The main part of the if construct is the boolean expression that is used to \n",
              "determine which branch gets executed. A boolean expression can be anything \n",
              "that gets evaluated to be either <code>True</code> or <code>False</code>. </p><h2 id=\"booleans-and-conditionals\">Booleans and Conditionals</h2><p class=\"new\">Boolean expressions are used with a conditional statements. If the boolean expression \n",
              "evaluates to <code>True</code> the immediate block of code is run, otherwise, it executes the <code>else</code> block.</p><h2 id=\"testing-for-the-truth\">Testing for the Truth</h2><h2 id=\"equality-\">equality (<code>==</code>)</h2><p class=\"new\">In most cases, the boolean expression usually involves a test for equality (double equals: <code>==</code> ):</p><pre><code>if color == 'red':\n",
              "  # do something</code></pre><h2 id=\"inequalities-\">inequalities </h2><p class=\"new\">Mathematical inequalities also generate boolean values:</p><pre><code>if value &lt;= 10.5:\n",
              "  # do something</code></pre><h2 id=\"is-none-is-ok\"><code>is None</code> <em>is</em> ok</h2><p class=\"new\">Also, when you compare a value to <code>None</code>, it is recommended (it is Pythonic to do so) \n",
              "that you use the <strong><code>is</code></strong> operator and not <code>==</code>:</p><pre><code>if parameter is None:\n",
              "   # do something</code></pre><h2 id=\"is-true-is-not-ok\"><code>is True</code> <em>is</em> <strong>not</strong> ok</h2><p class=\"new\">Do NOT use the <code>is</code> operator for testing other values (numbers, strings, booleans, etc).<br/>We will explore some of the technical details in another lesson on objects, type, and \n",
              "memory, but the <code>is</code> operator when used with a boolean value can lead\n",
              " to some situations where the truth is NOT exposed.  </p></div></div></body></html>"
            ],
            "text/plain": [
              "<IPython.core.display.HTML object>"
            ]
          },
          "metadata": {}
        }
      ]
    },
    {
      "cell_type": "code",
      "metadata": {
        "id": "2_ekNGY5HCfI",
        "colab": {
          "base_uri": "https://localhost:8080/"
        },
        "outputId": "201c00c0-ad25-4162-fa19-263626844217"
      },
      "source": [
        "d = True\n",
        "print(d is True)\n",
        "print(d == True)\n",
        "\n",
        "d = 1\n",
        "print(d is True)\n",
        "print(d == True)\n",
        "\n",
        "d = 2\n",
        "print(d is True)\n",
        "print(d == True)"
      ],
      "execution_count": null,
      "outputs": [
        {
          "output_type": "stream",
          "name": "stdout",
          "text": [
            "True\n",
            "True\n",
            "False\n",
            "True\n",
            "False\n",
            "False\n"
          ]
        }
      ]
    },
    {
      "cell_type": "code",
      "metadata": {
        "id": "JquE3AyJHCfJ",
        "colab": {
          "base_uri": "https://localhost:8080/",
          "height": 903
        },
        "outputId": "5ecc385e-e264-4438-aa84-cb4ffa316c00"
      },
      "source": [
        "# run to read the next section\n",
        "ide.reader.view_section(4)"
      ],
      "execution_count": null,
      "outputs": [
        {
          "output_type": "display_data",
          "data": {
            "text/html": [
              "<!DOCTYPE html><html lang='en'><head><title>Selecting a Path</title><meta charset=\"utf-8\"><style>/*! normalize.css v8.0.1 | MIT License | github.com/necolas/normalize.css */html{line-height:1.15;-webkit-text-size-adjust:100%}body{margin:0}h1{font-size:2em;margin:.67em 0}pre{font-family:monospace,monospace;font-size:1em}a{background-color:transparent}strong{font-weight:bolder}code{font-family:monospace,monospace;font-size:1em}img{border-style:none}input{font-family:inherit;font-size:100%;line-height:1.15;margin:0}input{overflow:visible}[type=checkbox]{box-sizing:border-box;padding:0}::-webkit-file-upload-button{-webkit-appearance:button;font:inherit}blockquote,h1,h2,h3,h4,p,pre{margin:0}ul{list-style:none;margin:0;padding:0}html{font-family:system-ui,-apple-system,BlinkMacSystemFont,\"Segoe UI\",Roboto,\"Helvetica Neue\",Arial,\"Noto Sans\",sans-serif,\"Apple Color Emoji\",\"Segoe UI Emoji\",\"Segoe UI Symbol\",\"Noto Color Emoji\";line-height:1.5}*,::after,::before{box-sizing:border-box;border-width:0;border-style:solid;border-color:#e2e8f0}img{border-style:solid}input:-ms-input-placeholder{color:#a0aec0}input::-ms-input-placeholder{color:#a0aec0}input::-moz-placeholder{color:#a0aec0}h1,h2,h3,h4{font-size:inherit;font-weight:inherit}a{color:inherit;text-decoration:inherit}input{padding:0;line-height:inherit;color:inherit}code,pre{font-family:Menlo,Monaco,Consolas,\"Liberation Mono\",\"Courier New\",monospace}img,video{display:block;vertical-align:middle}img,video{max-width:100%;height:auto}.container{width:100%}@media (min-width:640px){.container{max-width:640px}}@media (min-width:768px){.container{max-width:768px}}@media (min-width:1024px){.container{max-width:1024px}}@media (min-width:1280px){.container{max-width:1280px}}.bg-gray-200{--bg-opacity:1;background-color:#edf2f7;background-color:rgba(237,242,247,var(--bg-opacity))}.bg-gray-300{--bg-opacity:1;background-color:#e2e8f0;background-color:rgba(226,232,240,var(--bg-opacity))}.bg-orange-300{--bg-opacity:1;background-color:#fbd38d;background-color:rgba(251,211,141,var(--bg-opacity))}.bg-green-200{--bg-opacity:1;background-color:#c6f6d5;background-color:rgba(198,246,213,var(--bg-opacity))}.bg-blue-200{--bg-opacity:1;background-color:#bee3f8;background-color:rgba(190,227,248,var(--bg-opacity))}.bg-blue-300{--bg-opacity:1;background-color:#90cdf4;background-color:rgba(144,205,244,var(--bg-opacity))}.border-gray-400{--border-opacity:1;border-color:#cbd5e0;border-color:rgba(203,213,224,var(--border-opacity))}.border-gray-500{--border-opacity:1;border-color:#a0aec0;border-color:rgba(160,174,192,var(--border-opacity))}.border-gray-600{--border-opacity:1;border-color:#718096;border-color:rgba(113,128,150,var(--border-opacity))}.border-indigo-500{--border-opacity:1;border-color:#667eea;border-color:rgba(102,126,234,var(--border-opacity))}.rounded{border-radius:.25rem}.rounded-full{border-radius:9999px}.border-solid{border-style:solid}.border-0{border-width:0}.border{border-width:1px}.border-l-2{border-left-width:2px}.border-t{border-top-width:1px}.cursor-pointer{cursor:pointer}.block{display:block}.inline-block{display:inline-block}.flex{display:flex}.justify-center{justify-content:center}.justify-around{justify-content:space-around}.float-left{float:left}.clearfix:after{content:\"\";display:table;clear:both}.clear-both{clear:both}.font-sans{font-family:system-ui,-apple-system,BlinkMacSystemFont,\"Segoe UI\",Roboto,\"Helvetica Neue\",Arial,\"Noto Sans\",sans-serif,\"Apple Color Emoji\",\"Segoe UI Emoji\",\"Segoe UI Symbol\",\"Noto Color Emoji\"}.font-serif{font-family:Georgia,Cambria,\"Times New Roman\",Times,serif}.font-semibold{font-weight:600}.font-bold{font-weight:700}.h-64{height:16rem}.text-xs{font-size:.75rem}.text-sm{font-size:.875rem}.text-base{font-size:1rem}.text-xl{font-size:1.25rem}.leading-none{line-height:1}.leading-normal{line-height:1.5}.m-2{margin:.5rem}.my-4{margin-top:1rem;margin-bottom:1rem}.mt-1{margin-top:.25rem}.mt-2{margin-top:.5rem}.mr-2{margin-right:.5rem}.mb-2{margin-bottom:.5rem}.mt-3{margin-top:.75rem}.mr-3{margin-right:.75rem}.mb-3{margin-bottom:.75rem}.mt-4{margin-top:1rem}.mb-4{margin-bottom:1rem}.mt-6{margin-top:1.5rem}.max-w-sm{max-width:24rem}.max-w-2xl{max-width:42rem}.object-contain{-o-object-fit:contain;object-fit:contain}.opacity-0{opacity:0}.overflow-hidden{overflow:hidden}.p-1{padding:.25rem}.p-2{padding:.5rem}.p-3{padding:.75rem}.py-1{padding-top:.25rem;padding-bottom:.25rem}.py-2{padding-top:.5rem;padding-bottom:.5rem}.px-3{padding-left:.75rem;padding-right:.75rem}.py-4{padding-top:1rem;padding-bottom:1rem}.px-4{padding-left:1rem;padding-right:1rem}.px-6{padding-left:1.5rem;padding-right:1.5rem}.pl-3{padding-left:.75rem}.absolute{position:absolute}.shadow-md{box-shadow:0 4px 6px -1px rgba(0,0,0,.1),0 2px 4px -1px rgba(0,0,0,.06)}.shadow-lg{box-shadow:0 10px 15px -3px rgba(0,0,0,.1),0 4px 6px -2px rgba(0,0,0,.05)}.shadow-inner{box-shadow:inset 0 2px 4px 0 rgba(0,0,0,.06)}.text-left{text-align:left}.text-center{text-align:center}.text-black{--text-opacity:1;color:#000;color:rgba(0,0,0,var(--text-opacity))}.text-gray-700{--text-opacity:1;color:#4a5568;color:rgba(74,85,104,var(--text-opacity))}.text-gray-800{--text-opacity:1;color:#2d3748;color:rgba(45,55,72,var(--text-opacity))}.whitespace-no-wrap{white-space:nowrap}.w-1\\/2{width:50%}.w-2\\/3{width:66.666667%}.w-full{width:100%}@media (min-width:768px){.md\\:w-2\\/3{width:66.666667%}}.text-tiny{font-size:.5rem!important}body{color:#000!important;font-size:1.25rem!important}.main-content{max-width:900px}.lesson{padding-left:15px!important;padding-right:10px!important;--bg-opacity:1;background-color:#edf2f7;background-color:rgba(237,242,247,var(--bg-opacity))}.main-content,html{font-family:Arial,Georgia,Verdana,\"Times New Roman\"!important}.lesson-footer-card,.lesson-overview-card{font-family:\"Times New Roman\"!important}blockquote em:first-child{font-family:Times!important;font-size:1.35em;margin-right:10px}blockquote em:first-child:after{content:\":\"}.lesson-footer{margin-top:50px;margin-top:20px}video{height:auto;padding:.25rem;background-color:#87cefa;margin:0!important;padding:0!important}.lesson ul{list-style-position:inside;list-style-type:none;margin-left:1em}.lesson ul li{padding-left:1em;padding-right:5px}.lesson ul li::before{content:\"•\";padding-right:5px}span{white-space:nowrap}p.new{padding-top:0;padding-bottom:.5em}p.new+p{padding-top:.5em}h1,h2,h3,h4{font-weight:700;margin-top:.25em!important;margin-bottom:.05em!important;font-family:Georgia,Cambria,\"Times New Roman\",Times,serif!important}h1{font-size:2em!important;clear:both;color:#000!important}div+h1,h2{margin-top:0!important}h2{margin-top:.5em!important;font-size:1.5em!important;clear:both;color:#8b0000!important}h3{font-size:1.25em!important;clear:both;color:#006400!important}h4{font-size:1em!important;clear:both;color:#00008b!important}ul{margin-bottom:30px}.lesson a{text-decoration:underline;color:#00f}.title-text{font-size:2rem}blockquote{font-size:1em;background:#f9f9f9;border-left:10px solid #ccc;margin:.5em 10px;padding:.5em 10px;border-left-color:#ffcd69;border-right-color:#f6ba59;quotes:\"\\201C\"\"\\201D\"\"\\2018\"\"\\2019\"}blockquote:before{color:#ccc;content:open-quote;font-size:4em;line-height:.1em;margin-right:.25em;vertical-align:-.4em}blockquote:after{color:#ccc;content:no-close-quote}blockquote p{display:inline}.shadow-lg{box-shadow:0 10px 15px -3px rgba(0,0,0,.1),0 4px 6px -2px rgba(0,0,0,.5)}img.center{-o-object-position:center;object-position:center;margin-left:auto;margin-right:auto}img.border2{border:1px solid #94add4;margin-top:.5rem;margin-bottom:.75rem}img.iw400{height:auto;width:auto;max-width:400px}img.iw300{height:auto;width:auto;max-width:300px}code{font-size:smaller}pre code{font-size:15px}.code{background:#f4f4f4;font-family:monospace;font-size:15px;-webkit-user-select:none;-moz-user-select:none;-ms-user-select:none;user-select:none;cursor:default;touch-action:none;-webkit-touch-callout:none;-webkit-tap-highlight-color:transparent;clear:both;border:1px solid #ddd;color:#666;page-break-inside:avoid;display:block;min-width:840px;max-width:840px;overflow:scroll;line-height:1.6;margin-bottom:1.6em;padding:1em 1.5em;-moz-tab-size:2;-o-tab-size:2;tab-size:2;word-wrap:break-word;white-space:pre-wrap;border-left:3px solid #f36d33!important}pre code:not(.line-number){background:#f4f4f4;font-family:monospace;font-size:15px;-webkit-user-select:none;-moz-user-select:none;-ms-user-select:none;user-select:none;cursor:default;touch-action:none;-webkit-touch-callout:none;-webkit-tap-highlight-color:transparent;clear:both;border:1px solid #ddd;color:#666;page-break-inside:avoid;display:block;min-width:840px;max-width:840px;overflow:scroll;line-height:1.6;margin-bottom:1.6em;padding:1em 1.5em;-moz-tab-size:2;-o-tab-size:2;tab-size:2;word-wrap:break-word;white-space:pre-wrap;border-left:3px solid #f36d33}div.code-starter>pre code{border-left:3px solid #fdff44!important;background-image:radial-gradient(rgba(0,150,0,.75),#000 120%);color:#fff;font:.9rem Inconsolata,monospace}div.code-starter>pre code::after{content:\"\\a$_\"}.code pre{counter-reset:line}code.line-number{counter-increment:line}code.line-number::before{padding:0 .5em;margin-right:.5em;border-right:1px solid #ddd}code.line-number:before{content:\"0\" counter(line)}.tab{font-size:1rem;border-color:#8c6728}.tab-content{max-height:0;max-width:100%;transition:max-height .35s}.tab input:checked~.tab-content{max-height:100vh}.tab input:checked+label{padding:1rem;border-left-width:2px;border-color:#6574cd;background-color:#f8fafc;color:#6574cd}.tab label::after{float:right;right:0;top:0;display:block;width:1em;height:1.5em;line-height:1.5;font-size:1rem;text-align:center;transition:all .35s}.tab input[type=checkbox]+label::after{content:\"+\";font-weight:700;border-width:1px;border-radius:9999px;border-color:#8c6728}.tab input[type=checkbox]:checked+label::after{transform:rotate(315deg);background-color:#6574cd;color:#f8fafc}</style>\n",
              "<script src=\"https://kit.fontawesome.com/7efc4bcee2.js\" crossOrigin=\"anonymous\"></script>\n",
              "<script>\n",
              "    let stateCheck = setInterval(function(){\n",
              "      if (document.readyState === 'complete') {\n",
              "        clearInterval(stateCheck);\n",
              "        let s1 = document.getElementById('start');\n",
              "        // console.log('doc is ready', s1);\n",
              "        if (s1) {\n",
              "           s1.setAttribute('tabindex', '-1');\n",
              "           s1.focus(); \n",
              "           s1.scrollIntoView({behavior: 'smooth'}); \n",
              "           setTimeout(function(){s1.blur()}, 500);\n",
              "           // console.log('focus set');\n",
              "        }\n",
              "      }\n",
              "    }, 200);\n",
              "    </script>\n",
              "</head><body class=\"lesson\"><div class=\"main-content lesson bg-gray-200 text-black p-1 pl-3 font-serif\"><div class=\"md-inner\">\n",
              "<div id=\"start\" class=\"section\">&nbsp;</div><p class=\"new\">It is considered best practice to <strong>not</strong> use <code>is</code> with boolean values</p><h2 id=\"better-truth-telling\">Better Truth Telling</h2><p class=\"new\">When you test against a boolean value, you can (and should) drop \n",
              "the comparison operator altogether:</p><pre><code>if is_legal:\n",
              "   # do something</code></pre><h2 id=\"equality-is-not-assignment-\">Equality is NOT assignment: </h2><p class=\"new\">In most programming languages the symbol for equality (<code>==</code>) is NOT the same \n",
              "as the symbol used for assignment (<code>=</code>). Perhaps the single biggest bug (an error) \n",
              "in programming is caused by confusing assignment (a single <code>=</code>) with equality (a double <code>==</code>). \n",
              "However, Python will catch many of these problems for you. </p><blockquote><p class=\"new\"><strong><em>Coder's Log</em></strong> For many languages, the compiler will gladly accept an <code>=</code> \n",
              "operator even though you meant the <code>==</code> operator. This usually results in long \n",
              "hours of debugging and hair pulling. Python is one of the few languages that helps prevent this 'bug'.\n",
              "We will explore more complex boolean expressions in the next lesson.</p></blockquote><h3 id=\"exercise\">Exercise</h3><p class=\"new\">Change the parameter from True to False on the call to <code>will_eat</code> and run again.  </p><h4 id=\"indentation-matters-again\">Indentation Matters (again)</h4><p class=\"new\">Also take great care to note how indentation works. This is the first time we \n",
              "have seen two levels of indentation. The first one for the function (also see \n",
              "the lesson on functions) and the second for each selection statement. \n",
              "It's important to always remember to indent the code when the line ends with a <code>:</code>.  </p><p class=\"new\">The colon usually marks the beginning of a new indented block. Typically in \n",
              "Python you <strong>indent 4 spaces</strong> for each new level. The examples will sometimes use \n",
              "2 spaces for compact viewing.</p><p class=\"new\">Be sure you understand how the if/else statement works.</p></div></div></body></html>"
            ],
            "text/plain": [
              "<IPython.core.display.HTML object>"
            ]
          },
          "metadata": {}
        }
      ]
    },
    {
      "cell_type": "code",
      "metadata": {
        "id": "3EeZZz0wHCfJ",
        "colab": {
          "base_uri": "https://localhost:8080/"
        },
        "outputId": "52fde7f8-e697-4293-d23b-88bd48633985"
      },
      "source": [
        "def will_eat(hungry):\n",
        "    if hungry == True:\n",
        "        return \"I will eat\"\n",
        "    else:\n",
        "        return \"I will NOT eat\"\n",
        "\n",
        "print(will_eat(False))"
      ],
      "execution_count": null,
      "outputs": [
        {
          "output_type": "stream",
          "name": "stdout",
          "text": [
            "I will NOT eat\n"
          ]
        }
      ]
    },
    {
      "cell_type": "markdown",
      "metadata": {
        "id": "wl2V8kW_HCfK"
      },
      "source": [
        "# Early Returns"
      ]
    },
    {
      "cell_type": "code",
      "metadata": {
        "id": "MlWQ_DPlHCfK",
        "colab": {
          "base_uri": "https://localhost:8080/",
          "height": 202
        },
        "outputId": "90c40c69-ad1c-4be3-c4cd-a9b03d2078a2"
      },
      "source": [
        "# run to read the next section\n",
        "ide.reader.view_section(6)"
      ],
      "execution_count": null,
      "outputs": [
        {
          "output_type": "display_data",
          "data": {
            "text/html": [
              "<!DOCTYPE html><html lang='en'><head><title>Selecting a Path</title><meta charset=\"utf-8\"><style>/*! normalize.css v8.0.1 | MIT License | github.com/necolas/normalize.css */html{line-height:1.15;-webkit-text-size-adjust:100%}body{margin:0}h1{font-size:2em;margin:.67em 0}pre{font-family:monospace,monospace;font-size:1em}a{background-color:transparent}strong{font-weight:bolder}code{font-family:monospace,monospace;font-size:1em}img{border-style:none}input{font-family:inherit;font-size:100%;line-height:1.15;margin:0}input{overflow:visible}[type=checkbox]{box-sizing:border-box;padding:0}::-webkit-file-upload-button{-webkit-appearance:button;font:inherit}blockquote,h1,h2,h3,h4,p,pre{margin:0}ul{list-style:none;margin:0;padding:0}html{font-family:system-ui,-apple-system,BlinkMacSystemFont,\"Segoe UI\",Roboto,\"Helvetica Neue\",Arial,\"Noto Sans\",sans-serif,\"Apple Color Emoji\",\"Segoe UI Emoji\",\"Segoe UI Symbol\",\"Noto Color Emoji\";line-height:1.5}*,::after,::before{box-sizing:border-box;border-width:0;border-style:solid;border-color:#e2e8f0}img{border-style:solid}input:-ms-input-placeholder{color:#a0aec0}input::-ms-input-placeholder{color:#a0aec0}input::-moz-placeholder{color:#a0aec0}h1,h2,h3,h4{font-size:inherit;font-weight:inherit}a{color:inherit;text-decoration:inherit}input{padding:0;line-height:inherit;color:inherit}code,pre{font-family:Menlo,Monaco,Consolas,\"Liberation Mono\",\"Courier New\",monospace}img,video{display:block;vertical-align:middle}img,video{max-width:100%;height:auto}.container{width:100%}@media (min-width:640px){.container{max-width:640px}}@media (min-width:768px){.container{max-width:768px}}@media (min-width:1024px){.container{max-width:1024px}}@media (min-width:1280px){.container{max-width:1280px}}.bg-gray-200{--bg-opacity:1;background-color:#edf2f7;background-color:rgba(237,242,247,var(--bg-opacity))}.bg-gray-300{--bg-opacity:1;background-color:#e2e8f0;background-color:rgba(226,232,240,var(--bg-opacity))}.bg-orange-300{--bg-opacity:1;background-color:#fbd38d;background-color:rgba(251,211,141,var(--bg-opacity))}.bg-green-200{--bg-opacity:1;background-color:#c6f6d5;background-color:rgba(198,246,213,var(--bg-opacity))}.bg-blue-200{--bg-opacity:1;background-color:#bee3f8;background-color:rgba(190,227,248,var(--bg-opacity))}.bg-blue-300{--bg-opacity:1;background-color:#90cdf4;background-color:rgba(144,205,244,var(--bg-opacity))}.border-gray-400{--border-opacity:1;border-color:#cbd5e0;border-color:rgba(203,213,224,var(--border-opacity))}.border-gray-500{--border-opacity:1;border-color:#a0aec0;border-color:rgba(160,174,192,var(--border-opacity))}.border-gray-600{--border-opacity:1;border-color:#718096;border-color:rgba(113,128,150,var(--border-opacity))}.border-indigo-500{--border-opacity:1;border-color:#667eea;border-color:rgba(102,126,234,var(--border-opacity))}.rounded{border-radius:.25rem}.rounded-full{border-radius:9999px}.border-solid{border-style:solid}.border-0{border-width:0}.border{border-width:1px}.border-l-2{border-left-width:2px}.border-t{border-top-width:1px}.cursor-pointer{cursor:pointer}.block{display:block}.inline-block{display:inline-block}.flex{display:flex}.justify-center{justify-content:center}.justify-around{justify-content:space-around}.float-left{float:left}.clearfix:after{content:\"\";display:table;clear:both}.clear-both{clear:both}.font-sans{font-family:system-ui,-apple-system,BlinkMacSystemFont,\"Segoe UI\",Roboto,\"Helvetica Neue\",Arial,\"Noto Sans\",sans-serif,\"Apple Color Emoji\",\"Segoe UI Emoji\",\"Segoe UI Symbol\",\"Noto Color Emoji\"}.font-serif{font-family:Georgia,Cambria,\"Times New Roman\",Times,serif}.font-semibold{font-weight:600}.font-bold{font-weight:700}.h-64{height:16rem}.text-xs{font-size:.75rem}.text-sm{font-size:.875rem}.text-base{font-size:1rem}.text-xl{font-size:1.25rem}.leading-none{line-height:1}.leading-normal{line-height:1.5}.m-2{margin:.5rem}.my-4{margin-top:1rem;margin-bottom:1rem}.mt-1{margin-top:.25rem}.mt-2{margin-top:.5rem}.mr-2{margin-right:.5rem}.mb-2{margin-bottom:.5rem}.mt-3{margin-top:.75rem}.mr-3{margin-right:.75rem}.mb-3{margin-bottom:.75rem}.mt-4{margin-top:1rem}.mb-4{margin-bottom:1rem}.mt-6{margin-top:1.5rem}.max-w-sm{max-width:24rem}.max-w-2xl{max-width:42rem}.object-contain{-o-object-fit:contain;object-fit:contain}.opacity-0{opacity:0}.overflow-hidden{overflow:hidden}.p-1{padding:.25rem}.p-2{padding:.5rem}.p-3{padding:.75rem}.py-1{padding-top:.25rem;padding-bottom:.25rem}.py-2{padding-top:.5rem;padding-bottom:.5rem}.px-3{padding-left:.75rem;padding-right:.75rem}.py-4{padding-top:1rem;padding-bottom:1rem}.px-4{padding-left:1rem;padding-right:1rem}.px-6{padding-left:1.5rem;padding-right:1.5rem}.pl-3{padding-left:.75rem}.absolute{position:absolute}.shadow-md{box-shadow:0 4px 6px -1px rgba(0,0,0,.1),0 2px 4px -1px rgba(0,0,0,.06)}.shadow-lg{box-shadow:0 10px 15px -3px rgba(0,0,0,.1),0 4px 6px -2px rgba(0,0,0,.05)}.shadow-inner{box-shadow:inset 0 2px 4px 0 rgba(0,0,0,.06)}.text-left{text-align:left}.text-center{text-align:center}.text-black{--text-opacity:1;color:#000;color:rgba(0,0,0,var(--text-opacity))}.text-gray-700{--text-opacity:1;color:#4a5568;color:rgba(74,85,104,var(--text-opacity))}.text-gray-800{--text-opacity:1;color:#2d3748;color:rgba(45,55,72,var(--text-opacity))}.whitespace-no-wrap{white-space:nowrap}.w-1\\/2{width:50%}.w-2\\/3{width:66.666667%}.w-full{width:100%}@media (min-width:768px){.md\\:w-2\\/3{width:66.666667%}}.text-tiny{font-size:.5rem!important}body{color:#000!important;font-size:1.25rem!important}.main-content{max-width:900px}.lesson{padding-left:15px!important;padding-right:10px!important;--bg-opacity:1;background-color:#edf2f7;background-color:rgba(237,242,247,var(--bg-opacity))}.main-content,html{font-family:Arial,Georgia,Verdana,\"Times New Roman\"!important}.lesson-footer-card,.lesson-overview-card{font-family:\"Times New Roman\"!important}blockquote em:first-child{font-family:Times!important;font-size:1.35em;margin-right:10px}blockquote em:first-child:after{content:\":\"}.lesson-footer{margin-top:50px;margin-top:20px}video{height:auto;padding:.25rem;background-color:#87cefa;margin:0!important;padding:0!important}.lesson ul{list-style-position:inside;list-style-type:none;margin-left:1em}.lesson ul li{padding-left:1em;padding-right:5px}.lesson ul li::before{content:\"•\";padding-right:5px}span{white-space:nowrap}p.new{padding-top:0;padding-bottom:.5em}p.new+p{padding-top:.5em}h1,h2,h3,h4{font-weight:700;margin-top:.25em!important;margin-bottom:.05em!important;font-family:Georgia,Cambria,\"Times New Roman\",Times,serif!important}h1{font-size:2em!important;clear:both;color:#000!important}div+h1,h2{margin-top:0!important}h2{margin-top:.5em!important;font-size:1.5em!important;clear:both;color:#8b0000!important}h3{font-size:1.25em!important;clear:both;color:#006400!important}h4{font-size:1em!important;clear:both;color:#00008b!important}ul{margin-bottom:30px}.lesson a{text-decoration:underline;color:#00f}.title-text{font-size:2rem}blockquote{font-size:1em;background:#f9f9f9;border-left:10px solid #ccc;margin:.5em 10px;padding:.5em 10px;border-left-color:#ffcd69;border-right-color:#f6ba59;quotes:\"\\201C\"\"\\201D\"\"\\2018\"\"\\2019\"}blockquote:before{color:#ccc;content:open-quote;font-size:4em;line-height:.1em;margin-right:.25em;vertical-align:-.4em}blockquote:after{color:#ccc;content:no-close-quote}blockquote p{display:inline}.shadow-lg{box-shadow:0 10px 15px -3px rgba(0,0,0,.1),0 4px 6px -2px rgba(0,0,0,.5)}img.center{-o-object-position:center;object-position:center;margin-left:auto;margin-right:auto}img.border2{border:1px solid #94add4;margin-top:.5rem;margin-bottom:.75rem}img.iw400{height:auto;width:auto;max-width:400px}img.iw300{height:auto;width:auto;max-width:300px}code{font-size:smaller}pre code{font-size:15px}.code{background:#f4f4f4;font-family:monospace;font-size:15px;-webkit-user-select:none;-moz-user-select:none;-ms-user-select:none;user-select:none;cursor:default;touch-action:none;-webkit-touch-callout:none;-webkit-tap-highlight-color:transparent;clear:both;border:1px solid #ddd;color:#666;page-break-inside:avoid;display:block;min-width:840px;max-width:840px;overflow:scroll;line-height:1.6;margin-bottom:1.6em;padding:1em 1.5em;-moz-tab-size:2;-o-tab-size:2;tab-size:2;word-wrap:break-word;white-space:pre-wrap;border-left:3px solid #f36d33!important}pre code:not(.line-number){background:#f4f4f4;font-family:monospace;font-size:15px;-webkit-user-select:none;-moz-user-select:none;-ms-user-select:none;user-select:none;cursor:default;touch-action:none;-webkit-touch-callout:none;-webkit-tap-highlight-color:transparent;clear:both;border:1px solid #ddd;color:#666;page-break-inside:avoid;display:block;min-width:840px;max-width:840px;overflow:scroll;line-height:1.6;margin-bottom:1.6em;padding:1em 1.5em;-moz-tab-size:2;-o-tab-size:2;tab-size:2;word-wrap:break-word;white-space:pre-wrap;border-left:3px solid #f36d33}div.code-starter>pre code{border-left:3px solid #fdff44!important;background-image:radial-gradient(rgba(0,150,0,.75),#000 120%);color:#fff;font:.9rem Inconsolata,monospace}div.code-starter>pre code::after{content:\"\\a$_\"}.code pre{counter-reset:line}code.line-number{counter-increment:line}code.line-number::before{padding:0 .5em;margin-right:.5em;border-right:1px solid #ddd}code.line-number:before{content:\"0\" counter(line)}.tab{font-size:1rem;border-color:#8c6728}.tab-content{max-height:0;max-width:100%;transition:max-height .35s}.tab input:checked~.tab-content{max-height:100vh}.tab input:checked+label{padding:1rem;border-left-width:2px;border-color:#6574cd;background-color:#f8fafc;color:#6574cd}.tab label::after{float:right;right:0;top:0;display:block;width:1em;height:1.5em;line-height:1.5;font-size:1rem;text-align:center;transition:all .35s}.tab input[type=checkbox]+label::after{content:\"+\";font-weight:700;border-width:1px;border-radius:9999px;border-color:#8c6728}.tab input[type=checkbox]:checked+label::after{transform:rotate(315deg);background-color:#6574cd;color:#f8fafc}</style>\n",
              "<script src=\"https://kit.fontawesome.com/7efc4bcee2.js\" crossOrigin=\"anonymous\"></script>\n",
              "<script>\n",
              "    let stateCheck = setInterval(function(){\n",
              "      if (document.readyState === 'complete') {\n",
              "        clearInterval(stateCheck);\n",
              "        let s1 = document.getElementById('start');\n",
              "        // console.log('doc is ready', s1);\n",
              "        if (s1) {\n",
              "           s1.setAttribute('tabindex', '-1');\n",
              "           s1.focus(); \n",
              "           s1.scrollIntoView({behavior: 'smooth'}); \n",
              "           setTimeout(function(){s1.blur()}, 500);\n",
              "           // console.log('focus set');\n",
              "        }\n",
              "      }\n",
              "    }, 200);\n",
              "    </script>\n",
              "</head><body class=\"lesson\"><div class=\"main-content lesson bg-gray-200 text-black p-1 pl-3 font-serif\"><div class=\"md-inner\">\n",
              "<div id=\"start\" class=\"section\">&nbsp;</div><h1 class=\"section\" id=\"section3\">Early Returns</h1><p class=\"new\">One thing that might not be clear is that once a function returns, no more code \n",
              "will be executed. Take a look at the following and try to figure out what will be printed.</p><p class=\"new\">Run this code and make sure you understand the output:</p></div></div></body></html>"
            ],
            "text/plain": [
              "<IPython.core.display.HTML object>"
            ]
          },
          "metadata": {}
        }
      ]
    },
    {
      "cell_type": "code",
      "metadata": {
        "id": "isFmUoguHCfK",
        "colab": {
          "base_uri": "https://localhost:8080/",
          "height": 35
        },
        "outputId": "be730800-08f5-4121-8eb3-3478adba6737"
      },
      "source": [
        "def will_eat_v2(hungry):\n",
        "  \n",
        "  if hungry == True:\n",
        "    return \"I will eat\"\n",
        "  else:\n",
        "    return \"I will NOT eat\"\n",
        "  \n",
        "  a = 0\n",
        "  a = a + 1\n",
        "  print(\"a\", a)\n",
        "\n",
        "will_eat_v2(False)"
      ],
      "execution_count": null,
      "outputs": [
        {
          "output_type": "execute_result",
          "data": {
            "application/vnd.google.colaboratory.intrinsic+json": {
              "type": "string"
            },
            "text/plain": [
              "'I will NOT eat'"
            ]
          },
          "metadata": {},
          "execution_count": 8
        }
      ]
    },
    {
      "cell_type": "markdown",
      "metadata": {
        "id": "DralJ_6JHCfK"
      },
      "source": [
        "# Dead Code"
      ]
    },
    {
      "cell_type": "code",
      "metadata": {
        "id": "gQKKXVcKHCfL",
        "colab": {
          "base_uri": "https://localhost:8080/",
          "height": 1000
        },
        "outputId": "993d3616-8462-45e9-fd65-520e29f89494"
      },
      "source": [
        "# run to read the next section\n",
        "ide.reader.view_section(8)"
      ],
      "execution_count": null,
      "outputs": [
        {
          "output_type": "display_data",
          "data": {
            "text/html": [
              "<!DOCTYPE html><html lang='en'><head><title>Selecting a Path</title><meta charset=\"utf-8\"><style>/*! normalize.css v8.0.1 | MIT License | github.com/necolas/normalize.css */html{line-height:1.15;-webkit-text-size-adjust:100%}body{margin:0}h1{font-size:2em;margin:.67em 0}pre{font-family:monospace,monospace;font-size:1em}a{background-color:transparent}strong{font-weight:bolder}code{font-family:monospace,monospace;font-size:1em}img{border-style:none}input{font-family:inherit;font-size:100%;line-height:1.15;margin:0}input{overflow:visible}[type=checkbox]{box-sizing:border-box;padding:0}::-webkit-file-upload-button{-webkit-appearance:button;font:inherit}blockquote,h1,h2,h3,h4,p,pre{margin:0}ul{list-style:none;margin:0;padding:0}html{font-family:system-ui,-apple-system,BlinkMacSystemFont,\"Segoe UI\",Roboto,\"Helvetica Neue\",Arial,\"Noto Sans\",sans-serif,\"Apple Color Emoji\",\"Segoe UI Emoji\",\"Segoe UI Symbol\",\"Noto Color Emoji\";line-height:1.5}*,::after,::before{box-sizing:border-box;border-width:0;border-style:solid;border-color:#e2e8f0}img{border-style:solid}input:-ms-input-placeholder{color:#a0aec0}input::-ms-input-placeholder{color:#a0aec0}input::-moz-placeholder{color:#a0aec0}h1,h2,h3,h4{font-size:inherit;font-weight:inherit}a{color:inherit;text-decoration:inherit}input{padding:0;line-height:inherit;color:inherit}code,pre{font-family:Menlo,Monaco,Consolas,\"Liberation Mono\",\"Courier New\",monospace}img,video{display:block;vertical-align:middle}img,video{max-width:100%;height:auto}.container{width:100%}@media (min-width:640px){.container{max-width:640px}}@media (min-width:768px){.container{max-width:768px}}@media (min-width:1024px){.container{max-width:1024px}}@media (min-width:1280px){.container{max-width:1280px}}.bg-gray-200{--bg-opacity:1;background-color:#edf2f7;background-color:rgba(237,242,247,var(--bg-opacity))}.bg-gray-300{--bg-opacity:1;background-color:#e2e8f0;background-color:rgba(226,232,240,var(--bg-opacity))}.bg-orange-300{--bg-opacity:1;background-color:#fbd38d;background-color:rgba(251,211,141,var(--bg-opacity))}.bg-green-200{--bg-opacity:1;background-color:#c6f6d5;background-color:rgba(198,246,213,var(--bg-opacity))}.bg-blue-200{--bg-opacity:1;background-color:#bee3f8;background-color:rgba(190,227,248,var(--bg-opacity))}.bg-blue-300{--bg-opacity:1;background-color:#90cdf4;background-color:rgba(144,205,244,var(--bg-opacity))}.border-gray-400{--border-opacity:1;border-color:#cbd5e0;border-color:rgba(203,213,224,var(--border-opacity))}.border-gray-500{--border-opacity:1;border-color:#a0aec0;border-color:rgba(160,174,192,var(--border-opacity))}.border-gray-600{--border-opacity:1;border-color:#718096;border-color:rgba(113,128,150,var(--border-opacity))}.border-indigo-500{--border-opacity:1;border-color:#667eea;border-color:rgba(102,126,234,var(--border-opacity))}.rounded{border-radius:.25rem}.rounded-full{border-radius:9999px}.border-solid{border-style:solid}.border-0{border-width:0}.border{border-width:1px}.border-l-2{border-left-width:2px}.border-t{border-top-width:1px}.cursor-pointer{cursor:pointer}.block{display:block}.inline-block{display:inline-block}.flex{display:flex}.justify-center{justify-content:center}.justify-around{justify-content:space-around}.float-left{float:left}.clearfix:after{content:\"\";display:table;clear:both}.clear-both{clear:both}.font-sans{font-family:system-ui,-apple-system,BlinkMacSystemFont,\"Segoe UI\",Roboto,\"Helvetica Neue\",Arial,\"Noto Sans\",sans-serif,\"Apple Color Emoji\",\"Segoe UI Emoji\",\"Segoe UI Symbol\",\"Noto Color Emoji\"}.font-serif{font-family:Georgia,Cambria,\"Times New Roman\",Times,serif}.font-semibold{font-weight:600}.font-bold{font-weight:700}.h-64{height:16rem}.text-xs{font-size:.75rem}.text-sm{font-size:.875rem}.text-base{font-size:1rem}.text-xl{font-size:1.25rem}.leading-none{line-height:1}.leading-normal{line-height:1.5}.m-2{margin:.5rem}.my-4{margin-top:1rem;margin-bottom:1rem}.mt-1{margin-top:.25rem}.mt-2{margin-top:.5rem}.mr-2{margin-right:.5rem}.mb-2{margin-bottom:.5rem}.mt-3{margin-top:.75rem}.mr-3{margin-right:.75rem}.mb-3{margin-bottom:.75rem}.mt-4{margin-top:1rem}.mb-4{margin-bottom:1rem}.mt-6{margin-top:1.5rem}.max-w-sm{max-width:24rem}.max-w-2xl{max-width:42rem}.object-contain{-o-object-fit:contain;object-fit:contain}.opacity-0{opacity:0}.overflow-hidden{overflow:hidden}.p-1{padding:.25rem}.p-2{padding:.5rem}.p-3{padding:.75rem}.py-1{padding-top:.25rem;padding-bottom:.25rem}.py-2{padding-top:.5rem;padding-bottom:.5rem}.px-3{padding-left:.75rem;padding-right:.75rem}.py-4{padding-top:1rem;padding-bottom:1rem}.px-4{padding-left:1rem;padding-right:1rem}.px-6{padding-left:1.5rem;padding-right:1.5rem}.pl-3{padding-left:.75rem}.absolute{position:absolute}.shadow-md{box-shadow:0 4px 6px -1px rgba(0,0,0,.1),0 2px 4px -1px rgba(0,0,0,.06)}.shadow-lg{box-shadow:0 10px 15px -3px rgba(0,0,0,.1),0 4px 6px -2px rgba(0,0,0,.05)}.shadow-inner{box-shadow:inset 0 2px 4px 0 rgba(0,0,0,.06)}.text-left{text-align:left}.text-center{text-align:center}.text-black{--text-opacity:1;color:#000;color:rgba(0,0,0,var(--text-opacity))}.text-gray-700{--text-opacity:1;color:#4a5568;color:rgba(74,85,104,var(--text-opacity))}.text-gray-800{--text-opacity:1;color:#2d3748;color:rgba(45,55,72,var(--text-opacity))}.whitespace-no-wrap{white-space:nowrap}.w-1\\/2{width:50%}.w-2\\/3{width:66.666667%}.w-full{width:100%}@media (min-width:768px){.md\\:w-2\\/3{width:66.666667%}}.text-tiny{font-size:.5rem!important}body{color:#000!important;font-size:1.25rem!important}.main-content{max-width:900px}.lesson{padding-left:15px!important;padding-right:10px!important;--bg-opacity:1;background-color:#edf2f7;background-color:rgba(237,242,247,var(--bg-opacity))}.main-content,html{font-family:Arial,Georgia,Verdana,\"Times New Roman\"!important}.lesson-footer-card,.lesson-overview-card{font-family:\"Times New Roman\"!important}blockquote em:first-child{font-family:Times!important;font-size:1.35em;margin-right:10px}blockquote em:first-child:after{content:\":\"}.lesson-footer{margin-top:50px;margin-top:20px}video{height:auto;padding:.25rem;background-color:#87cefa;margin:0!important;padding:0!important}.lesson ul{list-style-position:inside;list-style-type:none;margin-left:1em}.lesson ul li{padding-left:1em;padding-right:5px}.lesson ul li::before{content:\"•\";padding-right:5px}span{white-space:nowrap}p.new{padding-top:0;padding-bottom:.5em}p.new+p{padding-top:.5em}h1,h2,h3,h4{font-weight:700;margin-top:.25em!important;margin-bottom:.05em!important;font-family:Georgia,Cambria,\"Times New Roman\",Times,serif!important}h1{font-size:2em!important;clear:both;color:#000!important}div+h1,h2{margin-top:0!important}h2{margin-top:.5em!important;font-size:1.5em!important;clear:both;color:#8b0000!important}h3{font-size:1.25em!important;clear:both;color:#006400!important}h4{font-size:1em!important;clear:both;color:#00008b!important}ul{margin-bottom:30px}.lesson a{text-decoration:underline;color:#00f}.title-text{font-size:2rem}blockquote{font-size:1em;background:#f9f9f9;border-left:10px solid #ccc;margin:.5em 10px;padding:.5em 10px;border-left-color:#ffcd69;border-right-color:#f6ba59;quotes:\"\\201C\"\"\\201D\"\"\\2018\"\"\\2019\"}blockquote:before{color:#ccc;content:open-quote;font-size:4em;line-height:.1em;margin-right:.25em;vertical-align:-.4em}blockquote:after{color:#ccc;content:no-close-quote}blockquote p{display:inline}.shadow-lg{box-shadow:0 10px 15px -3px rgba(0,0,0,.1),0 4px 6px -2px rgba(0,0,0,.5)}img.center{-o-object-position:center;object-position:center;margin-left:auto;margin-right:auto}img.border2{border:1px solid #94add4;margin-top:.5rem;margin-bottom:.75rem}img.iw400{height:auto;width:auto;max-width:400px}img.iw300{height:auto;width:auto;max-width:300px}code{font-size:smaller}pre code{font-size:15px}.code{background:#f4f4f4;font-family:monospace;font-size:15px;-webkit-user-select:none;-moz-user-select:none;-ms-user-select:none;user-select:none;cursor:default;touch-action:none;-webkit-touch-callout:none;-webkit-tap-highlight-color:transparent;clear:both;border:1px solid #ddd;color:#666;page-break-inside:avoid;display:block;min-width:840px;max-width:840px;overflow:scroll;line-height:1.6;margin-bottom:1.6em;padding:1em 1.5em;-moz-tab-size:2;-o-tab-size:2;tab-size:2;word-wrap:break-word;white-space:pre-wrap;border-left:3px solid #f36d33!important}pre code:not(.line-number){background:#f4f4f4;font-family:monospace;font-size:15px;-webkit-user-select:none;-moz-user-select:none;-ms-user-select:none;user-select:none;cursor:default;touch-action:none;-webkit-touch-callout:none;-webkit-tap-highlight-color:transparent;clear:both;border:1px solid #ddd;color:#666;page-break-inside:avoid;display:block;min-width:840px;max-width:840px;overflow:scroll;line-height:1.6;margin-bottom:1.6em;padding:1em 1.5em;-moz-tab-size:2;-o-tab-size:2;tab-size:2;word-wrap:break-word;white-space:pre-wrap;border-left:3px solid #f36d33}div.code-starter>pre code{border-left:3px solid #fdff44!important;background-image:radial-gradient(rgba(0,150,0,.75),#000 120%);color:#fff;font:.9rem Inconsolata,monospace}div.code-starter>pre code::after{content:\"\\a$_\"}.code pre{counter-reset:line}code.line-number{counter-increment:line}code.line-number::before{padding:0 .5em;margin-right:.5em;border-right:1px solid #ddd}code.line-number:before{content:\"0\" counter(line)}.tab{font-size:1rem;border-color:#8c6728}.tab-content{max-height:0;max-width:100%;transition:max-height .35s}.tab input:checked~.tab-content{max-height:100vh}.tab input:checked+label{padding:1rem;border-left-width:2px;border-color:#6574cd;background-color:#f8fafc;color:#6574cd}.tab label::after{float:right;right:0;top:0;display:block;width:1em;height:1.5em;line-height:1.5;font-size:1rem;text-align:center;transition:all .35s}.tab input[type=checkbox]+label::after{content:\"+\";font-weight:700;border-width:1px;border-radius:9999px;border-color:#8c6728}.tab input[type=checkbox]:checked+label::after{transform:rotate(315deg);background-color:#6574cd;color:#f8fafc}</style>\n",
              "<script src=\"https://kit.fontawesome.com/7efc4bcee2.js\" crossOrigin=\"anonymous\"></script>\n",
              "<script>\n",
              "    let stateCheck = setInterval(function(){\n",
              "      if (document.readyState === 'complete') {\n",
              "        clearInterval(stateCheck);\n",
              "        let s1 = document.getElementById('start');\n",
              "        // console.log('doc is ready', s1);\n",
              "        if (s1) {\n",
              "           s1.setAttribute('tabindex', '-1');\n",
              "           s1.focus(); \n",
              "           s1.scrollIntoView({behavior: 'smooth'}); \n",
              "           setTimeout(function(){s1.blur()}, 500);\n",
              "           // console.log('focus set');\n",
              "        }\n",
              "      }\n",
              "    }, 200);\n",
              "    </script>\n",
              "</head><body class=\"lesson\"><div class=\"main-content lesson bg-gray-200 text-black p-1 pl-3 font-serif\"><div class=\"md-inner\">\n",
              "<div id=\"start\" class=\"section\">&nbsp;</div><h1 class=\"section\" id=\"section4\">Dead Code</h1><p class=\"new\">In the above example the code that increments the variable <code>a</code> will never be \n",
              "reached since every possible branch returns. The code that is never reached \n",
              "is called <em>dead code</em>. This is one of the reasons why we try to write \n",
              "functions with a single exit point (that is each function should have a \n",
              "single <code>return</code> statement). We will discuss this idea in the next lesson.</p><h2 id=\"discounted-example\">Discounted Example</h2><p class=\"new\">Here's another code example of selection that encapsulates the logic of offering a 50% discount on 'red' items:</p><pre><code>def calculate_discount(color):\n",
              "  discount = None\n",
              "  if color == 'red':\n",
              "    discount = 0.50  \n",
              "  else:\n",
              "    discount = 0    \n",
              "  return discount</code></pre><p class=\"new\">Sometimes you will see a selection visualized as as a flow chart where the \n",
              "diamond is the boolean condition and the ovals are the code blocks to be \n",
              "executed based on which branch is taken.\n",
              "<img alt=\"ds1.png\" class=\"center border2 iw400\" src=\"https://raw.githubusercontent.com/habermanUIUC/CodeStories-lessons/main/lessons/p4ds/bootcamp/paths1/html/ds1.png\"/></p><p class=\"new\">Flowcharts are a tool that can be used to build your logic before you even\n",
              " start coding.  We will have a lesson on using flowcharts, but take the time\n",
              " to digest what's shown above.</p><h2 id=\"optional-else-blocks\">Optional <code>else</code> blocks</h2><p class=\"new\">The <code>else</code> block is optional. Sometimes you can construct your if/else code \n",
              "such that the default case can be left off: </p><pre><code>def calculate_discount(color):\n",
              "  discount = 0\n",
              "  if color == 'red':\n",
              "    discount = 0.50 \n",
              "  return discount</code></pre><p class=\"new\">This only works if the default case is simple and straightforward.</p><h2 id=\"multiple-ifs\">Multiple <code>if</code>s</h2><p class=\"new\">You can also have several <code>if</code> statements. For example, using a more complex \n",
              "discounting rules: </p><ul><li>assume the store owner is giving a 50% discount for green items</li><li>a 30 % discount for yellow</li><li>a 20% for white items</li></ul><div class=\"code-block code clearfix\"><pre><code class=\"line-number\">def calculate_discount(color):\n",
              "</code><code class=\"line-number\">    discount = 0\n",
              "</code><code class=\"line-number\">    if color == 'green':\n",
              "</code><code class=\"line-number\">      discount = 0.50 \n",
              "</code><code class=\"line-number\">    elif color == 'yellow': \n",
              "</code><code class=\"line-number\">      discount = 0.30    \n",
              "</code><code class=\"line-number\">    elif color == 'white':  \n",
              "</code><code class=\"line-number\">      discount = 0.20 \n",
              "</code><code class=\"line-number\">    return discount\n",
              "</code></pre></div><p class=\"new\">On lines 3,5 and 7, a separate if statement and boolean expression are \n",
              "evaluated to determine which code block will run.  </p><h2 id=\"chaining-ifs\">Chaining <code>if</code>s</h2><p class=\"new\">You can chain as many 'else if' statements as needed. Note that in Python \n",
              "'else if' is a single keyword <code>elif</code> (pronounced ell-if). The above code \n",
              "also demonstrates how to write a function with only a <strong>single exit point</strong>.</p><p class=\"new\">If you had common code to run regardless of which branch is selected \n",
              "you could insert it before the first branch or just above the <code>return</code> statement. </p><p class=\"new\">Be sure to understand how <code>calculate_discount</code> works and the value of having \n",
              "a single return statement.</p><h2 id=\"one-branch\">One Branch</h2><p class=\"new\">The important thing to remember is that ONLY <strong>one</strong> branch gets executed in \n",
              "chained <code>if/else</code> statements. Take a look at this problem:</p><pre><code>def only_one(age):\n",
              "\n",
              "  if (age &lt; 8):\n",
              "    print(\"Less than 8\")\n",
              "  elif (age &lt; 10):\n",
              "    print(\"Less than 10\")\n",
              "  else:\n",
              "    print(\"No idea\")\n",
              "\n",
              "only_one(7)</code></pre><p class=\"new\">Even though 7 (the value the parameter <code>age</code> will receive) is less than 10, the \n",
              "first boolean expression that evaluates to true is the branch that gets executed. \n",
              "Be sure to TYPE in this code, determine what the output will be and then run the code.</p></div></div></body></html>"
            ],
            "text/plain": [
              "<IPython.core.display.HTML object>"
            ]
          },
          "metadata": {}
        }
      ]
    },
    {
      "cell_type": "code",
      "metadata": {
        "id": "zZYI3wQ1HCfL",
        "colab": {
          "base_uri": "https://localhost:8080/"
        },
        "outputId": "42f69328-c31e-49e5-9ded-0679c02a72c9"
      },
      "source": [
        "# type&run the above example/exercise in this cell\n",
        "def only_one(age):\n",
        "\n",
        "  if age < 8:\n",
        "    print(\"Less than 8\")\n",
        "  elif age < 10:\n",
        "    print(\"Less than 10\")\n",
        "  else:\n",
        "    print('No idea')\n",
        "\n",
        "only_one(7)"
      ],
      "execution_count": null,
      "outputs": [
        {
          "output_type": "stream",
          "name": "stdout",
          "text": [
            "Less than 8\n"
          ]
        }
      ]
    },
    {
      "cell_type": "code",
      "metadata": {
        "id": "B9mFuyh9HCfL",
        "colab": {
          "base_uri": "https://localhost:8080/",
          "height": 338
        },
        "outputId": "21ab9671-4c93-479b-cb7a-e75896ec655d"
      },
      "source": [
        "# run to read the next section\n",
        "ide.reader.view_section(10)"
      ],
      "execution_count": null,
      "outputs": [
        {
          "output_type": "display_data",
          "data": {
            "text/html": [
              "<!DOCTYPE html><html lang='en'><head><title>Selecting a Path</title><meta charset=\"utf-8\"><style>/*! normalize.css v8.0.1 | MIT License | github.com/necolas/normalize.css */html{line-height:1.15;-webkit-text-size-adjust:100%}body{margin:0}h1{font-size:2em;margin:.67em 0}pre{font-family:monospace,monospace;font-size:1em}a{background-color:transparent}strong{font-weight:bolder}code{font-family:monospace,monospace;font-size:1em}img{border-style:none}input{font-family:inherit;font-size:100%;line-height:1.15;margin:0}input{overflow:visible}[type=checkbox]{box-sizing:border-box;padding:0}::-webkit-file-upload-button{-webkit-appearance:button;font:inherit}blockquote,h1,h2,h3,h4,p,pre{margin:0}ul{list-style:none;margin:0;padding:0}html{font-family:system-ui,-apple-system,BlinkMacSystemFont,\"Segoe UI\",Roboto,\"Helvetica Neue\",Arial,\"Noto Sans\",sans-serif,\"Apple Color Emoji\",\"Segoe UI Emoji\",\"Segoe UI Symbol\",\"Noto Color Emoji\";line-height:1.5}*,::after,::before{box-sizing:border-box;border-width:0;border-style:solid;border-color:#e2e8f0}img{border-style:solid}input:-ms-input-placeholder{color:#a0aec0}input::-ms-input-placeholder{color:#a0aec0}input::-moz-placeholder{color:#a0aec0}h1,h2,h3,h4{font-size:inherit;font-weight:inherit}a{color:inherit;text-decoration:inherit}input{padding:0;line-height:inherit;color:inherit}code,pre{font-family:Menlo,Monaco,Consolas,\"Liberation Mono\",\"Courier New\",monospace}img,video{display:block;vertical-align:middle}img,video{max-width:100%;height:auto}.container{width:100%}@media (min-width:640px){.container{max-width:640px}}@media (min-width:768px){.container{max-width:768px}}@media (min-width:1024px){.container{max-width:1024px}}@media (min-width:1280px){.container{max-width:1280px}}.bg-gray-200{--bg-opacity:1;background-color:#edf2f7;background-color:rgba(237,242,247,var(--bg-opacity))}.bg-gray-300{--bg-opacity:1;background-color:#e2e8f0;background-color:rgba(226,232,240,var(--bg-opacity))}.bg-orange-300{--bg-opacity:1;background-color:#fbd38d;background-color:rgba(251,211,141,var(--bg-opacity))}.bg-green-200{--bg-opacity:1;background-color:#c6f6d5;background-color:rgba(198,246,213,var(--bg-opacity))}.bg-blue-200{--bg-opacity:1;background-color:#bee3f8;background-color:rgba(190,227,248,var(--bg-opacity))}.bg-blue-300{--bg-opacity:1;background-color:#90cdf4;background-color:rgba(144,205,244,var(--bg-opacity))}.border-gray-400{--border-opacity:1;border-color:#cbd5e0;border-color:rgba(203,213,224,var(--border-opacity))}.border-gray-500{--border-opacity:1;border-color:#a0aec0;border-color:rgba(160,174,192,var(--border-opacity))}.border-gray-600{--border-opacity:1;border-color:#718096;border-color:rgba(113,128,150,var(--border-opacity))}.border-indigo-500{--border-opacity:1;border-color:#667eea;border-color:rgba(102,126,234,var(--border-opacity))}.rounded{border-radius:.25rem}.rounded-full{border-radius:9999px}.border-solid{border-style:solid}.border-0{border-width:0}.border{border-width:1px}.border-l-2{border-left-width:2px}.border-t{border-top-width:1px}.cursor-pointer{cursor:pointer}.block{display:block}.inline-block{display:inline-block}.flex{display:flex}.justify-center{justify-content:center}.justify-around{justify-content:space-around}.float-left{float:left}.clearfix:after{content:\"\";display:table;clear:both}.clear-both{clear:both}.font-sans{font-family:system-ui,-apple-system,BlinkMacSystemFont,\"Segoe UI\",Roboto,\"Helvetica Neue\",Arial,\"Noto Sans\",sans-serif,\"Apple Color Emoji\",\"Segoe UI Emoji\",\"Segoe UI Symbol\",\"Noto Color Emoji\"}.font-serif{font-family:Georgia,Cambria,\"Times New Roman\",Times,serif}.font-semibold{font-weight:600}.font-bold{font-weight:700}.h-64{height:16rem}.text-xs{font-size:.75rem}.text-sm{font-size:.875rem}.text-base{font-size:1rem}.text-xl{font-size:1.25rem}.leading-none{line-height:1}.leading-normal{line-height:1.5}.m-2{margin:.5rem}.my-4{margin-top:1rem;margin-bottom:1rem}.mt-1{margin-top:.25rem}.mt-2{margin-top:.5rem}.mr-2{margin-right:.5rem}.mb-2{margin-bottom:.5rem}.mt-3{margin-top:.75rem}.mr-3{margin-right:.75rem}.mb-3{margin-bottom:.75rem}.mt-4{margin-top:1rem}.mb-4{margin-bottom:1rem}.mt-6{margin-top:1.5rem}.max-w-sm{max-width:24rem}.max-w-2xl{max-width:42rem}.object-contain{-o-object-fit:contain;object-fit:contain}.opacity-0{opacity:0}.overflow-hidden{overflow:hidden}.p-1{padding:.25rem}.p-2{padding:.5rem}.p-3{padding:.75rem}.py-1{padding-top:.25rem;padding-bottom:.25rem}.py-2{padding-top:.5rem;padding-bottom:.5rem}.px-3{padding-left:.75rem;padding-right:.75rem}.py-4{padding-top:1rem;padding-bottom:1rem}.px-4{padding-left:1rem;padding-right:1rem}.px-6{padding-left:1.5rem;padding-right:1.5rem}.pl-3{padding-left:.75rem}.absolute{position:absolute}.shadow-md{box-shadow:0 4px 6px -1px rgba(0,0,0,.1),0 2px 4px -1px rgba(0,0,0,.06)}.shadow-lg{box-shadow:0 10px 15px -3px rgba(0,0,0,.1),0 4px 6px -2px rgba(0,0,0,.05)}.shadow-inner{box-shadow:inset 0 2px 4px 0 rgba(0,0,0,.06)}.text-left{text-align:left}.text-center{text-align:center}.text-black{--text-opacity:1;color:#000;color:rgba(0,0,0,var(--text-opacity))}.text-gray-700{--text-opacity:1;color:#4a5568;color:rgba(74,85,104,var(--text-opacity))}.text-gray-800{--text-opacity:1;color:#2d3748;color:rgba(45,55,72,var(--text-opacity))}.whitespace-no-wrap{white-space:nowrap}.w-1\\/2{width:50%}.w-2\\/3{width:66.666667%}.w-full{width:100%}@media (min-width:768px){.md\\:w-2\\/3{width:66.666667%}}.text-tiny{font-size:.5rem!important}body{color:#000!important;font-size:1.25rem!important}.main-content{max-width:900px}.lesson{padding-left:15px!important;padding-right:10px!important;--bg-opacity:1;background-color:#edf2f7;background-color:rgba(237,242,247,var(--bg-opacity))}.main-content,html{font-family:Arial,Georgia,Verdana,\"Times New Roman\"!important}.lesson-footer-card,.lesson-overview-card{font-family:\"Times New Roman\"!important}blockquote em:first-child{font-family:Times!important;font-size:1.35em;margin-right:10px}blockquote em:first-child:after{content:\":\"}.lesson-footer{margin-top:50px;margin-top:20px}video{height:auto;padding:.25rem;background-color:#87cefa;margin:0!important;padding:0!important}.lesson ul{list-style-position:inside;list-style-type:none;margin-left:1em}.lesson ul li{padding-left:1em;padding-right:5px}.lesson ul li::before{content:\"•\";padding-right:5px}span{white-space:nowrap}p.new{padding-top:0;padding-bottom:.5em}p.new+p{padding-top:.5em}h1,h2,h3,h4{font-weight:700;margin-top:.25em!important;margin-bottom:.05em!important;font-family:Georgia,Cambria,\"Times New Roman\",Times,serif!important}h1{font-size:2em!important;clear:both;color:#000!important}div+h1,h2{margin-top:0!important}h2{margin-top:.5em!important;font-size:1.5em!important;clear:both;color:#8b0000!important}h3{font-size:1.25em!important;clear:both;color:#006400!important}h4{font-size:1em!important;clear:both;color:#00008b!important}ul{margin-bottom:30px}.lesson a{text-decoration:underline;color:#00f}.title-text{font-size:2rem}blockquote{font-size:1em;background:#f9f9f9;border-left:10px solid #ccc;margin:.5em 10px;padding:.5em 10px;border-left-color:#ffcd69;border-right-color:#f6ba59;quotes:\"\\201C\"\"\\201D\"\"\\2018\"\"\\2019\"}blockquote:before{color:#ccc;content:open-quote;font-size:4em;line-height:.1em;margin-right:.25em;vertical-align:-.4em}blockquote:after{color:#ccc;content:no-close-quote}blockquote p{display:inline}.shadow-lg{box-shadow:0 10px 15px -3px rgba(0,0,0,.1),0 4px 6px -2px rgba(0,0,0,.5)}img.center{-o-object-position:center;object-position:center;margin-left:auto;margin-right:auto}img.border2{border:1px solid #94add4;margin-top:.5rem;margin-bottom:.75rem}img.iw400{height:auto;width:auto;max-width:400px}img.iw300{height:auto;width:auto;max-width:300px}code{font-size:smaller}pre code{font-size:15px}.code{background:#f4f4f4;font-family:monospace;font-size:15px;-webkit-user-select:none;-moz-user-select:none;-ms-user-select:none;user-select:none;cursor:default;touch-action:none;-webkit-touch-callout:none;-webkit-tap-highlight-color:transparent;clear:both;border:1px solid #ddd;color:#666;page-break-inside:avoid;display:block;min-width:840px;max-width:840px;overflow:scroll;line-height:1.6;margin-bottom:1.6em;padding:1em 1.5em;-moz-tab-size:2;-o-tab-size:2;tab-size:2;word-wrap:break-word;white-space:pre-wrap;border-left:3px solid #f36d33!important}pre code:not(.line-number){background:#f4f4f4;font-family:monospace;font-size:15px;-webkit-user-select:none;-moz-user-select:none;-ms-user-select:none;user-select:none;cursor:default;touch-action:none;-webkit-touch-callout:none;-webkit-tap-highlight-color:transparent;clear:both;border:1px solid #ddd;color:#666;page-break-inside:avoid;display:block;min-width:840px;max-width:840px;overflow:scroll;line-height:1.6;margin-bottom:1.6em;padding:1em 1.5em;-moz-tab-size:2;-o-tab-size:2;tab-size:2;word-wrap:break-word;white-space:pre-wrap;border-left:3px solid #f36d33}div.code-starter>pre code{border-left:3px solid #fdff44!important;background-image:radial-gradient(rgba(0,150,0,.75),#000 120%);color:#fff;font:.9rem Inconsolata,monospace}div.code-starter>pre code::after{content:\"\\a$_\"}.code pre{counter-reset:line}code.line-number{counter-increment:line}code.line-number::before{padding:0 .5em;margin-right:.5em;border-right:1px solid #ddd}code.line-number:before{content:\"0\" counter(line)}.tab{font-size:1rem;border-color:#8c6728}.tab-content{max-height:0;max-width:100%;transition:max-height .35s}.tab input:checked~.tab-content{max-height:100vh}.tab input:checked+label{padding:1rem;border-left-width:2px;border-color:#6574cd;background-color:#f8fafc;color:#6574cd}.tab label::after{float:right;right:0;top:0;display:block;width:1em;height:1.5em;line-height:1.5;font-size:1rem;text-align:center;transition:all .35s}.tab input[type=checkbox]+label::after{content:\"+\";font-weight:700;border-width:1px;border-radius:9999px;border-color:#8c6728}.tab input[type=checkbox]:checked+label::after{transform:rotate(315deg);background-color:#6574cd;color:#f8fafc}</style>\n",
              "<script src=\"https://kit.fontawesome.com/7efc4bcee2.js\" crossOrigin=\"anonymous\"></script>\n",
              "<script>\n",
              "    let stateCheck = setInterval(function(){\n",
              "      if (document.readyState === 'complete') {\n",
              "        clearInterval(stateCheck);\n",
              "        let s1 = document.getElementById('start');\n",
              "        // console.log('doc is ready', s1);\n",
              "        if (s1) {\n",
              "           s1.setAttribute('tabindex', '-1');\n",
              "           s1.focus(); \n",
              "           s1.scrollIntoView({behavior: 'smooth'}); \n",
              "           setTimeout(function(){s1.blur()}, 500);\n",
              "           // console.log('focus set');\n",
              "        }\n",
              "      }\n",
              "    }, 200);\n",
              "    </script>\n",
              "</head><body class=\"lesson\"><div class=\"main-content lesson bg-gray-200 text-black p-1 pl-3 font-serif\"><div class=\"md-inner\">\n",
              "<div id=\"start\" class=\"section\">&nbsp;</div><div class=\"font-sans container mt-1 mb-4 \"><p>🎗Before you go, you should <strong>know</strong>:</p><div class=\"w-2/3 md:w-2/3\"><div class=\"shadow-md\"><div class=\"tab overflow-hidden border-t bg-green-200\"><input class=\"absolute opacity-0\" id=\"tab-multi-17\" name=\"tabs\" type=\"checkbox\"/><label class=\"block p-3 leading-normal cursor-pointer\" for=\"tab-multi-17\"><span> the syntax of an if statement </span></label><div class=\"tab-content overflow-hidden border-l-2 bg-orange-300 border-indigo-500 leading-normal\"><p class=\"p-3\">No Answer</p></div></div><div class=\"tab overflow-hidden border-t bg-green-200\"><input class=\"absolute opacity-0\" id=\"tab-multi-18\" name=\"tabs\" type=\"checkbox\"/><label class=\"block p-3 leading-normal cursor-pointer\" for=\"tab-multi-18\"><span> the syntax of an if/else statement </span></label><div class=\"tab-content overflow-hidden border-l-2 bg-orange-300 border-indigo-500 leading-normal\"><p class=\"p-3\">No Answer</p></div></div><div class=\"tab overflow-hidden border-t bg-green-200\"><input class=\"absolute opacity-0\" id=\"tab-multi-19\" name=\"tabs\" type=\"checkbox\"/><label class=\"block p-3 leading-normal cursor-pointer\" for=\"tab-multi-19\"><span> the syntax of an if/elseif/else statement </span></label><div class=\"tab-content overflow-hidden border-l-2 bg-orange-300 border-indigo-500 leading-normal\"><p class=\"p-3\">No Answer</p></div></div><div class=\"tab overflow-hidden border-t bg-green-200\"><input class=\"absolute opacity-0\" id=\"tab-multi-20\" name=\"tabs\" type=\"checkbox\"/><label class=\"block p-3 leading-normal cursor-pointer\" for=\"tab-multi-20\"><span> the operator used to compare values to <code>None</code></span></label><div class=\"tab-content overflow-hidden border-l-2 bg-orange-300 border-indigo-500 leading-normal\"><p class=\"p-3\">No Answer</p></div></div><div class=\"tab overflow-hidden border-t bg-green-200\"><input class=\"absolute opacity-0\" id=\"tab-multi-21\" name=\"tabs\" type=\"checkbox\"/><label class=\"block p-3 leading-normal cursor-pointer\" for=\"tab-multi-21\"><span> what happens to any code after a return </span></label><div class=\"tab-content overflow-hidden border-l-2 bg-orange-300 border-indigo-500 leading-normal\"><p class=\"p-3\">No Answer</p></div></div></div></div></div></div></div></body></html>"
            ],
            "text/plain": [
              "<IPython.core.display.HTML object>"
            ]
          },
          "metadata": {}
        }
      ]
    },
    {
      "cell_type": "markdown",
      "metadata": {
        "id": "0jtcdIvhHCfL"
      },
      "source": [
        "# Lesson Assignment"
      ]
    },
    {
      "cell_type": "code",
      "metadata": {
        "id": "9a71pxfLHCfL",
        "colab": {
          "base_uri": "https://localhost:8080/",
          "height": 787
        },
        "outputId": "15ebb3c4-fe59-43b5-c77e-aeb334d9e027"
      },
      "source": [
        "# run to read the next section\n",
        "ide.reader.view_section(11)"
      ],
      "execution_count": null,
      "outputs": [
        {
          "output_type": "display_data",
          "data": {
            "text/html": [
              "<!DOCTYPE html><html lang='en'><head><title>Selecting a Path</title><meta charset=\"utf-8\"><style>/*! normalize.css v8.0.1 | MIT License | github.com/necolas/normalize.css */html{line-height:1.15;-webkit-text-size-adjust:100%}body{margin:0}h1{font-size:2em;margin:.67em 0}pre{font-family:monospace,monospace;font-size:1em}a{background-color:transparent}strong{font-weight:bolder}code{font-family:monospace,monospace;font-size:1em}img{border-style:none}input{font-family:inherit;font-size:100%;line-height:1.15;margin:0}input{overflow:visible}[type=checkbox]{box-sizing:border-box;padding:0}::-webkit-file-upload-button{-webkit-appearance:button;font:inherit}blockquote,h1,h2,h3,h4,p,pre{margin:0}ul{list-style:none;margin:0;padding:0}html{font-family:system-ui,-apple-system,BlinkMacSystemFont,\"Segoe UI\",Roboto,\"Helvetica Neue\",Arial,\"Noto Sans\",sans-serif,\"Apple Color Emoji\",\"Segoe UI Emoji\",\"Segoe UI Symbol\",\"Noto Color Emoji\";line-height:1.5}*,::after,::before{box-sizing:border-box;border-width:0;border-style:solid;border-color:#e2e8f0}img{border-style:solid}input:-ms-input-placeholder{color:#a0aec0}input::-ms-input-placeholder{color:#a0aec0}input::-moz-placeholder{color:#a0aec0}h1,h2,h3,h4{font-size:inherit;font-weight:inherit}a{color:inherit;text-decoration:inherit}input{padding:0;line-height:inherit;color:inherit}code,pre{font-family:Menlo,Monaco,Consolas,\"Liberation Mono\",\"Courier New\",monospace}img,video{display:block;vertical-align:middle}img,video{max-width:100%;height:auto}.container{width:100%}@media (min-width:640px){.container{max-width:640px}}@media (min-width:768px){.container{max-width:768px}}@media (min-width:1024px){.container{max-width:1024px}}@media (min-width:1280px){.container{max-width:1280px}}.bg-gray-200{--bg-opacity:1;background-color:#edf2f7;background-color:rgba(237,242,247,var(--bg-opacity))}.bg-gray-300{--bg-opacity:1;background-color:#e2e8f0;background-color:rgba(226,232,240,var(--bg-opacity))}.bg-orange-300{--bg-opacity:1;background-color:#fbd38d;background-color:rgba(251,211,141,var(--bg-opacity))}.bg-green-200{--bg-opacity:1;background-color:#c6f6d5;background-color:rgba(198,246,213,var(--bg-opacity))}.bg-blue-200{--bg-opacity:1;background-color:#bee3f8;background-color:rgba(190,227,248,var(--bg-opacity))}.bg-blue-300{--bg-opacity:1;background-color:#90cdf4;background-color:rgba(144,205,244,var(--bg-opacity))}.border-gray-400{--border-opacity:1;border-color:#cbd5e0;border-color:rgba(203,213,224,var(--border-opacity))}.border-gray-500{--border-opacity:1;border-color:#a0aec0;border-color:rgba(160,174,192,var(--border-opacity))}.border-gray-600{--border-opacity:1;border-color:#718096;border-color:rgba(113,128,150,var(--border-opacity))}.border-indigo-500{--border-opacity:1;border-color:#667eea;border-color:rgba(102,126,234,var(--border-opacity))}.rounded{border-radius:.25rem}.rounded-full{border-radius:9999px}.border-solid{border-style:solid}.border-0{border-width:0}.border{border-width:1px}.border-l-2{border-left-width:2px}.border-t{border-top-width:1px}.cursor-pointer{cursor:pointer}.block{display:block}.inline-block{display:inline-block}.flex{display:flex}.justify-center{justify-content:center}.justify-around{justify-content:space-around}.float-left{float:left}.clearfix:after{content:\"\";display:table;clear:both}.clear-both{clear:both}.font-sans{font-family:system-ui,-apple-system,BlinkMacSystemFont,\"Segoe UI\",Roboto,\"Helvetica Neue\",Arial,\"Noto Sans\",sans-serif,\"Apple Color Emoji\",\"Segoe UI Emoji\",\"Segoe UI Symbol\",\"Noto Color Emoji\"}.font-serif{font-family:Georgia,Cambria,\"Times New Roman\",Times,serif}.font-semibold{font-weight:600}.font-bold{font-weight:700}.h-64{height:16rem}.text-xs{font-size:.75rem}.text-sm{font-size:.875rem}.text-base{font-size:1rem}.text-xl{font-size:1.25rem}.leading-none{line-height:1}.leading-normal{line-height:1.5}.m-2{margin:.5rem}.my-4{margin-top:1rem;margin-bottom:1rem}.mt-1{margin-top:.25rem}.mt-2{margin-top:.5rem}.mr-2{margin-right:.5rem}.mb-2{margin-bottom:.5rem}.mt-3{margin-top:.75rem}.mr-3{margin-right:.75rem}.mb-3{margin-bottom:.75rem}.mt-4{margin-top:1rem}.mb-4{margin-bottom:1rem}.mt-6{margin-top:1.5rem}.max-w-sm{max-width:24rem}.max-w-2xl{max-width:42rem}.object-contain{-o-object-fit:contain;object-fit:contain}.opacity-0{opacity:0}.overflow-hidden{overflow:hidden}.p-1{padding:.25rem}.p-2{padding:.5rem}.p-3{padding:.75rem}.py-1{padding-top:.25rem;padding-bottom:.25rem}.py-2{padding-top:.5rem;padding-bottom:.5rem}.px-3{padding-left:.75rem;padding-right:.75rem}.py-4{padding-top:1rem;padding-bottom:1rem}.px-4{padding-left:1rem;padding-right:1rem}.px-6{padding-left:1.5rem;padding-right:1.5rem}.pl-3{padding-left:.75rem}.absolute{position:absolute}.shadow-md{box-shadow:0 4px 6px -1px rgba(0,0,0,.1),0 2px 4px -1px rgba(0,0,0,.06)}.shadow-lg{box-shadow:0 10px 15px -3px rgba(0,0,0,.1),0 4px 6px -2px rgba(0,0,0,.05)}.shadow-inner{box-shadow:inset 0 2px 4px 0 rgba(0,0,0,.06)}.text-left{text-align:left}.text-center{text-align:center}.text-black{--text-opacity:1;color:#000;color:rgba(0,0,0,var(--text-opacity))}.text-gray-700{--text-opacity:1;color:#4a5568;color:rgba(74,85,104,var(--text-opacity))}.text-gray-800{--text-opacity:1;color:#2d3748;color:rgba(45,55,72,var(--text-opacity))}.whitespace-no-wrap{white-space:nowrap}.w-1\\/2{width:50%}.w-2\\/3{width:66.666667%}.w-full{width:100%}@media (min-width:768px){.md\\:w-2\\/3{width:66.666667%}}.text-tiny{font-size:.5rem!important}body{color:#000!important;font-size:1.25rem!important}.main-content{max-width:900px}.lesson{padding-left:15px!important;padding-right:10px!important;--bg-opacity:1;background-color:#edf2f7;background-color:rgba(237,242,247,var(--bg-opacity))}.main-content,html{font-family:Arial,Georgia,Verdana,\"Times New Roman\"!important}.lesson-footer-card,.lesson-overview-card{font-family:\"Times New Roman\"!important}blockquote em:first-child{font-family:Times!important;font-size:1.35em;margin-right:10px}blockquote em:first-child:after{content:\":\"}.lesson-footer{margin-top:50px;margin-top:20px}video{height:auto;padding:.25rem;background-color:#87cefa;margin:0!important;padding:0!important}.lesson ul{list-style-position:inside;list-style-type:none;margin-left:1em}.lesson ul li{padding-left:1em;padding-right:5px}.lesson ul li::before{content:\"•\";padding-right:5px}span{white-space:nowrap}p.new{padding-top:0;padding-bottom:.5em}p.new+p{padding-top:.5em}h1,h2,h3,h4{font-weight:700;margin-top:.25em!important;margin-bottom:.05em!important;font-family:Georgia,Cambria,\"Times New Roman\",Times,serif!important}h1{font-size:2em!important;clear:both;color:#000!important}div+h1,h2{margin-top:0!important}h2{margin-top:.5em!important;font-size:1.5em!important;clear:both;color:#8b0000!important}h3{font-size:1.25em!important;clear:both;color:#006400!important}h4{font-size:1em!important;clear:both;color:#00008b!important}ul{margin-bottom:30px}.lesson a{text-decoration:underline;color:#00f}.title-text{font-size:2rem}blockquote{font-size:1em;background:#f9f9f9;border-left:10px solid #ccc;margin:.5em 10px;padding:.5em 10px;border-left-color:#ffcd69;border-right-color:#f6ba59;quotes:\"\\201C\"\"\\201D\"\"\\2018\"\"\\2019\"}blockquote:before{color:#ccc;content:open-quote;font-size:4em;line-height:.1em;margin-right:.25em;vertical-align:-.4em}blockquote:after{color:#ccc;content:no-close-quote}blockquote p{display:inline}.shadow-lg{box-shadow:0 10px 15px -3px rgba(0,0,0,.1),0 4px 6px -2px rgba(0,0,0,.5)}img.center{-o-object-position:center;object-position:center;margin-left:auto;margin-right:auto}img.border2{border:1px solid #94add4;margin-top:.5rem;margin-bottom:.75rem}img.iw400{height:auto;width:auto;max-width:400px}img.iw300{height:auto;width:auto;max-width:300px}code{font-size:smaller}pre code{font-size:15px}.code{background:#f4f4f4;font-family:monospace;font-size:15px;-webkit-user-select:none;-moz-user-select:none;-ms-user-select:none;user-select:none;cursor:default;touch-action:none;-webkit-touch-callout:none;-webkit-tap-highlight-color:transparent;clear:both;border:1px solid #ddd;color:#666;page-break-inside:avoid;display:block;min-width:840px;max-width:840px;overflow:scroll;line-height:1.6;margin-bottom:1.6em;padding:1em 1.5em;-moz-tab-size:2;-o-tab-size:2;tab-size:2;word-wrap:break-word;white-space:pre-wrap;border-left:3px solid #f36d33!important}pre code:not(.line-number){background:#f4f4f4;font-family:monospace;font-size:15px;-webkit-user-select:none;-moz-user-select:none;-ms-user-select:none;user-select:none;cursor:default;touch-action:none;-webkit-touch-callout:none;-webkit-tap-highlight-color:transparent;clear:both;border:1px solid #ddd;color:#666;page-break-inside:avoid;display:block;min-width:840px;max-width:840px;overflow:scroll;line-height:1.6;margin-bottom:1.6em;padding:1em 1.5em;-moz-tab-size:2;-o-tab-size:2;tab-size:2;word-wrap:break-word;white-space:pre-wrap;border-left:3px solid #f36d33}div.code-starter>pre code{border-left:3px solid #fdff44!important;background-image:radial-gradient(rgba(0,150,0,.75),#000 120%);color:#fff;font:.9rem Inconsolata,monospace}div.code-starter>pre code::after{content:\"\\a$_\"}.code pre{counter-reset:line}code.line-number{counter-increment:line}code.line-number::before{padding:0 .5em;margin-right:.5em;border-right:1px solid #ddd}code.line-number:before{content:\"0\" counter(line)}.tab{font-size:1rem;border-color:#8c6728}.tab-content{max-height:0;max-width:100%;transition:max-height .35s}.tab input:checked~.tab-content{max-height:100vh}.tab input:checked+label{padding:1rem;border-left-width:2px;border-color:#6574cd;background-color:#f8fafc;color:#6574cd}.tab label::after{float:right;right:0;top:0;display:block;width:1em;height:1.5em;line-height:1.5;font-size:1rem;text-align:center;transition:all .35s}.tab input[type=checkbox]+label::after{content:\"+\";font-weight:700;border-width:1px;border-radius:9999px;border-color:#8c6728}.tab input[type=checkbox]:checked+label::after{transform:rotate(315deg);background-color:#6574cd;color:#f8fafc}</style>\n",
              "<script src=\"https://kit.fontawesome.com/7efc4bcee2.js\" crossOrigin=\"anonymous\"></script>\n",
              "<script>\n",
              "    let stateCheck = setInterval(function(){\n",
              "      if (document.readyState === 'complete') {\n",
              "        clearInterval(stateCheck);\n",
              "        let s1 = document.getElementById('start');\n",
              "        // console.log('doc is ready', s1);\n",
              "        if (s1) {\n",
              "           s1.setAttribute('tabindex', '-1');\n",
              "           s1.focus(); \n",
              "           s1.scrollIntoView({behavior: 'smooth'}); \n",
              "           setTimeout(function(){s1.blur()}, 500);\n",
              "           // console.log('focus set');\n",
              "        }\n",
              "      }\n",
              "    }, 200);\n",
              "    </script>\n",
              "</head><body class=\"lesson\"><div class=\"main-content lesson bg-gray-200 text-black p-1 pl-3 font-serif\"><div class=\"md-inner\">\n",
              "<div id=\"start\" class=\"section\">&nbsp;</div><h1 class=\"section\" id=\"section5\">Lesson Assignment</h1><h2 id=\"willorderdessert\"><code>will_order_dessert</code></h2><p class=\"new\">Write a function named <code>will_order_dessert</code></p><ul><li>has a single parameter: <code>kind</code> (as a string)</li><li>returns <code>True</code> for any of these conditions (otherwise return <code>False</code>):\n",
              " <ul><li>the kind of dessert is \"Ice Cream\"</li><li>the kind of dessert is \"Pumpkin Pie\"</li></ul></li></ul><ul><li>You MUST use at least one <code>else/elif</code></li><li>You <strong>cannot</strong> use the keywords: <code>and</code>, <code>or</code> (that's in the next lesson)</li></ul><h2 id=\"willorderdessertagain\"><code>will_order_dessert_again</code></h2><p class=\"new\">Write a function named <code>will_order_dessert_again</code></p><ul><li>has two parameters: <code>kind</code> (as a string) and <code>price</code> (a number, assumed to be in dollars)</li><li>returns <code>True</code> for any of these conditions (otherwise return <code>False</code>):\n",
              "  <ul><li>the kind of dessert is \"Ice Cream\"</li><li>the kind of dessert is \"Pumpkin Pie\"</li><li>the price is less than or equal to 5 dollars</li></ul></li></ul><ul><li>You can ONLY use <code>if</code> statements (no <code>else</code> or <code>elif</code>)</li><li>You <strong>cannot</strong> use the keywords: <code>and</code>, <code>or</code> (that's in the next lesson)</li></ul><h2 id=\"notes-\">Notes: </h2><p class=\"new\">The restriction on not using the <code>and</code>, <code>or</code> operators is done to help you \n",
              "discover how you can build logic without them.</p></div></div></body></html>"
            ],
            "text/plain": [
              "<IPython.core.display.HTML object>"
            ]
          },
          "metadata": {}
        }
      ]
    },
    {
      "cell_type": "code",
      "metadata": {
        "id": "3lFBxbIya3OQ"
      },
      "source": [
        "def will_order_dessert(kind):\n",
        "  dessert = False\n",
        "\n",
        "  if kind == 'Ice Cream':\n",
        "    dessert = True\n",
        "  elif kind == 'Pumpkin Pie':\n",
        "    dessert = True\n",
        "\n",
        "  return dessert\n",
        "\n",
        "\n",
        "def will_order_dessert_again(kind, price):\n",
        "  dessert = False\n",
        "\n",
        "  if kind == 'Ice Cream':\n",
        "    dessert = True\n",
        "  if kind == 'Pumpkin Pie':\n",
        "    dessert = True\n",
        "  if price <= 5:\n",
        "    dessert = True\n",
        "\n",
        "  return dessert"
      ],
      "execution_count": null,
      "outputs": []
    },
    {
      "cell_type": "markdown",
      "metadata": {
        "id": "TW0imHK5HCfL"
      },
      "source": [
        "# Test and Submit"
      ]
    },
    {
      "cell_type": "code",
      "metadata": {
        "id": "R_0ayOEbHCfL",
        "colab": {
          "base_uri": "https://localhost:8080/",
          "height": 915
        },
        "outputId": "3e802ad7-6f6f-45d7-ca01-9a8d8dc28380"
      },
      "source": [
        "# run to read the next section\n",
        "ide.reader.view_section(12)"
      ],
      "execution_count": null,
      "outputs": [
        {
          "output_type": "display_data",
          "data": {
            "text/html": [
              "<!DOCTYPE html><html lang='en'><head><title>Selecting a Path</title><meta charset=\"utf-8\"><style>/*! normalize.css v8.0.1 | MIT License | github.com/necolas/normalize.css */html{line-height:1.15;-webkit-text-size-adjust:100%}body{margin:0}h1{font-size:2em;margin:.67em 0}pre{font-family:monospace,monospace;font-size:1em}a{background-color:transparent}strong{font-weight:bolder}code{font-family:monospace,monospace;font-size:1em}img{border-style:none}input{font-family:inherit;font-size:100%;line-height:1.15;margin:0}input{overflow:visible}[type=checkbox]{box-sizing:border-box;padding:0}::-webkit-file-upload-button{-webkit-appearance:button;font:inherit}blockquote,h1,h2,h3,h4,p,pre{margin:0}ul{list-style:none;margin:0;padding:0}html{font-family:system-ui,-apple-system,BlinkMacSystemFont,\"Segoe UI\",Roboto,\"Helvetica Neue\",Arial,\"Noto Sans\",sans-serif,\"Apple Color Emoji\",\"Segoe UI Emoji\",\"Segoe UI Symbol\",\"Noto Color Emoji\";line-height:1.5}*,::after,::before{box-sizing:border-box;border-width:0;border-style:solid;border-color:#e2e8f0}img{border-style:solid}input:-ms-input-placeholder{color:#a0aec0}input::-ms-input-placeholder{color:#a0aec0}input::-moz-placeholder{color:#a0aec0}h1,h2,h3,h4{font-size:inherit;font-weight:inherit}a{color:inherit;text-decoration:inherit}input{padding:0;line-height:inherit;color:inherit}code,pre{font-family:Menlo,Monaco,Consolas,\"Liberation Mono\",\"Courier New\",monospace}img,video{display:block;vertical-align:middle}img,video{max-width:100%;height:auto}.container{width:100%}@media (min-width:640px){.container{max-width:640px}}@media (min-width:768px){.container{max-width:768px}}@media (min-width:1024px){.container{max-width:1024px}}@media (min-width:1280px){.container{max-width:1280px}}.bg-gray-200{--bg-opacity:1;background-color:#edf2f7;background-color:rgba(237,242,247,var(--bg-opacity))}.bg-gray-300{--bg-opacity:1;background-color:#e2e8f0;background-color:rgba(226,232,240,var(--bg-opacity))}.bg-orange-300{--bg-opacity:1;background-color:#fbd38d;background-color:rgba(251,211,141,var(--bg-opacity))}.bg-green-200{--bg-opacity:1;background-color:#c6f6d5;background-color:rgba(198,246,213,var(--bg-opacity))}.bg-blue-200{--bg-opacity:1;background-color:#bee3f8;background-color:rgba(190,227,248,var(--bg-opacity))}.bg-blue-300{--bg-opacity:1;background-color:#90cdf4;background-color:rgba(144,205,244,var(--bg-opacity))}.border-gray-400{--border-opacity:1;border-color:#cbd5e0;border-color:rgba(203,213,224,var(--border-opacity))}.border-gray-500{--border-opacity:1;border-color:#a0aec0;border-color:rgba(160,174,192,var(--border-opacity))}.border-gray-600{--border-opacity:1;border-color:#718096;border-color:rgba(113,128,150,var(--border-opacity))}.border-indigo-500{--border-opacity:1;border-color:#667eea;border-color:rgba(102,126,234,var(--border-opacity))}.rounded{border-radius:.25rem}.rounded-full{border-radius:9999px}.border-solid{border-style:solid}.border-0{border-width:0}.border{border-width:1px}.border-l-2{border-left-width:2px}.border-t{border-top-width:1px}.cursor-pointer{cursor:pointer}.block{display:block}.inline-block{display:inline-block}.flex{display:flex}.justify-center{justify-content:center}.justify-around{justify-content:space-around}.float-left{float:left}.clearfix:after{content:\"\";display:table;clear:both}.clear-both{clear:both}.font-sans{font-family:system-ui,-apple-system,BlinkMacSystemFont,\"Segoe UI\",Roboto,\"Helvetica Neue\",Arial,\"Noto Sans\",sans-serif,\"Apple Color Emoji\",\"Segoe UI Emoji\",\"Segoe UI Symbol\",\"Noto Color Emoji\"}.font-serif{font-family:Georgia,Cambria,\"Times New Roman\",Times,serif}.font-semibold{font-weight:600}.font-bold{font-weight:700}.h-64{height:16rem}.text-xs{font-size:.75rem}.text-sm{font-size:.875rem}.text-base{font-size:1rem}.text-xl{font-size:1.25rem}.leading-none{line-height:1}.leading-normal{line-height:1.5}.m-2{margin:.5rem}.my-4{margin-top:1rem;margin-bottom:1rem}.mt-1{margin-top:.25rem}.mt-2{margin-top:.5rem}.mr-2{margin-right:.5rem}.mb-2{margin-bottom:.5rem}.mt-3{margin-top:.75rem}.mr-3{margin-right:.75rem}.mb-3{margin-bottom:.75rem}.mt-4{margin-top:1rem}.mb-4{margin-bottom:1rem}.mt-6{margin-top:1.5rem}.max-w-sm{max-width:24rem}.max-w-2xl{max-width:42rem}.object-contain{-o-object-fit:contain;object-fit:contain}.opacity-0{opacity:0}.overflow-hidden{overflow:hidden}.p-1{padding:.25rem}.p-2{padding:.5rem}.p-3{padding:.75rem}.py-1{padding-top:.25rem;padding-bottom:.25rem}.py-2{padding-top:.5rem;padding-bottom:.5rem}.px-3{padding-left:.75rem;padding-right:.75rem}.py-4{padding-top:1rem;padding-bottom:1rem}.px-4{padding-left:1rem;padding-right:1rem}.px-6{padding-left:1.5rem;padding-right:1.5rem}.pl-3{padding-left:.75rem}.absolute{position:absolute}.shadow-md{box-shadow:0 4px 6px -1px rgba(0,0,0,.1),0 2px 4px -1px rgba(0,0,0,.06)}.shadow-lg{box-shadow:0 10px 15px -3px rgba(0,0,0,.1),0 4px 6px -2px rgba(0,0,0,.05)}.shadow-inner{box-shadow:inset 0 2px 4px 0 rgba(0,0,0,.06)}.text-left{text-align:left}.text-center{text-align:center}.text-black{--text-opacity:1;color:#000;color:rgba(0,0,0,var(--text-opacity))}.text-gray-700{--text-opacity:1;color:#4a5568;color:rgba(74,85,104,var(--text-opacity))}.text-gray-800{--text-opacity:1;color:#2d3748;color:rgba(45,55,72,var(--text-opacity))}.whitespace-no-wrap{white-space:nowrap}.w-1\\/2{width:50%}.w-2\\/3{width:66.666667%}.w-full{width:100%}@media (min-width:768px){.md\\:w-2\\/3{width:66.666667%}}.text-tiny{font-size:.5rem!important}body{color:#000!important;font-size:1.25rem!important}.main-content{max-width:900px}.lesson{padding-left:15px!important;padding-right:10px!important;--bg-opacity:1;background-color:#edf2f7;background-color:rgba(237,242,247,var(--bg-opacity))}.main-content,html{font-family:Arial,Georgia,Verdana,\"Times New Roman\"!important}.lesson-footer-card,.lesson-overview-card{font-family:\"Times New Roman\"!important}blockquote em:first-child{font-family:Times!important;font-size:1.35em;margin-right:10px}blockquote em:first-child:after{content:\":\"}.lesson-footer{margin-top:50px;margin-top:20px}video{height:auto;padding:.25rem;background-color:#87cefa;margin:0!important;padding:0!important}.lesson ul{list-style-position:inside;list-style-type:none;margin-left:1em}.lesson ul li{padding-left:1em;padding-right:5px}.lesson ul li::before{content:\"•\";padding-right:5px}span{white-space:nowrap}p.new{padding-top:0;padding-bottom:.5em}p.new+p{padding-top:.5em}h1,h2,h3,h4{font-weight:700;margin-top:.25em!important;margin-bottom:.05em!important;font-family:Georgia,Cambria,\"Times New Roman\",Times,serif!important}h1{font-size:2em!important;clear:both;color:#000!important}div+h1,h2{margin-top:0!important}h2{margin-top:.5em!important;font-size:1.5em!important;clear:both;color:#8b0000!important}h3{font-size:1.25em!important;clear:both;color:#006400!important}h4{font-size:1em!important;clear:both;color:#00008b!important}ul{margin-bottom:30px}.lesson a{text-decoration:underline;color:#00f}.title-text{font-size:2rem}blockquote{font-size:1em;background:#f9f9f9;border-left:10px solid #ccc;margin:.5em 10px;padding:.5em 10px;border-left-color:#ffcd69;border-right-color:#f6ba59;quotes:\"\\201C\"\"\\201D\"\"\\2018\"\"\\2019\"}blockquote:before{color:#ccc;content:open-quote;font-size:4em;line-height:.1em;margin-right:.25em;vertical-align:-.4em}blockquote:after{color:#ccc;content:no-close-quote}blockquote p{display:inline}.shadow-lg{box-shadow:0 10px 15px -3px rgba(0,0,0,.1),0 4px 6px -2px rgba(0,0,0,.5)}img.center{-o-object-position:center;object-position:center;margin-left:auto;margin-right:auto}img.border2{border:1px solid #94add4;margin-top:.5rem;margin-bottom:.75rem}img.iw400{height:auto;width:auto;max-width:400px}img.iw300{height:auto;width:auto;max-width:300px}code{font-size:smaller}pre code{font-size:15px}.code{background:#f4f4f4;font-family:monospace;font-size:15px;-webkit-user-select:none;-moz-user-select:none;-ms-user-select:none;user-select:none;cursor:default;touch-action:none;-webkit-touch-callout:none;-webkit-tap-highlight-color:transparent;clear:both;border:1px solid #ddd;color:#666;page-break-inside:avoid;display:block;min-width:840px;max-width:840px;overflow:scroll;line-height:1.6;margin-bottom:1.6em;padding:1em 1.5em;-moz-tab-size:2;-o-tab-size:2;tab-size:2;word-wrap:break-word;white-space:pre-wrap;border-left:3px solid #f36d33!important}pre code:not(.line-number){background:#f4f4f4;font-family:monospace;font-size:15px;-webkit-user-select:none;-moz-user-select:none;-ms-user-select:none;user-select:none;cursor:default;touch-action:none;-webkit-touch-callout:none;-webkit-tap-highlight-color:transparent;clear:both;border:1px solid #ddd;color:#666;page-break-inside:avoid;display:block;min-width:840px;max-width:840px;overflow:scroll;line-height:1.6;margin-bottom:1.6em;padding:1em 1.5em;-moz-tab-size:2;-o-tab-size:2;tab-size:2;word-wrap:break-word;white-space:pre-wrap;border-left:3px solid #f36d33}div.code-starter>pre code{border-left:3px solid #fdff44!important;background-image:radial-gradient(rgba(0,150,0,.75),#000 120%);color:#fff;font:.9rem Inconsolata,monospace}div.code-starter>pre code::after{content:\"\\a$_\"}.code pre{counter-reset:line}code.line-number{counter-increment:line}code.line-number::before{padding:0 .5em;margin-right:.5em;border-right:1px solid #ddd}code.line-number:before{content:\"0\" counter(line)}.tab{font-size:1rem;border-color:#8c6728}.tab-content{max-height:0;max-width:100%;transition:max-height .35s}.tab input:checked~.tab-content{max-height:100vh}.tab input:checked+label{padding:1rem;border-left-width:2px;border-color:#6574cd;background-color:#f8fafc;color:#6574cd}.tab label::after{float:right;right:0;top:0;display:block;width:1em;height:1.5em;line-height:1.5;font-size:1rem;text-align:center;transition:all .35s}.tab input[type=checkbox]+label::after{content:\"+\";font-weight:700;border-width:1px;border-radius:9999px;border-color:#8c6728}.tab input[type=checkbox]:checked+label::after{transform:rotate(315deg);background-color:#6574cd;color:#f8fafc}</style>\n",
              "<script src=\"https://kit.fontawesome.com/7efc4bcee2.js\" crossOrigin=\"anonymous\"></script>\n",
              "<script>\n",
              "    let stateCheck = setInterval(function(){\n",
              "      if (document.readyState === 'complete') {\n",
              "        clearInterval(stateCheck);\n",
              "        let s1 = document.getElementById('start');\n",
              "        // console.log('doc is ready', s1);\n",
              "        if (s1) {\n",
              "           s1.setAttribute('tabindex', '-1');\n",
              "           s1.focus(); \n",
              "           s1.scrollIntoView({behavior: 'smooth'}); \n",
              "           setTimeout(function(){s1.blur()}, 500);\n",
              "           // console.log('focus set');\n",
              "        }\n",
              "      }\n",
              "    }, 200);\n",
              "    </script>\n",
              "</head><body class=\"lesson\"><div class=\"main-content lesson bg-gray-200 text-black p-1 pl-3 font-serif\"><div class=\"md-inner\">\n",
              "<div id=\"start\" class=\"section\">&nbsp;</div><h1>Test and Submit</h1><p>Once you have finished, you can download your code (via <code>ide.tester</code>) and upload that file to Gradescope (find lesson with tag <strong>paths1</strong>).</p><div class=\"my-4\"><pre><code><strong># to list the tests available</strong><br/>print(ide.tester.list_tests())<br/><strong># to perform a specific test</strong><br/>print(ide.tester.test_functionality('name of test'))<br/><strong># to test your code (either works)</strong><br/>print(ide.tester.test_notebook())<br/>print(ide.tester.test_notebook(verbose=True))<br/><strong># to prepare and download your code</strong><br/>ide.tester.download_solution()</code></pre></div><div class=\"lesson-footer flex bg-gray-200 justify-center\"><div class=\"lesson-footer-card displaycard bg-blue-200 border-t border-gray-400 max-w-2xl rounded overflow-hidden shadow-lg\"><div class=\"px-6 py-4\"><div class=\"title-text text-center font-bold text-xl\">Selecting a Path</div><p class=\"text-center text-gray-800 text-xl\">Deciding What to Run</p><div class=\"text-center mt-6 text-xl\"><i aria-hidden=\"true\" class=\"fas fa-tags\"></i> any questions on Piazza with <span class=\"font-bold\">paths1</span></div><div class=\"text-gray-700 text-base\"> </div><div class=\"text-gray-700 text-base\">Readings</div><div class=\"text-xs p-2 border border-solid border-gray-500 bg-gray-300\"> <div class=\"text-gray-700 px-4 m-2\">• <!-- --> <a href=\"https://www.digitalocean.com/community/tutorials/how-to-write-conditional-statements-in-python-3-2\" target=\"_blank\">https://www.digitalocean.com/community/tutorials/how-to-write-conditional-statements-in-python-3-2</a></div><div class=\"text-gray-700 px-4 m-2\"><span> </span> <strong>4.1 - 4.3</strong></div><div class=\"text-gray-700 px-4 m-2\">• <!-- --> <a href=\"https://www.openbookproject.net/books/bpp4awd/ch04.html\" target=\"_blank\">https://www.openbookproject.net/books/bpp4awd/ch04.html</a></div></div><div class=\"text-gray-700 text-base\">References and Additional Readings</div><div class=\"text-xs p-2 border border-solid border-gray-500 bg-gray-300\"> <div class=\"text-gray-700 px-4 m-2\">• <!-- --> <a href=\"https://docs.quantifiedcode.com/python-anti-patterns/readability/comparison_to_true.html\" target=\"_blank\">https://docs.quantifiedcode.com/python-anti-patterns/readability/comparison_to_true.html</a></div><div class=\"text-gray-700 px-4 m-2\">• <!-- --> <a href=\"https://www.python.org/dev/peps/pep-0008/#id51\" target=\"_blank\">https://www.python.org/dev/peps/pep-0008/#id51</a></div></div><div class=\"flex mt-4 border-t border-solid border-gray-500 justify-around bg-gray-200\"><div class=\"text-gray-700 text-center px-4 m-2 text-sm\">🐍  4 D.S.</div><div class=\"text-gray-700 text-center px-4 m-2 text-sm\"><strong>Version:</strong> <!-- -->FA21</div></div><div class=\"text-gray-700 mt-2 text-center text-sm font-bold\">All Rights Reserved Michael Haberman</div><div class=\"text-gray-700 text-center text-sm\">Do not distribute this notebook</div></div></div></div><div> </div></div></div></body></html>"
            ],
            "text/plain": [
              "<IPython.core.display.HTML object>"
            ]
          },
          "metadata": {}
        }
      ]
    },
    {
      "cell_type": "code",
      "metadata": {
        "id": "t0LlTpATHCfL",
        "colab": {
          "base_uri": "https://localhost:8080/",
          "height": 204
        },
        "outputId": "3fc4cfb8-9f6c-41b3-fc8d-750cc2e1b66b"
      },
      "source": [
        "print(ide.tester.test_notebook()) \n",
        "print(ide.tester.test_notebook(verbose=True)) \n",
        "\n",
        "# once you are ready -- run this \n",
        "ide.tester.download_solution()"
      ],
      "execution_count": null,
      "outputs": [
        {
          "output_type": "stream",
          "name": "stdout",
          "text": [
            "Score 100/100\n",
            "\n",
            "Score 100/100\n",
            "\n",
            "clean 20/20\n",
            "\n",
            "will order dessert 40/40\n",
            "\n",
            "will order dessert again 40/40\n",
            "\n",
            "paths1.py contains valid python; it will be downloaded\n"
          ]
        },
        {
          "output_type": "display_data",
          "data": {
            "application/javascript": [
              "\n",
              "    async function download(id, filename, size) {\n",
              "      if (!google.colab.kernel.accessAllowed) {\n",
              "        return;\n",
              "      }\n",
              "      const div = document.createElement('div');\n",
              "      const label = document.createElement('label');\n",
              "      label.textContent = `Downloading \"${filename}\": `;\n",
              "      div.appendChild(label);\n",
              "      const progress = document.createElement('progress');\n",
              "      progress.max = size;\n",
              "      div.appendChild(progress);\n",
              "      document.body.appendChild(div);\n",
              "\n",
              "      const buffers = [];\n",
              "      let downloaded = 0;\n",
              "\n",
              "      const channel = await google.colab.kernel.comms.open(id);\n",
              "      // Send a message to notify the kernel that we're ready.\n",
              "      channel.send({})\n",
              "\n",
              "      for await (const message of channel.messages) {\n",
              "        // Send a message to notify the kernel that we're ready.\n",
              "        channel.send({})\n",
              "        if (message.buffers) {\n",
              "          for (const buffer of message.buffers) {\n",
              "            buffers.push(buffer);\n",
              "            downloaded += buffer.byteLength;\n",
              "            progress.value = downloaded;\n",
              "          }\n",
              "        }\n",
              "      }\n",
              "      const blob = new Blob(buffers, {type: 'application/binary'});\n",
              "      const a = document.createElement('a');\n",
              "      a.href = window.URL.createObjectURL(blob);\n",
              "      a.download = filename;\n",
              "      div.appendChild(a);\n",
              "      a.click();\n",
              "      div.remove();\n",
              "    }\n",
              "  "
            ],
            "text/plain": [
              "<IPython.core.display.Javascript object>"
            ]
          },
          "metadata": {}
        },
        {
          "output_type": "display_data",
          "data": {
            "application/javascript": [
              "download(\"download_f747ee25-502f-4f93-84a3-768bba0d4fff\", \"paths1.py\", 1790)"
            ],
            "text/plain": [
              "<IPython.core.display.Javascript object>"
            ]
          },
          "metadata": {}
        }
      ]
    }
  ]
}