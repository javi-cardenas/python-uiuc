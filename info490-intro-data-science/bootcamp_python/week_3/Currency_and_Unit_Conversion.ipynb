{
  "nbformat": 4,
  "nbformat_minor": 0,
  "metadata": {
    "colab": {
      "name": "Currency and Unit Conversion",
      "provenance": [],
      "collapsed_sections": []
    },
    "kernelspec": {
      "display_name": "Python 3",
      "name": "python3"
    },
    "language": "python",
    "story": {
      "auth_token": "CRHpUVRSve2xNa-l3sggr8bMM0qijpMCnw8dEN5ldLc=",
      "authorship_tag": "AB",
      "chapters": 6,
      "name": "Currency and Unit Conversion",
      "parser": {},
      "root": "https://raw.githubusercontent.com/habermanUIUC/CodeStories-lessons/main/lessons/p4ds/cc/unit_conversion_p1",
      "tag": "p4ds:cc:unit_conversion_p1"
    }
  },
  "cells": [
    {
      "cell_type": "markdown",
      "metadata": {
        "id": "o8Eshrx_xXf1"
      },
      "source": [
        "# Programming w/🐍 for Data Science \n",
        "<img src=\"https://raw.githubusercontent.com/habermanUIUC/CodeStories-lessons/main/lessons/p4ds/cc/unit_conversion_p1/html/section00.png\" align=\"left\"/>"
      ]
    },
    {
      "cell_type": "markdown",
      "metadata": {
        "id": "H8rSl3NkxXf3"
      },
      "source": [
        "<a id=\"install\"></a>\n",
        "## Notebook Preparation for Lesson in 1•2•3 steps:\n",
        "Each lesson will start with a similar template (given in the course schedule):  \n",
        "1. **save** to your google drive (copy to drive)<br/><img src=\"https://raw.githubusercontent.com/habermanUIUC/CodeStories-lessons/main/assets/images/colab/copy-to-drive.png\"/>\n",
        "2. **update** the NET_ID to be your netID (no need to include @illinois.edu)\n",
        "3. **run** the next cell to install the IDE. <img src=\"https://raw.githubusercontent.com/habermanUIUC/CodeStories-lessons/main/assets/images/colab/play-button.png\"/>"
      ]
    },
    {
      "cell_type": "code",
      "metadata": {
        "id": "2Pt1r8x0xXf4",
        "colab": {
          "base_uri": "https://localhost:8080/"
        },
        "outputId": "ff6a995a-ea1f-48a1-e011-db03d9199da6"
      },
      "source": [
        "LESSON_ID = 'p4ds:cc:unit_conversion_p1'   # keep this as is\n",
        "NET_ID    = 'jcarde28' # CHANGE_ME to your netID (keep the quotes)\n",
        "\n",
        "def install_ide(net_id, lesson_id):\n",
        "  import sys\n",
        "  if 'codestories' not in sys.modules:\n",
        "      print('installing modules')\n",
        "      !pip install git+https://mehaberman@bitbucket.org/mehaberman/codestories.git --upgrade &> install.log\n",
        "  \n",
        "  from codestories.cs.CodeStories import CodeStory\n",
        "  return CodeStory(net_id, lesson_id)\n",
        "\n",
        "ide = install_ide(NET_ID, LESSON_ID)\n",
        "print(ide.welcome())"
      ],
      "execution_count": null,
      "outputs": [
        {
          "output_type": "stream",
          "name": "stdout",
          "text": [
            "installing modules\n",
            "Telling the story: Currency and Unit Conversion\n"
          ]
        }
      ]
    },
    {
      "cell_type": "markdown",
      "metadata": {
        "id": "auVpuPEqxXf4"
      },
      "source": [
        "# Lesson Currency and Unit Conversion\n",
        "(hit ▶ to read the first part of the lesson️)"
      ]
    },
    {
      "cell_type": "code",
      "metadata": {
        "id": "JLcWmFKsxXf4",
        "colab": {
          "base_uri": "https://localhost:8080/",
          "height": 1000
        },
        "outputId": "381ba853-177c-498f-e7cb-797265a44741"
      },
      "source": [
        "# run to read the next section\n",
        "ide.reader.view_section(1)"
      ],
      "execution_count": null,
      "outputs": [
        {
          "output_type": "display_data",
          "data": {
            "text/html": [
              "<!DOCTYPE html><html lang='en'><head><title>Currency and Unit Conversion</title><meta charset=\"utf-8\"><style>/*! normalize.css v8.0.1 | MIT License | github.com/necolas/normalize.css */html{line-height:1.15;-webkit-text-size-adjust:100%}body{margin:0}h1{font-size:2em;margin:.67em 0}pre{font-family:monospace,monospace;font-size:1em}strong{font-weight:bolder}code{font-family:monospace,monospace;font-size:1em}img{border-style:none}::-webkit-file-upload-button{-webkit-appearance:button;font:inherit}h1,h2,h3,h4,p,pre{margin:0}ul{list-style:none;margin:0;padding:0}html{font-family:system-ui,-apple-system,BlinkMacSystemFont,\"Segoe UI\",Roboto,\"Helvetica Neue\",Arial,\"Noto Sans\",sans-serif,\"Apple Color Emoji\",\"Segoe UI Emoji\",\"Segoe UI Symbol\",\"Noto Color Emoji\";line-height:1.5}*,::after,::before{box-sizing:border-box;border-width:0;border-style:solid;border-color:#e2e8f0}img{border-style:solid}h1,h2,h3,h4{font-size:inherit;font-weight:inherit}code,pre{font-family:Menlo,Monaco,Consolas,\"Liberation Mono\",\"Courier New\",monospace}img{display:block;vertical-align:middle}img{max-width:100%;height:auto}.bg-gray-200{--bg-opacity:1;background-color:#edf2f7;background-color:rgba(237,242,247,var(--bg-opacity))}.bg-gray-300{--bg-opacity:1;background-color:#e2e8f0;background-color:rgba(226,232,240,var(--bg-opacity))}.bg-blue-200{--bg-opacity:1;background-color:#bee3f8;background-color:rgba(190,227,248,var(--bg-opacity))}.bg-blue-300{--bg-opacity:1;background-color:#90cdf4;background-color:rgba(144,205,244,var(--bg-opacity))}.border-gray-400{--border-opacity:1;border-color:#cbd5e0;border-color:rgba(203,213,224,var(--border-opacity))}.border-gray-500{--border-opacity:1;border-color:#a0aec0;border-color:rgba(160,174,192,var(--border-opacity))}.rounded{border-radius:.25rem}.rounded-full{border-radius:9999px}.border-solid{border-style:solid}.border-t{border-top-width:1px}.inline-block{display:inline-block}.flex{display:flex}.justify-center{justify-content:center}.justify-around{justify-content:space-around}.float-left{float:left}.clearfix:after{content:\"\";display:table;clear:both}.font-serif{font-family:Georgia,Cambria,\"Times New Roman\",Times,serif}.font-semibold{font-weight:600}.font-bold{font-weight:700}.h-64{height:16rem}.text-xs{font-size:.75rem}.text-sm{font-size:.875rem}.text-base{font-size:1rem}.text-xl{font-size:1.25rem}.leading-none{line-height:1}.m-2{margin:.5rem}.my-4{margin-top:1rem;margin-bottom:1rem}.mt-1{margin-top:.25rem}.mt-2{margin-top:.5rem}.mr-2{margin-right:.5rem}.mb-2{margin-bottom:.5rem}.mr-3{margin-right:.75rem}.mb-3{margin-bottom:.75rem}.mt-4{margin-top:1rem}.mt-6{margin-top:1.5rem}.max-w-sm{max-width:24rem}.max-w-2xl{max-width:42rem}.object-contain{-o-object-fit:contain;object-fit:contain}.overflow-hidden{overflow:hidden}.p-1{padding:.25rem}.py-1{padding-top:.25rem;padding-bottom:.25rem}.py-2{padding-top:.5rem;padding-bottom:.5rem}.px-3{padding-left:.75rem;padding-right:.75rem}.py-4{padding-top:1rem;padding-bottom:1rem}.px-4{padding-left:1rem;padding-right:1rem}.px-6{padding-left:1.5rem;padding-right:1.5rem}.pl-3{padding-left:.75rem}.shadow-lg{box-shadow:0 10px 15px -3px rgba(0,0,0,.1),0 4px 6px -2px rgba(0,0,0,.05)}.shadow-inner{box-shadow:inset 0 2px 4px 0 rgba(0,0,0,.06)}.text-left{text-align:left}.text-center{text-align:center}.text-black{--text-opacity:1;color:#000;color:rgba(0,0,0,var(--text-opacity))}.text-gray-700{--text-opacity:1;color:#4a5568;color:rgba(74,85,104,var(--text-opacity))}.text-gray-800{--text-opacity:1;color:#2d3748;color:rgba(45,55,72,var(--text-opacity))}.whitespace-no-wrap{white-space:nowrap}.w-1\\/2{width:50%}.w-full{width:100%}.text-tiny{font-size:.5rem!important}body{color:#000!important;font-size:1.25rem!important}.main-content{max-width:900px}.lesson{padding-left:15px!important;padding-right:10px!important;--bg-opacity:1;background-color:#edf2f7;background-color:rgba(237,242,247,var(--bg-opacity))}.main-content,html{font-family:Arial,Georgia,Verdana,\"Times New Roman\"!important}.lesson-footer-card,.lesson-overview-card{font-family:\"Times New Roman\"!important}.lesson-footer{margin-top:50px;margin-top:20px}.lesson ul{list-style-position:inside;list-style-type:none;margin-left:1em}.lesson ul li{padding-left:1em;padding-right:5px}.lesson ul li::before{content:\"•\";padding-right:5px}span{white-space:nowrap}p.new{padding-top:0;padding-bottom:.5em}p.new+p{padding-top:.5em}h1,h2,h3,h4{font-weight:700;margin-top:.25em!important;margin-bottom:.05em!important;font-family:Georgia,Cambria,\"Times New Roman\",Times,serif!important}h1{font-size:2em!important;clear:both;color:#000!important}div+h1,h2{margin-top:0!important}h2{margin-top:.5em!important;font-size:1.5em!important;clear:both;color:#8b0000!important}h3{font-size:1.25em!important;clear:both;color:#006400!important}h4{font-size:1em!important;clear:both;color:#00008b!important}ul{margin-bottom:30px}.title-text{font-size:2rem}.shadow-lg{box-shadow:0 10px 15px -3px rgba(0,0,0,.1),0 4px 6px -2px rgba(0,0,0,.5)}img.border2{border:1px solid #94add4;margin-top:.5rem;margin-bottom:.75rem}code{font-size:smaller}pre code{font-size:15px}pre code:not(.line-number){background:#f4f4f4;font-family:monospace;font-size:15px;-webkit-user-select:none;-moz-user-select:none;-ms-user-select:none;user-select:none;cursor:default;touch-action:none;-webkit-touch-callout:none;-webkit-tap-highlight-color:transparent;clear:both;border:1px solid #ddd;color:#666;page-break-inside:avoid;display:block;min-width:840px;max-width:840px;overflow:scroll;line-height:1.6;margin-bottom:1.6em;padding:1em 1.5em;-moz-tab-size:2;-o-tab-size:2;tab-size:2;word-wrap:break-word;white-space:pre-wrap;border-left:3px solid #f36d33}div.code-starter>pre code{border-left:3px solid #fdff44!important;background-image:radial-gradient(rgba(0,150,0,.75),#000 120%);color:#fff;font:.9rem Inconsolata,monospace}div.code-starter>pre code::after{content:\"\\a$_\"}</style>\n",
              "<script src=\"https://kit.fontawesome.com/7efc4bcee2.js\" crossOrigin=\"anonymous\"></script>\n",
              "<script>\n",
              "    let stateCheck = setInterval(function(){\n",
              "      if (document.readyState === 'complete') {\n",
              "        clearInterval(stateCheck);\n",
              "        let s1 = document.getElementById('start');\n",
              "        // console.log('doc is ready', s1);\n",
              "        if (s1) {\n",
              "           s1.setAttribute('tabindex', '-1');\n",
              "           s1.focus(); \n",
              "           s1.scrollIntoView({behavior: 'smooth'}); \n",
              "           setTimeout(function(){s1.blur()}, 500);\n",
              "           // console.log('focus set');\n",
              "        }\n",
              "      }\n",
              "    }, 200);\n",
              "    </script>\n",
              "</head><body class=\"lesson\"><div class=\"main-content lesson bg-gray-200 text-black p-1 pl-3 font-serif\"><div class=\"md-inner\">\n",
              "<div id=\"start\" class=\"section\">&nbsp;</div><h1 class=\"section\" id=\"section1\">Currency and Unit Conversion</h1><img alt=\"ds1.png\" class=\"border2 float-left mr-3\" src=\"https://raw.githubusercontent.com/habermanUIUC/CodeStories-lessons/main/lessons/p4ds/cc/unit_conversion_p1/html/ds1.png\"/><p class=\"new\">This coding challenge is about converting currency and units.</p><h2 id=\"lesson-assignment\">Lesson Assignment</h2><p class=\"new\">Write a function named <code>unit_converter</code> which has three parameters: </p><ul><li><code>quantity</code>, <code>total</code>, <code>convert_to</code> (in that order)</li></ul><p class=\"new\">The function <code>unit_converter</code> converts the price paid for a \n",
              "specific volume amount from one currency into a different price/unit.</p><p class=\"new\">For example, let's say you are in Toronto and you pay C$124.00 for\n",
              "61 liters of gas (i.e. you paid 124.00 Canadian dollars (CAD) for 61 \n",
              "liters of gas). How much is that when expressed in USD per \n",
              "gallon?  That is, what's the price per gallon in US dollars?</p><p class=\"new\">Also, let's say you are in Champaign and you pay $47.00 for 16 gallons of gas. \n",
              "How much is that expressed in CAD per liter?</p><p class=\"new\">You can assume there are only two currencies:</p><ul><li>USD <code>$</code> for US dollars</li><li>CAD <code>C$</code> for Canadian dollars</li></ul><p class=\"new\">If <code>convert_to</code> is <code>'$'</code> the <code>total</code> is in CAD and the <code>units</code> are in liters.  </p><p class=\"new\">If <code>convert_to</code> is <code>'C$'</code>, the <code>total</code> is in US dollars and the <code>units</code> are in gallons.</p><p class=\"new\">Your function should work like this:</p><h2 id=\"example-1\">Example 1</h2><p class=\"new\">Paid C$124.00 (CAD) for 61 liters</p><p class=\"new\">How much is that per gallon (USD)?</p><pre><code>USD_per_gallon = unit_converter(61, 124.00, '$')\n",
              "\n",
              "print('$', USD_per_gallon , \"per gallon\")</code></pre><h2 id=\"example-2\">Example 2</h2><p class=\"new\">Paid $47.00 (USD) for 16 gallons</p><p class=\"new\">How much is that per liter (CAD)?</p><pre><code>print('C$', unit_converter(16, 47.00, 'C$'), \"per liter\")</code></pre><h3 id=\"constants\">CONSTANTS</h3><p class=\"new\">Here are the relevant constants: (note that they are inverses, only \n",
              "really need 2).  These constants are simply variables with a naming\n",
              " convention that uses ALL UPPER CASE.  You should put these constants outside\n",
              "  of any function.  Do NOT put these constants inside a function. There are\n",
              "   times when you will want to do that -- and we will cover those situations\n",
              "    a bit later.</p><p class=\"new\">You can use these constants (rather than the number) to help improve your\n",
              " code's readability AND providing a single point of change if any of the\n",
              "  constants need to be updated (i.e. exchange rates).</p><h4 id=\"quantity\">quantity</h4><pre><code>LITERS_PER_GALLON = 3.78541\n",
              "GALLONS_PER_LITER = 0.264172</code></pre><h4 id=\"exchange-rates\">exchange rates</h4><pre><code>CAD_TO_USD = 0.76\n",
              "USD_TO_CAD = 1.31</code></pre><p class=\"new\">A few restrictions:</p><ul><li>you can ONLY use one return statement in your function.</li><li>you cannot use the keywords: <code>and</code>, <code>or</code></li><li>return <code>None</code>, if division by zero is an issue.</li></ul></div></div></body></html>"
            ],
            "text/plain": [
              "<IPython.core.display.HTML object>"
            ]
          },
          "metadata": {}
        }
      ]
    },
    {
      "cell_type": "code",
      "metadata": {
        "id": "m0eX1MxhxXf5"
      },
      "source": [
        "# quantity\n",
        "LITERS_PER_GALLON = 3.78541\n",
        "GALLONS_PER_LITER = 0.264172\n",
        "\n",
        "# exchange rates\n",
        "CAD_TO_USD = 0.76\n",
        "USD_TO_CAD = 1.31\n",
        "\n",
        "# type&run the above example/exercise in this cell\n",
        "def unit_converter(quantity, total, convert_to):\n",
        "\n",
        "  # Division by zero error\n",
        "  if quantity == 0:\n",
        "    price = None\n",
        "\n",
        "  # Canadian to USD\n",
        "  elif convert_to == '$':\n",
        "    quantity *= GALLONS_PER_LITER # convert liters to gallons\n",
        "    total *= CAD_TO_USD # convert money\n",
        "    price = total / quantity # calculate price/gallon\n",
        "\n",
        "  # USD to Canadian\n",
        "  elif convert_to == 'C$':\n",
        "    quantity *= LITERS_PER_GALLON # convert gallons to liters\n",
        "    total *= USD_TO_CAD # convert money\n",
        "    price = total / quantity # calculate price/liter\n",
        "\n",
        "  return price"
      ],
      "execution_count": null,
      "outputs": []
    },
    {
      "cell_type": "code",
      "metadata": {
        "id": "YwkDW5w1xXf5",
        "colab": {
          "base_uri": "https://localhost:8080/",
          "height": 273
        },
        "outputId": "add95459-a404-43b5-e4f5-a436da112922"
      },
      "source": [
        "# run to read the next section\n",
        "ide.reader.view_section(3)"
      ],
      "execution_count": null,
      "outputs": [
        {
          "output_type": "display_data",
          "data": {
            "text/html": [
              "<!DOCTYPE html><html lang='en'><head><title>Currency and Unit Conversion</title><meta charset=\"utf-8\"><style>/*! normalize.css v8.0.1 | MIT License | github.com/necolas/normalize.css */html{line-height:1.15;-webkit-text-size-adjust:100%}body{margin:0}h1{font-size:2em;margin:.67em 0}pre{font-family:monospace,monospace;font-size:1em}strong{font-weight:bolder}code{font-family:monospace,monospace;font-size:1em}img{border-style:none}::-webkit-file-upload-button{-webkit-appearance:button;font:inherit}h1,h2,h3,h4,p,pre{margin:0}ul{list-style:none;margin:0;padding:0}html{font-family:system-ui,-apple-system,BlinkMacSystemFont,\"Segoe UI\",Roboto,\"Helvetica Neue\",Arial,\"Noto Sans\",sans-serif,\"Apple Color Emoji\",\"Segoe UI Emoji\",\"Segoe UI Symbol\",\"Noto Color Emoji\";line-height:1.5}*,::after,::before{box-sizing:border-box;border-width:0;border-style:solid;border-color:#e2e8f0}img{border-style:solid}h1,h2,h3,h4{font-size:inherit;font-weight:inherit}code,pre{font-family:Menlo,Monaco,Consolas,\"Liberation Mono\",\"Courier New\",monospace}img{display:block;vertical-align:middle}img{max-width:100%;height:auto}.bg-gray-200{--bg-opacity:1;background-color:#edf2f7;background-color:rgba(237,242,247,var(--bg-opacity))}.bg-gray-300{--bg-opacity:1;background-color:#e2e8f0;background-color:rgba(226,232,240,var(--bg-opacity))}.bg-blue-200{--bg-opacity:1;background-color:#bee3f8;background-color:rgba(190,227,248,var(--bg-opacity))}.bg-blue-300{--bg-opacity:1;background-color:#90cdf4;background-color:rgba(144,205,244,var(--bg-opacity))}.border-gray-400{--border-opacity:1;border-color:#cbd5e0;border-color:rgba(203,213,224,var(--border-opacity))}.border-gray-500{--border-opacity:1;border-color:#a0aec0;border-color:rgba(160,174,192,var(--border-opacity))}.rounded{border-radius:.25rem}.rounded-full{border-radius:9999px}.border-solid{border-style:solid}.border-t{border-top-width:1px}.inline-block{display:inline-block}.flex{display:flex}.justify-center{justify-content:center}.justify-around{justify-content:space-around}.float-left{float:left}.clearfix:after{content:\"\";display:table;clear:both}.font-serif{font-family:Georgia,Cambria,\"Times New Roman\",Times,serif}.font-semibold{font-weight:600}.font-bold{font-weight:700}.h-64{height:16rem}.text-xs{font-size:.75rem}.text-sm{font-size:.875rem}.text-base{font-size:1rem}.text-xl{font-size:1.25rem}.leading-none{line-height:1}.m-2{margin:.5rem}.my-4{margin-top:1rem;margin-bottom:1rem}.mt-1{margin-top:.25rem}.mt-2{margin-top:.5rem}.mr-2{margin-right:.5rem}.mb-2{margin-bottom:.5rem}.mr-3{margin-right:.75rem}.mb-3{margin-bottom:.75rem}.mt-4{margin-top:1rem}.mt-6{margin-top:1.5rem}.max-w-sm{max-width:24rem}.max-w-2xl{max-width:42rem}.object-contain{-o-object-fit:contain;object-fit:contain}.overflow-hidden{overflow:hidden}.p-1{padding:.25rem}.py-1{padding-top:.25rem;padding-bottom:.25rem}.py-2{padding-top:.5rem;padding-bottom:.5rem}.px-3{padding-left:.75rem;padding-right:.75rem}.py-4{padding-top:1rem;padding-bottom:1rem}.px-4{padding-left:1rem;padding-right:1rem}.px-6{padding-left:1.5rem;padding-right:1.5rem}.pl-3{padding-left:.75rem}.shadow-lg{box-shadow:0 10px 15px -3px rgba(0,0,0,.1),0 4px 6px -2px rgba(0,0,0,.05)}.shadow-inner{box-shadow:inset 0 2px 4px 0 rgba(0,0,0,.06)}.text-left{text-align:left}.text-center{text-align:center}.text-black{--text-opacity:1;color:#000;color:rgba(0,0,0,var(--text-opacity))}.text-gray-700{--text-opacity:1;color:#4a5568;color:rgba(74,85,104,var(--text-opacity))}.text-gray-800{--text-opacity:1;color:#2d3748;color:rgba(45,55,72,var(--text-opacity))}.whitespace-no-wrap{white-space:nowrap}.w-1\\/2{width:50%}.w-full{width:100%}.text-tiny{font-size:.5rem!important}body{color:#000!important;font-size:1.25rem!important}.main-content{max-width:900px}.lesson{padding-left:15px!important;padding-right:10px!important;--bg-opacity:1;background-color:#edf2f7;background-color:rgba(237,242,247,var(--bg-opacity))}.main-content,html{font-family:Arial,Georgia,Verdana,\"Times New Roman\"!important}.lesson-footer-card,.lesson-overview-card{font-family:\"Times New Roman\"!important}.lesson-footer{margin-top:50px;margin-top:20px}.lesson ul{list-style-position:inside;list-style-type:none;margin-left:1em}.lesson ul li{padding-left:1em;padding-right:5px}.lesson ul li::before{content:\"•\";padding-right:5px}span{white-space:nowrap}p.new{padding-top:0;padding-bottom:.5em}p.new+p{padding-top:.5em}h1,h2,h3,h4{font-weight:700;margin-top:.25em!important;margin-bottom:.05em!important;font-family:Georgia,Cambria,\"Times New Roman\",Times,serif!important}h1{font-size:2em!important;clear:both;color:#000!important}div+h1,h2{margin-top:0!important}h2{margin-top:.5em!important;font-size:1.5em!important;clear:both;color:#8b0000!important}h3{font-size:1.25em!important;clear:both;color:#006400!important}h4{font-size:1em!important;clear:both;color:#00008b!important}ul{margin-bottom:30px}.title-text{font-size:2rem}.shadow-lg{box-shadow:0 10px 15px -3px rgba(0,0,0,.1),0 4px 6px -2px rgba(0,0,0,.5)}img.border2{border:1px solid #94add4;margin-top:.5rem;margin-bottom:.75rem}code{font-size:smaller}pre code{font-size:15px}pre code:not(.line-number){background:#f4f4f4;font-family:monospace;font-size:15px;-webkit-user-select:none;-moz-user-select:none;-ms-user-select:none;user-select:none;cursor:default;touch-action:none;-webkit-touch-callout:none;-webkit-tap-highlight-color:transparent;clear:both;border:1px solid #ddd;color:#666;page-break-inside:avoid;display:block;min-width:840px;max-width:840px;overflow:scroll;line-height:1.6;margin-bottom:1.6em;padding:1em 1.5em;-moz-tab-size:2;-o-tab-size:2;tab-size:2;word-wrap:break-word;white-space:pre-wrap;border-left:3px solid #f36d33}div.code-starter>pre code{border-left:3px solid #fdff44!important;background-image:radial-gradient(rgba(0,150,0,.75),#000 120%);color:#fff;font:.9rem Inconsolata,monospace}div.code-starter>pre code::after{content:\"\\a$_\"}</style>\n",
              "<script src=\"https://kit.fontawesome.com/7efc4bcee2.js\" crossOrigin=\"anonymous\"></script>\n",
              "<script>\n",
              "    let stateCheck = setInterval(function(){\n",
              "      if (document.readyState === 'complete') {\n",
              "        clearInterval(stateCheck);\n",
              "        let s1 = document.getElementById('start');\n",
              "        // console.log('doc is ready', s1);\n",
              "        if (s1) {\n",
              "           s1.setAttribute('tabindex', '-1');\n",
              "           s1.focus(); \n",
              "           s1.scrollIntoView({behavior: 'smooth'}); \n",
              "           setTimeout(function(){s1.blur()}, 500);\n",
              "           // console.log('focus set');\n",
              "        }\n",
              "      }\n",
              "    }, 200);\n",
              "    </script>\n",
              "</head><body class=\"lesson\"><div class=\"main-content lesson bg-gray-200 text-black p-1 pl-3 font-serif\"><div class=\"md-inner\">\n",
              "<div id=\"start\" class=\"section\">&nbsp;</div><h2 id=\"food-for-thought--\">Food for thought.  </h2><p class=\"new\">The current gas price in Vancouver BC is C$1.61 a liter. The current gas \n",
              "price in Champaign, IL is $3.39 a gallon. How can you use your \n",
              "function to determine how much more (or less) gas prices are in Champaign?  </p><p class=\"new\">Your answer could be either in per gallons, per liters or even \n",
              "expressed as a percentage. </p><p class=\"new\">How many calls to the <code>unit_converter</code> function would you need to \n",
              "make to answer the question?</p></div></div></body></html>"
            ],
            "text/plain": [
              "<IPython.core.display.HTML object>"
            ]
          },
          "metadata": {}
        }
      ]
    },
    {
      "cell_type": "markdown",
      "metadata": {
        "id": "Ej46b0LRxXf5"
      },
      "source": [
        "# Test and Submit"
      ]
    },
    {
      "cell_type": "code",
      "metadata": {
        "id": "ly4YZCWRxXf6"
      },
      "source": [
        "# run to read the next section\n",
        "ide.reader.view_section(4)"
      ],
      "execution_count": null,
      "outputs": []
    },
    {
      "cell_type": "code",
      "metadata": {
        "id": "HGR6CEwBxXf6",
        "colab": {
          "base_uri": "https://localhost:8080/",
          "height": 238
        },
        "outputId": "af449d53-f09c-47f6-ac34-e327f306be4d"
      },
      "source": [
        "print(ide.tester.test_notebook()) \n",
        "print(ide.tester.test_notebook(verbose=True)) \n",
        "\n",
        "# once you are ready -- run this \n",
        "ide.tester.download_solution()"
      ],
      "execution_count": null,
      "outputs": [
        {
          "output_type": "stream",
          "name": "stdout",
          "text": [
            "Score 100/100\n",
            "\n",
            "Score 100/100\n",
            "\n",
            "functions 10/10\n",
            "\n",
            "cad_to_usd 40/40\n",
            "\n",
            "usd_to_cad 40/40\n",
            "\n",
            "one_return 10/10\n",
            "\n",
            "unit_conversion_p1.py contains valid python; it will be downloaded\n"
          ]
        },
        {
          "output_type": "display_data",
          "data": {
            "application/javascript": [
              "\n",
              "    async function download(id, filename, size) {\n",
              "      if (!google.colab.kernel.accessAllowed) {\n",
              "        return;\n",
              "      }\n",
              "      const div = document.createElement('div');\n",
              "      const label = document.createElement('label');\n",
              "      label.textContent = `Downloading \"${filename}\": `;\n",
              "      div.appendChild(label);\n",
              "      const progress = document.createElement('progress');\n",
              "      progress.max = size;\n",
              "      div.appendChild(progress);\n",
              "      document.body.appendChild(div);\n",
              "\n",
              "      const buffers = [];\n",
              "      let downloaded = 0;\n",
              "\n",
              "      const channel = await google.colab.kernel.comms.open(id);\n",
              "      // Send a message to notify the kernel that we're ready.\n",
              "      channel.send({})\n",
              "\n",
              "      for await (const message of channel.messages) {\n",
              "        // Send a message to notify the kernel that we're ready.\n",
              "        channel.send({})\n",
              "        if (message.buffers) {\n",
              "          for (const buffer of message.buffers) {\n",
              "            buffers.push(buffer);\n",
              "            downloaded += buffer.byteLength;\n",
              "            progress.value = downloaded;\n",
              "          }\n",
              "        }\n",
              "      }\n",
              "      const blob = new Blob(buffers, {type: 'application/binary'});\n",
              "      const a = document.createElement('a');\n",
              "      a.href = window.URL.createObjectURL(blob);\n",
              "      a.download = filename;\n",
              "      div.appendChild(a);\n",
              "      a.click();\n",
              "      div.remove();\n",
              "    }\n",
              "  "
            ],
            "text/plain": [
              "<IPython.core.display.Javascript object>"
            ]
          },
          "metadata": {}
        },
        {
          "output_type": "display_data",
          "data": {
            "application/javascript": [
              "download(\"download_afd17c73-9b0b-4f98-8b04-66ec2f4e72dc\", \"unit_conversion_p1.py\", 978)"
            ],
            "text/plain": [
              "<IPython.core.display.Javascript object>"
            ]
          },
          "metadata": {}
        }
      ]
    }
  ]
}